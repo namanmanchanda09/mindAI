{
 "cells": [
  {
   "cell_type": "markdown",
   "id": "iraqi-hospital",
   "metadata": {
    "papermill": {
     "duration": 0.019153,
     "end_time": "2021-06-18T11:02:33.586946",
     "exception": false,
     "start_time": "2021-06-18T11:02:33.567793",
     "status": "completed"
    },
    "tags": []
   },
   "source": [
    "<center>\n",
    "<div class=\"alert alert-warning\">\n",
    "<div>\n",
    "    <h2 style=\"color:purple\">Bitcoin Technical Analysis</h2>\n",
    "</div>\n",
    "</div>\n",
    "</center>"
   ]
  },
  {
   "cell_type": "markdown",
   "id": "dietary-skirt",
   "metadata": {
    "papermill": {
     "duration": 0.017734,
     "end_time": "2021-06-18T11:02:33.623484",
     "exception": false,
     "start_time": "2021-06-18T11:02:33.605750",
     "status": "completed"
    },
    "tags": []
   },
   "source": [
    "**Introdution**\n",
    "\n",
    "This notebook includes conducting a technical analysis on Bitcoin Data. Cryptocurrency markets are highly volatile and although, 70-80% of it is based upon sentiments and social media, an extensive technical analysis might provide some insights into how the trend works. For now, 2 datasets have been used, one of which contains 1-minute data of Bitcoin and the other one contains daily Bitcoin data. \n",
    "\n",
    "The technical analysis metrics consists of \n",
    "\n",
    "1. `Moving Averages` - This metric can be used to get a decent idea of the asset's established trend. This metric can't be used to predict future trends. \n",
    "\n",
    "2. `Average True Range` - It is the average of the true ranges over the specified period. It measures the volatility in the market. A typical ATR calculation is of 14 days.\n",
    "\n",
    "3. `Relative Strength Index` - The tool measures the strength of the dynamics and the trend of the digital asset. In other terms, it can be used to predict the momentum and the divergence of the asset.\n",
    "\n",
    "4. `Bollinger Bands` - It is useful to in measuring volatility and trends. The upper band is 2 standard deviation above mean and the lower band is 2 standard deviation below mean."
   ]
  },
  {
   "cell_type": "markdown",
   "id": "spanish-image",
   "metadata": {
    "papermill": {
     "duration": 0.017715,
     "end_time": "2021-06-18T11:02:33.660076",
     "exception": false,
     "start_time": "2021-06-18T11:02:33.642361",
     "status": "completed"
    },
    "tags": []
   },
   "source": [
    "Table of Contents:\n",
    "\n",
    "1. [Imports](#1)\n",
    "    - 1.1 [Packages](#2)\n",
    "    - 1.2 [Dataset](#3)\n",
    "2. [Understanding data](#4)\n",
    "    - 2.1 [The 1-min data](#5)\n",
    "    - 2.2 [Daily data](#6)\n",
    "    - 2.3 [Heads after preprocessing](#7)\n",
    "3. [Analysing Daily data](#8)\n",
    "    - 3.1 [Candlestick plot](#9)\n",
    "    - 3.2 [Moving Average](#10)\n",
    "    - 3.3 [Average True Range](#11)"
   ]
  },
  {
   "cell_type": "markdown",
   "id": "blind-postcard",
   "metadata": {
    "papermill": {
     "duration": 0.018194,
     "end_time": "2021-06-18T11:02:33.696200",
     "exception": false,
     "start_time": "2021-06-18T11:02:33.678006",
     "status": "completed"
    },
    "tags": []
   },
   "source": [
    "### 1. Imports <a id=1></a>"
   ]
  },
  {
   "cell_type": "markdown",
   "id": "subtle-right",
   "metadata": {
    "papermill": {
     "duration": 0.017639,
     "end_time": "2021-06-18T11:02:33.731517",
     "exception": false,
     "start_time": "2021-06-18T11:02:33.713878",
     "status": "completed"
    },
    "tags": []
   },
   "source": [
    "#### 1.1 Packages <a id=2></a>"
   ]
  },
  {
   "cell_type": "code",
   "execution_count": 1,
   "id": "amber-dakota",
   "metadata": {
    "_kg_hide-input": true,
    "execution": {
     "iopub.execute_input": "2021-06-18T11:02:33.770856Z",
     "iopub.status.busy": "2021-06-18T11:02:33.769858Z",
     "iopub.status.idle": "2021-06-18T11:02:35.892152Z",
     "shell.execute_reply": "2021-06-18T11:02:35.892656Z",
     "shell.execute_reply.started": "2021-06-18T10:33:09.036960Z"
    },
    "papermill": {
     "duration": 2.143634,
     "end_time": "2021-06-18T11:02:35.892945",
     "exception": false,
     "start_time": "2021-06-18T11:02:33.749311",
     "status": "completed"
    },
    "tags": []
   },
   "outputs": [
    {
     "name": "stdout",
     "output_type": "stream",
     "text": [
      "Packages successfully imported...\n"
     ]
    }
   ],
   "source": [
    "import warnings\n",
    "import numpy as np\n",
    "import pandas as pd\n",
    "import seaborn as sns\n",
    "import plotly.express as px\n",
    "from termcolor import colored\n",
    "import matplotlib.pyplot as plt\n",
    "import plotly.graph_objects as go\n",
    "warnings.filterwarnings(\"ignore\")\n",
    "from plotly.subplots import make_subplots\n",
    "print('Packages successfully imported...')"
   ]
  },
  {
   "cell_type": "markdown",
   "id": "pleased-sweden",
   "metadata": {
    "papermill": {
     "duration": 0.01922,
     "end_time": "2021-06-18T11:02:35.931008",
     "exception": false,
     "start_time": "2021-06-18T11:02:35.911788",
     "status": "completed"
    },
    "tags": []
   },
   "source": [
    "#### 1.2 Dataset <a id=3></a>"
   ]
  },
  {
   "cell_type": "code",
   "execution_count": 2,
   "id": "distinguished-virginia",
   "metadata": {
    "_kg_hide-input": true,
    "execution": {
     "iopub.execute_input": "2021-06-18T11:02:35.972195Z",
     "iopub.status.busy": "2021-06-18T11:02:35.971256Z",
     "iopub.status.idle": "2021-06-18T11:02:38.064693Z",
     "shell.execute_reply": "2021-06-18T11:02:38.065395Z",
     "shell.execute_reply.started": "2021-06-18T10:33:10.291938Z"
    },
    "papermill": {
     "duration": 2.115261,
     "end_time": "2021-06-18T11:02:38.065649",
     "exception": false,
     "start_time": "2021-06-18T11:02:35.950388",
     "status": "completed"
    },
    "tags": []
   },
   "outputs": [
    {
     "name": "stdout",
     "output_type": "stream",
     "text": [
      "Data successfully imported...\n"
     ]
    }
   ],
   "source": [
    "# The 1-minute data for Bitcoin\n",
    "df = pd.read_parquet('/kaggle/input/binance-full-history/BTC-USDT.parquet')\n",
    "\n",
    "# The 1-day data for Bitcoin\n",
    "daily = pd.read_csv('../input/cryptocurrency-data/BTC-USD-2.csv', parse_dates = [0])\n",
    "\n",
    "print('Data successfully imported...')"
   ]
  },
  {
   "cell_type": "markdown",
   "id": "sharp-grant",
   "metadata": {
    "papermill": {
     "duration": 0.018982,
     "end_time": "2021-06-18T11:02:38.104151",
     "exception": false,
     "start_time": "2021-06-18T11:02:38.085169",
     "status": "completed"
    },
    "tags": []
   },
   "source": [
    "### 2. Understanding Data <a id=4></a>"
   ]
  },
  {
   "cell_type": "markdown",
   "id": "useful-warner",
   "metadata": {
    "papermill": {
     "duration": 0.019835,
     "end_time": "2021-06-18T11:02:38.142859",
     "exception": false,
     "start_time": "2021-06-18T11:02:38.123024",
     "status": "completed"
    },
    "tags": []
   },
   "source": [
    "#### 2.1 The 1-min data <a id=5></a>"
   ]
  },
  {
   "cell_type": "markdown",
   "id": "signal-necessity",
   "metadata": {
    "papermill": {
     "duration": 0.018325,
     "end_time": "2021-06-18T11:02:38.180805",
     "exception": false,
     "start_time": "2021-06-18T11:02:38.162480",
     "status": "completed"
    },
    "tags": []
   },
   "source": [
    "##### 2.1.1 Head"
   ]
  },
  {
   "cell_type": "code",
   "execution_count": 3,
   "id": "freelance-liability",
   "metadata": {
    "_kg_hide-input": true,
    "execution": {
     "iopub.execute_input": "2021-06-18T11:02:38.225732Z",
     "iopub.status.busy": "2021-06-18T11:02:38.224710Z",
     "iopub.status.idle": "2021-06-18T11:02:38.244051Z",
     "shell.execute_reply": "2021-06-18T11:02:38.244529Z",
     "shell.execute_reply.started": "2021-06-18T10:33:10.630738Z"
    },
    "papermill": {
     "duration": 0.045444,
     "end_time": "2021-06-18T11:02:38.244691",
     "exception": false,
     "start_time": "2021-06-18T11:02:38.199247",
     "status": "completed"
    },
    "tags": []
   },
   "outputs": [
    {
     "data": {
      "text/html": [
       "<div>\n",
       "<style scoped>\n",
       "    .dataframe tbody tr th:only-of-type {\n",
       "        vertical-align: middle;\n",
       "    }\n",
       "\n",
       "    .dataframe tbody tr th {\n",
       "        vertical-align: top;\n",
       "    }\n",
       "\n",
       "    .dataframe thead th {\n",
       "        text-align: right;\n",
       "    }\n",
       "</style>\n",
       "<table border=\"1\" class=\"dataframe\">\n",
       "  <thead>\n",
       "    <tr style=\"text-align: right;\">\n",
       "      <th></th>\n",
       "      <th>open</th>\n",
       "      <th>high</th>\n",
       "      <th>low</th>\n",
       "      <th>close</th>\n",
       "      <th>volume</th>\n",
       "      <th>quote_asset_volume</th>\n",
       "      <th>number_of_trades</th>\n",
       "      <th>taker_buy_base_asset_volume</th>\n",
       "      <th>taker_buy_quote_asset_volume</th>\n",
       "    </tr>\n",
       "    <tr>\n",
       "      <th>open_time</th>\n",
       "      <th></th>\n",
       "      <th></th>\n",
       "      <th></th>\n",
       "      <th></th>\n",
       "      <th></th>\n",
       "      <th></th>\n",
       "      <th></th>\n",
       "      <th></th>\n",
       "      <th></th>\n",
       "    </tr>\n",
       "  </thead>\n",
       "  <tbody>\n",
       "    <tr>\n",
       "      <th>2017-08-17 04:00:00</th>\n",
       "      <td>4261.479980</td>\n",
       "      <td>4261.479980</td>\n",
       "      <td>4261.479980</td>\n",
       "      <td>4261.479980</td>\n",
       "      <td>1.775183</td>\n",
       "      <td>7564.906738</td>\n",
       "      <td>3</td>\n",
       "      <td>0.075183</td>\n",
       "      <td>320.390839</td>\n",
       "    </tr>\n",
       "    <tr>\n",
       "      <th>2017-08-17 04:01:00</th>\n",
       "      <td>4261.479980</td>\n",
       "      <td>4261.479980</td>\n",
       "      <td>4261.479980</td>\n",
       "      <td>4261.479980</td>\n",
       "      <td>0.000000</td>\n",
       "      <td>0.000000</td>\n",
       "      <td>0</td>\n",
       "      <td>0.000000</td>\n",
       "      <td>0.000000</td>\n",
       "    </tr>\n",
       "    <tr>\n",
       "      <th>2017-08-17 04:02:00</th>\n",
       "      <td>4280.560059</td>\n",
       "      <td>4280.560059</td>\n",
       "      <td>4280.560059</td>\n",
       "      <td>4280.560059</td>\n",
       "      <td>0.261074</td>\n",
       "      <td>1117.542969</td>\n",
       "      <td>2</td>\n",
       "      <td>0.261074</td>\n",
       "      <td>1117.542969</td>\n",
       "    </tr>\n",
       "    <tr>\n",
       "      <th>2017-08-17 04:03:00</th>\n",
       "      <td>4261.479980</td>\n",
       "      <td>4261.479980</td>\n",
       "      <td>4261.479980</td>\n",
       "      <td>4261.479980</td>\n",
       "      <td>0.012008</td>\n",
       "      <td>51.171852</td>\n",
       "      <td>3</td>\n",
       "      <td>0.012008</td>\n",
       "      <td>51.171852</td>\n",
       "    </tr>\n",
       "    <tr>\n",
       "      <th>2017-08-17 04:04:00</th>\n",
       "      <td>4261.479980</td>\n",
       "      <td>4261.479980</td>\n",
       "      <td>4261.479980</td>\n",
       "      <td>4261.479980</td>\n",
       "      <td>0.140796</td>\n",
       "      <td>599.999329</td>\n",
       "      <td>1</td>\n",
       "      <td>0.140796</td>\n",
       "      <td>599.999329</td>\n",
       "    </tr>\n",
       "  </tbody>\n",
       "</table>\n",
       "</div>"
      ],
      "text/plain": [
       "                            open         high          low        close  \\\n",
       "open_time                                                                 \n",
       "2017-08-17 04:00:00  4261.479980  4261.479980  4261.479980  4261.479980   \n",
       "2017-08-17 04:01:00  4261.479980  4261.479980  4261.479980  4261.479980   \n",
       "2017-08-17 04:02:00  4280.560059  4280.560059  4280.560059  4280.560059   \n",
       "2017-08-17 04:03:00  4261.479980  4261.479980  4261.479980  4261.479980   \n",
       "2017-08-17 04:04:00  4261.479980  4261.479980  4261.479980  4261.479980   \n",
       "\n",
       "                       volume  quote_asset_volume  number_of_trades  \\\n",
       "open_time                                                             \n",
       "2017-08-17 04:00:00  1.775183         7564.906738                 3   \n",
       "2017-08-17 04:01:00  0.000000            0.000000                 0   \n",
       "2017-08-17 04:02:00  0.261074         1117.542969                 2   \n",
       "2017-08-17 04:03:00  0.012008           51.171852                 3   \n",
       "2017-08-17 04:04:00  0.140796          599.999329                 1   \n",
       "\n",
       "                     taker_buy_base_asset_volume  taker_buy_quote_asset_volume  \n",
       "open_time                                                                       \n",
       "2017-08-17 04:00:00                     0.075183                    320.390839  \n",
       "2017-08-17 04:01:00                     0.000000                      0.000000  \n",
       "2017-08-17 04:02:00                     0.261074                   1117.542969  \n",
       "2017-08-17 04:03:00                     0.012008                     51.171852  \n",
       "2017-08-17 04:04:00                     0.140796                    599.999329  "
      ]
     },
     "execution_count": 3,
     "metadata": {},
     "output_type": "execute_result"
    }
   ],
   "source": [
    "df.head()"
   ]
  },
  {
   "cell_type": "markdown",
   "id": "colonial-boutique",
   "metadata": {
    "_kg_hide-input": false,
    "papermill": {
     "duration": 0.01902,
     "end_time": "2021-06-18T11:02:38.282809",
     "exception": false,
     "start_time": "2021-06-18T11:02:38.263789",
     "status": "completed"
    },
    "tags": []
   },
   "source": [
    "##### 2.1.2 Preprocessing"
   ]
  },
  {
   "cell_type": "code",
   "execution_count": 4,
   "id": "active-input",
   "metadata": {
    "_kg_hide-input": true,
    "execution": {
     "iopub.execute_input": "2021-06-18T11:02:38.324132Z",
     "iopub.status.busy": "2021-06-18T11:02:38.323498Z",
     "iopub.status.idle": "2021-06-18T11:02:38.369342Z",
     "shell.execute_reply": "2021-06-18T11:02:38.369825Z",
     "shell.execute_reply.started": "2021-06-18T10:33:10.657430Z"
    },
    "papermill": {
     "duration": 0.067978,
     "end_time": "2021-06-18T11:02:38.370019",
     "exception": false,
     "start_time": "2021-06-18T11:02:38.302041",
     "status": "completed"
    },
    "tags": []
   },
   "outputs": [],
   "source": [
    "df.index.rename('date',inplace=True)\n",
    "df.drop(['quote_asset_volume','taker_buy_base_asset_volume','taker_buy_quote_asset_volume'],inplace = True,axis=1)"
   ]
  },
  {
   "cell_type": "markdown",
   "id": "starting-ontario",
   "metadata": {
    "papermill": {
     "duration": 0.018547,
     "end_time": "2021-06-18T11:02:38.407801",
     "exception": false,
     "start_time": "2021-06-18T11:02:38.389254",
     "status": "completed"
    },
    "tags": []
   },
   "source": [
    "##### 2.1.3 Checking Null Values"
   ]
  },
  {
   "cell_type": "code",
   "execution_count": 5,
   "id": "pregnant-future",
   "metadata": {
    "_kg_hide-input": true,
    "execution": {
     "iopub.execute_input": "2021-06-18T11:02:38.449004Z",
     "iopub.status.busy": "2021-06-18T11:02:38.448395Z",
     "iopub.status.idle": "2021-06-18T11:02:38.478805Z",
     "shell.execute_reply": "2021-06-18T11:02:38.478334Z",
     "shell.execute_reply.started": "2021-06-18T10:33:10.705643Z"
    },
    "papermill": {
     "duration": 0.051876,
     "end_time": "2021-06-18T11:02:38.478942",
     "exception": false,
     "start_time": "2021-06-18T11:02:38.427066",
     "status": "completed"
    },
    "tags": []
   },
   "outputs": [
    {
     "data": {
      "text/plain": [
       "open                0\n",
       "high                0\n",
       "low                 0\n",
       "close               0\n",
       "volume              0\n",
       "number_of_trades    0\n",
       "dtype: int64"
      ]
     },
     "execution_count": 5,
     "metadata": {},
     "output_type": "execute_result"
    }
   ],
   "source": [
    "df.isnull().sum()"
   ]
  },
  {
   "cell_type": "markdown",
   "id": "necessary-wildlife",
   "metadata": {
    "papermill": {
     "duration": 0.019124,
     "end_time": "2021-06-18T11:02:38.518048",
     "exception": false,
     "start_time": "2021-06-18T11:02:38.498924",
     "status": "completed"
    },
    "tags": []
   },
   "source": [
    "#### 2.2 Daily Data <a id=6></a>"
   ]
  },
  {
   "cell_type": "markdown",
   "id": "mediterranean-serial",
   "metadata": {
    "papermill": {
     "duration": 0.018602,
     "end_time": "2021-06-18T11:02:38.556157",
     "exception": false,
     "start_time": "2021-06-18T11:02:38.537555",
     "status": "completed"
    },
    "tags": []
   },
   "source": [
    "##### 2.2.1 Head"
   ]
  },
  {
   "cell_type": "code",
   "execution_count": 6,
   "id": "little-newport",
   "metadata": {
    "_kg_hide-input": true,
    "execution": {
     "iopub.execute_input": "2021-06-18T11:02:38.611155Z",
     "iopub.status.busy": "2021-06-18T11:02:38.610042Z",
     "iopub.status.idle": "2021-06-18T11:02:38.614770Z",
     "shell.execute_reply": "2021-06-18T11:02:38.614157Z",
     "shell.execute_reply.started": "2021-06-18T10:33:10.737198Z"
    },
    "papermill": {
     "duration": 0.039452,
     "end_time": "2021-06-18T11:02:38.614905",
     "exception": false,
     "start_time": "2021-06-18T11:02:38.575453",
     "status": "completed"
    },
    "tags": []
   },
   "outputs": [
    {
     "data": {
      "text/html": [
       "<div>\n",
       "<style scoped>\n",
       "    .dataframe tbody tr th:only-of-type {\n",
       "        vertical-align: middle;\n",
       "    }\n",
       "\n",
       "    .dataframe tbody tr th {\n",
       "        vertical-align: top;\n",
       "    }\n",
       "\n",
       "    .dataframe thead th {\n",
       "        text-align: right;\n",
       "    }\n",
       "</style>\n",
       "<table border=\"1\" class=\"dataframe\">\n",
       "  <thead>\n",
       "    <tr style=\"text-align: right;\">\n",
       "      <th></th>\n",
       "      <th>Date</th>\n",
       "      <th>Open</th>\n",
       "      <th>High</th>\n",
       "      <th>Low</th>\n",
       "      <th>Close</th>\n",
       "      <th>Adj Close</th>\n",
       "      <th>Volume</th>\n",
       "    </tr>\n",
       "  </thead>\n",
       "  <tbody>\n",
       "    <tr>\n",
       "      <th>0</th>\n",
       "      <td>2020-06-16</td>\n",
       "      <td>9454.266602</td>\n",
       "      <td>9579.430664</td>\n",
       "      <td>9400.445313</td>\n",
       "      <td>9538.024414</td>\n",
       "      <td>9538.024414</td>\n",
       "      <td>2.156554e+10</td>\n",
       "    </tr>\n",
       "    <tr>\n",
       "      <th>1</th>\n",
       "      <td>2020-06-17</td>\n",
       "      <td>9533.784180</td>\n",
       "      <td>9540.422852</td>\n",
       "      <td>9327.339844</td>\n",
       "      <td>9480.254883</td>\n",
       "      <td>9480.254883</td>\n",
       "      <td>2.017771e+10</td>\n",
       "    </tr>\n",
       "    <tr>\n",
       "      <th>2</th>\n",
       "      <td>2020-06-18</td>\n",
       "      <td>9481.567383</td>\n",
       "      <td>9482.782227</td>\n",
       "      <td>9328.395508</td>\n",
       "      <td>9411.840820</td>\n",
       "      <td>9411.840820</td>\n",
       "      <td>1.777008e+10</td>\n",
       "    </tr>\n",
       "    <tr>\n",
       "      <th>3</th>\n",
       "      <td>2020-06-19</td>\n",
       "      <td>9410.293945</td>\n",
       "      <td>9440.875977</td>\n",
       "      <td>9274.295898</td>\n",
       "      <td>9288.018555</td>\n",
       "      <td>9288.018555</td>\n",
       "      <td>1.963222e+10</td>\n",
       "    </tr>\n",
       "    <tr>\n",
       "      <th>4</th>\n",
       "      <td>2020-06-20</td>\n",
       "      <td>9290.959961</td>\n",
       "      <td>9394.971680</td>\n",
       "      <td>9247.379883</td>\n",
       "      <td>9332.340820</td>\n",
       "      <td>9332.340820</td>\n",
       "      <td>1.713054e+10</td>\n",
       "    </tr>\n",
       "  </tbody>\n",
       "</table>\n",
       "</div>"
      ],
      "text/plain": [
       "        Date         Open         High          Low        Close    Adj Close  \\\n",
       "0 2020-06-16  9454.266602  9579.430664  9400.445313  9538.024414  9538.024414   \n",
       "1 2020-06-17  9533.784180  9540.422852  9327.339844  9480.254883  9480.254883   \n",
       "2 2020-06-18  9481.567383  9482.782227  9328.395508  9411.840820  9411.840820   \n",
       "3 2020-06-19  9410.293945  9440.875977  9274.295898  9288.018555  9288.018555   \n",
       "4 2020-06-20  9290.959961  9394.971680  9247.379883  9332.340820  9332.340820   \n",
       "\n",
       "         Volume  \n",
       "0  2.156554e+10  \n",
       "1  2.017771e+10  \n",
       "2  1.777008e+10  \n",
       "3  1.963222e+10  \n",
       "4  1.713054e+10  "
      ]
     },
     "execution_count": 6,
     "metadata": {},
     "output_type": "execute_result"
    }
   ],
   "source": [
    "daily.head()"
   ]
  },
  {
   "cell_type": "markdown",
   "id": "starting-aruba",
   "metadata": {
    "papermill": {
     "duration": 0.018979,
     "end_time": "2021-06-18T11:02:38.653882",
     "exception": false,
     "start_time": "2021-06-18T11:02:38.634903",
     "status": "completed"
    },
    "tags": []
   },
   "source": [
    "##### 2.2.2 Set date as index"
   ]
  },
  {
   "cell_type": "code",
   "execution_count": 7,
   "id": "about-bosnia",
   "metadata": {
    "_kg_hide-input": true,
    "execution": {
     "iopub.execute_input": "2021-06-18T11:02:38.698103Z",
     "iopub.status.busy": "2021-06-18T11:02:38.697507Z",
     "iopub.status.idle": "2021-06-18T11:02:38.700931Z",
     "shell.execute_reply": "2021-06-18T11:02:38.700300Z",
     "shell.execute_reply.started": "2021-06-18T10:33:10.756889Z"
    },
    "papermill": {
     "duration": 0.027914,
     "end_time": "2021-06-18T11:02:38.701068",
     "exception": false,
     "start_time": "2021-06-18T11:02:38.673154",
     "status": "completed"
    },
    "tags": []
   },
   "outputs": [],
   "source": [
    "daily.set_index('Date',inplace=True)"
   ]
  },
  {
   "cell_type": "markdown",
   "id": "normal-simon",
   "metadata": {
    "papermill": {
     "duration": 0.018998,
     "end_time": "2021-06-18T11:02:38.739579",
     "exception": false,
     "start_time": "2021-06-18T11:02:38.720581",
     "status": "completed"
    },
    "tags": []
   },
   "source": [
    "##### 2.2.3 Checking for null values"
   ]
  },
  {
   "cell_type": "code",
   "execution_count": 8,
   "id": "solved-charity",
   "metadata": {
    "_kg_hide-input": true,
    "execution": {
     "iopub.execute_input": "2021-06-18T11:02:38.786587Z",
     "iopub.status.busy": "2021-06-18T11:02:38.785652Z",
     "iopub.status.idle": "2021-06-18T11:02:38.790075Z",
     "shell.execute_reply": "2021-06-18T11:02:38.789529Z",
     "shell.execute_reply.started": "2021-06-18T10:33:10.775286Z"
    },
    "papermill": {
     "duration": 0.030879,
     "end_time": "2021-06-18T11:02:38.790199",
     "exception": false,
     "start_time": "2021-06-18T11:02:38.759320",
     "status": "completed"
    },
    "tags": []
   },
   "outputs": [
    {
     "data": {
      "text/plain": [
       "Open         3\n",
       "High         3\n",
       "Low          3\n",
       "Close        3\n",
       "Adj Close    3\n",
       "Volume       3\n",
       "dtype: int64"
      ]
     },
     "execution_count": 8,
     "metadata": {},
     "output_type": "execute_result"
    }
   ],
   "source": [
    "daily.isnull().sum()"
   ]
  },
  {
   "cell_type": "markdown",
   "id": "packed-stand",
   "metadata": {
    "papermill": {
     "duration": 0.020014,
     "end_time": "2021-06-18T11:02:38.829992",
     "exception": false,
     "start_time": "2021-06-18T11:02:38.809978",
     "status": "completed"
    },
    "tags": []
   },
   "source": [
    "##### 2.2.4 Removing null values"
   ]
  },
  {
   "cell_type": "code",
   "execution_count": 9,
   "id": "through-specialist",
   "metadata": {
    "_kg_hide-input": true,
    "execution": {
     "iopub.execute_input": "2021-06-18T11:02:38.882226Z",
     "iopub.status.busy": "2021-06-18T11:02:38.881604Z",
     "iopub.status.idle": "2021-06-18T11:02:38.885342Z",
     "shell.execute_reply": "2021-06-18T11:02:38.884828Z",
     "shell.execute_reply.started": "2021-06-18T10:33:10.794787Z"
    },
    "papermill": {
     "duration": 0.035456,
     "end_time": "2021-06-18T11:02:38.885491",
     "exception": false,
     "start_time": "2021-06-18T11:02:38.850035",
     "status": "completed"
    },
    "tags": []
   },
   "outputs": [
    {
     "data": {
      "text/plain": [
       "Open         0\n",
       "High         0\n",
       "Low          0\n",
       "Close        0\n",
       "Adj Close    0\n",
       "Volume       0\n",
       "dtype: int64"
      ]
     },
     "execution_count": 9,
     "metadata": {},
     "output_type": "execute_result"
    }
   ],
   "source": [
    "daily.fillna(method='ffill',inplace=True, axis=0)\n",
    "daily.isnull().sum()"
   ]
  },
  {
   "cell_type": "markdown",
   "id": "owned-vegetation",
   "metadata": {
    "papermill": {
     "duration": 0.01975,
     "end_time": "2021-06-18T11:02:38.925547",
     "exception": false,
     "start_time": "2021-06-18T11:02:38.905797",
     "status": "completed"
    },
    "tags": []
   },
   "source": [
    "#### 2.3 Heads after preprocessing <a id=7></a>"
   ]
  },
  {
   "cell_type": "markdown",
   "id": "quantitative-ottawa",
   "metadata": {
    "papermill": {
     "duration": 0.020535,
     "end_time": "2021-06-18T11:02:38.968870",
     "exception": false,
     "start_time": "2021-06-18T11:02:38.948335",
     "status": "completed"
    },
    "tags": []
   },
   "source": [
    "##### 2.3.1 Daily data"
   ]
  },
  {
   "cell_type": "code",
   "execution_count": 10,
   "id": "wired-qatar",
   "metadata": {
    "_kg_hide-input": true,
    "execution": {
     "iopub.execute_input": "2021-06-18T11:02:39.021508Z",
     "iopub.status.busy": "2021-06-18T11:02:39.020843Z",
     "iopub.status.idle": "2021-06-18T11:02:39.024351Z",
     "shell.execute_reply": "2021-06-18T11:02:39.023757Z",
     "shell.execute_reply.started": "2021-06-18T10:33:10.814075Z"
    },
    "papermill": {
     "duration": 0.035515,
     "end_time": "2021-06-18T11:02:39.024507",
     "exception": false,
     "start_time": "2021-06-18T11:02:38.988992",
     "status": "completed"
    },
    "tags": []
   },
   "outputs": [
    {
     "data": {
      "text/html": [
       "<div>\n",
       "<style scoped>\n",
       "    .dataframe tbody tr th:only-of-type {\n",
       "        vertical-align: middle;\n",
       "    }\n",
       "\n",
       "    .dataframe tbody tr th {\n",
       "        vertical-align: top;\n",
       "    }\n",
       "\n",
       "    .dataframe thead th {\n",
       "        text-align: right;\n",
       "    }\n",
       "</style>\n",
       "<table border=\"1\" class=\"dataframe\">\n",
       "  <thead>\n",
       "    <tr style=\"text-align: right;\">\n",
       "      <th></th>\n",
       "      <th>Open</th>\n",
       "      <th>High</th>\n",
       "      <th>Low</th>\n",
       "      <th>Close</th>\n",
       "      <th>Adj Close</th>\n",
       "      <th>Volume</th>\n",
       "    </tr>\n",
       "    <tr>\n",
       "      <th>Date</th>\n",
       "      <th></th>\n",
       "      <th></th>\n",
       "      <th></th>\n",
       "      <th></th>\n",
       "      <th></th>\n",
       "      <th></th>\n",
       "    </tr>\n",
       "  </thead>\n",
       "  <tbody>\n",
       "    <tr>\n",
       "      <th>2020-06-16</th>\n",
       "      <td>9454.266602</td>\n",
       "      <td>9579.430664</td>\n",
       "      <td>9400.445313</td>\n",
       "      <td>9538.024414</td>\n",
       "      <td>9538.024414</td>\n",
       "      <td>2.156554e+10</td>\n",
       "    </tr>\n",
       "    <tr>\n",
       "      <th>2020-06-17</th>\n",
       "      <td>9533.784180</td>\n",
       "      <td>9540.422852</td>\n",
       "      <td>9327.339844</td>\n",
       "      <td>9480.254883</td>\n",
       "      <td>9480.254883</td>\n",
       "      <td>2.017771e+10</td>\n",
       "    </tr>\n",
       "    <tr>\n",
       "      <th>2020-06-18</th>\n",
       "      <td>9481.567383</td>\n",
       "      <td>9482.782227</td>\n",
       "      <td>9328.395508</td>\n",
       "      <td>9411.840820</td>\n",
       "      <td>9411.840820</td>\n",
       "      <td>1.777008e+10</td>\n",
       "    </tr>\n",
       "    <tr>\n",
       "      <th>2020-06-19</th>\n",
       "      <td>9410.293945</td>\n",
       "      <td>9440.875977</td>\n",
       "      <td>9274.295898</td>\n",
       "      <td>9288.018555</td>\n",
       "      <td>9288.018555</td>\n",
       "      <td>1.963222e+10</td>\n",
       "    </tr>\n",
       "    <tr>\n",
       "      <th>2020-06-20</th>\n",
       "      <td>9290.959961</td>\n",
       "      <td>9394.971680</td>\n",
       "      <td>9247.379883</td>\n",
       "      <td>9332.340820</td>\n",
       "      <td>9332.340820</td>\n",
       "      <td>1.713054e+10</td>\n",
       "    </tr>\n",
       "  </tbody>\n",
       "</table>\n",
       "</div>"
      ],
      "text/plain": [
       "                   Open         High          Low        Close    Adj Close  \\\n",
       "Date                                                                          \n",
       "2020-06-16  9454.266602  9579.430664  9400.445313  9538.024414  9538.024414   \n",
       "2020-06-17  9533.784180  9540.422852  9327.339844  9480.254883  9480.254883   \n",
       "2020-06-18  9481.567383  9482.782227  9328.395508  9411.840820  9411.840820   \n",
       "2020-06-19  9410.293945  9440.875977  9274.295898  9288.018555  9288.018555   \n",
       "2020-06-20  9290.959961  9394.971680  9247.379883  9332.340820  9332.340820   \n",
       "\n",
       "                  Volume  \n",
       "Date                      \n",
       "2020-06-16  2.156554e+10  \n",
       "2020-06-17  2.017771e+10  \n",
       "2020-06-18  1.777008e+10  \n",
       "2020-06-19  1.963222e+10  \n",
       "2020-06-20  1.713054e+10  "
      ]
     },
     "execution_count": 10,
     "metadata": {},
     "output_type": "execute_result"
    }
   ],
   "source": [
    "daily.head()"
   ]
  },
  {
   "cell_type": "markdown",
   "id": "opposed-muscle",
   "metadata": {
    "papermill": {
     "duration": 0.020989,
     "end_time": "2021-06-18T11:02:39.066728",
     "exception": false,
     "start_time": "2021-06-18T11:02:39.045739",
     "status": "completed"
    },
    "tags": []
   },
   "source": [
    "##### 2.3.2 1-minute data"
   ]
  },
  {
   "cell_type": "code",
   "execution_count": 11,
   "id": "documented-malaysia",
   "metadata": {
    "_kg_hide-input": true,
    "execution": {
     "iopub.execute_input": "2021-06-18T11:02:39.113082Z",
     "iopub.status.busy": "2021-06-18T11:02:39.112427Z",
     "iopub.status.idle": "2021-06-18T11:02:39.126227Z",
     "shell.execute_reply": "2021-06-18T11:02:39.126990Z",
     "shell.execute_reply.started": "2021-06-18T10:33:10.846129Z"
    },
    "papermill": {
     "duration": 0.03846,
     "end_time": "2021-06-18T11:02:39.127244",
     "exception": false,
     "start_time": "2021-06-18T11:02:39.088784",
     "status": "completed"
    },
    "tags": []
   },
   "outputs": [
    {
     "data": {
      "text/html": [
       "<div>\n",
       "<style scoped>\n",
       "    .dataframe tbody tr th:only-of-type {\n",
       "        vertical-align: middle;\n",
       "    }\n",
       "\n",
       "    .dataframe tbody tr th {\n",
       "        vertical-align: top;\n",
       "    }\n",
       "\n",
       "    .dataframe thead th {\n",
       "        text-align: right;\n",
       "    }\n",
       "</style>\n",
       "<table border=\"1\" class=\"dataframe\">\n",
       "  <thead>\n",
       "    <tr style=\"text-align: right;\">\n",
       "      <th></th>\n",
       "      <th>open</th>\n",
       "      <th>high</th>\n",
       "      <th>low</th>\n",
       "      <th>close</th>\n",
       "      <th>volume</th>\n",
       "      <th>number_of_trades</th>\n",
       "    </tr>\n",
       "    <tr>\n",
       "      <th>date</th>\n",
       "      <th></th>\n",
       "      <th></th>\n",
       "      <th></th>\n",
       "      <th></th>\n",
       "      <th></th>\n",
       "      <th></th>\n",
       "    </tr>\n",
       "  </thead>\n",
       "  <tbody>\n",
       "    <tr>\n",
       "      <th>2017-08-17 04:00:00</th>\n",
       "      <td>4261.479980</td>\n",
       "      <td>4261.479980</td>\n",
       "      <td>4261.479980</td>\n",
       "      <td>4261.479980</td>\n",
       "      <td>1.775183</td>\n",
       "      <td>3</td>\n",
       "    </tr>\n",
       "    <tr>\n",
       "      <th>2017-08-17 04:01:00</th>\n",
       "      <td>4261.479980</td>\n",
       "      <td>4261.479980</td>\n",
       "      <td>4261.479980</td>\n",
       "      <td>4261.479980</td>\n",
       "      <td>0.000000</td>\n",
       "      <td>0</td>\n",
       "    </tr>\n",
       "    <tr>\n",
       "      <th>2017-08-17 04:02:00</th>\n",
       "      <td>4280.560059</td>\n",
       "      <td>4280.560059</td>\n",
       "      <td>4280.560059</td>\n",
       "      <td>4280.560059</td>\n",
       "      <td>0.261074</td>\n",
       "      <td>2</td>\n",
       "    </tr>\n",
       "    <tr>\n",
       "      <th>2017-08-17 04:03:00</th>\n",
       "      <td>4261.479980</td>\n",
       "      <td>4261.479980</td>\n",
       "      <td>4261.479980</td>\n",
       "      <td>4261.479980</td>\n",
       "      <td>0.012008</td>\n",
       "      <td>3</td>\n",
       "    </tr>\n",
       "    <tr>\n",
       "      <th>2017-08-17 04:04:00</th>\n",
       "      <td>4261.479980</td>\n",
       "      <td>4261.479980</td>\n",
       "      <td>4261.479980</td>\n",
       "      <td>4261.479980</td>\n",
       "      <td>0.140796</td>\n",
       "      <td>1</td>\n",
       "    </tr>\n",
       "  </tbody>\n",
       "</table>\n",
       "</div>"
      ],
      "text/plain": [
       "                            open         high          low        close  \\\n",
       "date                                                                      \n",
       "2017-08-17 04:00:00  4261.479980  4261.479980  4261.479980  4261.479980   \n",
       "2017-08-17 04:01:00  4261.479980  4261.479980  4261.479980  4261.479980   \n",
       "2017-08-17 04:02:00  4280.560059  4280.560059  4280.560059  4280.560059   \n",
       "2017-08-17 04:03:00  4261.479980  4261.479980  4261.479980  4261.479980   \n",
       "2017-08-17 04:04:00  4261.479980  4261.479980  4261.479980  4261.479980   \n",
       "\n",
       "                       volume  number_of_trades  \n",
       "date                                             \n",
       "2017-08-17 04:00:00  1.775183                 3  \n",
       "2017-08-17 04:01:00  0.000000                 0  \n",
       "2017-08-17 04:02:00  0.261074                 2  \n",
       "2017-08-17 04:03:00  0.012008                 3  \n",
       "2017-08-17 04:04:00  0.140796                 1  "
      ]
     },
     "execution_count": 11,
     "metadata": {},
     "output_type": "execute_result"
    }
   ],
   "source": [
    "df.head()"
   ]
  },
  {
   "cell_type": "markdown",
   "id": "former-sweden",
   "metadata": {
    "papermill": {
     "duration": 0.0211,
     "end_time": "2021-06-18T11:02:39.169075",
     "exception": false,
     "start_time": "2021-06-18T11:02:39.147975",
     "status": "completed"
    },
    "tags": []
   },
   "source": [
    "### 3. Analysing Daily data <a id=8></a>"
   ]
  },
  {
   "cell_type": "markdown",
   "id": "personal-biography",
   "metadata": {
    "papermill": {
     "duration": 0.020986,
     "end_time": "2021-06-18T11:02:39.211010",
     "exception": false,
     "start_time": "2021-06-18T11:02:39.190024",
     "status": "completed"
    },
    "tags": []
   },
   "source": [
    "#### 3.1 Candlestick plot <a id=9></a>"
   ]
  },
  {
   "cell_type": "code",
   "execution_count": 12,
   "id": "graphic-italian",
   "metadata": {
    "_kg_hide-input": true,
    "execution": {
     "iopub.execute_input": "2021-06-18T11:02:39.256390Z",
     "iopub.status.busy": "2021-06-18T11:02:39.255794Z",
     "iopub.status.idle": "2021-06-18T11:02:40.327152Z",
     "shell.execute_reply": "2021-06-18T11:02:40.327635Z",
     "shell.execute_reply.started": "2021-06-18T10:33:10.875167Z"
    },
    "papermill": {
     "duration": 1.095236,
     "end_time": "2021-06-18T11:02:40.327800",
     "exception": false,
     "start_time": "2021-06-18T11:02:39.232564",
     "status": "completed"
    },
    "tags": []
   },
   "outputs": [
    {
     "data": {
      "text/html": [
       "        <script type=\"text/javascript\">\n",
       "        window.PlotlyConfig = {MathJaxConfig: 'local'};\n",
       "        if (window.MathJax) {MathJax.Hub.Config({SVG: {font: \"STIX-Web\"}});}\n",
       "        if (typeof require !== 'undefined') {\n",
       "        require.undef(\"plotly\");\n",
       "        requirejs.config({\n",
       "            paths: {\n",
       "                'plotly': ['https://cdn.plot.ly/plotly-latest.min']\n",
       "            }\n",
       "        });\n",
       "        require(['plotly'], function(Plotly) {\n",
       "            window._Plotly = Plotly;\n",
       "        });\n",
       "        }\n",
       "        </script>\n",
       "        "
      ]
     },
     "metadata": {},
     "output_type": "display_data"
    },
    {
     "data": {
      "text/html": [
       "<div>                            <div id=\"ca18b574-3335-4055-b883-acc72fbed6e4\" class=\"plotly-graph-div\" style=\"height:525px; width:100%;\"></div>            <script type=\"text/javascript\">                require([\"plotly\"], function(Plotly) {                    window.PLOTLYENV=window.PLOTLYENV || {};                                    if (document.getElementById(\"ca18b574-3335-4055-b883-acc72fbed6e4\")) {                    Plotly.newPlot(                        \"ca18b574-3335-4055-b883-acc72fbed6e4\",                        [{\"close\": [9538.024414, 9480.254883, 9411.84082, 9288.018555, 9332.34082, 9303.629883, 9648.717773, 9629.658203, 9313.610352, 9264.813477, 9162.917969, 9045.390625, 9143.582031, 9190.854492, 9137.993164, 9228.325195, 9123.410156, 9087.303711, 9132.488281, 9073.942383, 9375.474609, 9252.277344, 9428.333008, 9277.967773, 9278.807617, 9240.34668, 9276.5, 9243.614258, 9243.213867, 9192.836914, 9132.227539, 9151.392578, 9159.040039, 9185.817383, 9164.231445, 9374.887695, 9525.363281, 9581.072266, 9536.892578, 9677.113281, 9905.166992, 10990.873047, 10912.823242, 11100.467773, 11111.213867, 11323.466797, 11759.592773, 11053.614258, 11246.348633, 11205.892578, 11747.022461, 11779.773438, 11601.472656, 11754.045898, 11675.739258, 11878.111328, 11410.525391, 11584.93457, 11784.137695, 11768.871094, 11865.698242, 11892.803711, 12254.402344, 11991.233398, 11758.283203, 11878.37207, 11592.489258, 11681.825195, 11664.847656, 11774.595703, 11366.134766, 11488.363281, 11323.397461, 11542.5, 11506.865234, 11711.505859, 11680.820313, 11970.478516, 11414.03418, 10245.296875, 10511.813477, 10169.567383, 10280.351563, 10369.563477, 10131.516602, 10242.347656, 10363.138672, 10400.915039, 10442.170898, 10323.755859, 10680.837891, 10796.951172, 10974.905273, 10948.990234, 10944.585938, 11094.34668, 10938.271484, 10462.259766, 10538.459961, 10225.864258, 10745.548828, 10702.290039, 10754.4375, 10774.426758, 10721.327148, 10848.830078, 10787.618164, 10623.330078, 10585.164063, 10565.493164, 10684.428711, 10804.000977, 10621.664063, 10679.136719, 10923.62793, 10923.62793, 11296.361328, 11384.181641, 11384.181641, 11384.181641, 11429.506836, 11495.349609, 11322.123047, 11358.101563, 11483.359375, 11742.037109, 11916.334961, 12823.689453, 12965.891602, 12931.539063, 13108.0625, 13031.173828, 13075.248047, 13654.21875, 13271.285156, 13437.882813, 13546.522461, 13780.995117, 13737.109375, 13550.489258, 13950.300781, 14133.707031, 15579.848633, 15565.880859, 14833.753906, 15479.567383, 15332.31543, 15290.902344, 15701.339844, 16276.34375, 16317.808594, 16068.138672, 15955.587891, 16716.111328, 17645.40625, 17804.005859, 17817.089844, 18621.314453, 18642.232422, 18370.001953, 18364.121094, 19107.464844, 18732.121094, 17150.623047, 17108.402344, 17717.414063, 18177.484375, 19625.835938, 18802.998047, 19201.091797, 19445.398438, 18699.765625, 19154.230469, 19345.121094, 19191.630859, 18321.144531, 18553.916016, 18264.992188, 18058.904297, 18803.65625, 19142.382813, 19246.644531, 19417.076172, 21310.597656, 22805.162109, 23137.960938, 23869.832031, 23477.294922, 22803.082031, 23783.029297, 23241.345703, 23735.949219, 24664.791016, 26437.037109, 26272.294922, 27084.808594, 27362.4375, 28840.953125, 29001.720703, 29374.152344, 32127.267578, 32782.023438, 31971.914063, 33992.429688, 36824.363281, 39371.042969, 40797.609375, 40254.546875, 38356.441406, 35566.65625, 33922.960938, 37316.359375, 39187.328125, 36825.367188, 36178.140625, 35791.277344, 36630.074219, 36069.804688, 35547.75, 30825.699219, 33005.761719, 32067.642578, 32289.378906, 32366.392578, 32569.849609, 30432.546875, 31649.605469, 34316.386719, 34269.523438, 33114.359375, 33537.175781, 35510.289063, 37472.089844, 36926.066406, 38144.308594, 39266.011719, 38903.441406, 46196.464844, 46481.105469, 44918.183594, 47909.332031, 47504.851563, 47105.515625, 48717.289063, 47945.058594, 49199.871094, 52149.007813, 51679.796875, 55888.132813, 56099.519531, 57539.945313, 54207.320313, 48824.425781, 49705.332031, 47093.851563, 46339.761719, 46188.453125, 45137.769531, 49631.242188, 48378.988281, 50538.242188, 48561.167969, 48927.304688, 48912.382813, 51206.691406, 52246.523438, 54824.117188, 56008.550781, 57805.121094, 57332.089844, 61243.085938, 59302.316406, 55907.199219, 56804.902344, 58870.894531, 57858.921875, 58346.652344, 58313.644531, 57523.421875, 54529.144531, 54738.945313, 52774.265625, 51704.160156, 55137.3125, 55973.511719, 55950.746094, 57750.199219, 58917.691406, 58918.832031, 59095.808594, 59384.3125, 57603.890625, 58758.554688, 59057.878906, 58192.359375, 56048.9375, 58323.953125, 58245.003906, 59793.234375, 60204.964844, 59893.453125, 63503.457031, 63109.695313, 63314.011719, 61572.789063, 60683.820313, 56216.183594, 55724.265625, 56473.03125, 53906.089844, 51762.273438, 51093.652344, 50050.867188, 49004.253906, 54021.753906, 55033.117188, 54824.703125, 53555.109375, 57750.175781, 57828.050781, 56631.078125, 57200.292969, 53333.539063, 57424.007813, 56396.515625, 57356.402344, 58803.777344, 58232.316406, 55859.796875, 56704.574219, 49150.535156, 49716.191406, 49880.535156, 46760.1875, 46456.058594, 43537.511719, 42909.402344, 37002.441406, 40782.738281, 37304.691406, 37536.632813, 34770.582031, 38705.980469, 38402.222656, 39294.199219, 38436.96875, 35697.605469, 34616.066406, 35678.128906, 37332.855469, 36684.925781, 37575.179688, 39208.765625, 36894.40625, 35551.957031, 35862.378906, 33560.707031, 33472.632813, 37345.121094, 36702.597656, 37334.398438, 35552.515625, 39097.859375, 40536.070313, 40155.296875, 38692.386719], \"high\": [9579.430664, 9540.422852, 9482.782227, 9440.875977, 9394.97168, 9401.107422, 9655.073242, 9670.541016, 9680.367188, 9340.161133, 9310.516602, 9207.810547, 9197.546875, 9237.573242, 9217.835938, 9309.754883, 9274.962891, 9202.344727, 9183.295898, 9162.183594, 9375.474609, 9360.617188, 9450.335938, 9431.378906, 9287.47168, 9293.532227, 9319.418945, 9306.405273, 9283.841797, 9275.325195, 9214.3125, 9182.253906, 9230.983398, 9201.398438, 9214.270508, 9407.262695, 9530.518555, 9610.24707, 9623.336914, 9704.556641, 10023.807617, 11298.22168, 11204.327148, 11304.397461, 11169.356445, 11415.864258, 11794.775391, 12034.144531, 11453.079102, 11385.381836, 11786.617188, 11902.335938, 11898.038086, 11800.064453, 11806.056641, 12045.140625, 11932.710938, 11748.396484, 11796.396484, 12150.994141, 11963.203125, 11934.901367, 12359.056641, 12335.707031, 12028.923828, 11900.411133, 11899.259766, 11689.407227, 11713.429688, 11807.631836, 11778.299805, 11530.052734, 11570.786133, 11545.615234, 11585.640625, 11715.264648, 11768.876953, 12067.081055, 11964.823242, 11443.022461, 10663.919922, 10581.571289, 10353.927734, 10399.15332, 10414.775391, 10350.542969, 10503.912109, 10434.922852, 10578.837891, 10577.214844, 10800.010742, 10938.631836, 11100.124023, 11037.420898, 11034.908203, 11134.092773, 11095.870117, 10988.304688, 10568.077148, 10637.847656, 10765.794922, 10757.548828, 10778.5, 10804.732422, 10949.123047, 10858.939453, 10856.52832, 10915.84375, 10662.813477, 10614.091797, 10700.791016, 10804.000977, 10803.456055, 10687.268555, 10939.799805, 10939.799805, 11442.210938, 11428.813477, 11428.813477, 11428.813477, 11539.977539, 11569.914063, 11540.061523, 11386.261719, 11483.359375, 11799.092773, 11999.917969, 13184.566406, 13161.59375, 13015.961914, 13145.066406, 13329.183594, 13225.297852, 13759.668945, 13837.695313, 13612.047852, 13651.516602, 14028.213867, 13862.033203, 13808.323242, 13984.981445, 14218.766602, 15706.404297, 15903.4375, 15737.095703, 15637.320313, 15785.136719, 15450.329102, 15916.260742, 16305.003906, 16463.177734, 16317.808594, 16123.110352, 16816.181641, 17782.919922, 18393.949219, 18119.546875, 18773.226563, 18936.621094, 18688.96875, 18711.425781, 19348.271484, 19390.964844, 18866.285156, 17445.023438, 17853.939453, 18283.628906, 19749.263672, 19845.974609, 19308.330078, 19566.191406, 19511.404297, 19160.449219, 19390.5, 19411.828125, 19283.478516, 18626.292969, 18553.298828, 18268.453125, 18919.550781, 19381.535156, 19305.099609, 19525.007813, 21458.908203, 23642.660156, 23238.601563, 24085.855469, 24209.660156, 24059.982422, 23789.902344, 24024.490234, 23768.337891, 24710.101563, 26718.070313, 28288.839844, 27389.111328, 27370.720703, 28937.740234, 29244.876953, 29600.626953, 33155.117188, 34608.558594, 33440.21875, 34437.589844, 36879.699219, 40180.367188, 41946.738281, 41436.351563, 41420.191406, 38346.53125, 36568.527344, 37599.960938, 39966.40625, 39577.710938, 37864.367188, 36722.351563, 37299.285156, 37755.890625, 36378.328125, 35552.679688, 33811.851563, 33360.976563, 32944.007813, 34802.742188, 32794.550781, 32564.029297, 31891.300781, 38406.261719, 34834.707031, 34288.332031, 34638.214844, 35896.882813, 37480.1875, 38592.175781, 38225.90625, 40846.546875, 39621.835938, 46203.929688, 48003.722656, 47145.566406, 48463.46875, 48745.734375, 48047.746094, 49487.640625, 48875.570313, 50341.101563, 52533.914063, 52474.105469, 56113.652344, 57505.226563, 58330.570313, 57533.390625, 54204.929688, 51290.136719, 51948.96875, 48370.785156, 48253.269531, 46716.429688, 49784.015625, 50127.511719, 52535.136719, 51735.089844, 49396.429688, 49147.21875, 51384.367188, 52314.070313, 54824.117188, 57258.253906, 58091.0625, 57996.621094, 61683.863281, 61597.917969, 60540.992188, 56833.179688, 58969.816406, 60116.25, 59498.375, 60031.285156, 58767.898438, 58471.480469, 55985.441406, 57262.382813, 53392.386719, 55137.3125, 56568.214844, 56610.3125, 58342.097656, 59447.222656, 59930.027344, 59586.070313, 60267.1875, 60110.269531, 58913.746094, 59891.296875, 59479.578125, 58731.144531, 58338.738281, 58937.046875, 61276.664063, 60790.554688, 61253.035156, 63742.285156, 64863.097656, 63821.671875, 63594.722656, 62572.175781, 61057.457031, 57520.054688, 57062.148438, 56757.972656, 55410.230469, 52120.792969, 51167.5625, 50506.019531, 54288.003906, 55416.964844, 56227.207031, 55115.84375, 57900.71875, 58448.339844, 57902.59375, 58973.308594, 57214.179688, 57911.363281, 58363.316406, 58606.632813, 59464.613281, 59210.882813, 59519.355469, 56872.542969, 57939.363281, 51330.84375, 51438.117188, 50639.664063, 49720.042969, 46623.558594, 45812.457031, 43546.117188, 42462.984375, 42172.171875, 38831.054688, 38289.21875, 39835.140625, 39776.351563, 40782.078125, 40379.617188, 38856.96875, 37234.5, 36400.667969, 37468.25, 37896.734375, 38231.339844, 39478.953125, 39242.484375, 37917.714844, 36436.421875, 36790.570313, 34017.386719, 37537.371094, 38334.324219, 37608.695313, 37408.925781, 39322.78125, 40978.363281, 41295.269531, 40472.21875], \"low\": [9400.445313, 9327.339844, 9328.395508, 9274.295898, 9247.379883, 9300.430664, 9296.87207, 9547.24707, 9278.233398, 9095.324219, 9101.738281, 8998.216797, 8975.525391, 9041.875977, 9084.837891, 9104.735352, 9036.623047, 9058.794922, 9053.629883, 8977.015625, 9058.664063, 9201.81543, 9249.5, 9234.999023, 9118.001953, 9199.485352, 9197.450195, 9224.292969, 9171.661133, 9171.933594, 9088.947266, 9089.202148, 9100.824219, 9097.632813, 9137.509766, 9149.389648, 9319.65332, 9483.003906, 9481.454102, 9530.211914, 9652.847656, 9903.969727, 10632.631836, 10856.141602, 10895.455078, 10987.053711, 11239.682617, 11018.129883, 11012.415039, 11094.145508, 11158.285156, 11598.713867, 11408.59375, 11558.431641, 11548.78418, 11662.256836, 11195.708984, 11249.605469, 11216.87207, 11685.455078, 11768.697266, 11737.188477, 11806.696289, 11954.525391, 11687.333008, 11710.063477, 11564.979492, 11448.805664, 11559.920898, 11623.25, 11189.850586, 11296.993164, 11185.941406, 11316.422852, 11466.292969, 11492.381836, 11598.318359, 11601.128906, 11290.793945, 10182.464844, 10207.94043, 9946.675781, 10056.885742, 9916.493164, 9945.110352, 10017.250977, 10238.135742, 10140.836914, 10292.386719, 10224.330078, 10266.008789, 10656.459961, 10704.884766, 10774.62793, 10829.657227, 10909.618164, 10814.477539, 10380.260742, 10382.726563, 10185.774414, 10215.205078, 10594.047852, 10682.082031, 10643.458008, 10716.676758, 10665.344727, 10689.670898, 10493.552734, 10440.311523, 10527.978516, 10531.342773, 10646.443359, 10565.197266, 10591.963867, 10569.823242, 10569.823242, 11056.94043, 11288.62793, 11288.62793, 11288.62793, 11307.831055, 11303.603516, 11223.012695, 11285.345703, 11347.578125, 11408.290039, 11681.480469, 11900.928711, 12717.09375, 12752.647461, 12885.74707, 12910.061523, 12822.382813, 13060.837891, 12932.250977, 12980.05957, 13136.198242, 13457.530273, 13628.37793, 13243.160156, 13325.441406, 13580.47168, 14102.088867, 15226.839844, 14423.203125, 14744.110352, 14865.529297, 15124.959961, 15290.006836, 15534.771484, 15992.152344, 15749.193359, 15793.53418, 15880.706055, 16564.544922, 17352.90625, 17382.554688, 17765.794922, 18444.359375, 17671.384766, 18000.796875, 18128.65625, 18581.146484, 16351.035156, 16526.423828, 16910.652344, 17559.117188, 18178.322266, 18321.921875, 18347.71875, 18925.785156, 18697.193359, 18590.193359, 18897.894531, 18931.142578, 18269.945313, 17935.546875, 17957.064453, 17619.533203, 18046.041016, 18734.332031, 19012.708984, 19079.841797, 19298.316406, 21234.675781, 22399.8125, 22826.472656, 23147.710938, 22159.367188, 22430.605469, 22802.646484, 22777.597656, 23463.673828, 24522.689453, 25922.769531, 26207.640625, 25987.298828, 27360.089844, 28201.992188, 28803.585938, 29091.181641, 32052.316406, 28722.755859, 30221.1875, 33514.035156, 36491.191406, 36838.636719, 38980.875, 35984.628906, 30549.599609, 32697.976563, 32584.667969, 36868.5625, 34659.589844, 35633.554688, 34069.320313, 34883.84375, 36069.804688, 33570.476563, 30250.75, 28953.373047, 31493.160156, 31106.685547, 32087.787109, 31030.265625, 29367.138672, 30023.207031, 32064.814453, 32940.1875, 32270.175781, 32384.228516, 33489.21875, 35443.984375, 36317.5, 36658.761719, 38138.386719, 37446.152344, 38076.324219, 45166.960938, 43881.152344, 44187.761719, 46424.976563, 46392.28125, 47114.507813, 46347.476563, 47201.304688, 49072.378906, 51015.765625, 50937.277344, 54626.558594, 55672.609375, 48967.566406, 45290.589844, 47213.5, 47093.851563, 44454.84375, 45269.027344, 43241.617188, 45115.09375, 47228.84375, 48274.320313, 47656.929688, 46542.515625, 47257.527344, 48918.679688, 49506.054688, 51981.832031, 53290.890625, 54484.59375, 55376.648438, 56217.972656, 59302.316406, 55393.164063, 53555.027344, 54528.628906, 54253.578125, 56643.703125, 58213.296875, 56005.617188, 54288.15625, 53470.695313, 52514.332031, 50856.570313, 51579.855469, 54242.910156, 55071.113281, 55139.339844, 57251.550781, 57726.417969, 58505.277344, 58869.28125, 57603.890625, 57168.675781, 57694.824219, 57646.808594, 55604.023438, 55879.085938, 57807.863281, 58038.707031, 59289.796875, 59589.875, 59869.957031, 61554.796875, 62208.964844, 60222.53125, 60361.351563, 52829.535156, 54368.59375, 53448.046875, 53695.46875, 50583.8125, 47714.664063, 48805.285156, 47159.484375, 48852.796875, 53319.1875, 53887.917969, 52418.027344, 53129.601563, 57052.273438, 56141.90625, 56590.871094, 53191.425781, 52969.054688, 55382.507813, 55321.847656, 56975.210938, 56482.003906, 54071.457031, 54608.652344, 49150.535156, 46980.019531, 48868.578125, 46664.140625, 43963.351563, 42207.289063, 42367.832031, 30681.496094, 35050.617188, 33616.453125, 35383.683594, 31227.339844, 34551.082031, 36581.429688, 37905.835938, 37247.902344, 34779.039063, 33693.929688, 33520.738281, 34241.945313, 35787.085938, 35966.308594, 37243.972656, 35717.722656, 34900.414063, 35304.578125, 33480.640625, 31114.443359, 32475.865234, 35847.59375, 36044.449219, 34728.191406, 34864.109375, 38757.285156, 39609.46875, 38562.894531], \"open\": [9454.266602, 9533.78418, 9481.567383, 9410.293945, 9290.959961, 9330.926758, 9300.915039, 9644.076172, 9632.149414, 9314.126953, 9260.995117, 9167.824219, 9048.460938, 9140.029297, 9185.581055, 9145.985352, 9231.139648, 9124.842773, 9084.233398, 9126.09082, 9072.849609, 9349.161133, 9253.020508, 9427.994141, 9273.357422, 9277.511719, 9241.054688, 9277.205078, 9238.703125, 9241.897461, 9191.980469, 9131.8125, 9151.183594, 9158.005859, 9187.220703, 9162.514648, 9375.080078, 9527.141602, 9585.514648, 9539.485352, 9680.234375, 9905.217773, 11017.463867, 10912.953125, 11099.833008, 11110.210938, 11322.570313, 11758.764648, 11043.768555, 11246.203125, 11203.823242, 11749.871094, 11778.894531, 11604.553711, 11737.325195, 11662.256836, 11881.647461, 11404.59668, 11588.405273, 11772.65918, 11768.697266, 11866.685547, 11895.658203, 12251.895508, 11990.884766, 11761.5, 11878.026367, 11585.477539, 11679.696289, 11663.689453, 11773.588867, 11366.894531, 11485.608398, 11325.295898, 11541.054688, 11508.713867, 11713.306641, 11679.316406, 11964.823242, 11407.191406, 10230.365234, 10512.530273, 10167.216797, 10280.998047, 10369.306641, 10134.151367, 10242.330078, 10369.02832, 10409.861328, 10452.399414, 10328.734375, 10677.754883, 10797.761719, 10973.251953, 10951.820313, 10933.75293, 11095.870117, 10934.925781, 10459.624023, 10539.457031, 10227.479492, 10747.472656, 10702.237305, 10752.939453, 10771.641602, 10712.462891, 10845.411133, 10785.010742, 10624.390625, 10583.806641, 10567.919922, 10688.03418, 10799.77832, 10619.803711, 10677.625, 10677.625, 11059.142578, 11296.082031, 11296.082031, 11296.082031, 11429.047852, 11426.602539, 11502.828125, 11322.123047, 11355.982422, 11495.038086, 11745.974609, 11913.077148, 12801.635742, 12971.548828, 12931.574219, 13108.063477, 13031.201172, 13075.242188, 13654.214844, 13271.298828, 13437.874023, 13546.532227, 13780.995117, 13737.032227, 13550.451172, 13950.488281, 14133.733398, 15579.729492, 15565.880859, 14833.753906, 15479.595703, 15332.350586, 15290.90918, 15701.298828, 16276.44043, 16317.808594, 16068.139648, 15955.577148, 16685.691406, 17645.191406, 17803.861328, 17817.083984, 18621.316406, 18642.232422, 18370.017578, 18365.015625, 19104.410156, 18729.839844, 17153.914063, 17112.933594, 17719.634766, 18178.322266, 19633.769531, 18801.744141, 19205.925781, 19446.966797, 18698.384766, 19154.179688, 19343.128906, 19191.529297, 18320.884766, 18553.298828, 18263.929688, 18051.320313, 18806.765625, 19144.492188, 19246.919922, 19418.818359, 21308.351563, 22806.796875, 23132.865234, 23861.765625, 23474.455078, 22794.039063, 23781.974609, 23240.203125, 23733.570313, 24677.015625, 26439.373047, 26280.822266, 27081.810547, 27360.089844, 28841.574219, 28994.009766, 29376.455078, 32129.408203, 32810.949219, 31977.041016, 34013.613281, 36833.875, 39381.765625, 40788.640625, 40254.21875, 38346.53125, 35516.359375, 33915.121094, 37325.109375, 39156.707031, 36821.648438, 36163.648438, 35792.238281, 36642.234375, 36050.113281, 35549.398438, 30817.625, 32985.757813, 32064.376953, 32285.798828, 32358.613281, 32564.029297, 30441.041016, 34318.671875, 34295.933594, 34270.878906, 33114.578125, 33533.199219, 35510.820313, 37475.105469, 36931.546875, 38138.386719, 39250.191406, 38886.828125, 46184.992188, 46469.761719, 44898.710938, 47877.035156, 47491.203125, 47114.507813, 48696.535156, 47944.457031, 49207.277344, 52140.972656, 51675.980469, 55887.335938, 56068.566406, 57532.738281, 54204.929688, 48835.085938, 49709.082031, 47180.464844, 46344.773438, 46194.015625, 45159.503906, 49612.105469, 48415.816406, 50522.304688, 48527.03125, 48899.230469, 48918.679688, 51174.117188, 52272.96875, 54824.011719, 55963.179688, 57821.21875, 57343.371094, 61221.132813, 59267.429688, 55840.785156, 56825.828125, 58893.078125, 57850.441406, 58332.261719, 58309.914063, 57517.890625, 54511.660156, 54710.488281, 52726.746094, 51683.011719, 55137.566406, 55974.941406, 55947.898438, 57750.132813, 58930.277344, 58926.5625, 59098.878906, 59397.410156, 57604.839844, 58760.875, 59171.933594, 58186.507813, 56099.914063, 58326.5625, 58253.777344, 59846.230469, 60175.945313, 59890.019531, 63523.753906, 63075.195313, 63258.503906, 61529.921875, 60701.886719, 56191.585938, 55681.792969, 56471.128906, 53857.105469, 51739.808594, 51143.226563, 50052.832031, 49077.792969, 54030.304688, 55036.636719, 54858.089844, 53568.664063, 57714.664063, 57825.863281, 56620.273438, 57214.179688, 53252.164063, 57441.308594, 56413.953125, 57352.765625, 58877.390625, 58250.871094, 55847.242188, 56714.53125, 49735.433594, 49682.980469, 49855.496094, 46716.636719, 46415.898438, 43488.058594, 42944.976563, 36753.667969, 40596.949219, 37371.03125, 37531.449219, 34700.363281, 38795.78125, 38392.625, 39316.890625, 38507.082031, 35684.15625, 34607.40625, 35658.59375, 37293.792969, 36699.921875, 37599.410156, 39242.484375, 36880.15625, 35538.609375, 35835.265625, 33589.519531, 33416.976563, 37389.515625, 36697.03125, 37340.144531, 35555.789063, 39016.96875, 40526.78125, 40023.757813], \"type\": \"candlestick\", \"x\": [\"2020-06-16T00:00:00\", \"2020-06-17T00:00:00\", \"2020-06-18T00:00:00\", \"2020-06-19T00:00:00\", \"2020-06-20T00:00:00\", \"2020-06-21T00:00:00\", \"2020-06-22T00:00:00\", \"2020-06-23T00:00:00\", \"2020-06-24T00:00:00\", \"2020-06-25T00:00:00\", \"2020-06-26T00:00:00\", \"2020-06-27T00:00:00\", \"2020-06-28T00:00:00\", \"2020-06-29T00:00:00\", \"2020-06-30T00:00:00\", \"2020-07-01T00:00:00\", \"2020-07-02T00:00:00\", \"2020-07-03T00:00:00\", \"2020-07-04T00:00:00\", \"2020-07-05T00:00:00\", \"2020-07-06T00:00:00\", \"2020-07-07T00:00:00\", \"2020-07-08T00:00:00\", \"2020-07-09T00:00:00\", \"2020-07-10T00:00:00\", \"2020-07-11T00:00:00\", \"2020-07-12T00:00:00\", \"2020-07-13T00:00:00\", \"2020-07-14T00:00:00\", \"2020-07-15T00:00:00\", \"2020-07-16T00:00:00\", \"2020-07-17T00:00:00\", \"2020-07-18T00:00:00\", \"2020-07-19T00:00:00\", \"2020-07-20T00:00:00\", \"2020-07-21T00:00:00\", \"2020-07-22T00:00:00\", \"2020-07-23T00:00:00\", \"2020-07-24T00:00:00\", \"2020-07-25T00:00:00\", \"2020-07-26T00:00:00\", \"2020-07-27T00:00:00\", \"2020-07-28T00:00:00\", \"2020-07-29T00:00:00\", \"2020-07-30T00:00:00\", \"2020-07-31T00:00:00\", \"2020-08-01T00:00:00\", \"2020-08-02T00:00:00\", \"2020-08-03T00:00:00\", \"2020-08-04T00:00:00\", \"2020-08-05T00:00:00\", \"2020-08-06T00:00:00\", \"2020-08-07T00:00:00\", \"2020-08-08T00:00:00\", \"2020-08-09T00:00:00\", \"2020-08-10T00:00:00\", \"2020-08-11T00:00:00\", \"2020-08-12T00:00:00\", \"2020-08-13T00:00:00\", \"2020-08-14T00:00:00\", \"2020-08-15T00:00:00\", \"2020-08-16T00:00:00\", \"2020-08-17T00:00:00\", \"2020-08-18T00:00:00\", \"2020-08-19T00:00:00\", \"2020-08-20T00:00:00\", \"2020-08-21T00:00:00\", \"2020-08-22T00:00:00\", \"2020-08-23T00:00:00\", \"2020-08-24T00:00:00\", \"2020-08-25T00:00:00\", \"2020-08-26T00:00:00\", \"2020-08-27T00:00:00\", \"2020-08-28T00:00:00\", \"2020-08-29T00:00:00\", \"2020-08-30T00:00:00\", \"2020-08-31T00:00:00\", \"2020-09-01T00:00:00\", \"2020-09-02T00:00:00\", \"2020-09-03T00:00:00\", \"2020-09-04T00:00:00\", \"2020-09-05T00:00:00\", \"2020-09-06T00:00:00\", \"2020-09-07T00:00:00\", \"2020-09-08T00:00:00\", \"2020-09-09T00:00:00\", \"2020-09-10T00:00:00\", \"2020-09-11T00:00:00\", \"2020-09-12T00:00:00\", \"2020-09-13T00:00:00\", \"2020-09-14T00:00:00\", \"2020-09-15T00:00:00\", \"2020-09-16T00:00:00\", \"2020-09-17T00:00:00\", \"2020-09-18T00:00:00\", \"2020-09-19T00:00:00\", \"2020-09-20T00:00:00\", \"2020-09-21T00:00:00\", \"2020-09-22T00:00:00\", \"2020-09-23T00:00:00\", \"2020-09-24T00:00:00\", \"2020-09-25T00:00:00\", \"2020-09-26T00:00:00\", \"2020-09-27T00:00:00\", \"2020-09-28T00:00:00\", \"2020-09-29T00:00:00\", \"2020-09-30T00:00:00\", \"2020-10-01T00:00:00\", \"2020-10-02T00:00:00\", \"2020-10-03T00:00:00\", \"2020-10-04T00:00:00\", \"2020-10-05T00:00:00\", \"2020-10-06T00:00:00\", \"2020-10-07T00:00:00\", \"2020-10-08T00:00:00\", \"2020-10-09T00:00:00\", \"2020-10-10T00:00:00\", \"2020-10-11T00:00:00\", \"2020-10-12T00:00:00\", \"2020-10-13T00:00:00\", \"2020-10-14T00:00:00\", \"2020-10-15T00:00:00\", \"2020-10-16T00:00:00\", \"2020-10-17T00:00:00\", \"2020-10-18T00:00:00\", \"2020-10-19T00:00:00\", \"2020-10-20T00:00:00\", \"2020-10-21T00:00:00\", \"2020-10-22T00:00:00\", \"2020-10-23T00:00:00\", \"2020-10-24T00:00:00\", \"2020-10-25T00:00:00\", \"2020-10-26T00:00:00\", \"2020-10-27T00:00:00\", \"2020-10-28T00:00:00\", \"2020-10-29T00:00:00\", \"2020-10-30T00:00:00\", \"2020-10-31T00:00:00\", \"2020-11-01T00:00:00\", \"2020-11-02T00:00:00\", \"2020-11-03T00:00:00\", \"2020-11-04T00:00:00\", \"2020-11-05T00:00:00\", \"2020-11-06T00:00:00\", \"2020-11-07T00:00:00\", \"2020-11-08T00:00:00\", \"2020-11-09T00:00:00\", \"2020-11-10T00:00:00\", \"2020-11-11T00:00:00\", \"2020-11-12T00:00:00\", \"2020-11-13T00:00:00\", \"2020-11-14T00:00:00\", \"2020-11-15T00:00:00\", \"2020-11-16T00:00:00\", \"2020-11-17T00:00:00\", \"2020-11-18T00:00:00\", \"2020-11-19T00:00:00\", \"2020-11-20T00:00:00\", \"2020-11-21T00:00:00\", \"2020-11-22T00:00:00\", \"2020-11-23T00:00:00\", \"2020-11-24T00:00:00\", \"2020-11-25T00:00:00\", \"2020-11-26T00:00:00\", \"2020-11-27T00:00:00\", \"2020-11-28T00:00:00\", \"2020-11-29T00:00:00\", \"2020-11-30T00:00:00\", \"2020-12-01T00:00:00\", \"2020-12-02T00:00:00\", \"2020-12-03T00:00:00\", \"2020-12-04T00:00:00\", \"2020-12-05T00:00:00\", \"2020-12-06T00:00:00\", \"2020-12-07T00:00:00\", \"2020-12-08T00:00:00\", \"2020-12-09T00:00:00\", \"2020-12-10T00:00:00\", \"2020-12-11T00:00:00\", \"2020-12-12T00:00:00\", \"2020-12-13T00:00:00\", \"2020-12-14T00:00:00\", \"2020-12-15T00:00:00\", \"2020-12-16T00:00:00\", \"2020-12-17T00:00:00\", \"2020-12-18T00:00:00\", \"2020-12-19T00:00:00\", \"2020-12-20T00:00:00\", \"2020-12-21T00:00:00\", \"2020-12-22T00:00:00\", \"2020-12-23T00:00:00\", \"2020-12-24T00:00:00\", \"2020-12-25T00:00:00\", \"2020-12-26T00:00:00\", \"2020-12-27T00:00:00\", \"2020-12-28T00:00:00\", \"2020-12-29T00:00:00\", \"2020-12-30T00:00:00\", \"2020-12-31T00:00:00\", \"2021-01-01T00:00:00\", \"2021-01-02T00:00:00\", \"2021-01-03T00:00:00\", \"2021-01-04T00:00:00\", \"2021-01-05T00:00:00\", \"2021-01-06T00:00:00\", \"2021-01-07T00:00:00\", \"2021-01-08T00:00:00\", \"2021-01-09T00:00:00\", \"2021-01-10T00:00:00\", \"2021-01-11T00:00:00\", \"2021-01-12T00:00:00\", \"2021-01-13T00:00:00\", \"2021-01-14T00:00:00\", \"2021-01-15T00:00:00\", \"2021-01-16T00:00:00\", \"2021-01-17T00:00:00\", \"2021-01-18T00:00:00\", \"2021-01-19T00:00:00\", \"2021-01-20T00:00:00\", \"2021-01-21T00:00:00\", \"2021-01-22T00:00:00\", \"2021-01-23T00:00:00\", \"2021-01-24T00:00:00\", \"2021-01-25T00:00:00\", \"2021-01-26T00:00:00\", \"2021-01-27T00:00:00\", \"2021-01-28T00:00:00\", \"2021-01-29T00:00:00\", \"2021-01-30T00:00:00\", \"2021-01-31T00:00:00\", \"2021-02-01T00:00:00\", \"2021-02-02T00:00:00\", \"2021-02-03T00:00:00\", \"2021-02-04T00:00:00\", \"2021-02-05T00:00:00\", \"2021-02-06T00:00:00\", \"2021-02-07T00:00:00\", \"2021-02-08T00:00:00\", \"2021-02-09T00:00:00\", \"2021-02-10T00:00:00\", \"2021-02-11T00:00:00\", \"2021-02-12T00:00:00\", \"2021-02-13T00:00:00\", \"2021-02-14T00:00:00\", \"2021-02-15T00:00:00\", \"2021-02-16T00:00:00\", \"2021-02-17T00:00:00\", \"2021-02-18T00:00:00\", \"2021-02-19T00:00:00\", \"2021-02-20T00:00:00\", \"2021-02-21T00:00:00\", \"2021-02-22T00:00:00\", \"2021-02-23T00:00:00\", \"2021-02-24T00:00:00\", \"2021-02-25T00:00:00\", \"2021-02-26T00:00:00\", \"2021-02-27T00:00:00\", \"2021-02-28T00:00:00\", \"2021-03-01T00:00:00\", \"2021-03-02T00:00:00\", \"2021-03-03T00:00:00\", \"2021-03-04T00:00:00\", \"2021-03-05T00:00:00\", \"2021-03-06T00:00:00\", \"2021-03-07T00:00:00\", \"2021-03-08T00:00:00\", \"2021-03-09T00:00:00\", \"2021-03-10T00:00:00\", \"2021-03-11T00:00:00\", \"2021-03-12T00:00:00\", \"2021-03-13T00:00:00\", \"2021-03-14T00:00:00\", \"2021-03-15T00:00:00\", \"2021-03-16T00:00:00\", \"2021-03-17T00:00:00\", \"2021-03-18T00:00:00\", \"2021-03-19T00:00:00\", \"2021-03-20T00:00:00\", \"2021-03-21T00:00:00\", \"2021-03-22T00:00:00\", \"2021-03-23T00:00:00\", \"2021-03-24T00:00:00\", \"2021-03-25T00:00:00\", \"2021-03-26T00:00:00\", \"2021-03-27T00:00:00\", \"2021-03-28T00:00:00\", \"2021-03-29T00:00:00\", \"2021-03-30T00:00:00\", \"2021-03-31T00:00:00\", \"2021-04-01T00:00:00\", \"2021-04-02T00:00:00\", \"2021-04-03T00:00:00\", \"2021-04-04T00:00:00\", \"2021-04-05T00:00:00\", \"2021-04-06T00:00:00\", \"2021-04-07T00:00:00\", \"2021-04-08T00:00:00\", \"2021-04-09T00:00:00\", \"2021-04-10T00:00:00\", \"2021-04-11T00:00:00\", \"2021-04-12T00:00:00\", \"2021-04-13T00:00:00\", \"2021-04-14T00:00:00\", \"2021-04-15T00:00:00\", \"2021-04-16T00:00:00\", \"2021-04-17T00:00:00\", \"2021-04-18T00:00:00\", \"2021-04-19T00:00:00\", \"2021-04-20T00:00:00\", \"2021-04-21T00:00:00\", \"2021-04-22T00:00:00\", \"2021-04-23T00:00:00\", \"2021-04-24T00:00:00\", \"2021-04-25T00:00:00\", \"2021-04-26T00:00:00\", \"2021-04-27T00:00:00\", \"2021-04-28T00:00:00\", \"2021-04-29T00:00:00\", \"2021-04-30T00:00:00\", \"2021-05-01T00:00:00\", \"2021-05-02T00:00:00\", \"2021-05-03T00:00:00\", \"2021-05-04T00:00:00\", \"2021-05-05T00:00:00\", \"2021-05-06T00:00:00\", \"2021-05-07T00:00:00\", \"2021-05-08T00:00:00\", \"2021-05-09T00:00:00\", \"2021-05-10T00:00:00\", \"2021-05-11T00:00:00\", \"2021-05-12T00:00:00\", \"2021-05-13T00:00:00\", \"2021-05-14T00:00:00\", \"2021-05-15T00:00:00\", \"2021-05-16T00:00:00\", \"2021-05-17T00:00:00\", \"2021-05-18T00:00:00\", \"2021-05-19T00:00:00\", \"2021-05-20T00:00:00\", \"2021-05-21T00:00:00\", \"2021-05-22T00:00:00\", \"2021-05-23T00:00:00\", \"2021-05-24T00:00:00\", \"2021-05-25T00:00:00\", \"2021-05-26T00:00:00\", \"2021-05-27T00:00:00\", \"2021-05-28T00:00:00\", \"2021-05-29T00:00:00\", \"2021-05-30T00:00:00\", \"2021-05-31T00:00:00\", \"2021-06-01T00:00:00\", \"2021-06-02T00:00:00\", \"2021-06-03T00:00:00\", \"2021-06-04T00:00:00\", \"2021-06-05T00:00:00\", \"2021-06-06T00:00:00\", \"2021-06-07T00:00:00\", \"2021-06-08T00:00:00\", \"2021-06-09T00:00:00\", \"2021-06-10T00:00:00\", \"2021-06-11T00:00:00\", \"2021-06-12T00:00:00\", \"2021-06-13T00:00:00\", \"2021-06-14T00:00:00\", \"2021-06-15T00:00:00\", \"2021-06-16T00:00:00\"]}],                        {\"template\": {\"data\": {\"bar\": [{\"error_x\": {\"color\": \"#f2f5fa\"}, \"error_y\": {\"color\": \"#f2f5fa\"}, \"marker\": {\"line\": {\"color\": \"rgb(17,17,17)\", \"width\": 0.5}}, \"type\": \"bar\"}], \"barpolar\": [{\"marker\": {\"line\": {\"color\": \"rgb(17,17,17)\", \"width\": 0.5}}, \"type\": \"barpolar\"}], \"carpet\": [{\"aaxis\": {\"endlinecolor\": \"#A2B1C6\", \"gridcolor\": \"#506784\", \"linecolor\": \"#506784\", \"minorgridcolor\": \"#506784\", \"startlinecolor\": \"#A2B1C6\"}, \"baxis\": {\"endlinecolor\": \"#A2B1C6\", \"gridcolor\": \"#506784\", \"linecolor\": \"#506784\", \"minorgridcolor\": \"#506784\", \"startlinecolor\": \"#A2B1C6\"}, \"type\": \"carpet\"}], \"choropleth\": [{\"colorbar\": {\"outlinewidth\": 0, \"ticks\": \"\"}, \"type\": \"choropleth\"}], \"contour\": [{\"colorbar\": {\"outlinewidth\": 0, \"ticks\": \"\"}, \"colorscale\": [[0.0, \"#0d0887\"], [0.1111111111111111, \"#46039f\"], [0.2222222222222222, \"#7201a8\"], [0.3333333333333333, \"#9c179e\"], [0.4444444444444444, \"#bd3786\"], [0.5555555555555556, \"#d8576b\"], [0.6666666666666666, \"#ed7953\"], [0.7777777777777778, \"#fb9f3a\"], [0.8888888888888888, \"#fdca26\"], [1.0, \"#f0f921\"]], \"type\": \"contour\"}], \"contourcarpet\": [{\"colorbar\": {\"outlinewidth\": 0, \"ticks\": \"\"}, \"type\": \"contourcarpet\"}], \"heatmap\": [{\"colorbar\": {\"outlinewidth\": 0, \"ticks\": \"\"}, \"colorscale\": [[0.0, \"#0d0887\"], [0.1111111111111111, \"#46039f\"], [0.2222222222222222, \"#7201a8\"], [0.3333333333333333, \"#9c179e\"], [0.4444444444444444, \"#bd3786\"], [0.5555555555555556, \"#d8576b\"], [0.6666666666666666, \"#ed7953\"], [0.7777777777777778, \"#fb9f3a\"], [0.8888888888888888, \"#fdca26\"], [1.0, \"#f0f921\"]], \"type\": \"heatmap\"}], \"heatmapgl\": [{\"colorbar\": {\"outlinewidth\": 0, \"ticks\": \"\"}, \"colorscale\": [[0.0, \"#0d0887\"], [0.1111111111111111, \"#46039f\"], [0.2222222222222222, \"#7201a8\"], [0.3333333333333333, \"#9c179e\"], [0.4444444444444444, \"#bd3786\"], [0.5555555555555556, \"#d8576b\"], [0.6666666666666666, \"#ed7953\"], [0.7777777777777778, \"#fb9f3a\"], [0.8888888888888888, \"#fdca26\"], [1.0, \"#f0f921\"]], \"type\": \"heatmapgl\"}], \"histogram\": [{\"marker\": {\"colorbar\": {\"outlinewidth\": 0, \"ticks\": \"\"}}, \"type\": \"histogram\"}], \"histogram2d\": [{\"colorbar\": {\"outlinewidth\": 0, \"ticks\": \"\"}, \"colorscale\": [[0.0, \"#0d0887\"], [0.1111111111111111, \"#46039f\"], [0.2222222222222222, \"#7201a8\"], [0.3333333333333333, \"#9c179e\"], [0.4444444444444444, \"#bd3786\"], [0.5555555555555556, \"#d8576b\"], [0.6666666666666666, \"#ed7953\"], [0.7777777777777778, \"#fb9f3a\"], [0.8888888888888888, \"#fdca26\"], [1.0, \"#f0f921\"]], \"type\": \"histogram2d\"}], \"histogram2dcontour\": [{\"colorbar\": {\"outlinewidth\": 0, \"ticks\": \"\"}, \"colorscale\": [[0.0, \"#0d0887\"], [0.1111111111111111, \"#46039f\"], [0.2222222222222222, \"#7201a8\"], [0.3333333333333333, \"#9c179e\"], [0.4444444444444444, \"#bd3786\"], [0.5555555555555556, \"#d8576b\"], [0.6666666666666666, \"#ed7953\"], [0.7777777777777778, \"#fb9f3a\"], [0.8888888888888888, \"#fdca26\"], [1.0, \"#f0f921\"]], \"type\": \"histogram2dcontour\"}], \"mesh3d\": [{\"colorbar\": {\"outlinewidth\": 0, \"ticks\": \"\"}, \"type\": \"mesh3d\"}], \"parcoords\": [{\"line\": {\"colorbar\": {\"outlinewidth\": 0, \"ticks\": \"\"}}, \"type\": \"parcoords\"}], \"pie\": [{\"automargin\": true, \"type\": \"pie\"}], \"scatter\": [{\"marker\": {\"line\": {\"color\": \"#283442\"}}, \"type\": \"scatter\"}], \"scatter3d\": [{\"line\": {\"colorbar\": {\"outlinewidth\": 0, \"ticks\": \"\"}}, \"marker\": {\"colorbar\": {\"outlinewidth\": 0, \"ticks\": \"\"}}, \"type\": \"scatter3d\"}], \"scattercarpet\": [{\"marker\": {\"colorbar\": {\"outlinewidth\": 0, \"ticks\": \"\"}}, \"type\": \"scattercarpet\"}], \"scattergeo\": [{\"marker\": {\"colorbar\": {\"outlinewidth\": 0, \"ticks\": \"\"}}, \"type\": \"scattergeo\"}], \"scattergl\": [{\"marker\": {\"line\": {\"color\": \"#283442\"}}, \"type\": \"scattergl\"}], \"scattermapbox\": [{\"marker\": {\"colorbar\": {\"outlinewidth\": 0, \"ticks\": \"\"}}, \"type\": \"scattermapbox\"}], \"scatterpolar\": [{\"marker\": {\"colorbar\": {\"outlinewidth\": 0, \"ticks\": \"\"}}, \"type\": \"scatterpolar\"}], \"scatterpolargl\": [{\"marker\": {\"colorbar\": {\"outlinewidth\": 0, \"ticks\": \"\"}}, \"type\": \"scatterpolargl\"}], \"scatterternary\": [{\"marker\": {\"colorbar\": {\"outlinewidth\": 0, \"ticks\": \"\"}}, \"type\": \"scatterternary\"}], \"surface\": [{\"colorbar\": {\"outlinewidth\": 0, \"ticks\": \"\"}, \"colorscale\": [[0.0, \"#0d0887\"], [0.1111111111111111, \"#46039f\"], [0.2222222222222222, \"#7201a8\"], [0.3333333333333333, \"#9c179e\"], [0.4444444444444444, \"#bd3786\"], [0.5555555555555556, \"#d8576b\"], [0.6666666666666666, \"#ed7953\"], [0.7777777777777778, \"#fb9f3a\"], [0.8888888888888888, \"#fdca26\"], [1.0, \"#f0f921\"]], \"type\": \"surface\"}], \"table\": [{\"cells\": {\"fill\": {\"color\": \"#506784\"}, \"line\": {\"color\": \"rgb(17,17,17)\"}}, \"header\": {\"fill\": {\"color\": \"#2a3f5f\"}, \"line\": {\"color\": \"rgb(17,17,17)\"}}, \"type\": \"table\"}]}, \"layout\": {\"annotationdefaults\": {\"arrowcolor\": \"#f2f5fa\", \"arrowhead\": 0, \"arrowwidth\": 1}, \"autotypenumbers\": \"strict\", \"coloraxis\": {\"colorbar\": {\"outlinewidth\": 0, \"ticks\": \"\"}}, \"colorscale\": {\"diverging\": [[0, \"#8e0152\"], [0.1, \"#c51b7d\"], [0.2, \"#de77ae\"], [0.3, \"#f1b6da\"], [0.4, \"#fde0ef\"], [0.5, \"#f7f7f7\"], [0.6, \"#e6f5d0\"], [0.7, \"#b8e186\"], [0.8, \"#7fbc41\"], [0.9, \"#4d9221\"], [1, \"#276419\"]], \"sequential\": [[0.0, \"#0d0887\"], [0.1111111111111111, \"#46039f\"], [0.2222222222222222, \"#7201a8\"], [0.3333333333333333, \"#9c179e\"], [0.4444444444444444, \"#bd3786\"], [0.5555555555555556, \"#d8576b\"], [0.6666666666666666, \"#ed7953\"], [0.7777777777777778, \"#fb9f3a\"], [0.8888888888888888, \"#fdca26\"], [1.0, \"#f0f921\"]], \"sequentialminus\": [[0.0, \"#0d0887\"], [0.1111111111111111, \"#46039f\"], [0.2222222222222222, \"#7201a8\"], [0.3333333333333333, \"#9c179e\"], [0.4444444444444444, \"#bd3786\"], [0.5555555555555556, \"#d8576b\"], [0.6666666666666666, \"#ed7953\"], [0.7777777777777778, \"#fb9f3a\"], [0.8888888888888888, \"#fdca26\"], [1.0, \"#f0f921\"]]}, \"colorway\": [\"#636efa\", \"#EF553B\", \"#00cc96\", \"#ab63fa\", \"#FFA15A\", \"#19d3f3\", \"#FF6692\", \"#B6E880\", \"#FF97FF\", \"#FECB52\"], \"font\": {\"color\": \"#f2f5fa\"}, \"geo\": {\"bgcolor\": \"rgb(17,17,17)\", \"lakecolor\": \"rgb(17,17,17)\", \"landcolor\": \"rgb(17,17,17)\", \"showlakes\": true, \"showland\": true, \"subunitcolor\": \"#506784\"}, \"hoverlabel\": {\"align\": \"left\"}, \"hovermode\": \"closest\", \"mapbox\": {\"style\": \"dark\"}, \"paper_bgcolor\": \"rgb(17,17,17)\", \"plot_bgcolor\": \"rgb(17,17,17)\", \"polar\": {\"angularaxis\": {\"gridcolor\": \"#506784\", \"linecolor\": \"#506784\", \"ticks\": \"\"}, \"bgcolor\": \"rgb(17,17,17)\", \"radialaxis\": {\"gridcolor\": \"#506784\", \"linecolor\": \"#506784\", \"ticks\": \"\"}}, \"scene\": {\"xaxis\": {\"backgroundcolor\": \"rgb(17,17,17)\", \"gridcolor\": \"#506784\", \"gridwidth\": 2, \"linecolor\": \"#506784\", \"showbackground\": true, \"ticks\": \"\", \"zerolinecolor\": \"#C8D4E3\"}, \"yaxis\": {\"backgroundcolor\": \"rgb(17,17,17)\", \"gridcolor\": \"#506784\", \"gridwidth\": 2, \"linecolor\": \"#506784\", \"showbackground\": true, \"ticks\": \"\", \"zerolinecolor\": \"#C8D4E3\"}, \"zaxis\": {\"backgroundcolor\": \"rgb(17,17,17)\", \"gridcolor\": \"#506784\", \"gridwidth\": 2, \"linecolor\": \"#506784\", \"showbackground\": true, \"ticks\": \"\", \"zerolinecolor\": \"#C8D4E3\"}}, \"shapedefaults\": {\"line\": {\"color\": \"#f2f5fa\"}}, \"sliderdefaults\": {\"bgcolor\": \"#C8D4E3\", \"bordercolor\": \"rgb(17,17,17)\", \"borderwidth\": 1, \"tickwidth\": 0}, \"ternary\": {\"aaxis\": {\"gridcolor\": \"#506784\", \"linecolor\": \"#506784\", \"ticks\": \"\"}, \"baxis\": {\"gridcolor\": \"#506784\", \"linecolor\": \"#506784\", \"ticks\": \"\"}, \"bgcolor\": \"rgb(17,17,17)\", \"caxis\": {\"gridcolor\": \"#506784\", \"linecolor\": \"#506784\", \"ticks\": \"\"}}, \"title\": {\"x\": 0.05}, \"updatemenudefaults\": {\"bgcolor\": \"#506784\", \"borderwidth\": 0}, \"xaxis\": {\"automargin\": true, \"gridcolor\": \"#283442\", \"linecolor\": \"#506784\", \"ticks\": \"\", \"title\": {\"standoff\": 15}, \"zerolinecolor\": \"#283442\", \"zerolinewidth\": 2}, \"yaxis\": {\"automargin\": true, \"gridcolor\": \"#283442\", \"linecolor\": \"#506784\", \"ticks\": \"\", \"title\": {\"standoff\": 15}, \"zerolinecolor\": \"#283442\", \"zerolinewidth\": 2}}}, \"title\": {\"font\": {\"size\": 25}, \"text\": \"Bitcoin Daily data\"}},                        {\"responsive\": true}                    ).then(function(){\n",
       "                            \n",
       "var gd = document.getElementById('ca18b574-3335-4055-b883-acc72fbed6e4');\n",
       "var x = new MutationObserver(function (mutations, observer) {{\n",
       "        var display = window.getComputedStyle(gd).display;\n",
       "        if (!display || display === 'none') {{\n",
       "            console.log([gd, 'removed!']);\n",
       "            Plotly.purge(gd);\n",
       "            observer.disconnect();\n",
       "        }}\n",
       "}});\n",
       "\n",
       "// Listen for the removal of the full notebook cells\n",
       "var notebookContainer = gd.closest('#notebook-container');\n",
       "if (notebookContainer) {{\n",
       "    x.observe(notebookContainer, {childList: true});\n",
       "}}\n",
       "\n",
       "// Listen for the clearing of the current output cell\n",
       "var outputEl = gd.closest('.output');\n",
       "if (outputEl) {{\n",
       "    x.observe(outputEl, {childList: true});\n",
       "}}\n",
       "\n",
       "                        })                };                });            </script>        </div>"
      ]
     },
     "metadata": {},
     "output_type": "display_data"
    }
   ],
   "source": [
    "fig = go.Figure(data=[go.Candlestick(x=daily.index,\n",
    "                open=daily['Open'],\n",
    "                high=daily['High'],\n",
    "                low=daily['Low'],\n",
    "                close=daily['Close'])], \n",
    "                layout = go.Layout({\n",
    "                    'title':{\n",
    "                    'text':'Bitcoin Daily data',\n",
    "                    'font':{\n",
    "                        'size':25\n",
    "                            }\n",
    "                        }\n",
    "                    })\n",
    "               )\n",
    "\n",
    "\n",
    "fig.update_layout({\"template\":\"plotly_dark\"})\n",
    "fig.show()"
   ]
  },
  {
   "cell_type": "markdown",
   "id": "desirable-kansas",
   "metadata": {
    "papermill": {
     "duration": 0.021649,
     "end_time": "2021-06-18T11:02:40.372042",
     "exception": false,
     "start_time": "2021-06-18T11:02:40.350393",
     "status": "completed"
    },
    "tags": []
   },
   "source": [
    "#### 3.2 Moving Averages <a id=10></a>"
   ]
  },
  {
   "cell_type": "markdown",
   "id": "incorrect-kenya",
   "metadata": {
    "papermill": {
     "duration": 0.023062,
     "end_time": "2021-06-18T11:02:40.417272",
     "exception": false,
     "start_time": "2021-06-18T11:02:40.394210",
     "status": "completed"
    },
    "tags": []
   },
   "source": [
    "$$\n",
    "MA = 1/n * \\sum_{n=x_i}^{x_n} Prices\n",
    "$$\n",
    "\n",
    "Moving average cuts down the noise in the price chart. The *direction* of the `MA` might give an idea of the trend of the chart. A subtle observation can be made from the plot that is whenever the candlestick cuts the `MA` threshold level to rise above it, the price is likely to go high for some duration of time before which there's a change in direction of price to due to other factors. In the same way, when the candlestick cuts the `MA` threshold level to rise below it, the price is likely to fall for some duration. At the rising cut-point, a trader can enter the market and at the falling cut-point, a trader might sell. This is also called as a crossover."
   ]
  },
  {
   "cell_type": "code",
   "execution_count": 13,
   "id": "occupational-portrait",
   "metadata": {
    "_kg_hide-input": true,
    "execution": {
     "iopub.execute_input": "2021-06-18T11:02:40.466082Z",
     "iopub.status.busy": "2021-06-18T11:02:40.465142Z",
     "iopub.status.idle": "2021-06-18T11:02:40.540238Z",
     "shell.execute_reply": "2021-06-18T11:02:40.540711Z",
     "shell.execute_reply.started": "2021-06-18T10:33:11.100887Z"
    },
    "papermill": {
     "duration": 0.101311,
     "end_time": "2021-06-18T11:02:40.540897",
     "exception": false,
     "start_time": "2021-06-18T11:02:40.439586",
     "status": "completed"
    },
    "tags": []
   },
   "outputs": [
    {
     "data": {
      "text/html": [
       "<div>                            <div id=\"c752a573-2d66-43b9-80f0-8b0eb6ba5bcb\" class=\"plotly-graph-div\" style=\"height:525px; width:100%;\"></div>            <script type=\"text/javascript\">                require([\"plotly\"], function(Plotly) {                    window.PLOTLYENV=window.PLOTLYENV || {};                                    if (document.getElementById(\"c752a573-2d66-43b9-80f0-8b0eb6ba5bcb\")) {                    Plotly.newPlot(                        \"c752a573-2d66-43b9-80f0-8b0eb6ba5bcb\",                        [{\"close\": [9538.024414, 9480.254883, 9411.84082, 9288.018555, 9332.34082, 9303.629883, 9648.717773, 9629.658203, 9313.610352, 9264.813477, 9162.917969, 9045.390625, 9143.582031, 9190.854492, 9137.993164, 9228.325195, 9123.410156, 9087.303711, 9132.488281, 9073.942383, 9375.474609, 9252.277344, 9428.333008, 9277.967773, 9278.807617, 9240.34668, 9276.5, 9243.614258, 9243.213867, 9192.836914, 9132.227539, 9151.392578, 9159.040039, 9185.817383, 9164.231445, 9374.887695, 9525.363281, 9581.072266, 9536.892578, 9677.113281, 9905.166992, 10990.873047, 10912.823242, 11100.467773, 11111.213867, 11323.466797, 11759.592773, 11053.614258, 11246.348633, 11205.892578, 11747.022461, 11779.773438, 11601.472656, 11754.045898, 11675.739258, 11878.111328, 11410.525391, 11584.93457, 11784.137695, 11768.871094, 11865.698242, 11892.803711, 12254.402344, 11991.233398, 11758.283203, 11878.37207, 11592.489258, 11681.825195, 11664.847656, 11774.595703, 11366.134766, 11488.363281, 11323.397461, 11542.5, 11506.865234, 11711.505859, 11680.820313, 11970.478516, 11414.03418, 10245.296875, 10511.813477, 10169.567383, 10280.351563, 10369.563477, 10131.516602, 10242.347656, 10363.138672, 10400.915039, 10442.170898, 10323.755859, 10680.837891, 10796.951172, 10974.905273, 10948.990234, 10944.585938, 11094.34668, 10938.271484, 10462.259766, 10538.459961, 10225.864258, 10745.548828, 10702.290039, 10754.4375, 10774.426758, 10721.327148, 10848.830078, 10787.618164, 10623.330078, 10585.164063, 10565.493164, 10684.428711, 10804.000977, 10621.664063, 10679.136719, 10923.62793, 10923.62793, 11296.361328, 11384.181641, 11384.181641, 11384.181641, 11429.506836, 11495.349609, 11322.123047, 11358.101563, 11483.359375, 11742.037109, 11916.334961, 12823.689453, 12965.891602, 12931.539063, 13108.0625, 13031.173828, 13075.248047, 13654.21875, 13271.285156, 13437.882813, 13546.522461, 13780.995117, 13737.109375, 13550.489258, 13950.300781, 14133.707031, 15579.848633, 15565.880859, 14833.753906, 15479.567383, 15332.31543, 15290.902344, 15701.339844, 16276.34375, 16317.808594, 16068.138672, 15955.587891, 16716.111328, 17645.40625, 17804.005859, 17817.089844, 18621.314453, 18642.232422, 18370.001953, 18364.121094, 19107.464844, 18732.121094, 17150.623047, 17108.402344, 17717.414063, 18177.484375, 19625.835938, 18802.998047, 19201.091797, 19445.398438, 18699.765625, 19154.230469, 19345.121094, 19191.630859, 18321.144531, 18553.916016, 18264.992188, 18058.904297, 18803.65625, 19142.382813, 19246.644531, 19417.076172, 21310.597656, 22805.162109, 23137.960938, 23869.832031, 23477.294922, 22803.082031, 23783.029297, 23241.345703, 23735.949219, 24664.791016, 26437.037109, 26272.294922, 27084.808594, 27362.4375, 28840.953125, 29001.720703, 29374.152344, 32127.267578, 32782.023438, 31971.914063, 33992.429688, 36824.363281, 39371.042969, 40797.609375, 40254.546875, 38356.441406, 35566.65625, 33922.960938, 37316.359375, 39187.328125, 36825.367188, 36178.140625, 35791.277344, 36630.074219, 36069.804688, 35547.75, 30825.699219, 33005.761719, 32067.642578, 32289.378906, 32366.392578, 32569.849609, 30432.546875, 31649.605469, 34316.386719, 34269.523438, 33114.359375, 33537.175781, 35510.289063, 37472.089844, 36926.066406, 38144.308594, 39266.011719, 38903.441406, 46196.464844, 46481.105469, 44918.183594, 47909.332031, 47504.851563, 47105.515625, 48717.289063, 47945.058594, 49199.871094, 52149.007813, 51679.796875, 55888.132813, 56099.519531, 57539.945313, 54207.320313, 48824.425781, 49705.332031, 47093.851563, 46339.761719, 46188.453125, 45137.769531, 49631.242188, 48378.988281, 50538.242188, 48561.167969, 48927.304688, 48912.382813, 51206.691406, 52246.523438, 54824.117188, 56008.550781, 57805.121094, 57332.089844, 61243.085938, 59302.316406, 55907.199219, 56804.902344, 58870.894531, 57858.921875, 58346.652344, 58313.644531, 57523.421875, 54529.144531, 54738.945313, 52774.265625, 51704.160156, 55137.3125, 55973.511719, 55950.746094, 57750.199219, 58917.691406, 58918.832031, 59095.808594, 59384.3125, 57603.890625, 58758.554688, 59057.878906, 58192.359375, 56048.9375, 58323.953125, 58245.003906, 59793.234375, 60204.964844, 59893.453125, 63503.457031, 63109.695313, 63314.011719, 61572.789063, 60683.820313, 56216.183594, 55724.265625, 56473.03125, 53906.089844, 51762.273438, 51093.652344, 50050.867188, 49004.253906, 54021.753906, 55033.117188, 54824.703125, 53555.109375, 57750.175781, 57828.050781, 56631.078125, 57200.292969, 53333.539063, 57424.007813, 56396.515625, 57356.402344, 58803.777344, 58232.316406, 55859.796875, 56704.574219, 49150.535156, 49716.191406, 49880.535156, 46760.1875, 46456.058594, 43537.511719, 42909.402344, 37002.441406, 40782.738281, 37304.691406, 37536.632813, 34770.582031, 38705.980469, 38402.222656, 39294.199219, 38436.96875, 35697.605469, 34616.066406, 35678.128906, 37332.855469, 36684.925781, 37575.179688, 39208.765625, 36894.40625, 35551.957031, 35862.378906, 33560.707031, 33472.632813, 37345.121094, 36702.597656, 37334.398438, 35552.515625, 39097.859375, 40536.070313, 40155.296875, 38692.386719], \"high\": [9579.430664, 9540.422852, 9482.782227, 9440.875977, 9394.97168, 9401.107422, 9655.073242, 9670.541016, 9680.367188, 9340.161133, 9310.516602, 9207.810547, 9197.546875, 9237.573242, 9217.835938, 9309.754883, 9274.962891, 9202.344727, 9183.295898, 9162.183594, 9375.474609, 9360.617188, 9450.335938, 9431.378906, 9287.47168, 9293.532227, 9319.418945, 9306.405273, 9283.841797, 9275.325195, 9214.3125, 9182.253906, 9230.983398, 9201.398438, 9214.270508, 9407.262695, 9530.518555, 9610.24707, 9623.336914, 9704.556641, 10023.807617, 11298.22168, 11204.327148, 11304.397461, 11169.356445, 11415.864258, 11794.775391, 12034.144531, 11453.079102, 11385.381836, 11786.617188, 11902.335938, 11898.038086, 11800.064453, 11806.056641, 12045.140625, 11932.710938, 11748.396484, 11796.396484, 12150.994141, 11963.203125, 11934.901367, 12359.056641, 12335.707031, 12028.923828, 11900.411133, 11899.259766, 11689.407227, 11713.429688, 11807.631836, 11778.299805, 11530.052734, 11570.786133, 11545.615234, 11585.640625, 11715.264648, 11768.876953, 12067.081055, 11964.823242, 11443.022461, 10663.919922, 10581.571289, 10353.927734, 10399.15332, 10414.775391, 10350.542969, 10503.912109, 10434.922852, 10578.837891, 10577.214844, 10800.010742, 10938.631836, 11100.124023, 11037.420898, 11034.908203, 11134.092773, 11095.870117, 10988.304688, 10568.077148, 10637.847656, 10765.794922, 10757.548828, 10778.5, 10804.732422, 10949.123047, 10858.939453, 10856.52832, 10915.84375, 10662.813477, 10614.091797, 10700.791016, 10804.000977, 10803.456055, 10687.268555, 10939.799805, 10939.799805, 11442.210938, 11428.813477, 11428.813477, 11428.813477, 11539.977539, 11569.914063, 11540.061523, 11386.261719, 11483.359375, 11799.092773, 11999.917969, 13184.566406, 13161.59375, 13015.961914, 13145.066406, 13329.183594, 13225.297852, 13759.668945, 13837.695313, 13612.047852, 13651.516602, 14028.213867, 13862.033203, 13808.323242, 13984.981445, 14218.766602, 15706.404297, 15903.4375, 15737.095703, 15637.320313, 15785.136719, 15450.329102, 15916.260742, 16305.003906, 16463.177734, 16317.808594, 16123.110352, 16816.181641, 17782.919922, 18393.949219, 18119.546875, 18773.226563, 18936.621094, 18688.96875, 18711.425781, 19348.271484, 19390.964844, 18866.285156, 17445.023438, 17853.939453, 18283.628906, 19749.263672, 19845.974609, 19308.330078, 19566.191406, 19511.404297, 19160.449219, 19390.5, 19411.828125, 19283.478516, 18626.292969, 18553.298828, 18268.453125, 18919.550781, 19381.535156, 19305.099609, 19525.007813, 21458.908203, 23642.660156, 23238.601563, 24085.855469, 24209.660156, 24059.982422, 23789.902344, 24024.490234, 23768.337891, 24710.101563, 26718.070313, 28288.839844, 27389.111328, 27370.720703, 28937.740234, 29244.876953, 29600.626953, 33155.117188, 34608.558594, 33440.21875, 34437.589844, 36879.699219, 40180.367188, 41946.738281, 41436.351563, 41420.191406, 38346.53125, 36568.527344, 37599.960938, 39966.40625, 39577.710938, 37864.367188, 36722.351563, 37299.285156, 37755.890625, 36378.328125, 35552.679688, 33811.851563, 33360.976563, 32944.007813, 34802.742188, 32794.550781, 32564.029297, 31891.300781, 38406.261719, 34834.707031, 34288.332031, 34638.214844, 35896.882813, 37480.1875, 38592.175781, 38225.90625, 40846.546875, 39621.835938, 46203.929688, 48003.722656, 47145.566406, 48463.46875, 48745.734375, 48047.746094, 49487.640625, 48875.570313, 50341.101563, 52533.914063, 52474.105469, 56113.652344, 57505.226563, 58330.570313, 57533.390625, 54204.929688, 51290.136719, 51948.96875, 48370.785156, 48253.269531, 46716.429688, 49784.015625, 50127.511719, 52535.136719, 51735.089844, 49396.429688, 49147.21875, 51384.367188, 52314.070313, 54824.117188, 57258.253906, 58091.0625, 57996.621094, 61683.863281, 61597.917969, 60540.992188, 56833.179688, 58969.816406, 60116.25, 59498.375, 60031.285156, 58767.898438, 58471.480469, 55985.441406, 57262.382813, 53392.386719, 55137.3125, 56568.214844, 56610.3125, 58342.097656, 59447.222656, 59930.027344, 59586.070313, 60267.1875, 60110.269531, 58913.746094, 59891.296875, 59479.578125, 58731.144531, 58338.738281, 58937.046875, 61276.664063, 60790.554688, 61253.035156, 63742.285156, 64863.097656, 63821.671875, 63594.722656, 62572.175781, 61057.457031, 57520.054688, 57062.148438, 56757.972656, 55410.230469, 52120.792969, 51167.5625, 50506.019531, 54288.003906, 55416.964844, 56227.207031, 55115.84375, 57900.71875, 58448.339844, 57902.59375, 58973.308594, 57214.179688, 57911.363281, 58363.316406, 58606.632813, 59464.613281, 59210.882813, 59519.355469, 56872.542969, 57939.363281, 51330.84375, 51438.117188, 50639.664063, 49720.042969, 46623.558594, 45812.457031, 43546.117188, 42462.984375, 42172.171875, 38831.054688, 38289.21875, 39835.140625, 39776.351563, 40782.078125, 40379.617188, 38856.96875, 37234.5, 36400.667969, 37468.25, 37896.734375, 38231.339844, 39478.953125, 39242.484375, 37917.714844, 36436.421875, 36790.570313, 34017.386719, 37537.371094, 38334.324219, 37608.695313, 37408.925781, 39322.78125, 40978.363281, 41295.269531, 40472.21875], \"low\": [9400.445313, 9327.339844, 9328.395508, 9274.295898, 9247.379883, 9300.430664, 9296.87207, 9547.24707, 9278.233398, 9095.324219, 9101.738281, 8998.216797, 8975.525391, 9041.875977, 9084.837891, 9104.735352, 9036.623047, 9058.794922, 9053.629883, 8977.015625, 9058.664063, 9201.81543, 9249.5, 9234.999023, 9118.001953, 9199.485352, 9197.450195, 9224.292969, 9171.661133, 9171.933594, 9088.947266, 9089.202148, 9100.824219, 9097.632813, 9137.509766, 9149.389648, 9319.65332, 9483.003906, 9481.454102, 9530.211914, 9652.847656, 9903.969727, 10632.631836, 10856.141602, 10895.455078, 10987.053711, 11239.682617, 11018.129883, 11012.415039, 11094.145508, 11158.285156, 11598.713867, 11408.59375, 11558.431641, 11548.78418, 11662.256836, 11195.708984, 11249.605469, 11216.87207, 11685.455078, 11768.697266, 11737.188477, 11806.696289, 11954.525391, 11687.333008, 11710.063477, 11564.979492, 11448.805664, 11559.920898, 11623.25, 11189.850586, 11296.993164, 11185.941406, 11316.422852, 11466.292969, 11492.381836, 11598.318359, 11601.128906, 11290.793945, 10182.464844, 10207.94043, 9946.675781, 10056.885742, 9916.493164, 9945.110352, 10017.250977, 10238.135742, 10140.836914, 10292.386719, 10224.330078, 10266.008789, 10656.459961, 10704.884766, 10774.62793, 10829.657227, 10909.618164, 10814.477539, 10380.260742, 10382.726563, 10185.774414, 10215.205078, 10594.047852, 10682.082031, 10643.458008, 10716.676758, 10665.344727, 10689.670898, 10493.552734, 10440.311523, 10527.978516, 10531.342773, 10646.443359, 10565.197266, 10591.963867, 10569.823242, 10569.823242, 11056.94043, 11288.62793, 11288.62793, 11288.62793, 11307.831055, 11303.603516, 11223.012695, 11285.345703, 11347.578125, 11408.290039, 11681.480469, 11900.928711, 12717.09375, 12752.647461, 12885.74707, 12910.061523, 12822.382813, 13060.837891, 12932.250977, 12980.05957, 13136.198242, 13457.530273, 13628.37793, 13243.160156, 13325.441406, 13580.47168, 14102.088867, 15226.839844, 14423.203125, 14744.110352, 14865.529297, 15124.959961, 15290.006836, 15534.771484, 15992.152344, 15749.193359, 15793.53418, 15880.706055, 16564.544922, 17352.90625, 17382.554688, 17765.794922, 18444.359375, 17671.384766, 18000.796875, 18128.65625, 18581.146484, 16351.035156, 16526.423828, 16910.652344, 17559.117188, 18178.322266, 18321.921875, 18347.71875, 18925.785156, 18697.193359, 18590.193359, 18897.894531, 18931.142578, 18269.945313, 17935.546875, 17957.064453, 17619.533203, 18046.041016, 18734.332031, 19012.708984, 19079.841797, 19298.316406, 21234.675781, 22399.8125, 22826.472656, 23147.710938, 22159.367188, 22430.605469, 22802.646484, 22777.597656, 23463.673828, 24522.689453, 25922.769531, 26207.640625, 25987.298828, 27360.089844, 28201.992188, 28803.585938, 29091.181641, 32052.316406, 28722.755859, 30221.1875, 33514.035156, 36491.191406, 36838.636719, 38980.875, 35984.628906, 30549.599609, 32697.976563, 32584.667969, 36868.5625, 34659.589844, 35633.554688, 34069.320313, 34883.84375, 36069.804688, 33570.476563, 30250.75, 28953.373047, 31493.160156, 31106.685547, 32087.787109, 31030.265625, 29367.138672, 30023.207031, 32064.814453, 32940.1875, 32270.175781, 32384.228516, 33489.21875, 35443.984375, 36317.5, 36658.761719, 38138.386719, 37446.152344, 38076.324219, 45166.960938, 43881.152344, 44187.761719, 46424.976563, 46392.28125, 47114.507813, 46347.476563, 47201.304688, 49072.378906, 51015.765625, 50937.277344, 54626.558594, 55672.609375, 48967.566406, 45290.589844, 47213.5, 47093.851563, 44454.84375, 45269.027344, 43241.617188, 45115.09375, 47228.84375, 48274.320313, 47656.929688, 46542.515625, 47257.527344, 48918.679688, 49506.054688, 51981.832031, 53290.890625, 54484.59375, 55376.648438, 56217.972656, 59302.316406, 55393.164063, 53555.027344, 54528.628906, 54253.578125, 56643.703125, 58213.296875, 56005.617188, 54288.15625, 53470.695313, 52514.332031, 50856.570313, 51579.855469, 54242.910156, 55071.113281, 55139.339844, 57251.550781, 57726.417969, 58505.277344, 58869.28125, 57603.890625, 57168.675781, 57694.824219, 57646.808594, 55604.023438, 55879.085938, 57807.863281, 58038.707031, 59289.796875, 59589.875, 59869.957031, 61554.796875, 62208.964844, 60222.53125, 60361.351563, 52829.535156, 54368.59375, 53448.046875, 53695.46875, 50583.8125, 47714.664063, 48805.285156, 47159.484375, 48852.796875, 53319.1875, 53887.917969, 52418.027344, 53129.601563, 57052.273438, 56141.90625, 56590.871094, 53191.425781, 52969.054688, 55382.507813, 55321.847656, 56975.210938, 56482.003906, 54071.457031, 54608.652344, 49150.535156, 46980.019531, 48868.578125, 46664.140625, 43963.351563, 42207.289063, 42367.832031, 30681.496094, 35050.617188, 33616.453125, 35383.683594, 31227.339844, 34551.082031, 36581.429688, 37905.835938, 37247.902344, 34779.039063, 33693.929688, 33520.738281, 34241.945313, 35787.085938, 35966.308594, 37243.972656, 35717.722656, 34900.414063, 35304.578125, 33480.640625, 31114.443359, 32475.865234, 35847.59375, 36044.449219, 34728.191406, 34864.109375, 38757.285156, 39609.46875, 38562.894531], \"open\": [9454.266602, 9533.78418, 9481.567383, 9410.293945, 9290.959961, 9330.926758, 9300.915039, 9644.076172, 9632.149414, 9314.126953, 9260.995117, 9167.824219, 9048.460938, 9140.029297, 9185.581055, 9145.985352, 9231.139648, 9124.842773, 9084.233398, 9126.09082, 9072.849609, 9349.161133, 9253.020508, 9427.994141, 9273.357422, 9277.511719, 9241.054688, 9277.205078, 9238.703125, 9241.897461, 9191.980469, 9131.8125, 9151.183594, 9158.005859, 9187.220703, 9162.514648, 9375.080078, 9527.141602, 9585.514648, 9539.485352, 9680.234375, 9905.217773, 11017.463867, 10912.953125, 11099.833008, 11110.210938, 11322.570313, 11758.764648, 11043.768555, 11246.203125, 11203.823242, 11749.871094, 11778.894531, 11604.553711, 11737.325195, 11662.256836, 11881.647461, 11404.59668, 11588.405273, 11772.65918, 11768.697266, 11866.685547, 11895.658203, 12251.895508, 11990.884766, 11761.5, 11878.026367, 11585.477539, 11679.696289, 11663.689453, 11773.588867, 11366.894531, 11485.608398, 11325.295898, 11541.054688, 11508.713867, 11713.306641, 11679.316406, 11964.823242, 11407.191406, 10230.365234, 10512.530273, 10167.216797, 10280.998047, 10369.306641, 10134.151367, 10242.330078, 10369.02832, 10409.861328, 10452.399414, 10328.734375, 10677.754883, 10797.761719, 10973.251953, 10951.820313, 10933.75293, 11095.870117, 10934.925781, 10459.624023, 10539.457031, 10227.479492, 10747.472656, 10702.237305, 10752.939453, 10771.641602, 10712.462891, 10845.411133, 10785.010742, 10624.390625, 10583.806641, 10567.919922, 10688.03418, 10799.77832, 10619.803711, 10677.625, 10677.625, 11059.142578, 11296.082031, 11296.082031, 11296.082031, 11429.047852, 11426.602539, 11502.828125, 11322.123047, 11355.982422, 11495.038086, 11745.974609, 11913.077148, 12801.635742, 12971.548828, 12931.574219, 13108.063477, 13031.201172, 13075.242188, 13654.214844, 13271.298828, 13437.874023, 13546.532227, 13780.995117, 13737.032227, 13550.451172, 13950.488281, 14133.733398, 15579.729492, 15565.880859, 14833.753906, 15479.595703, 15332.350586, 15290.90918, 15701.298828, 16276.44043, 16317.808594, 16068.139648, 15955.577148, 16685.691406, 17645.191406, 17803.861328, 17817.083984, 18621.316406, 18642.232422, 18370.017578, 18365.015625, 19104.410156, 18729.839844, 17153.914063, 17112.933594, 17719.634766, 18178.322266, 19633.769531, 18801.744141, 19205.925781, 19446.966797, 18698.384766, 19154.179688, 19343.128906, 19191.529297, 18320.884766, 18553.298828, 18263.929688, 18051.320313, 18806.765625, 19144.492188, 19246.919922, 19418.818359, 21308.351563, 22806.796875, 23132.865234, 23861.765625, 23474.455078, 22794.039063, 23781.974609, 23240.203125, 23733.570313, 24677.015625, 26439.373047, 26280.822266, 27081.810547, 27360.089844, 28841.574219, 28994.009766, 29376.455078, 32129.408203, 32810.949219, 31977.041016, 34013.613281, 36833.875, 39381.765625, 40788.640625, 40254.21875, 38346.53125, 35516.359375, 33915.121094, 37325.109375, 39156.707031, 36821.648438, 36163.648438, 35792.238281, 36642.234375, 36050.113281, 35549.398438, 30817.625, 32985.757813, 32064.376953, 32285.798828, 32358.613281, 32564.029297, 30441.041016, 34318.671875, 34295.933594, 34270.878906, 33114.578125, 33533.199219, 35510.820313, 37475.105469, 36931.546875, 38138.386719, 39250.191406, 38886.828125, 46184.992188, 46469.761719, 44898.710938, 47877.035156, 47491.203125, 47114.507813, 48696.535156, 47944.457031, 49207.277344, 52140.972656, 51675.980469, 55887.335938, 56068.566406, 57532.738281, 54204.929688, 48835.085938, 49709.082031, 47180.464844, 46344.773438, 46194.015625, 45159.503906, 49612.105469, 48415.816406, 50522.304688, 48527.03125, 48899.230469, 48918.679688, 51174.117188, 52272.96875, 54824.011719, 55963.179688, 57821.21875, 57343.371094, 61221.132813, 59267.429688, 55840.785156, 56825.828125, 58893.078125, 57850.441406, 58332.261719, 58309.914063, 57517.890625, 54511.660156, 54710.488281, 52726.746094, 51683.011719, 55137.566406, 55974.941406, 55947.898438, 57750.132813, 58930.277344, 58926.5625, 59098.878906, 59397.410156, 57604.839844, 58760.875, 59171.933594, 58186.507813, 56099.914063, 58326.5625, 58253.777344, 59846.230469, 60175.945313, 59890.019531, 63523.753906, 63075.195313, 63258.503906, 61529.921875, 60701.886719, 56191.585938, 55681.792969, 56471.128906, 53857.105469, 51739.808594, 51143.226563, 50052.832031, 49077.792969, 54030.304688, 55036.636719, 54858.089844, 53568.664063, 57714.664063, 57825.863281, 56620.273438, 57214.179688, 53252.164063, 57441.308594, 56413.953125, 57352.765625, 58877.390625, 58250.871094, 55847.242188, 56714.53125, 49735.433594, 49682.980469, 49855.496094, 46716.636719, 46415.898438, 43488.058594, 42944.976563, 36753.667969, 40596.949219, 37371.03125, 37531.449219, 34700.363281, 38795.78125, 38392.625, 39316.890625, 38507.082031, 35684.15625, 34607.40625, 35658.59375, 37293.792969, 36699.921875, 37599.410156, 39242.484375, 36880.15625, 35538.609375, 35835.265625, 33589.519531, 33416.976563, 37389.515625, 36697.03125, 37340.144531, 35555.789063, 39016.96875, 40526.78125, 40023.757813], \"type\": \"candlestick\", \"x\": [\"2020-06-16T00:00:00\", \"2020-06-17T00:00:00\", \"2020-06-18T00:00:00\", \"2020-06-19T00:00:00\", \"2020-06-20T00:00:00\", \"2020-06-21T00:00:00\", \"2020-06-22T00:00:00\", \"2020-06-23T00:00:00\", \"2020-06-24T00:00:00\", \"2020-06-25T00:00:00\", \"2020-06-26T00:00:00\", \"2020-06-27T00:00:00\", \"2020-06-28T00:00:00\", \"2020-06-29T00:00:00\", \"2020-06-30T00:00:00\", \"2020-07-01T00:00:00\", \"2020-07-02T00:00:00\", \"2020-07-03T00:00:00\", \"2020-07-04T00:00:00\", \"2020-07-05T00:00:00\", \"2020-07-06T00:00:00\", \"2020-07-07T00:00:00\", \"2020-07-08T00:00:00\", \"2020-07-09T00:00:00\", \"2020-07-10T00:00:00\", \"2020-07-11T00:00:00\", \"2020-07-12T00:00:00\", \"2020-07-13T00:00:00\", \"2020-07-14T00:00:00\", \"2020-07-15T00:00:00\", \"2020-07-16T00:00:00\", \"2020-07-17T00:00:00\", \"2020-07-18T00:00:00\", \"2020-07-19T00:00:00\", \"2020-07-20T00:00:00\", \"2020-07-21T00:00:00\", \"2020-07-22T00:00:00\", \"2020-07-23T00:00:00\", \"2020-07-24T00:00:00\", \"2020-07-25T00:00:00\", \"2020-07-26T00:00:00\", \"2020-07-27T00:00:00\", \"2020-07-28T00:00:00\", \"2020-07-29T00:00:00\", \"2020-07-30T00:00:00\", \"2020-07-31T00:00:00\", \"2020-08-01T00:00:00\", \"2020-08-02T00:00:00\", \"2020-08-03T00:00:00\", \"2020-08-04T00:00:00\", \"2020-08-05T00:00:00\", \"2020-08-06T00:00:00\", \"2020-08-07T00:00:00\", \"2020-08-08T00:00:00\", \"2020-08-09T00:00:00\", \"2020-08-10T00:00:00\", \"2020-08-11T00:00:00\", \"2020-08-12T00:00:00\", \"2020-08-13T00:00:00\", \"2020-08-14T00:00:00\", \"2020-08-15T00:00:00\", \"2020-08-16T00:00:00\", \"2020-08-17T00:00:00\", \"2020-08-18T00:00:00\", \"2020-08-19T00:00:00\", \"2020-08-20T00:00:00\", \"2020-08-21T00:00:00\", \"2020-08-22T00:00:00\", \"2020-08-23T00:00:00\", \"2020-08-24T00:00:00\", \"2020-08-25T00:00:00\", \"2020-08-26T00:00:00\", \"2020-08-27T00:00:00\", \"2020-08-28T00:00:00\", \"2020-08-29T00:00:00\", \"2020-08-30T00:00:00\", \"2020-08-31T00:00:00\", \"2020-09-01T00:00:00\", \"2020-09-02T00:00:00\", \"2020-09-03T00:00:00\", \"2020-09-04T00:00:00\", \"2020-09-05T00:00:00\", \"2020-09-06T00:00:00\", \"2020-09-07T00:00:00\", \"2020-09-08T00:00:00\", \"2020-09-09T00:00:00\", \"2020-09-10T00:00:00\", \"2020-09-11T00:00:00\", \"2020-09-12T00:00:00\", \"2020-09-13T00:00:00\", \"2020-09-14T00:00:00\", \"2020-09-15T00:00:00\", \"2020-09-16T00:00:00\", \"2020-09-17T00:00:00\", \"2020-09-18T00:00:00\", \"2020-09-19T00:00:00\", \"2020-09-20T00:00:00\", \"2020-09-21T00:00:00\", \"2020-09-22T00:00:00\", \"2020-09-23T00:00:00\", \"2020-09-24T00:00:00\", \"2020-09-25T00:00:00\", \"2020-09-26T00:00:00\", \"2020-09-27T00:00:00\", \"2020-09-28T00:00:00\", \"2020-09-29T00:00:00\", \"2020-09-30T00:00:00\", \"2020-10-01T00:00:00\", \"2020-10-02T00:00:00\", \"2020-10-03T00:00:00\", \"2020-10-04T00:00:00\", \"2020-10-05T00:00:00\", \"2020-10-06T00:00:00\", \"2020-10-07T00:00:00\", \"2020-10-08T00:00:00\", \"2020-10-09T00:00:00\", \"2020-10-10T00:00:00\", \"2020-10-11T00:00:00\", \"2020-10-12T00:00:00\", \"2020-10-13T00:00:00\", \"2020-10-14T00:00:00\", \"2020-10-15T00:00:00\", \"2020-10-16T00:00:00\", \"2020-10-17T00:00:00\", \"2020-10-18T00:00:00\", \"2020-10-19T00:00:00\", \"2020-10-20T00:00:00\", \"2020-10-21T00:00:00\", \"2020-10-22T00:00:00\", \"2020-10-23T00:00:00\", \"2020-10-24T00:00:00\", \"2020-10-25T00:00:00\", \"2020-10-26T00:00:00\", \"2020-10-27T00:00:00\", \"2020-10-28T00:00:00\", \"2020-10-29T00:00:00\", \"2020-10-30T00:00:00\", \"2020-10-31T00:00:00\", \"2020-11-01T00:00:00\", \"2020-11-02T00:00:00\", \"2020-11-03T00:00:00\", \"2020-11-04T00:00:00\", \"2020-11-05T00:00:00\", \"2020-11-06T00:00:00\", \"2020-11-07T00:00:00\", \"2020-11-08T00:00:00\", \"2020-11-09T00:00:00\", \"2020-11-10T00:00:00\", \"2020-11-11T00:00:00\", \"2020-11-12T00:00:00\", \"2020-11-13T00:00:00\", \"2020-11-14T00:00:00\", \"2020-11-15T00:00:00\", \"2020-11-16T00:00:00\", \"2020-11-17T00:00:00\", \"2020-11-18T00:00:00\", \"2020-11-19T00:00:00\", \"2020-11-20T00:00:00\", \"2020-11-21T00:00:00\", \"2020-11-22T00:00:00\", \"2020-11-23T00:00:00\", \"2020-11-24T00:00:00\", \"2020-11-25T00:00:00\", \"2020-11-26T00:00:00\", \"2020-11-27T00:00:00\", \"2020-11-28T00:00:00\", \"2020-11-29T00:00:00\", \"2020-11-30T00:00:00\", \"2020-12-01T00:00:00\", \"2020-12-02T00:00:00\", \"2020-12-03T00:00:00\", \"2020-12-04T00:00:00\", \"2020-12-05T00:00:00\", \"2020-12-06T00:00:00\", \"2020-12-07T00:00:00\", \"2020-12-08T00:00:00\", \"2020-12-09T00:00:00\", \"2020-12-10T00:00:00\", \"2020-12-11T00:00:00\", \"2020-12-12T00:00:00\", \"2020-12-13T00:00:00\", \"2020-12-14T00:00:00\", \"2020-12-15T00:00:00\", \"2020-12-16T00:00:00\", \"2020-12-17T00:00:00\", \"2020-12-18T00:00:00\", \"2020-12-19T00:00:00\", \"2020-12-20T00:00:00\", \"2020-12-21T00:00:00\", \"2020-12-22T00:00:00\", \"2020-12-23T00:00:00\", \"2020-12-24T00:00:00\", \"2020-12-25T00:00:00\", \"2020-12-26T00:00:00\", \"2020-12-27T00:00:00\", \"2020-12-28T00:00:00\", \"2020-12-29T00:00:00\", \"2020-12-30T00:00:00\", \"2020-12-31T00:00:00\", \"2021-01-01T00:00:00\", \"2021-01-02T00:00:00\", \"2021-01-03T00:00:00\", \"2021-01-04T00:00:00\", \"2021-01-05T00:00:00\", \"2021-01-06T00:00:00\", \"2021-01-07T00:00:00\", \"2021-01-08T00:00:00\", \"2021-01-09T00:00:00\", \"2021-01-10T00:00:00\", \"2021-01-11T00:00:00\", \"2021-01-12T00:00:00\", \"2021-01-13T00:00:00\", \"2021-01-14T00:00:00\", \"2021-01-15T00:00:00\", \"2021-01-16T00:00:00\", \"2021-01-17T00:00:00\", \"2021-01-18T00:00:00\", \"2021-01-19T00:00:00\", \"2021-01-20T00:00:00\", \"2021-01-21T00:00:00\", \"2021-01-22T00:00:00\", \"2021-01-23T00:00:00\", \"2021-01-24T00:00:00\", \"2021-01-25T00:00:00\", \"2021-01-26T00:00:00\", \"2021-01-27T00:00:00\", \"2021-01-28T00:00:00\", \"2021-01-29T00:00:00\", \"2021-01-30T00:00:00\", \"2021-01-31T00:00:00\", \"2021-02-01T00:00:00\", \"2021-02-02T00:00:00\", \"2021-02-03T00:00:00\", \"2021-02-04T00:00:00\", \"2021-02-05T00:00:00\", \"2021-02-06T00:00:00\", \"2021-02-07T00:00:00\", \"2021-02-08T00:00:00\", \"2021-02-09T00:00:00\", \"2021-02-10T00:00:00\", \"2021-02-11T00:00:00\", \"2021-02-12T00:00:00\", \"2021-02-13T00:00:00\", \"2021-02-14T00:00:00\", \"2021-02-15T00:00:00\", \"2021-02-16T00:00:00\", \"2021-02-17T00:00:00\", \"2021-02-18T00:00:00\", \"2021-02-19T00:00:00\", \"2021-02-20T00:00:00\", \"2021-02-21T00:00:00\", \"2021-02-22T00:00:00\", \"2021-02-23T00:00:00\", \"2021-02-24T00:00:00\", \"2021-02-25T00:00:00\", \"2021-02-26T00:00:00\", \"2021-02-27T00:00:00\", \"2021-02-28T00:00:00\", \"2021-03-01T00:00:00\", \"2021-03-02T00:00:00\", \"2021-03-03T00:00:00\", \"2021-03-04T00:00:00\", \"2021-03-05T00:00:00\", \"2021-03-06T00:00:00\", \"2021-03-07T00:00:00\", \"2021-03-08T00:00:00\", \"2021-03-09T00:00:00\", \"2021-03-10T00:00:00\", \"2021-03-11T00:00:00\", \"2021-03-12T00:00:00\", \"2021-03-13T00:00:00\", \"2021-03-14T00:00:00\", \"2021-03-15T00:00:00\", \"2021-03-16T00:00:00\", \"2021-03-17T00:00:00\", \"2021-03-18T00:00:00\", \"2021-03-19T00:00:00\", \"2021-03-20T00:00:00\", \"2021-03-21T00:00:00\", \"2021-03-22T00:00:00\", \"2021-03-23T00:00:00\", \"2021-03-24T00:00:00\", \"2021-03-25T00:00:00\", \"2021-03-26T00:00:00\", \"2021-03-27T00:00:00\", \"2021-03-28T00:00:00\", \"2021-03-29T00:00:00\", \"2021-03-30T00:00:00\", \"2021-03-31T00:00:00\", \"2021-04-01T00:00:00\", \"2021-04-02T00:00:00\", \"2021-04-03T00:00:00\", \"2021-04-04T00:00:00\", \"2021-04-05T00:00:00\", \"2021-04-06T00:00:00\", \"2021-04-07T00:00:00\", \"2021-04-08T00:00:00\", \"2021-04-09T00:00:00\", \"2021-04-10T00:00:00\", \"2021-04-11T00:00:00\", \"2021-04-12T00:00:00\", \"2021-04-13T00:00:00\", \"2021-04-14T00:00:00\", \"2021-04-15T00:00:00\", \"2021-04-16T00:00:00\", \"2021-04-17T00:00:00\", \"2021-04-18T00:00:00\", \"2021-04-19T00:00:00\", \"2021-04-20T00:00:00\", \"2021-04-21T00:00:00\", \"2021-04-22T00:00:00\", \"2021-04-23T00:00:00\", \"2021-04-24T00:00:00\", \"2021-04-25T00:00:00\", \"2021-04-26T00:00:00\", \"2021-04-27T00:00:00\", \"2021-04-28T00:00:00\", \"2021-04-29T00:00:00\", \"2021-04-30T00:00:00\", \"2021-05-01T00:00:00\", \"2021-05-02T00:00:00\", \"2021-05-03T00:00:00\", \"2021-05-04T00:00:00\", \"2021-05-05T00:00:00\", \"2021-05-06T00:00:00\", \"2021-05-07T00:00:00\", \"2021-05-08T00:00:00\", \"2021-05-09T00:00:00\", \"2021-05-10T00:00:00\", \"2021-05-11T00:00:00\", \"2021-05-12T00:00:00\", \"2021-05-13T00:00:00\", \"2021-05-14T00:00:00\", \"2021-05-15T00:00:00\", \"2021-05-16T00:00:00\", \"2021-05-17T00:00:00\", \"2021-05-18T00:00:00\", \"2021-05-19T00:00:00\", \"2021-05-20T00:00:00\", \"2021-05-21T00:00:00\", \"2021-05-22T00:00:00\", \"2021-05-23T00:00:00\", \"2021-05-24T00:00:00\", \"2021-05-25T00:00:00\", \"2021-05-26T00:00:00\", \"2021-05-27T00:00:00\", \"2021-05-28T00:00:00\", \"2021-05-29T00:00:00\", \"2021-05-30T00:00:00\", \"2021-05-31T00:00:00\", \"2021-06-01T00:00:00\", \"2021-06-02T00:00:00\", \"2021-06-03T00:00:00\", \"2021-06-04T00:00:00\", \"2021-06-05T00:00:00\", \"2021-06-06T00:00:00\", \"2021-06-07T00:00:00\", \"2021-06-08T00:00:00\", \"2021-06-09T00:00:00\", \"2021-06-10T00:00:00\", \"2021-06-11T00:00:00\", \"2021-06-12T00:00:00\", \"2021-06-13T00:00:00\", \"2021-06-14T00:00:00\", \"2021-06-15T00:00:00\", \"2021-06-16T00:00:00\"]}, {\"line\": {\"color\": \"white\", \"width\": 2}, \"mode\": \"lines\", \"name\": \"Moving average of 20 days\", \"type\": \"scatter\", \"x\": [\"2020-06-16T00:00:00\", \"2020-06-17T00:00:00\", \"2020-06-18T00:00:00\", \"2020-06-19T00:00:00\", \"2020-06-20T00:00:00\", \"2020-06-21T00:00:00\", \"2020-06-22T00:00:00\", \"2020-06-23T00:00:00\", \"2020-06-24T00:00:00\", \"2020-06-25T00:00:00\", \"2020-06-26T00:00:00\", \"2020-06-27T00:00:00\", \"2020-06-28T00:00:00\", \"2020-06-29T00:00:00\", \"2020-06-30T00:00:00\", \"2020-07-01T00:00:00\", \"2020-07-02T00:00:00\", \"2020-07-03T00:00:00\", \"2020-07-04T00:00:00\", \"2020-07-05T00:00:00\", \"2020-07-06T00:00:00\", \"2020-07-07T00:00:00\", \"2020-07-08T00:00:00\", \"2020-07-09T00:00:00\", \"2020-07-10T00:00:00\", \"2020-07-11T00:00:00\", \"2020-07-12T00:00:00\", \"2020-07-13T00:00:00\", \"2020-07-14T00:00:00\", \"2020-07-15T00:00:00\", \"2020-07-16T00:00:00\", \"2020-07-17T00:00:00\", \"2020-07-18T00:00:00\", \"2020-07-19T00:00:00\", \"2020-07-20T00:00:00\", \"2020-07-21T00:00:00\", \"2020-07-22T00:00:00\", \"2020-07-23T00:00:00\", \"2020-07-24T00:00:00\", \"2020-07-25T00:00:00\", \"2020-07-26T00:00:00\", \"2020-07-27T00:00:00\", \"2020-07-28T00:00:00\", \"2020-07-29T00:00:00\", \"2020-07-30T00:00:00\", \"2020-07-31T00:00:00\", \"2020-08-01T00:00:00\", \"2020-08-02T00:00:00\", \"2020-08-03T00:00:00\", \"2020-08-04T00:00:00\", \"2020-08-05T00:00:00\", \"2020-08-06T00:00:00\", \"2020-08-07T00:00:00\", \"2020-08-08T00:00:00\", \"2020-08-09T00:00:00\", \"2020-08-10T00:00:00\", \"2020-08-11T00:00:00\", \"2020-08-12T00:00:00\", \"2020-08-13T00:00:00\", \"2020-08-14T00:00:00\", \"2020-08-15T00:00:00\", \"2020-08-16T00:00:00\", \"2020-08-17T00:00:00\", \"2020-08-18T00:00:00\", \"2020-08-19T00:00:00\", \"2020-08-20T00:00:00\", \"2020-08-21T00:00:00\", \"2020-08-22T00:00:00\", \"2020-08-23T00:00:00\", \"2020-08-24T00:00:00\", \"2020-08-25T00:00:00\", \"2020-08-26T00:00:00\", \"2020-08-27T00:00:00\", \"2020-08-28T00:00:00\", \"2020-08-29T00:00:00\", \"2020-08-30T00:00:00\", \"2020-08-31T00:00:00\", \"2020-09-01T00:00:00\", \"2020-09-02T00:00:00\", \"2020-09-03T00:00:00\", \"2020-09-04T00:00:00\", \"2020-09-05T00:00:00\", \"2020-09-06T00:00:00\", \"2020-09-07T00:00:00\", \"2020-09-08T00:00:00\", \"2020-09-09T00:00:00\", \"2020-09-10T00:00:00\", \"2020-09-11T00:00:00\", \"2020-09-12T00:00:00\", \"2020-09-13T00:00:00\", \"2020-09-14T00:00:00\", \"2020-09-15T00:00:00\", \"2020-09-16T00:00:00\", \"2020-09-17T00:00:00\", \"2020-09-18T00:00:00\", \"2020-09-19T00:00:00\", \"2020-09-20T00:00:00\", \"2020-09-21T00:00:00\", \"2020-09-22T00:00:00\", \"2020-09-23T00:00:00\", \"2020-09-24T00:00:00\", \"2020-09-25T00:00:00\", \"2020-09-26T00:00:00\", \"2020-09-27T00:00:00\", \"2020-09-28T00:00:00\", \"2020-09-29T00:00:00\", \"2020-09-30T00:00:00\", \"2020-10-01T00:00:00\", \"2020-10-02T00:00:00\", \"2020-10-03T00:00:00\", \"2020-10-04T00:00:00\", \"2020-10-05T00:00:00\", \"2020-10-06T00:00:00\", \"2020-10-07T00:00:00\", \"2020-10-08T00:00:00\", \"2020-10-09T00:00:00\", \"2020-10-10T00:00:00\", \"2020-10-11T00:00:00\", \"2020-10-12T00:00:00\", \"2020-10-13T00:00:00\", \"2020-10-14T00:00:00\", \"2020-10-15T00:00:00\", \"2020-10-16T00:00:00\", \"2020-10-17T00:00:00\", \"2020-10-18T00:00:00\", \"2020-10-19T00:00:00\", \"2020-10-20T00:00:00\", \"2020-10-21T00:00:00\", \"2020-10-22T00:00:00\", \"2020-10-23T00:00:00\", \"2020-10-24T00:00:00\", \"2020-10-25T00:00:00\", \"2020-10-26T00:00:00\", \"2020-10-27T00:00:00\", \"2020-10-28T00:00:00\", \"2020-10-29T00:00:00\", \"2020-10-30T00:00:00\", \"2020-10-31T00:00:00\", \"2020-11-01T00:00:00\", \"2020-11-02T00:00:00\", \"2020-11-03T00:00:00\", \"2020-11-04T00:00:00\", \"2020-11-05T00:00:00\", \"2020-11-06T00:00:00\", \"2020-11-07T00:00:00\", \"2020-11-08T00:00:00\", \"2020-11-09T00:00:00\", \"2020-11-10T00:00:00\", \"2020-11-11T00:00:00\", \"2020-11-12T00:00:00\", \"2020-11-13T00:00:00\", \"2020-11-14T00:00:00\", \"2020-11-15T00:00:00\", \"2020-11-16T00:00:00\", \"2020-11-17T00:00:00\", \"2020-11-18T00:00:00\", \"2020-11-19T00:00:00\", \"2020-11-20T00:00:00\", \"2020-11-21T00:00:00\", \"2020-11-22T00:00:00\", \"2020-11-23T00:00:00\", \"2020-11-24T00:00:00\", \"2020-11-25T00:00:00\", \"2020-11-26T00:00:00\", \"2020-11-27T00:00:00\", \"2020-11-28T00:00:00\", \"2020-11-29T00:00:00\", \"2020-11-30T00:00:00\", \"2020-12-01T00:00:00\", \"2020-12-02T00:00:00\", \"2020-12-03T00:00:00\", \"2020-12-04T00:00:00\", \"2020-12-05T00:00:00\", \"2020-12-06T00:00:00\", \"2020-12-07T00:00:00\", \"2020-12-08T00:00:00\", \"2020-12-09T00:00:00\", \"2020-12-10T00:00:00\", \"2020-12-11T00:00:00\", \"2020-12-12T00:00:00\", \"2020-12-13T00:00:00\", \"2020-12-14T00:00:00\", \"2020-12-15T00:00:00\", \"2020-12-16T00:00:00\", \"2020-12-17T00:00:00\", \"2020-12-18T00:00:00\", \"2020-12-19T00:00:00\", \"2020-12-20T00:00:00\", \"2020-12-21T00:00:00\", \"2020-12-22T00:00:00\", \"2020-12-23T00:00:00\", \"2020-12-24T00:00:00\", \"2020-12-25T00:00:00\", \"2020-12-26T00:00:00\", \"2020-12-27T00:00:00\", \"2020-12-28T00:00:00\", \"2020-12-29T00:00:00\", \"2020-12-30T00:00:00\", \"2020-12-31T00:00:00\", \"2021-01-01T00:00:00\", \"2021-01-02T00:00:00\", \"2021-01-03T00:00:00\", \"2021-01-04T00:00:00\", \"2021-01-05T00:00:00\", \"2021-01-06T00:00:00\", \"2021-01-07T00:00:00\", \"2021-01-08T00:00:00\", \"2021-01-09T00:00:00\", \"2021-01-10T00:00:00\", \"2021-01-11T00:00:00\", \"2021-01-12T00:00:00\", \"2021-01-13T00:00:00\", \"2021-01-14T00:00:00\", \"2021-01-15T00:00:00\", \"2021-01-16T00:00:00\", \"2021-01-17T00:00:00\", \"2021-01-18T00:00:00\", \"2021-01-19T00:00:00\", \"2021-01-20T00:00:00\", \"2021-01-21T00:00:00\", \"2021-01-22T00:00:00\", \"2021-01-23T00:00:00\", \"2021-01-24T00:00:00\", \"2021-01-25T00:00:00\", \"2021-01-26T00:00:00\", \"2021-01-27T00:00:00\", \"2021-01-28T00:00:00\", \"2021-01-29T00:00:00\", \"2021-01-30T00:00:00\", \"2021-01-31T00:00:00\", \"2021-02-01T00:00:00\", \"2021-02-02T00:00:00\", \"2021-02-03T00:00:00\", \"2021-02-04T00:00:00\", \"2021-02-05T00:00:00\", \"2021-02-06T00:00:00\", \"2021-02-07T00:00:00\", \"2021-02-08T00:00:00\", \"2021-02-09T00:00:00\", \"2021-02-10T00:00:00\", \"2021-02-11T00:00:00\", \"2021-02-12T00:00:00\", \"2021-02-13T00:00:00\", \"2021-02-14T00:00:00\", \"2021-02-15T00:00:00\", \"2021-02-16T00:00:00\", \"2021-02-17T00:00:00\", \"2021-02-18T00:00:00\", \"2021-02-19T00:00:00\", \"2021-02-20T00:00:00\", \"2021-02-21T00:00:00\", \"2021-02-22T00:00:00\", \"2021-02-23T00:00:00\", \"2021-02-24T00:00:00\", \"2021-02-25T00:00:00\", \"2021-02-26T00:00:00\", \"2021-02-27T00:00:00\", \"2021-02-28T00:00:00\", \"2021-03-01T00:00:00\", \"2021-03-02T00:00:00\", \"2021-03-03T00:00:00\", \"2021-03-04T00:00:00\", \"2021-03-05T00:00:00\", \"2021-03-06T00:00:00\", \"2021-03-07T00:00:00\", \"2021-03-08T00:00:00\", \"2021-03-09T00:00:00\", \"2021-03-10T00:00:00\", \"2021-03-11T00:00:00\", \"2021-03-12T00:00:00\", \"2021-03-13T00:00:00\", \"2021-03-14T00:00:00\", \"2021-03-15T00:00:00\", \"2021-03-16T00:00:00\", \"2021-03-17T00:00:00\", \"2021-03-18T00:00:00\", \"2021-03-19T00:00:00\", \"2021-03-20T00:00:00\", \"2021-03-21T00:00:00\", \"2021-03-22T00:00:00\", \"2021-03-23T00:00:00\", \"2021-03-24T00:00:00\", \"2021-03-25T00:00:00\", \"2021-03-26T00:00:00\", \"2021-03-27T00:00:00\", \"2021-03-28T00:00:00\", \"2021-03-29T00:00:00\", \"2021-03-30T00:00:00\", \"2021-03-31T00:00:00\", \"2021-04-01T00:00:00\", \"2021-04-02T00:00:00\", \"2021-04-03T00:00:00\", \"2021-04-04T00:00:00\", \"2021-04-05T00:00:00\", \"2021-04-06T00:00:00\", \"2021-04-07T00:00:00\", \"2021-04-08T00:00:00\", \"2021-04-09T00:00:00\", \"2021-04-10T00:00:00\", \"2021-04-11T00:00:00\", \"2021-04-12T00:00:00\", \"2021-04-13T00:00:00\", \"2021-04-14T00:00:00\", \"2021-04-15T00:00:00\", \"2021-04-16T00:00:00\", \"2021-04-17T00:00:00\", \"2021-04-18T00:00:00\", \"2021-04-19T00:00:00\", \"2021-04-20T00:00:00\", \"2021-04-21T00:00:00\", \"2021-04-22T00:00:00\", \"2021-04-23T00:00:00\", \"2021-04-24T00:00:00\", \"2021-04-25T00:00:00\", \"2021-04-26T00:00:00\", \"2021-04-27T00:00:00\", \"2021-04-28T00:00:00\", \"2021-04-29T00:00:00\", \"2021-04-30T00:00:00\", \"2021-05-01T00:00:00\", \"2021-05-02T00:00:00\", \"2021-05-03T00:00:00\", \"2021-05-04T00:00:00\", \"2021-05-05T00:00:00\", \"2021-05-06T00:00:00\", \"2021-05-07T00:00:00\", \"2021-05-08T00:00:00\", \"2021-05-09T00:00:00\", \"2021-05-10T00:00:00\", \"2021-05-11T00:00:00\", \"2021-05-12T00:00:00\", \"2021-05-13T00:00:00\", \"2021-05-14T00:00:00\", \"2021-05-15T00:00:00\", \"2021-05-16T00:00:00\", \"2021-05-17T00:00:00\", \"2021-05-18T00:00:00\", \"2021-05-19T00:00:00\", \"2021-05-20T00:00:00\", \"2021-05-21T00:00:00\", \"2021-05-22T00:00:00\", \"2021-05-23T00:00:00\", \"2021-05-24T00:00:00\", \"2021-05-25T00:00:00\", \"2021-05-26T00:00:00\", \"2021-05-27T00:00:00\", \"2021-05-28T00:00:00\", \"2021-05-29T00:00:00\", \"2021-05-30T00:00:00\", \"2021-05-31T00:00:00\", \"2021-06-01T00:00:00\", \"2021-06-02T00:00:00\", \"2021-06-03T00:00:00\", \"2021-06-04T00:00:00\", \"2021-06-05T00:00:00\", \"2021-06-06T00:00:00\", \"2021-06-07T00:00:00\", \"2021-06-08T00:00:00\", \"2021-06-09T00:00:00\", \"2021-06-10T00:00:00\", \"2021-06-11T00:00:00\", \"2021-06-12T00:00:00\", \"2021-06-13T00:00:00\", \"2021-06-14T00:00:00\", \"2021-06-15T00:00:00\", \"2021-06-16T00:00:00\"], \"y\": [9538.024414, 9509.1396485, 9476.706705666666, 9429.534668, 9410.095898399999, 9392.3515625, 9428.975306857143, 9454.060668875, 9438.45507811111, 9421.090918, 9397.620649909091, 9368.268147833334, 9350.984600384616, 9339.5467355, 9326.109830733332, 9319.998291, 9308.434283058823, 9296.149251277779, 9287.535516, 9276.85585935, 9268.728369100001, 9257.32949215, 9258.15410155, 9257.651562449999, 9254.9749023, 9251.810742149999, 9233.199853499998, 9213.89765625, 9210.377832, 9206.77900385, 9205.24448235, 9210.54458, 9211.317480400001, 9211.065624949999, 9212.377539000001, 9219.705664, 9239.80332025, 9264.491747999999, 9284.711962849999, 9314.87050775, 9341.3551269, 9428.28491205, 9502.509423749998, 9593.63442375, 9685.25473625, 9789.4107421, 9913.56538075, 10004.06538075, 10104.22211905, 10204.87490225, 10335.614648350002, 10467.033691350001, 10589.1553222, 10717.56674795, 10843.1421386, 10968.303320250001, 11062.561425750002, 11162.75454095, 11275.1167968, 11379.704687450001, 11477.73124995, 11522.82778315, 11589.906738250002, 11634.445019499999, 11666.798486299998, 11694.54374995, 11686.1885742, 11717.59912105, 11738.5240722, 11766.95922845, 11747.9148437, 11733.344335849999, 11719.440576099998, 11708.8632812, 11700.41958, 11692.08930655, 11705.60405265, 11724.88124995, 11706.3760742, 11630.19736325, 11562.503125, 11476.3413086, 11377.63876955, 11296.5552735, 11215.21694345, 11133.41572275, 11071.94819345, 11007.90268565, 10946.76884775, 10874.226855550001, 10839.962011799998, 10805.39140635, 10787.96679695, 10758.291308650001, 10730.177343849999, 10699.319384899998, 10662.19194345, 10586.78100595, 10543.002295, 10542.03066415, 10553.717431699999, 10580.3535645, 10604.05786135, 10624.3010254, 10653.7915527, 10684.1156738, 10705.3396484, 10716.46040035, 10723.610058600001, 10735.696923849999, 10735.876464850002, 10736.228955100001, 10718.5668946, 10705.07421885, 10704.02631845, 10695.490380950001, 10713.39487315, 10759.4909669, 10801.7770509, 10859.69292005, 10893.89082045, 10933.54379895, 10961.9280763, 10991.111816550001, 11029.2134279, 11073.873779450001, 11130.309619299998, 11240.327588049999, 11359.363965, 11477.666259950001, 11598.8479494, 11710.20659195, 11832.88579115, 11981.639892700001, 12099.022754000001, 12224.73549815, 12337.2435548, 12457.0842286, 12574.7306153, 12683.04599615, 12809.0856934, 12941.003564499999, 13153.8898438, 13364.278808599998, 13531.79853515, 13718.67504885, 13889.4740723, 14012.83471685, 14149.607128950001, 14316.847363300001, 14477.334668000001, 14629.1829102, 14773.199902400002, 14926.2945313, 15145.000586, 15363.306738300002, 15576.83510745, 15818.851074249998, 16064.107226600001, 16305.08286135, 16525.773877, 16774.46176765, 16932.0753907, 17011.312500099997, 17125.044921999997, 17236.937255999997, 17379.19570325, 17595.942382949997, 17751.0252931, 17897.262695449997, 18053.64218765, 18185.2235353, 18345.1556642, 18476.6061525, 18553.91738295, 18579.77431655, 18616.61562515, 18598.7995119, 18569.63310565, 18591.3158205, 18630.22890645, 18637.1878908, 18671.4356447, 18879.434375150002, 19164.272363400003, 19435.299707150003, 19719.917089950002, 19912.49003915, 20112.49423835, 20341.59111335, 20531.3884766, 20783.1976563, 21058.725683650002, 21413.3214844, 21767.35468755, 22205.5378907, 22645.963964900002, 23174.76201175, 23721.90283205, 24250.42763675, 24899.671875000004, 25576.44082035, 26204.1827149, 26838.2743165, 27539.2343751, 28350.888476649998, 29197.27734385, 30036.139941499998, 30813.807910249998, 31402.989257900004, 31937.07001965, 32616.090527450004, 33342.2173829, 33861.633886849995, 34356.92617199999, 34792.2496095, 35255.631445449995, 35617.0740236, 35944.375488449994, 36016.9528322, 36060.877539249996, 36025.158496250006, 36041.0317384, 35959.7298829, 35747.0041993, 35300.0793946, 34842.6791993, 34545.771191499996, 34341.425293099994, 34218.81044935, 34199.521191499996, 34109.21767589999, 34023.45576185, 34028.49072275, 34126.799121200005, 34300.535839950004, 34414.204199299995, 34920.5372071, 35467.20498055, 36171.829199299995, 36917.0077149, 37688.86816415, 38429.675000100004, 39247.21982435, 40015.9802736, 40954.34648455, 41979.31660175, 42847.48710955, 43928.4175783, 45077.6755861, 46277.814062699996, 47212.665625199996, 47780.282422050004, 48419.245703299996, 48866.72285175, 49220.41035175, 49584.6609377, 49531.726172049996, 49689.233007999996, 49862.27324234999, 49993.718750199994, 50046.5345705, 50137.62402365, 50147.37871115, 50310.46035175, 50462.792968949994, 50596.548437699996, 50812.986133, 50908.835547049996, 50970.464062700004, 51155.62109395, 51410.3708986, 51764.5095705, 52119.48808615, 52708.34023454999, 53284.29824234999, 53892.2082033, 54551.001953299994, 54945.61093765, 55253.11875015, 55463.1539064, 55673.80878920001, 55812.651562600004, 56123.89804695001, 56362.2390626, 56547.4501954, 56693.75429694999, 56839.21132819999, 56894.89687505, 56983.08281255, 56890.144140649994, 56805.222851599996, 56947.79062505, 57060.43945314999, 57026.51269535, 56936.0134766, 56934.878515649994, 56931.446484399996, 57044.937109399994, 57328.72812505, 57586.45351564999, 58122.91308594999, 58693.1898438, 59102.02480474999, 59381.98867194999, 59618.6423829, 59541.941601649996, 59382.2703126, 59259.98027354999, 59000.494336050004, 58619.39238295, 58293.8804689, 57858.4960939, 57355.8148439, 57147.28457045, 57096.49355485001, 56921.531054850006, 56687.036328300004, 56584.8833986, 56466.037695449995, 56302.91894545, 55987.76074235, 55498.95292984999, 55204.452734549996, 54945.63906265, 54779.268164199995, 54908.6478517, 55034.05039075001, 55003.38867200001, 55143.31289074999, 55012.72597665, 54943.852929750006, 54935.33632814999, 54823.133007849996, 54444.84824225, 53870.0679688, 53274.30292975, 52446.6695313, 51598.2976563, 50572.12968755, 49617.40742195, 48495.92187504999, 47764.54394535, 46813.4546875, 45958.3388672, 45012.3671875, 43857.05859374999, 42676.24609375, 41667.162695299994, 40698.576757799994, 40075.29628905, 39468.24570315, 38934.6572266, 38441.3681641, 37896.16308595, 37512.406445299996, 37044.97167965, 36868.48125, 36696.60039065, 36666.49570315, 36656.3839844, 36695.4806641, 36715.0746094, 36821.766992250006, 36864.82187505, 36877.5927735]}, {\"line\": {\"color\": \"yellow\", \"width\": 2}, \"mode\": \"lines\", \"name\": \"Moving average of 50 days\", \"type\": \"scatter\", \"x\": [\"2020-06-16T00:00:00\", \"2020-06-17T00:00:00\", \"2020-06-18T00:00:00\", \"2020-06-19T00:00:00\", \"2020-06-20T00:00:00\", \"2020-06-21T00:00:00\", \"2020-06-22T00:00:00\", \"2020-06-23T00:00:00\", \"2020-06-24T00:00:00\", \"2020-06-25T00:00:00\", \"2020-06-26T00:00:00\", \"2020-06-27T00:00:00\", \"2020-06-28T00:00:00\", \"2020-06-29T00:00:00\", \"2020-06-30T00:00:00\", \"2020-07-01T00:00:00\", \"2020-07-02T00:00:00\", \"2020-07-03T00:00:00\", \"2020-07-04T00:00:00\", \"2020-07-05T00:00:00\", \"2020-07-06T00:00:00\", \"2020-07-07T00:00:00\", \"2020-07-08T00:00:00\", \"2020-07-09T00:00:00\", \"2020-07-10T00:00:00\", \"2020-07-11T00:00:00\", \"2020-07-12T00:00:00\", \"2020-07-13T00:00:00\", \"2020-07-14T00:00:00\", \"2020-07-15T00:00:00\", \"2020-07-16T00:00:00\", \"2020-07-17T00:00:00\", \"2020-07-18T00:00:00\", \"2020-07-19T00:00:00\", \"2020-07-20T00:00:00\", \"2020-07-21T00:00:00\", \"2020-07-22T00:00:00\", \"2020-07-23T00:00:00\", \"2020-07-24T00:00:00\", \"2020-07-25T00:00:00\", \"2020-07-26T00:00:00\", \"2020-07-27T00:00:00\", \"2020-07-28T00:00:00\", \"2020-07-29T00:00:00\", \"2020-07-30T00:00:00\", \"2020-07-31T00:00:00\", \"2020-08-01T00:00:00\", \"2020-08-02T00:00:00\", \"2020-08-03T00:00:00\", \"2020-08-04T00:00:00\", \"2020-08-05T00:00:00\", \"2020-08-06T00:00:00\", \"2020-08-07T00:00:00\", \"2020-08-08T00:00:00\", \"2020-08-09T00:00:00\", \"2020-08-10T00:00:00\", \"2020-08-11T00:00:00\", \"2020-08-12T00:00:00\", \"2020-08-13T00:00:00\", \"2020-08-14T00:00:00\", \"2020-08-15T00:00:00\", \"2020-08-16T00:00:00\", \"2020-08-17T00:00:00\", \"2020-08-18T00:00:00\", \"2020-08-19T00:00:00\", \"2020-08-20T00:00:00\", \"2020-08-21T00:00:00\", \"2020-08-22T00:00:00\", \"2020-08-23T00:00:00\", \"2020-08-24T00:00:00\", \"2020-08-25T00:00:00\", \"2020-08-26T00:00:00\", \"2020-08-27T00:00:00\", \"2020-08-28T00:00:00\", \"2020-08-29T00:00:00\", \"2020-08-30T00:00:00\", \"2020-08-31T00:00:00\", \"2020-09-01T00:00:00\", \"2020-09-02T00:00:00\", \"2020-09-03T00:00:00\", \"2020-09-04T00:00:00\", \"2020-09-05T00:00:00\", \"2020-09-06T00:00:00\", \"2020-09-07T00:00:00\", \"2020-09-08T00:00:00\", \"2020-09-09T00:00:00\", \"2020-09-10T00:00:00\", \"2020-09-11T00:00:00\", \"2020-09-12T00:00:00\", \"2020-09-13T00:00:00\", \"2020-09-14T00:00:00\", \"2020-09-15T00:00:00\", \"2020-09-16T00:00:00\", \"2020-09-17T00:00:00\", \"2020-09-18T00:00:00\", \"2020-09-19T00:00:00\", \"2020-09-20T00:00:00\", \"2020-09-21T00:00:00\", \"2020-09-22T00:00:00\", \"2020-09-23T00:00:00\", \"2020-09-24T00:00:00\", \"2020-09-25T00:00:00\", \"2020-09-26T00:00:00\", \"2020-09-27T00:00:00\", \"2020-09-28T00:00:00\", \"2020-09-29T00:00:00\", \"2020-09-30T00:00:00\", \"2020-10-01T00:00:00\", \"2020-10-02T00:00:00\", \"2020-10-03T00:00:00\", \"2020-10-04T00:00:00\", \"2020-10-05T00:00:00\", \"2020-10-06T00:00:00\", \"2020-10-07T00:00:00\", \"2020-10-08T00:00:00\", \"2020-10-09T00:00:00\", \"2020-10-10T00:00:00\", \"2020-10-11T00:00:00\", \"2020-10-12T00:00:00\", \"2020-10-13T00:00:00\", \"2020-10-14T00:00:00\", \"2020-10-15T00:00:00\", \"2020-10-16T00:00:00\", \"2020-10-17T00:00:00\", \"2020-10-18T00:00:00\", \"2020-10-19T00:00:00\", \"2020-10-20T00:00:00\", \"2020-10-21T00:00:00\", \"2020-10-22T00:00:00\", \"2020-10-23T00:00:00\", \"2020-10-24T00:00:00\", \"2020-10-25T00:00:00\", \"2020-10-26T00:00:00\", \"2020-10-27T00:00:00\", \"2020-10-28T00:00:00\", \"2020-10-29T00:00:00\", \"2020-10-30T00:00:00\", \"2020-10-31T00:00:00\", \"2020-11-01T00:00:00\", \"2020-11-02T00:00:00\", \"2020-11-03T00:00:00\", \"2020-11-04T00:00:00\", \"2020-11-05T00:00:00\", \"2020-11-06T00:00:00\", \"2020-11-07T00:00:00\", \"2020-11-08T00:00:00\", \"2020-11-09T00:00:00\", \"2020-11-10T00:00:00\", \"2020-11-11T00:00:00\", \"2020-11-12T00:00:00\", \"2020-11-13T00:00:00\", \"2020-11-14T00:00:00\", \"2020-11-15T00:00:00\", \"2020-11-16T00:00:00\", \"2020-11-17T00:00:00\", \"2020-11-18T00:00:00\", \"2020-11-19T00:00:00\", \"2020-11-20T00:00:00\", \"2020-11-21T00:00:00\", \"2020-11-22T00:00:00\", \"2020-11-23T00:00:00\", \"2020-11-24T00:00:00\", \"2020-11-25T00:00:00\", \"2020-11-26T00:00:00\", \"2020-11-27T00:00:00\", \"2020-11-28T00:00:00\", \"2020-11-29T00:00:00\", \"2020-11-30T00:00:00\", \"2020-12-01T00:00:00\", \"2020-12-02T00:00:00\", \"2020-12-03T00:00:00\", \"2020-12-04T00:00:00\", \"2020-12-05T00:00:00\", \"2020-12-06T00:00:00\", \"2020-12-07T00:00:00\", \"2020-12-08T00:00:00\", \"2020-12-09T00:00:00\", \"2020-12-10T00:00:00\", \"2020-12-11T00:00:00\", \"2020-12-12T00:00:00\", \"2020-12-13T00:00:00\", \"2020-12-14T00:00:00\", \"2020-12-15T00:00:00\", \"2020-12-16T00:00:00\", \"2020-12-17T00:00:00\", \"2020-12-18T00:00:00\", \"2020-12-19T00:00:00\", \"2020-12-20T00:00:00\", \"2020-12-21T00:00:00\", \"2020-12-22T00:00:00\", \"2020-12-23T00:00:00\", \"2020-12-24T00:00:00\", \"2020-12-25T00:00:00\", \"2020-12-26T00:00:00\", \"2020-12-27T00:00:00\", \"2020-12-28T00:00:00\", \"2020-12-29T00:00:00\", \"2020-12-30T00:00:00\", \"2020-12-31T00:00:00\", \"2021-01-01T00:00:00\", \"2021-01-02T00:00:00\", \"2021-01-03T00:00:00\", \"2021-01-04T00:00:00\", \"2021-01-05T00:00:00\", \"2021-01-06T00:00:00\", \"2021-01-07T00:00:00\", \"2021-01-08T00:00:00\", \"2021-01-09T00:00:00\", \"2021-01-10T00:00:00\", \"2021-01-11T00:00:00\", \"2021-01-12T00:00:00\", \"2021-01-13T00:00:00\", \"2021-01-14T00:00:00\", \"2021-01-15T00:00:00\", \"2021-01-16T00:00:00\", \"2021-01-17T00:00:00\", \"2021-01-18T00:00:00\", \"2021-01-19T00:00:00\", \"2021-01-20T00:00:00\", \"2021-01-21T00:00:00\", \"2021-01-22T00:00:00\", \"2021-01-23T00:00:00\", \"2021-01-24T00:00:00\", \"2021-01-25T00:00:00\", \"2021-01-26T00:00:00\", \"2021-01-27T00:00:00\", \"2021-01-28T00:00:00\", \"2021-01-29T00:00:00\", \"2021-01-30T00:00:00\", \"2021-01-31T00:00:00\", \"2021-02-01T00:00:00\", \"2021-02-02T00:00:00\", \"2021-02-03T00:00:00\", \"2021-02-04T00:00:00\", \"2021-02-05T00:00:00\", \"2021-02-06T00:00:00\", \"2021-02-07T00:00:00\", \"2021-02-08T00:00:00\", \"2021-02-09T00:00:00\", \"2021-02-10T00:00:00\", \"2021-02-11T00:00:00\", \"2021-02-12T00:00:00\", \"2021-02-13T00:00:00\", \"2021-02-14T00:00:00\", \"2021-02-15T00:00:00\", \"2021-02-16T00:00:00\", \"2021-02-17T00:00:00\", \"2021-02-18T00:00:00\", \"2021-02-19T00:00:00\", \"2021-02-20T00:00:00\", \"2021-02-21T00:00:00\", \"2021-02-22T00:00:00\", \"2021-02-23T00:00:00\", \"2021-02-24T00:00:00\", \"2021-02-25T00:00:00\", \"2021-02-26T00:00:00\", \"2021-02-27T00:00:00\", \"2021-02-28T00:00:00\", \"2021-03-01T00:00:00\", \"2021-03-02T00:00:00\", \"2021-03-03T00:00:00\", \"2021-03-04T00:00:00\", \"2021-03-05T00:00:00\", \"2021-03-06T00:00:00\", \"2021-03-07T00:00:00\", \"2021-03-08T00:00:00\", \"2021-03-09T00:00:00\", \"2021-03-10T00:00:00\", \"2021-03-11T00:00:00\", \"2021-03-12T00:00:00\", \"2021-03-13T00:00:00\", \"2021-03-14T00:00:00\", \"2021-03-15T00:00:00\", \"2021-03-16T00:00:00\", \"2021-03-17T00:00:00\", \"2021-03-18T00:00:00\", \"2021-03-19T00:00:00\", \"2021-03-20T00:00:00\", \"2021-03-21T00:00:00\", \"2021-03-22T00:00:00\", \"2021-03-23T00:00:00\", \"2021-03-24T00:00:00\", \"2021-03-25T00:00:00\", \"2021-03-26T00:00:00\", \"2021-03-27T00:00:00\", \"2021-03-28T00:00:00\", \"2021-03-29T00:00:00\", \"2021-03-30T00:00:00\", \"2021-03-31T00:00:00\", \"2021-04-01T00:00:00\", \"2021-04-02T00:00:00\", \"2021-04-03T00:00:00\", \"2021-04-04T00:00:00\", \"2021-04-05T00:00:00\", \"2021-04-06T00:00:00\", \"2021-04-07T00:00:00\", \"2021-04-08T00:00:00\", \"2021-04-09T00:00:00\", \"2021-04-10T00:00:00\", \"2021-04-11T00:00:00\", \"2021-04-12T00:00:00\", \"2021-04-13T00:00:00\", \"2021-04-14T00:00:00\", \"2021-04-15T00:00:00\", \"2021-04-16T00:00:00\", \"2021-04-17T00:00:00\", \"2021-04-18T00:00:00\", \"2021-04-19T00:00:00\", \"2021-04-20T00:00:00\", \"2021-04-21T00:00:00\", \"2021-04-22T00:00:00\", \"2021-04-23T00:00:00\", \"2021-04-24T00:00:00\", \"2021-04-25T00:00:00\", \"2021-04-26T00:00:00\", \"2021-04-27T00:00:00\", \"2021-04-28T00:00:00\", \"2021-04-29T00:00:00\", \"2021-04-30T00:00:00\", \"2021-05-01T00:00:00\", \"2021-05-02T00:00:00\", \"2021-05-03T00:00:00\", \"2021-05-04T00:00:00\", \"2021-05-05T00:00:00\", \"2021-05-06T00:00:00\", \"2021-05-07T00:00:00\", \"2021-05-08T00:00:00\", \"2021-05-09T00:00:00\", \"2021-05-10T00:00:00\", \"2021-05-11T00:00:00\", \"2021-05-12T00:00:00\", \"2021-05-13T00:00:00\", \"2021-05-14T00:00:00\", \"2021-05-15T00:00:00\", \"2021-05-16T00:00:00\", \"2021-05-17T00:00:00\", \"2021-05-18T00:00:00\", \"2021-05-19T00:00:00\", \"2021-05-20T00:00:00\", \"2021-05-21T00:00:00\", \"2021-05-22T00:00:00\", \"2021-05-23T00:00:00\", \"2021-05-24T00:00:00\", \"2021-05-25T00:00:00\", \"2021-05-26T00:00:00\", \"2021-05-27T00:00:00\", \"2021-05-28T00:00:00\", \"2021-05-29T00:00:00\", \"2021-05-30T00:00:00\", \"2021-05-31T00:00:00\", \"2021-06-01T00:00:00\", \"2021-06-02T00:00:00\", \"2021-06-03T00:00:00\", \"2021-06-04T00:00:00\", \"2021-06-05T00:00:00\", \"2021-06-06T00:00:00\", \"2021-06-07T00:00:00\", \"2021-06-08T00:00:00\", \"2021-06-09T00:00:00\", \"2021-06-10T00:00:00\", \"2021-06-11T00:00:00\", \"2021-06-12T00:00:00\", \"2021-06-13T00:00:00\", \"2021-06-14T00:00:00\", \"2021-06-15T00:00:00\", \"2021-06-16T00:00:00\"], \"y\": [9538.024414, 9509.1396485, 9476.706705666666, 9429.534668, 9410.095898399999, 9392.3515625, 9428.975306857143, 9454.060668875, 9438.45507811111, 9421.090918, 9397.620649909091, 9368.268147833334, 9350.984600384616, 9339.5467355, 9326.109830733332, 9319.998291, 9308.434283058823, 9296.149251277779, 9287.535516, 9276.85585935, 9281.551990285714, 9280.221324545455, 9286.660962956523, 9286.298746708333, 9285.99910152, 9284.243239153846, 9283.956452518518, 9282.515659857143, 9281.16042562069, 9278.216308566665, 9273.506993419356, 9269.6909179375, 9266.337861, 9263.969611647059, 9261.119949742857, 9264.280164888889, 9271.336465324324, 9279.487407447368, 9286.087540025641, 9295.86318355, 9310.72425204878, 9350.727794785713, 9387.055595883721, 9425.996781727272, 9463.446050288889, 9503.881283913042, 9551.87514538298, 9583.161376895832, 9617.103973959183, 9648.87974604, 9693.05970698, 9739.050078080001, 9782.8427148, 9832.163261660002, 9879.03123042, 9930.52085932, 9965.75701168, 10004.86253902, 10054.273085879999, 10104.35423822, 10158.40984368, 10215.3581054, 10277.57451166, 10333.58208978, 10385.98789056, 10438.988828059999, 10488.3704101, 10540.26083978, 10590.908027279998, 10644.92109368, 10684.73429682, 10729.456015560001, 10767.35730462, 10812.64794916, 10857.2091015, 10906.632285079999, 10954.718691339998, 11009.2559765, 11052.67238276, 11073.721581979999, 11101.31330074, 11121.676796840002, 11144.103027320001, 11167.7779492, 11187.123652340002, 11204.47285156, 11221.228359379998, 11237.62521484, 11255.73078124, 11268.663632799999, 11284.17705078, 11280.29861328, 11281.5402539, 11278.51070312, 11275.17814454, 11270.595742200001, 11254.16931642, 11242.34222658, 11228.184453140002, 11208.583886739998, 11188.554414080001, 11167.004746100001, 11150.06404298, 11130.47166018, 11111.38341798, 11090.79779298, 11078.33964844, 11059.107558599999, 11035.128085960001, 11011.06052736, 10987.435136740001, 10965.65908206, 10933.004316440001, 10906.762382859999, 10890.0692774, 10870.9743946, 10865.051835999999, 10859.098964920002, 10853.485644620001, 10845.67736338, 10846.944804780002, 10847.08453134, 10847.059043059999, 10843.371074319999, 10842.900957139998, 10843.511582140001, 10848.2218751, 10865.286093839999, 10896.32324228, 10950.048086039998, 11001.973066499999, 11059.2051954, 11115.103125079999, 11180.796230539998, 11243.591601619999, 11307.50230476, 11371.16998054, 11438.7715821, 11504.67035164, 11569.20501962, 11634.59427742, 11701.3293946, 11793.428261799998, 11885.766074299998, 11963.549433660002, 12051.25384772, 12139.13472664, 12235.7075782, 12338.965175860001, 12459.974765700003, 12571.41996102, 12678.73693368, 12782.759941499999, 12901.5936329, 13040.07521494, 13179.17873056, 13319.76816416, 13479.72785166, 13640.86921884, 13796.95939462, 13950.553242279999, 14116.622519620001, 14278.83166024, 14408.2613868, 14531.956875079999, 14667.83259774, 14805.45505868, 14970.288144619997, 15118.66447274, 15275.00267586, 15435.3205079, 15579.40882822, 15736.05097666, 15895.79136728, 16049.956796960001, 16181.5389454, 16314.2905665, 16423.1166212, 16524.9768751, 16642.41921884, 16763.1056251, 16887.41503916, 17014.25160166, 17167.37917978, 17358.056718840002, 17552.05828134, 17758.52447274, 17952.45046884, 18133.76992196, 18338.42072274, 18524.24162118, 18716.28646494, 18897.9853126, 19115.4084376, 19344.17925792, 19576.284082140002, 19816.88652354, 20087.88753916, 20353.895156339997, 20615.85132822, 20932.0405079, 21266.31820322, 21586.64472666, 21932.171093859997, 22315.75023448, 22747.090976679996, 23206.7013673, 23639.36601574, 24033.650195420003, 24377.583281360003, 24688.76007824, 25052.93796886, 25462.042109479997, 25855.536992300003, 26236.931757920003, 26598.409023539996, 26967.460820419998, 27296.34019542, 27631.235234480002, 27863.72738292, 28134.934648540002, 28402.2921876, 28664.99515634, 28925.42058602, 29192.98496102, 29435.213007899998, 29697.12679696, 30018.154687579998, 30342.367070399996, 30628.5811329, 30916.47699226, 31241.749882900003, 31602.85015634, 31915.159531340003, 32221.94246104, 32544.50347666, 32845.17566415999, 33299.5590626, 33773.11953136, 34195.8226173, 34689.18234386, 35164.56039074, 35613.37488292, 36058.979922, 36492.435195440004, 36934.73644544, 37430.4678517, 37887.2447267, 38424.9729689, 38959.48031263999, 39467.73386734, 39896.23980484, 40233.2900392, 40547.54808606, 40752.93785169999, 40892.3122267, 41000.129101700004, 41097.79355482, 41323.28957046, 41579.53621108, 41911.84183608, 42136.738007960004, 42331.53753921999, 42573.27785172, 42873.84886733999, 43202.953789219995, 43566.834648599994, 43965.60957046, 44410.75699234, 44940.88480484, 45505.63128921999, 46050.32476577999, 46522.68117203999, 47011.45136736, 47537.472265799996, 48085.99976579999, 48619.940703299995, 49099.885859539994, 49564.96382828, 49993.2595314, 50417.29492203999, 50762.57445328, 51047.215859519994, 51411.4407814, 51768.0248439, 52101.7195314, 52478.654687660004, 52733.0792189, 52981.833750139995, 53265.38625014, 53494.88585952, 53696.866640759996, 53929.927422019995, 54136.73921888, 54341.6852345, 54478.66656262, 54602.165468859996, 54733.469609479995, 54811.571640719994, 54893.680546979995, 54940.75070322, 55126.67343758, 55412.378828220004, 55684.552421980006, 55974.13117198, 56261.01234386, 56461.56695324, 56673.29687512, 56810.13265636, 56920.67468762, 56945.15531262, 56995.80500011999, 57018.27625012, 57020.11367198, 57076.414921979995, 57132.14679698, 57132.158515719995, 57083.0896876, 57081.99078133999, 57091.91000007999, 56999.66984382, 56957.62937508, 56906.15617196, 56918.53828134001, 56869.050703220004, 56859.00031260001, 56868.1428126, 56866.51625010001, 56833.2437501, 56876.75234386001, 56764.98414072001, 56703.82265634, 56667.350156340006, 56499.80765634, 56309.458593840005, 56061.193906340006, 55764.37796884, 55326.07296884, 54963.35109384, 54527.528750080004, 54090.575156340004, 53633.90898446, 53232.85750008, 52819.74437508, 52441.78117196, 52089.54179696, 51637.01484384001, 51164.436093840006, 50682.13398446, 50224.69179696, 49760.52125008, 49241.95570322, 48763.93710946, 48235.54500008, 47715.12835944001, 47218.6995313, 46765.59000004, 46320.5573438, 45937.99914068, 45593.92929692, 45305.37179691999, 44994.54906253999, 44775.48890628, 44606.125234420004, 44328.7960938, 44001.98148442]}, {\"line\": {\"color\": \"orange\", \"width\": 2}, \"mode\": \"lines\", \"name\": \"Moving average of 100 days\", \"type\": \"scatter\", \"x\": [\"2020-06-16T00:00:00\", \"2020-06-17T00:00:00\", \"2020-06-18T00:00:00\", \"2020-06-19T00:00:00\", \"2020-06-20T00:00:00\", \"2020-06-21T00:00:00\", \"2020-06-22T00:00:00\", \"2020-06-23T00:00:00\", \"2020-06-24T00:00:00\", \"2020-06-25T00:00:00\", \"2020-06-26T00:00:00\", \"2020-06-27T00:00:00\", \"2020-06-28T00:00:00\", \"2020-06-29T00:00:00\", \"2020-06-30T00:00:00\", \"2020-07-01T00:00:00\", \"2020-07-02T00:00:00\", \"2020-07-03T00:00:00\", \"2020-07-04T00:00:00\", \"2020-07-05T00:00:00\", \"2020-07-06T00:00:00\", \"2020-07-07T00:00:00\", \"2020-07-08T00:00:00\", \"2020-07-09T00:00:00\", \"2020-07-10T00:00:00\", \"2020-07-11T00:00:00\", \"2020-07-12T00:00:00\", \"2020-07-13T00:00:00\", \"2020-07-14T00:00:00\", \"2020-07-15T00:00:00\", \"2020-07-16T00:00:00\", \"2020-07-17T00:00:00\", \"2020-07-18T00:00:00\", \"2020-07-19T00:00:00\", \"2020-07-20T00:00:00\", \"2020-07-21T00:00:00\", \"2020-07-22T00:00:00\", \"2020-07-23T00:00:00\", \"2020-07-24T00:00:00\", \"2020-07-25T00:00:00\", \"2020-07-26T00:00:00\", \"2020-07-27T00:00:00\", \"2020-07-28T00:00:00\", \"2020-07-29T00:00:00\", \"2020-07-30T00:00:00\", \"2020-07-31T00:00:00\", \"2020-08-01T00:00:00\", \"2020-08-02T00:00:00\", \"2020-08-03T00:00:00\", \"2020-08-04T00:00:00\", \"2020-08-05T00:00:00\", \"2020-08-06T00:00:00\", \"2020-08-07T00:00:00\", \"2020-08-08T00:00:00\", \"2020-08-09T00:00:00\", \"2020-08-10T00:00:00\", \"2020-08-11T00:00:00\", \"2020-08-12T00:00:00\", \"2020-08-13T00:00:00\", \"2020-08-14T00:00:00\", \"2020-08-15T00:00:00\", \"2020-08-16T00:00:00\", \"2020-08-17T00:00:00\", \"2020-08-18T00:00:00\", \"2020-08-19T00:00:00\", \"2020-08-20T00:00:00\", \"2020-08-21T00:00:00\", \"2020-08-22T00:00:00\", \"2020-08-23T00:00:00\", \"2020-08-24T00:00:00\", \"2020-08-25T00:00:00\", \"2020-08-26T00:00:00\", \"2020-08-27T00:00:00\", \"2020-08-28T00:00:00\", \"2020-08-29T00:00:00\", \"2020-08-30T00:00:00\", \"2020-08-31T00:00:00\", \"2020-09-01T00:00:00\", \"2020-09-02T00:00:00\", \"2020-09-03T00:00:00\", \"2020-09-04T00:00:00\", \"2020-09-05T00:00:00\", \"2020-09-06T00:00:00\", \"2020-09-07T00:00:00\", \"2020-09-08T00:00:00\", \"2020-09-09T00:00:00\", \"2020-09-10T00:00:00\", \"2020-09-11T00:00:00\", \"2020-09-12T00:00:00\", \"2020-09-13T00:00:00\", \"2020-09-14T00:00:00\", \"2020-09-15T00:00:00\", \"2020-09-16T00:00:00\", \"2020-09-17T00:00:00\", \"2020-09-18T00:00:00\", \"2020-09-19T00:00:00\", \"2020-09-20T00:00:00\", \"2020-09-21T00:00:00\", \"2020-09-22T00:00:00\", \"2020-09-23T00:00:00\", \"2020-09-24T00:00:00\", \"2020-09-25T00:00:00\", \"2020-09-26T00:00:00\", \"2020-09-27T00:00:00\", \"2020-09-28T00:00:00\", \"2020-09-29T00:00:00\", \"2020-09-30T00:00:00\", \"2020-10-01T00:00:00\", \"2020-10-02T00:00:00\", \"2020-10-03T00:00:00\", \"2020-10-04T00:00:00\", \"2020-10-05T00:00:00\", \"2020-10-06T00:00:00\", \"2020-10-07T00:00:00\", \"2020-10-08T00:00:00\", \"2020-10-09T00:00:00\", \"2020-10-10T00:00:00\", \"2020-10-11T00:00:00\", \"2020-10-12T00:00:00\", \"2020-10-13T00:00:00\", \"2020-10-14T00:00:00\", \"2020-10-15T00:00:00\", \"2020-10-16T00:00:00\", \"2020-10-17T00:00:00\", \"2020-10-18T00:00:00\", \"2020-10-19T00:00:00\", \"2020-10-20T00:00:00\", \"2020-10-21T00:00:00\", \"2020-10-22T00:00:00\", \"2020-10-23T00:00:00\", \"2020-10-24T00:00:00\", \"2020-10-25T00:00:00\", \"2020-10-26T00:00:00\", \"2020-10-27T00:00:00\", \"2020-10-28T00:00:00\", \"2020-10-29T00:00:00\", \"2020-10-30T00:00:00\", \"2020-10-31T00:00:00\", \"2020-11-01T00:00:00\", \"2020-11-02T00:00:00\", \"2020-11-03T00:00:00\", \"2020-11-04T00:00:00\", \"2020-11-05T00:00:00\", \"2020-11-06T00:00:00\", \"2020-11-07T00:00:00\", \"2020-11-08T00:00:00\", \"2020-11-09T00:00:00\", \"2020-11-10T00:00:00\", \"2020-11-11T00:00:00\", \"2020-11-12T00:00:00\", \"2020-11-13T00:00:00\", \"2020-11-14T00:00:00\", \"2020-11-15T00:00:00\", \"2020-11-16T00:00:00\", \"2020-11-17T00:00:00\", \"2020-11-18T00:00:00\", \"2020-11-19T00:00:00\", \"2020-11-20T00:00:00\", \"2020-11-21T00:00:00\", \"2020-11-22T00:00:00\", \"2020-11-23T00:00:00\", \"2020-11-24T00:00:00\", \"2020-11-25T00:00:00\", \"2020-11-26T00:00:00\", \"2020-11-27T00:00:00\", \"2020-11-28T00:00:00\", \"2020-11-29T00:00:00\", \"2020-11-30T00:00:00\", \"2020-12-01T00:00:00\", \"2020-12-02T00:00:00\", \"2020-12-03T00:00:00\", \"2020-12-04T00:00:00\", \"2020-12-05T00:00:00\", \"2020-12-06T00:00:00\", \"2020-12-07T00:00:00\", \"2020-12-08T00:00:00\", \"2020-12-09T00:00:00\", \"2020-12-10T00:00:00\", \"2020-12-11T00:00:00\", \"2020-12-12T00:00:00\", \"2020-12-13T00:00:00\", \"2020-12-14T00:00:00\", \"2020-12-15T00:00:00\", \"2020-12-16T00:00:00\", \"2020-12-17T00:00:00\", \"2020-12-18T00:00:00\", \"2020-12-19T00:00:00\", \"2020-12-20T00:00:00\", \"2020-12-21T00:00:00\", \"2020-12-22T00:00:00\", \"2020-12-23T00:00:00\", \"2020-12-24T00:00:00\", \"2020-12-25T00:00:00\", \"2020-12-26T00:00:00\", \"2020-12-27T00:00:00\", \"2020-12-28T00:00:00\", \"2020-12-29T00:00:00\", \"2020-12-30T00:00:00\", \"2020-12-31T00:00:00\", \"2021-01-01T00:00:00\", \"2021-01-02T00:00:00\", \"2021-01-03T00:00:00\", \"2021-01-04T00:00:00\", \"2021-01-05T00:00:00\", \"2021-01-06T00:00:00\", \"2021-01-07T00:00:00\", \"2021-01-08T00:00:00\", \"2021-01-09T00:00:00\", \"2021-01-10T00:00:00\", \"2021-01-11T00:00:00\", \"2021-01-12T00:00:00\", \"2021-01-13T00:00:00\", \"2021-01-14T00:00:00\", \"2021-01-15T00:00:00\", \"2021-01-16T00:00:00\", \"2021-01-17T00:00:00\", \"2021-01-18T00:00:00\", \"2021-01-19T00:00:00\", \"2021-01-20T00:00:00\", \"2021-01-21T00:00:00\", \"2021-01-22T00:00:00\", \"2021-01-23T00:00:00\", \"2021-01-24T00:00:00\", \"2021-01-25T00:00:00\", \"2021-01-26T00:00:00\", \"2021-01-27T00:00:00\", \"2021-01-28T00:00:00\", \"2021-01-29T00:00:00\", \"2021-01-30T00:00:00\", \"2021-01-31T00:00:00\", \"2021-02-01T00:00:00\", \"2021-02-02T00:00:00\", \"2021-02-03T00:00:00\", \"2021-02-04T00:00:00\", \"2021-02-05T00:00:00\", \"2021-02-06T00:00:00\", \"2021-02-07T00:00:00\", \"2021-02-08T00:00:00\", \"2021-02-09T00:00:00\", \"2021-02-10T00:00:00\", \"2021-02-11T00:00:00\", \"2021-02-12T00:00:00\", \"2021-02-13T00:00:00\", \"2021-02-14T00:00:00\", \"2021-02-15T00:00:00\", \"2021-02-16T00:00:00\", \"2021-02-17T00:00:00\", \"2021-02-18T00:00:00\", \"2021-02-19T00:00:00\", \"2021-02-20T00:00:00\", \"2021-02-21T00:00:00\", \"2021-02-22T00:00:00\", \"2021-02-23T00:00:00\", \"2021-02-24T00:00:00\", \"2021-02-25T00:00:00\", \"2021-02-26T00:00:00\", \"2021-02-27T00:00:00\", \"2021-02-28T00:00:00\", \"2021-03-01T00:00:00\", \"2021-03-02T00:00:00\", \"2021-03-03T00:00:00\", \"2021-03-04T00:00:00\", \"2021-03-05T00:00:00\", \"2021-03-06T00:00:00\", \"2021-03-07T00:00:00\", \"2021-03-08T00:00:00\", \"2021-03-09T00:00:00\", \"2021-03-10T00:00:00\", \"2021-03-11T00:00:00\", \"2021-03-12T00:00:00\", \"2021-03-13T00:00:00\", \"2021-03-14T00:00:00\", \"2021-03-15T00:00:00\", \"2021-03-16T00:00:00\", \"2021-03-17T00:00:00\", \"2021-03-18T00:00:00\", \"2021-03-19T00:00:00\", \"2021-03-20T00:00:00\", \"2021-03-21T00:00:00\", \"2021-03-22T00:00:00\", \"2021-03-23T00:00:00\", \"2021-03-24T00:00:00\", \"2021-03-25T00:00:00\", \"2021-03-26T00:00:00\", \"2021-03-27T00:00:00\", \"2021-03-28T00:00:00\", \"2021-03-29T00:00:00\", \"2021-03-30T00:00:00\", \"2021-03-31T00:00:00\", \"2021-04-01T00:00:00\", \"2021-04-02T00:00:00\", \"2021-04-03T00:00:00\", \"2021-04-04T00:00:00\", \"2021-04-05T00:00:00\", \"2021-04-06T00:00:00\", \"2021-04-07T00:00:00\", \"2021-04-08T00:00:00\", \"2021-04-09T00:00:00\", \"2021-04-10T00:00:00\", \"2021-04-11T00:00:00\", \"2021-04-12T00:00:00\", \"2021-04-13T00:00:00\", \"2021-04-14T00:00:00\", \"2021-04-15T00:00:00\", \"2021-04-16T00:00:00\", \"2021-04-17T00:00:00\", \"2021-04-18T00:00:00\", \"2021-04-19T00:00:00\", \"2021-04-20T00:00:00\", \"2021-04-21T00:00:00\", \"2021-04-22T00:00:00\", \"2021-04-23T00:00:00\", \"2021-04-24T00:00:00\", \"2021-04-25T00:00:00\", \"2021-04-26T00:00:00\", \"2021-04-27T00:00:00\", \"2021-04-28T00:00:00\", \"2021-04-29T00:00:00\", \"2021-04-30T00:00:00\", \"2021-05-01T00:00:00\", \"2021-05-02T00:00:00\", \"2021-05-03T00:00:00\", \"2021-05-04T00:00:00\", \"2021-05-05T00:00:00\", \"2021-05-06T00:00:00\", \"2021-05-07T00:00:00\", \"2021-05-08T00:00:00\", \"2021-05-09T00:00:00\", \"2021-05-10T00:00:00\", \"2021-05-11T00:00:00\", \"2021-05-12T00:00:00\", \"2021-05-13T00:00:00\", \"2021-05-14T00:00:00\", \"2021-05-15T00:00:00\", \"2021-05-16T00:00:00\", \"2021-05-17T00:00:00\", \"2021-05-18T00:00:00\", \"2021-05-19T00:00:00\", \"2021-05-20T00:00:00\", \"2021-05-21T00:00:00\", \"2021-05-22T00:00:00\", \"2021-05-23T00:00:00\", \"2021-05-24T00:00:00\", \"2021-05-25T00:00:00\", \"2021-05-26T00:00:00\", \"2021-05-27T00:00:00\", \"2021-05-28T00:00:00\", \"2021-05-29T00:00:00\", \"2021-05-30T00:00:00\", \"2021-05-31T00:00:00\", \"2021-06-01T00:00:00\", \"2021-06-02T00:00:00\", \"2021-06-03T00:00:00\", \"2021-06-04T00:00:00\", \"2021-06-05T00:00:00\", \"2021-06-06T00:00:00\", \"2021-06-07T00:00:00\", \"2021-06-08T00:00:00\", \"2021-06-09T00:00:00\", \"2021-06-10T00:00:00\", \"2021-06-11T00:00:00\", \"2021-06-12T00:00:00\", \"2021-06-13T00:00:00\", \"2021-06-14T00:00:00\", \"2021-06-15T00:00:00\", \"2021-06-16T00:00:00\"], \"y\": [9538.024414, 9509.1396485, 9476.706705666666, 9429.534668, 9410.095898399999, 9392.3515625, 9428.975306857143, 9454.060668875, 9438.45507811111, 9421.090918, 9397.620649909091, 9368.268147833334, 9350.984600384616, 9339.5467355, 9326.109830733332, 9319.998291, 9308.434283058823, 9296.149251277779, 9287.535516, 9276.85585935, 9281.551990285714, 9280.221324545455, 9286.660962956523, 9286.298746708333, 9285.99910152, 9284.243239153846, 9283.956452518518, 9282.515659857143, 9281.16042562069, 9278.216308566665, 9273.506993419356, 9269.6909179375, 9266.337861, 9263.969611647059, 9261.119949742857, 9264.280164888889, 9271.336465324324, 9279.487407447368, 9286.087540025641, 9295.86318355, 9310.72425204878, 9350.727794785713, 9387.055595883721, 9425.996781727272, 9463.446050288889, 9503.881283913042, 9551.87514538298, 9583.161376895832, 9617.103973959183, 9648.87974604, 9690.01979927451, 9730.20736925, 9765.51426145283, 9802.33892138889, 9836.400745690908, 9872.859863232143, 9899.836451438598, 9928.889867275862, 9960.334745711863, 9990.477018183334, 10021.218349721312, 10051.405210387096, 10086.373418857142, 10116.13685603125, 10141.400645984617, 10167.718394833333, 10188.983631597015, 10210.937183999999, 10232.00835026087, 10254.045312442857, 10269.708544183099, 10286.634304416666, 10300.836539438356, 10317.615775391892, 10333.472434840001, 10351.604453578946, 10368.866997207791, 10389.400478217949, 10402.370525075949, 10400.40710445, 10401.782491765432, 10398.950600195123, 10397.521696132531, 10397.188860190476, 10394.063304211764, 10392.299168767442, 10391.963990643679, 10392.065707102272, 10392.62868677528, 10391.863433133334, 10395.038976626374, 10399.407587445652, 10405.595734602151, 10411.376527148937, 10416.989257789473, 10424.045064270833, 10429.34636756701, 10429.682218571428, 10430.780983646466, 10428.73181639, 10440.80706053, 10453.02741209, 10466.45337889, 10481.31746092, 10495.2073242, 10510.65932615, 10522.048330059999, 10531.985048809998, 10544.70058592, 10557.707382789999, 10572.92249021, 10590.50859373, 10605.28941405, 10620.172236319999, 10638.02858398, 10654.981611330002, 10676.71112305, 10699.679902349999, 10722.19683595, 10745.29922853, 10765.8395508, 10788.270273449998, 10807.20817384, 10828.00951174, 10850.05502932, 10875.07193361, 10901.47028322, 10937.27103517, 10974.49781252, 11011.884834010001, 11051.643183619999, 11090.44099612, 11129.6030762, 11174.287089869998, 11215.357626979998, 11255.987578159999, 11296.199169959998, 11338.19839847, 11380.200566439999, 11418.93432621, 11459.385664100002, 11490.81400394, 11537.48425785, 11582.138388710002, 11619.3637891, 11660.92479496, 11696.652021529999, 11739.02490239, 11783.574814500002, 11834.279326220001, 11879.987187550001, 11922.87083989, 11966.41199224, 12016.032646540001, 12075.72931646, 12134.98826177, 12199.0539063, 12269.41770513, 12337.9986524, 12404.009960989999, 12468.994189509998, 12541.14080084, 12605.91798834, 12657.511884829997, 12711.013076239999, 12769.40349617, 12835.253447340001, 12914.69355477, 12986.07505868, 13060.34001962, 13141.132656339998, 13213.246679779999, 13291.55500986, 13369.5812208, 13446.428877049999, 13512.525263770001, 13581.256220799998, 13644.201357520002, 13710.650058690002, 13796.233652440002, 13882.539345799998, 13973.31011728, 14064.67736337, 14174.08770516, 14300.824160230002, 14429.780293049998, 14564.84722664, 14695.61102547, 14819.2201368, 14953.812871180002, 15079.417949300001, 15208.807929769999, 15345.706787199999, 15500.58725595, 15653.864345789998, 15813.76896493, 15978.01062509, 16161.79755868, 16346.4301661, 16537.91304696, 16751.73023446, 16972.52756845, 17184.70233408, 17416.88236338, 17677.91272471, 17963.13485362, 18263.234765729998, 18559.5469337, 18837.25970713, 19087.27133799, 19319.65666026, 19584.78024424, 19870.43688486, 20131.89918955, 20384.4443165, 20633.120810639997, 20886.45793955, 21133.31417002, 21374.94985361, 21569.36502939, 21785.12757822, 21990.85050791, 22200.5230665, 22410.605976649997, 22621.47087899, 22808.375976649997, 23005.70868173, 23220.635654390004, 23433.67197275, 23635.500175869995, 23839.79130868, 24064.58246103, 24308.550879, 24541.269355559998, 24789.99958994, 25048.280879, 25301.850068449996, 25626.00476572, 25953.44472666, 26267.12167002, 26606.71198252, 26940.42342784, 27255.68009776, 27587.1941798, 27918.30722668, 28255.510263789998, 28623.67718762, 28987.566132930002, 29389.43406262, 29787.66582043, 30199.887187619996, 30581.27900403, 30909.967382929997, 31239.859589959997, 31534.344043089997, 31819.701601689998, 32103.415234499997, 32368.57978528, 32678.469882939997, 32978.55974622, 33300.30095716, 33594.83798841, 33896.789824349995, 34214.40742201, 34555.39031263, 34900.68140638, 35267.14773451, 35630.97488294, 36020.99611341, 36402.306093880004, 36820.28296888, 37226.30847669, 37593.83816419, 37968.43597669, 38365.22861341, 38760.60638685, 39158.53375013, 39559.020273559996, 39953.66544934, 40310.920332149995, 40666.88595715, 41002.16216809, 41325.03300793, 41663.300156369995, 41994.98365247, 42323.11150403001, 42661.91517591, 43016.319140750005, 43377.47664075, 43730.60443372, 44092.034101690006, 44430.71351575, 44771.65115246999, 45097.85957044, 45417.06021497, 45706.701504029996, 46016.31666028, 46310.35716809, 46618.27230481001, 46926.58042981, 47204.242285279994, 47511.45662121, 47822.83443371, 48116.05025402, 48363.53451184, 48576.66228528001, 48730.84802747, 48885.54521497, 49066.71111341, 49250.10544934999, 49428.49857434999, 49566.27150404, 49674.90689467, 49796.69576185, 49975.13189466001, 50167.5502931, 50349.496582160005, 50524.34962903, 50746.373886839996, 51016.397402459996, 51252.65056652, 51503.977070429995, 51714.418672, 51964.994824350004, 52203.26148451, 52472.5000392, 52744.04175795, 52983.20105482, 53199.10378919, 53435.005937630005, 53591.139531379995, 53733.19855481, 53857.28300793, 53955.62421886999, 54038.74171887, 54081.456718869995, 54121.51632825, 54029.57609386999, 53972.59242199, 53896.45750011, 53792.73050793, 53665.387812609995, 53581.392461049996, 53478.24179698, 53391.73320323, 53284.10417978999, 53119.59015635001, 52948.95285166, 52746.852812590005, 52559.186171969995, 52350.635976649995, 52184.3145704, 52088.15796884, 51960.04871103, 51844.62976570999, 51739.85593758, 51613.578476639996, 51496.92710945999, 51374.065898520006, 51257.30199227, 51125.26355477, 50995.17703133, 50896.8825782, 50813.1194532, 50702.605507889995, 50567.06414069999]}],                        {\"template\": {\"data\": {\"bar\": [{\"error_x\": {\"color\": \"#f2f5fa\"}, \"error_y\": {\"color\": \"#f2f5fa\"}, \"marker\": {\"line\": {\"color\": \"rgb(17,17,17)\", \"width\": 0.5}}, \"type\": \"bar\"}], \"barpolar\": [{\"marker\": {\"line\": {\"color\": \"rgb(17,17,17)\", \"width\": 0.5}}, \"type\": \"barpolar\"}], \"carpet\": [{\"aaxis\": {\"endlinecolor\": \"#A2B1C6\", \"gridcolor\": \"#506784\", \"linecolor\": \"#506784\", \"minorgridcolor\": \"#506784\", \"startlinecolor\": \"#A2B1C6\"}, \"baxis\": {\"endlinecolor\": \"#A2B1C6\", \"gridcolor\": \"#506784\", \"linecolor\": \"#506784\", \"minorgridcolor\": \"#506784\", \"startlinecolor\": \"#A2B1C6\"}, \"type\": \"carpet\"}], \"choropleth\": [{\"colorbar\": {\"outlinewidth\": 0, \"ticks\": \"\"}, \"type\": \"choropleth\"}], \"contour\": [{\"colorbar\": {\"outlinewidth\": 0, \"ticks\": \"\"}, \"colorscale\": [[0.0, \"#0d0887\"], [0.1111111111111111, \"#46039f\"], [0.2222222222222222, \"#7201a8\"], [0.3333333333333333, \"#9c179e\"], [0.4444444444444444, \"#bd3786\"], [0.5555555555555556, \"#d8576b\"], [0.6666666666666666, \"#ed7953\"], [0.7777777777777778, \"#fb9f3a\"], [0.8888888888888888, \"#fdca26\"], [1.0, \"#f0f921\"]], \"type\": \"contour\"}], \"contourcarpet\": [{\"colorbar\": {\"outlinewidth\": 0, \"ticks\": \"\"}, \"type\": \"contourcarpet\"}], \"heatmap\": [{\"colorbar\": {\"outlinewidth\": 0, \"ticks\": \"\"}, \"colorscale\": [[0.0, \"#0d0887\"], [0.1111111111111111, \"#46039f\"], [0.2222222222222222, \"#7201a8\"], [0.3333333333333333, \"#9c179e\"], [0.4444444444444444, \"#bd3786\"], [0.5555555555555556, \"#d8576b\"], [0.6666666666666666, \"#ed7953\"], [0.7777777777777778, \"#fb9f3a\"], [0.8888888888888888, \"#fdca26\"], [1.0, \"#f0f921\"]], \"type\": \"heatmap\"}], \"heatmapgl\": [{\"colorbar\": {\"outlinewidth\": 0, \"ticks\": \"\"}, \"colorscale\": [[0.0, \"#0d0887\"], [0.1111111111111111, \"#46039f\"], [0.2222222222222222, \"#7201a8\"], [0.3333333333333333, \"#9c179e\"], [0.4444444444444444, \"#bd3786\"], [0.5555555555555556, \"#d8576b\"], [0.6666666666666666, \"#ed7953\"], [0.7777777777777778, \"#fb9f3a\"], [0.8888888888888888, \"#fdca26\"], [1.0, \"#f0f921\"]], \"type\": \"heatmapgl\"}], \"histogram\": [{\"marker\": {\"colorbar\": {\"outlinewidth\": 0, \"ticks\": \"\"}}, \"type\": \"histogram\"}], \"histogram2d\": [{\"colorbar\": {\"outlinewidth\": 0, \"ticks\": \"\"}, \"colorscale\": [[0.0, \"#0d0887\"], [0.1111111111111111, \"#46039f\"], [0.2222222222222222, \"#7201a8\"], [0.3333333333333333, \"#9c179e\"], [0.4444444444444444, \"#bd3786\"], [0.5555555555555556, \"#d8576b\"], [0.6666666666666666, \"#ed7953\"], [0.7777777777777778, \"#fb9f3a\"], [0.8888888888888888, \"#fdca26\"], [1.0, \"#f0f921\"]], \"type\": \"histogram2d\"}], \"histogram2dcontour\": [{\"colorbar\": {\"outlinewidth\": 0, \"ticks\": \"\"}, \"colorscale\": [[0.0, \"#0d0887\"], [0.1111111111111111, \"#46039f\"], [0.2222222222222222, \"#7201a8\"], [0.3333333333333333, \"#9c179e\"], [0.4444444444444444, \"#bd3786\"], [0.5555555555555556, \"#d8576b\"], [0.6666666666666666, \"#ed7953\"], [0.7777777777777778, \"#fb9f3a\"], [0.8888888888888888, \"#fdca26\"], [1.0, \"#f0f921\"]], \"type\": \"histogram2dcontour\"}], \"mesh3d\": [{\"colorbar\": {\"outlinewidth\": 0, \"ticks\": \"\"}, \"type\": \"mesh3d\"}], \"parcoords\": [{\"line\": {\"colorbar\": {\"outlinewidth\": 0, \"ticks\": \"\"}}, \"type\": \"parcoords\"}], \"pie\": [{\"automargin\": true, \"type\": \"pie\"}], \"scatter\": [{\"marker\": {\"line\": {\"color\": \"#283442\"}}, \"type\": \"scatter\"}], \"scatter3d\": [{\"line\": {\"colorbar\": {\"outlinewidth\": 0, \"ticks\": \"\"}}, \"marker\": {\"colorbar\": {\"outlinewidth\": 0, \"ticks\": \"\"}}, \"type\": \"scatter3d\"}], \"scattercarpet\": [{\"marker\": {\"colorbar\": {\"outlinewidth\": 0, \"ticks\": \"\"}}, \"type\": \"scattercarpet\"}], \"scattergeo\": [{\"marker\": {\"colorbar\": {\"outlinewidth\": 0, \"ticks\": \"\"}}, \"type\": \"scattergeo\"}], \"scattergl\": [{\"marker\": {\"line\": {\"color\": \"#283442\"}}, \"type\": \"scattergl\"}], \"scattermapbox\": [{\"marker\": {\"colorbar\": {\"outlinewidth\": 0, \"ticks\": \"\"}}, \"type\": \"scattermapbox\"}], \"scatterpolar\": [{\"marker\": {\"colorbar\": {\"outlinewidth\": 0, \"ticks\": \"\"}}, \"type\": \"scatterpolar\"}], \"scatterpolargl\": [{\"marker\": {\"colorbar\": {\"outlinewidth\": 0, \"ticks\": \"\"}}, \"type\": \"scatterpolargl\"}], \"scatterternary\": [{\"marker\": {\"colorbar\": {\"outlinewidth\": 0, \"ticks\": \"\"}}, \"type\": \"scatterternary\"}], \"surface\": [{\"colorbar\": {\"outlinewidth\": 0, \"ticks\": \"\"}, \"colorscale\": [[0.0, \"#0d0887\"], [0.1111111111111111, \"#46039f\"], [0.2222222222222222, \"#7201a8\"], [0.3333333333333333, \"#9c179e\"], [0.4444444444444444, \"#bd3786\"], [0.5555555555555556, \"#d8576b\"], [0.6666666666666666, \"#ed7953\"], [0.7777777777777778, \"#fb9f3a\"], [0.8888888888888888, \"#fdca26\"], [1.0, \"#f0f921\"]], \"type\": \"surface\"}], \"table\": [{\"cells\": {\"fill\": {\"color\": \"#506784\"}, \"line\": {\"color\": \"rgb(17,17,17)\"}}, \"header\": {\"fill\": {\"color\": \"#2a3f5f\"}, \"line\": {\"color\": \"rgb(17,17,17)\"}}, \"type\": \"table\"}]}, \"layout\": {\"annotationdefaults\": {\"arrowcolor\": \"#f2f5fa\", \"arrowhead\": 0, \"arrowwidth\": 1}, \"autotypenumbers\": \"strict\", \"coloraxis\": {\"colorbar\": {\"outlinewidth\": 0, \"ticks\": \"\"}}, \"colorscale\": {\"diverging\": [[0, \"#8e0152\"], [0.1, \"#c51b7d\"], [0.2, \"#de77ae\"], [0.3, \"#f1b6da\"], [0.4, \"#fde0ef\"], [0.5, \"#f7f7f7\"], [0.6, \"#e6f5d0\"], [0.7, \"#b8e186\"], [0.8, \"#7fbc41\"], [0.9, \"#4d9221\"], [1, \"#276419\"]], \"sequential\": [[0.0, \"#0d0887\"], [0.1111111111111111, \"#46039f\"], [0.2222222222222222, \"#7201a8\"], [0.3333333333333333, \"#9c179e\"], [0.4444444444444444, \"#bd3786\"], [0.5555555555555556, \"#d8576b\"], [0.6666666666666666, \"#ed7953\"], [0.7777777777777778, \"#fb9f3a\"], [0.8888888888888888, \"#fdca26\"], [1.0, \"#f0f921\"]], \"sequentialminus\": [[0.0, \"#0d0887\"], [0.1111111111111111, \"#46039f\"], [0.2222222222222222, \"#7201a8\"], [0.3333333333333333, \"#9c179e\"], [0.4444444444444444, \"#bd3786\"], [0.5555555555555556, \"#d8576b\"], [0.6666666666666666, \"#ed7953\"], [0.7777777777777778, \"#fb9f3a\"], [0.8888888888888888, \"#fdca26\"], [1.0, \"#f0f921\"]]}, \"colorway\": [\"#636efa\", \"#EF553B\", \"#00cc96\", \"#ab63fa\", \"#FFA15A\", \"#19d3f3\", \"#FF6692\", \"#B6E880\", \"#FF97FF\", \"#FECB52\"], \"font\": {\"color\": \"#f2f5fa\"}, \"geo\": {\"bgcolor\": \"rgb(17,17,17)\", \"lakecolor\": \"rgb(17,17,17)\", \"landcolor\": \"rgb(17,17,17)\", \"showlakes\": true, \"showland\": true, \"subunitcolor\": \"#506784\"}, \"hoverlabel\": {\"align\": \"left\"}, \"hovermode\": \"closest\", \"mapbox\": {\"style\": \"dark\"}, \"paper_bgcolor\": \"rgb(17,17,17)\", \"plot_bgcolor\": \"rgb(17,17,17)\", \"polar\": {\"angularaxis\": {\"gridcolor\": \"#506784\", \"linecolor\": \"#506784\", \"ticks\": \"\"}, \"bgcolor\": \"rgb(17,17,17)\", \"radialaxis\": {\"gridcolor\": \"#506784\", \"linecolor\": \"#506784\", \"ticks\": \"\"}}, \"scene\": {\"xaxis\": {\"backgroundcolor\": \"rgb(17,17,17)\", \"gridcolor\": \"#506784\", \"gridwidth\": 2, \"linecolor\": \"#506784\", \"showbackground\": true, \"ticks\": \"\", \"zerolinecolor\": \"#C8D4E3\"}, \"yaxis\": {\"backgroundcolor\": \"rgb(17,17,17)\", \"gridcolor\": \"#506784\", \"gridwidth\": 2, \"linecolor\": \"#506784\", \"showbackground\": true, \"ticks\": \"\", \"zerolinecolor\": \"#C8D4E3\"}, \"zaxis\": {\"backgroundcolor\": \"rgb(17,17,17)\", \"gridcolor\": \"#506784\", \"gridwidth\": 2, \"linecolor\": \"#506784\", \"showbackground\": true, \"ticks\": \"\", \"zerolinecolor\": \"#C8D4E3\"}}, \"shapedefaults\": {\"line\": {\"color\": \"#f2f5fa\"}}, \"sliderdefaults\": {\"bgcolor\": \"#C8D4E3\", \"bordercolor\": \"rgb(17,17,17)\", \"borderwidth\": 1, \"tickwidth\": 0}, \"ternary\": {\"aaxis\": {\"gridcolor\": \"#506784\", \"linecolor\": \"#506784\", \"ticks\": \"\"}, \"baxis\": {\"gridcolor\": \"#506784\", \"linecolor\": \"#506784\", \"ticks\": \"\"}, \"bgcolor\": \"rgb(17,17,17)\", \"caxis\": {\"gridcolor\": \"#506784\", \"linecolor\": \"#506784\", \"ticks\": \"\"}}, \"title\": {\"x\": 0.05}, \"updatemenudefaults\": {\"bgcolor\": \"#506784\", \"borderwidth\": 0}, \"xaxis\": {\"automargin\": true, \"gridcolor\": \"#283442\", \"linecolor\": \"#506784\", \"ticks\": \"\", \"title\": {\"standoff\": 15}, \"zerolinecolor\": \"#283442\", \"zerolinewidth\": 2}, \"yaxis\": {\"automargin\": true, \"gridcolor\": \"#283442\", \"linecolor\": \"#506784\", \"ticks\": \"\", \"title\": {\"standoff\": 15}, \"zerolinecolor\": \"#283442\", \"zerolinewidth\": 2}}}, \"title\": {\"font\": {\"size\": 25}, \"text\": \"Moving averages\"}},                        {\"responsive\": true}                    ).then(function(){\n",
       "                            \n",
       "var gd = document.getElementById('c752a573-2d66-43b9-80f0-8b0eb6ba5bcb');\n",
       "var x = new MutationObserver(function (mutations, observer) {{\n",
       "        var display = window.getComputedStyle(gd).display;\n",
       "        if (!display || display === 'none') {{\n",
       "            console.log([gd, 'removed!']);\n",
       "            Plotly.purge(gd);\n",
       "            observer.disconnect();\n",
       "        }}\n",
       "}});\n",
       "\n",
       "// Listen for the removal of the full notebook cells\n",
       "var notebookContainer = gd.closest('#notebook-container');\n",
       "if (notebookContainer) {{\n",
       "    x.observe(notebookContainer, {childList: true});\n",
       "}}\n",
       "\n",
       "// Listen for the clearing of the current output cell\n",
       "var outputEl = gd.closest('.output');\n",
       "if (outputEl) {{\n",
       "    x.observe(outputEl, {childList: true});\n",
       "}}\n",
       "\n",
       "                        })                };                });            </script>        </div>"
      ]
     },
     "metadata": {},
     "output_type": "display_data"
    }
   ],
   "source": [
    "avg_20 = daily.Close.rolling(window=20, min_periods=1).mean()\n",
    "avg_50 = daily.Close.rolling(window=50, min_periods=1).mean()\n",
    "avg_100 = daily.Close.rolling(window=100, min_periods=1).mean()\n",
    "\n",
    "set_1 = {\n",
    "    'x':daily.index,\n",
    "    'open': daily.Open,\n",
    "    'close':daily.Close,\n",
    "    'high':daily.High,\n",
    "    'low':daily.Low,\n",
    "    'type':'candlestick'\n",
    "}\n",
    "\n",
    "set_2 = {\n",
    "    'x':daily.index,\n",
    "    'y':avg_20,\n",
    "    'type':'scatter',\n",
    "    'mode':'lines',\n",
    "    'line':{\n",
    "        'width':2,\n",
    "        'color':'white'\n",
    "    },\n",
    "    'name':'Moving average of 20 days'\n",
    "}\n",
    "\n",
    "set_3 = {\n",
    "    'x':daily.index,\n",
    "    'y':avg_50,\n",
    "    'type':'scatter',\n",
    "    'mode':'lines',\n",
    "    'line':{\n",
    "        'width':2,\n",
    "        'color':'yellow'\n",
    "    },\n",
    "    'name':'Moving average of 50 days'\n",
    "}\n",
    "\n",
    "set_4 = {\n",
    "    'x':daily.index,\n",
    "    'y':avg_100,\n",
    "    'type':'scatter',\n",
    "    'mode':'lines',\n",
    "    'line':{\n",
    "        'width':2,\n",
    "        'color':'orange'\n",
    "    },\n",
    "    'name':'Moving average of 100 days'\n",
    "}\n",
    "\n",
    "data = [set_1, set_2, set_3, set_4]\n",
    "\n",
    "layout = go.Layout({\n",
    "    'title':{\n",
    "        'text':'Moving averages',\n",
    "        'font':{\n",
    "            'size':25\n",
    "        }\n",
    "    }\n",
    "})\n",
    "\n",
    "fig = go.Figure(data=data, layout=layout)\n",
    "fig.update_layout({\"template\":\"plotly_dark\"})\n",
    "fig.show()"
   ]
  },
  {
   "cell_type": "markdown",
   "id": "coastal-confusion",
   "metadata": {
    "papermill": {
     "duration": 0.023842,
     "end_time": "2021-06-18T11:02:40.592101",
     "exception": false,
     "start_time": "2021-06-18T11:02:40.568259",
     "status": "completed"
    },
    "tags": []
   },
   "source": [
    "#### 3.3 Average True Range <a id=11></a>"
   ]
  },
  {
   "cell_type": "markdown",
   "id": "cordless-solomon",
   "metadata": {
    "papermill": {
     "duration": 0.023558,
     "end_time": "2021-06-18T11:02:40.639731",
     "exception": false,
     "start_time": "2021-06-18T11:02:40.616173",
     "status": "completed"
    },
    "tags": []
   },
   "source": [
    "$$\n",
    "TR = MAX([(H-L), Abs(H-Cp), Abs(L-Cp)])\n",
    "$$\n",
    "\n",
    "\n",
    "\n",
    "$$\n",
    "ATR = 1/n * \\sum_{n=x_i}^{x_n} TR\n",
    "$$\n",
    "\n",
    "The true range indicator is taken as the greatest of the following: current high less the current low; the absolute value of the current high less the previous close; and the absolute value of the current low less the previous close. The ATR is then a moving average, generally using 14 days, of the true ranges. Simply put, a stock experiencing a high level of volatility has a higher ATR, and a low volatility stock has a lower ATR.\n",
    "\n"
   ]
  },
  {
   "cell_type": "code",
   "execution_count": 14,
   "id": "international-research",
   "metadata": {
    "_kg_hide-input": true,
    "execution": {
     "iopub.execute_input": "2021-06-18T11:02:40.701163Z",
     "iopub.status.busy": "2021-06-18T11:02:40.700017Z",
     "iopub.status.idle": "2021-06-18T11:02:40.933567Z",
     "shell.execute_reply": "2021-06-18T11:02:40.932953Z",
     "shell.execute_reply.started": "2021-06-18T10:33:11.189455Z"
    },
    "papermill": {
     "duration": 0.268978,
     "end_time": "2021-06-18T11:02:40.933705",
     "exception": false,
     "start_time": "2021-06-18T11:02:40.664727",
     "status": "completed"
    },
    "tags": []
   },
   "outputs": [
    {
     "data": {
      "text/html": [
       "<div>                            <div id=\"cde97b9d-75cc-427a-b6c2-e8d8bf1c1fbf\" class=\"plotly-graph-div\" style=\"height:525px; width:100%;\"></div>            <script type=\"text/javascript\">                require([\"plotly\"], function(Plotly) {                    window.PLOTLYENV=window.PLOTLYENV || {};                                    if (document.getElementById(\"cde97b9d-75cc-427a-b6c2-e8d8bf1c1fbf\")) {                    Plotly.newPlot(                        \"cde97b9d-75cc-427a-b6c2-e8d8bf1c1fbf\",                        [{\"close\": [9538.024414, 9480.254883, 9411.84082, 9288.018555, 9332.34082, 9303.629883, 9648.717773, 9629.658203, 9313.610352, 9264.813477, 9162.917969, 9045.390625, 9143.582031, 9190.854492, 9137.993164, 9228.325195, 9123.410156, 9087.303711, 9132.488281, 9073.942383, 9375.474609, 9252.277344, 9428.333008, 9277.967773, 9278.807617, 9240.34668, 9276.5, 9243.614258, 9243.213867, 9192.836914, 9132.227539, 9151.392578, 9159.040039, 9185.817383, 9164.231445, 9374.887695, 9525.363281, 9581.072266, 9536.892578, 9677.113281, 9905.166992, 10990.873047, 10912.823242, 11100.467773, 11111.213867, 11323.466797, 11759.592773, 11053.614258, 11246.348633, 11205.892578, 11747.022461, 11779.773438, 11601.472656, 11754.045898, 11675.739258, 11878.111328, 11410.525391, 11584.93457, 11784.137695, 11768.871094, 11865.698242, 11892.803711, 12254.402344, 11991.233398, 11758.283203, 11878.37207, 11592.489258, 11681.825195, 11664.847656, 11774.595703, 11366.134766, 11488.363281, 11323.397461, 11542.5, 11506.865234, 11711.505859, 11680.820313, 11970.478516, 11414.03418, 10245.296875, 10511.813477, 10169.567383, 10280.351563, 10369.563477, 10131.516602, 10242.347656, 10363.138672, 10400.915039, 10442.170898, 10323.755859, 10680.837891, 10796.951172, 10974.905273, 10948.990234, 10944.585938, 11094.34668, 10938.271484, 10462.259766, 10538.459961, 10225.864258, 10745.548828, 10702.290039, 10754.4375, 10774.426758, 10721.327148, 10848.830078, 10787.618164, 10623.330078, 10585.164063, 10565.493164, 10684.428711, 10804.000977, 10621.664063, 10679.136719, 10923.62793, 10923.62793, 11296.361328, 11384.181641, 11384.181641, 11384.181641, 11429.506836, 11495.349609, 11322.123047, 11358.101563, 11483.359375, 11742.037109, 11916.334961, 12823.689453, 12965.891602, 12931.539063, 13108.0625, 13031.173828, 13075.248047, 13654.21875, 13271.285156, 13437.882813, 13546.522461, 13780.995117, 13737.109375, 13550.489258, 13950.300781, 14133.707031, 15579.848633, 15565.880859, 14833.753906, 15479.567383, 15332.31543, 15290.902344, 15701.339844, 16276.34375, 16317.808594, 16068.138672, 15955.587891, 16716.111328, 17645.40625, 17804.005859, 17817.089844, 18621.314453, 18642.232422, 18370.001953, 18364.121094, 19107.464844, 18732.121094, 17150.623047, 17108.402344, 17717.414063, 18177.484375, 19625.835938, 18802.998047, 19201.091797, 19445.398438, 18699.765625, 19154.230469, 19345.121094, 19191.630859, 18321.144531, 18553.916016, 18264.992188, 18058.904297, 18803.65625, 19142.382813, 19246.644531, 19417.076172, 21310.597656, 22805.162109, 23137.960938, 23869.832031, 23477.294922, 22803.082031, 23783.029297, 23241.345703, 23735.949219, 24664.791016, 26437.037109, 26272.294922, 27084.808594, 27362.4375, 28840.953125, 29001.720703, 29374.152344, 32127.267578, 32782.023438, 31971.914063, 33992.429688, 36824.363281, 39371.042969, 40797.609375, 40254.546875, 38356.441406, 35566.65625, 33922.960938, 37316.359375, 39187.328125, 36825.367188, 36178.140625, 35791.277344, 36630.074219, 36069.804688, 35547.75, 30825.699219, 33005.761719, 32067.642578, 32289.378906, 32366.392578, 32569.849609, 30432.546875, 31649.605469, 34316.386719, 34269.523438, 33114.359375, 33537.175781, 35510.289063, 37472.089844, 36926.066406, 38144.308594, 39266.011719, 38903.441406, 46196.464844, 46481.105469, 44918.183594, 47909.332031, 47504.851563, 47105.515625, 48717.289063, 47945.058594, 49199.871094, 52149.007813, 51679.796875, 55888.132813, 56099.519531, 57539.945313, 54207.320313, 48824.425781, 49705.332031, 47093.851563, 46339.761719, 46188.453125, 45137.769531, 49631.242188, 48378.988281, 50538.242188, 48561.167969, 48927.304688, 48912.382813, 51206.691406, 52246.523438, 54824.117188, 56008.550781, 57805.121094, 57332.089844, 61243.085938, 59302.316406, 55907.199219, 56804.902344, 58870.894531, 57858.921875, 58346.652344, 58313.644531, 57523.421875, 54529.144531, 54738.945313, 52774.265625, 51704.160156, 55137.3125, 55973.511719, 55950.746094, 57750.199219, 58917.691406, 58918.832031, 59095.808594, 59384.3125, 57603.890625, 58758.554688, 59057.878906, 58192.359375, 56048.9375, 58323.953125, 58245.003906, 59793.234375, 60204.964844, 59893.453125, 63503.457031, 63109.695313, 63314.011719, 61572.789063, 60683.820313, 56216.183594, 55724.265625, 56473.03125, 53906.089844, 51762.273438, 51093.652344, 50050.867188, 49004.253906, 54021.753906, 55033.117188, 54824.703125, 53555.109375, 57750.175781, 57828.050781, 56631.078125, 57200.292969, 53333.539063, 57424.007813, 56396.515625, 57356.402344, 58803.777344, 58232.316406, 55859.796875, 56704.574219, 49150.535156, 49716.191406, 49880.535156, 46760.1875, 46456.058594, 43537.511719, 42909.402344, 37002.441406, 40782.738281, 37304.691406, 37536.632813, 34770.582031, 38705.980469, 38402.222656, 39294.199219, 38436.96875, 35697.605469, 34616.066406, 35678.128906, 37332.855469, 36684.925781, 37575.179688, 39208.765625, 36894.40625, 35551.957031, 35862.378906, 33560.707031, 33472.632813, 37345.121094, 36702.597656, 37334.398438, 35552.515625, 39097.859375, 40536.070313, 40155.296875, 38692.386719], \"high\": [9579.430664, 9540.422852, 9482.782227, 9440.875977, 9394.97168, 9401.107422, 9655.073242, 9670.541016, 9680.367188, 9340.161133, 9310.516602, 9207.810547, 9197.546875, 9237.573242, 9217.835938, 9309.754883, 9274.962891, 9202.344727, 9183.295898, 9162.183594, 9375.474609, 9360.617188, 9450.335938, 9431.378906, 9287.47168, 9293.532227, 9319.418945, 9306.405273, 9283.841797, 9275.325195, 9214.3125, 9182.253906, 9230.983398, 9201.398438, 9214.270508, 9407.262695, 9530.518555, 9610.24707, 9623.336914, 9704.556641, 10023.807617, 11298.22168, 11204.327148, 11304.397461, 11169.356445, 11415.864258, 11794.775391, 12034.144531, 11453.079102, 11385.381836, 11786.617188, 11902.335938, 11898.038086, 11800.064453, 11806.056641, 12045.140625, 11932.710938, 11748.396484, 11796.396484, 12150.994141, 11963.203125, 11934.901367, 12359.056641, 12335.707031, 12028.923828, 11900.411133, 11899.259766, 11689.407227, 11713.429688, 11807.631836, 11778.299805, 11530.052734, 11570.786133, 11545.615234, 11585.640625, 11715.264648, 11768.876953, 12067.081055, 11964.823242, 11443.022461, 10663.919922, 10581.571289, 10353.927734, 10399.15332, 10414.775391, 10350.542969, 10503.912109, 10434.922852, 10578.837891, 10577.214844, 10800.010742, 10938.631836, 11100.124023, 11037.420898, 11034.908203, 11134.092773, 11095.870117, 10988.304688, 10568.077148, 10637.847656, 10765.794922, 10757.548828, 10778.5, 10804.732422, 10949.123047, 10858.939453, 10856.52832, 10915.84375, 10662.813477, 10614.091797, 10700.791016, 10804.000977, 10803.456055, 10687.268555, 10939.799805, 10939.799805, 11442.210938, 11428.813477, 11428.813477, 11428.813477, 11539.977539, 11569.914063, 11540.061523, 11386.261719, 11483.359375, 11799.092773, 11999.917969, 13184.566406, 13161.59375, 13015.961914, 13145.066406, 13329.183594, 13225.297852, 13759.668945, 13837.695313, 13612.047852, 13651.516602, 14028.213867, 13862.033203, 13808.323242, 13984.981445, 14218.766602, 15706.404297, 15903.4375, 15737.095703, 15637.320313, 15785.136719, 15450.329102, 15916.260742, 16305.003906, 16463.177734, 16317.808594, 16123.110352, 16816.181641, 17782.919922, 18393.949219, 18119.546875, 18773.226563, 18936.621094, 18688.96875, 18711.425781, 19348.271484, 19390.964844, 18866.285156, 17445.023438, 17853.939453, 18283.628906, 19749.263672, 19845.974609, 19308.330078, 19566.191406, 19511.404297, 19160.449219, 19390.5, 19411.828125, 19283.478516, 18626.292969, 18553.298828, 18268.453125, 18919.550781, 19381.535156, 19305.099609, 19525.007813, 21458.908203, 23642.660156, 23238.601563, 24085.855469, 24209.660156, 24059.982422, 23789.902344, 24024.490234, 23768.337891, 24710.101563, 26718.070313, 28288.839844, 27389.111328, 27370.720703, 28937.740234, 29244.876953, 29600.626953, 33155.117188, 34608.558594, 33440.21875, 34437.589844, 36879.699219, 40180.367188, 41946.738281, 41436.351563, 41420.191406, 38346.53125, 36568.527344, 37599.960938, 39966.40625, 39577.710938, 37864.367188, 36722.351563, 37299.285156, 37755.890625, 36378.328125, 35552.679688, 33811.851563, 33360.976563, 32944.007813, 34802.742188, 32794.550781, 32564.029297, 31891.300781, 38406.261719, 34834.707031, 34288.332031, 34638.214844, 35896.882813, 37480.1875, 38592.175781, 38225.90625, 40846.546875, 39621.835938, 46203.929688, 48003.722656, 47145.566406, 48463.46875, 48745.734375, 48047.746094, 49487.640625, 48875.570313, 50341.101563, 52533.914063, 52474.105469, 56113.652344, 57505.226563, 58330.570313, 57533.390625, 54204.929688, 51290.136719, 51948.96875, 48370.785156, 48253.269531, 46716.429688, 49784.015625, 50127.511719, 52535.136719, 51735.089844, 49396.429688, 49147.21875, 51384.367188, 52314.070313, 54824.117188, 57258.253906, 58091.0625, 57996.621094, 61683.863281, 61597.917969, 60540.992188, 56833.179688, 58969.816406, 60116.25, 59498.375, 60031.285156, 58767.898438, 58471.480469, 55985.441406, 57262.382813, 53392.386719, 55137.3125, 56568.214844, 56610.3125, 58342.097656, 59447.222656, 59930.027344, 59586.070313, 60267.1875, 60110.269531, 58913.746094, 59891.296875, 59479.578125, 58731.144531, 58338.738281, 58937.046875, 61276.664063, 60790.554688, 61253.035156, 63742.285156, 64863.097656, 63821.671875, 63594.722656, 62572.175781, 61057.457031, 57520.054688, 57062.148438, 56757.972656, 55410.230469, 52120.792969, 51167.5625, 50506.019531, 54288.003906, 55416.964844, 56227.207031, 55115.84375, 57900.71875, 58448.339844, 57902.59375, 58973.308594, 57214.179688, 57911.363281, 58363.316406, 58606.632813, 59464.613281, 59210.882813, 59519.355469, 56872.542969, 57939.363281, 51330.84375, 51438.117188, 50639.664063, 49720.042969, 46623.558594, 45812.457031, 43546.117188, 42462.984375, 42172.171875, 38831.054688, 38289.21875, 39835.140625, 39776.351563, 40782.078125, 40379.617188, 38856.96875, 37234.5, 36400.667969, 37468.25, 37896.734375, 38231.339844, 39478.953125, 39242.484375, 37917.714844, 36436.421875, 36790.570313, 34017.386719, 37537.371094, 38334.324219, 37608.695313, 37408.925781, 39322.78125, 40978.363281, 41295.269531, 40472.21875], \"low\": [9400.445313, 9327.339844, 9328.395508, 9274.295898, 9247.379883, 9300.430664, 9296.87207, 9547.24707, 9278.233398, 9095.324219, 9101.738281, 8998.216797, 8975.525391, 9041.875977, 9084.837891, 9104.735352, 9036.623047, 9058.794922, 9053.629883, 8977.015625, 9058.664063, 9201.81543, 9249.5, 9234.999023, 9118.001953, 9199.485352, 9197.450195, 9224.292969, 9171.661133, 9171.933594, 9088.947266, 9089.202148, 9100.824219, 9097.632813, 9137.509766, 9149.389648, 9319.65332, 9483.003906, 9481.454102, 9530.211914, 9652.847656, 9903.969727, 10632.631836, 10856.141602, 10895.455078, 10987.053711, 11239.682617, 11018.129883, 11012.415039, 11094.145508, 11158.285156, 11598.713867, 11408.59375, 11558.431641, 11548.78418, 11662.256836, 11195.708984, 11249.605469, 11216.87207, 11685.455078, 11768.697266, 11737.188477, 11806.696289, 11954.525391, 11687.333008, 11710.063477, 11564.979492, 11448.805664, 11559.920898, 11623.25, 11189.850586, 11296.993164, 11185.941406, 11316.422852, 11466.292969, 11492.381836, 11598.318359, 11601.128906, 11290.793945, 10182.464844, 10207.94043, 9946.675781, 10056.885742, 9916.493164, 9945.110352, 10017.250977, 10238.135742, 10140.836914, 10292.386719, 10224.330078, 10266.008789, 10656.459961, 10704.884766, 10774.62793, 10829.657227, 10909.618164, 10814.477539, 10380.260742, 10382.726563, 10185.774414, 10215.205078, 10594.047852, 10682.082031, 10643.458008, 10716.676758, 10665.344727, 10689.670898, 10493.552734, 10440.311523, 10527.978516, 10531.342773, 10646.443359, 10565.197266, 10591.963867, 10569.823242, 10569.823242, 11056.94043, 11288.62793, 11288.62793, 11288.62793, 11307.831055, 11303.603516, 11223.012695, 11285.345703, 11347.578125, 11408.290039, 11681.480469, 11900.928711, 12717.09375, 12752.647461, 12885.74707, 12910.061523, 12822.382813, 13060.837891, 12932.250977, 12980.05957, 13136.198242, 13457.530273, 13628.37793, 13243.160156, 13325.441406, 13580.47168, 14102.088867, 15226.839844, 14423.203125, 14744.110352, 14865.529297, 15124.959961, 15290.006836, 15534.771484, 15992.152344, 15749.193359, 15793.53418, 15880.706055, 16564.544922, 17352.90625, 17382.554688, 17765.794922, 18444.359375, 17671.384766, 18000.796875, 18128.65625, 18581.146484, 16351.035156, 16526.423828, 16910.652344, 17559.117188, 18178.322266, 18321.921875, 18347.71875, 18925.785156, 18697.193359, 18590.193359, 18897.894531, 18931.142578, 18269.945313, 17935.546875, 17957.064453, 17619.533203, 18046.041016, 18734.332031, 19012.708984, 19079.841797, 19298.316406, 21234.675781, 22399.8125, 22826.472656, 23147.710938, 22159.367188, 22430.605469, 22802.646484, 22777.597656, 23463.673828, 24522.689453, 25922.769531, 26207.640625, 25987.298828, 27360.089844, 28201.992188, 28803.585938, 29091.181641, 32052.316406, 28722.755859, 30221.1875, 33514.035156, 36491.191406, 36838.636719, 38980.875, 35984.628906, 30549.599609, 32697.976563, 32584.667969, 36868.5625, 34659.589844, 35633.554688, 34069.320313, 34883.84375, 36069.804688, 33570.476563, 30250.75, 28953.373047, 31493.160156, 31106.685547, 32087.787109, 31030.265625, 29367.138672, 30023.207031, 32064.814453, 32940.1875, 32270.175781, 32384.228516, 33489.21875, 35443.984375, 36317.5, 36658.761719, 38138.386719, 37446.152344, 38076.324219, 45166.960938, 43881.152344, 44187.761719, 46424.976563, 46392.28125, 47114.507813, 46347.476563, 47201.304688, 49072.378906, 51015.765625, 50937.277344, 54626.558594, 55672.609375, 48967.566406, 45290.589844, 47213.5, 47093.851563, 44454.84375, 45269.027344, 43241.617188, 45115.09375, 47228.84375, 48274.320313, 47656.929688, 46542.515625, 47257.527344, 48918.679688, 49506.054688, 51981.832031, 53290.890625, 54484.59375, 55376.648438, 56217.972656, 59302.316406, 55393.164063, 53555.027344, 54528.628906, 54253.578125, 56643.703125, 58213.296875, 56005.617188, 54288.15625, 53470.695313, 52514.332031, 50856.570313, 51579.855469, 54242.910156, 55071.113281, 55139.339844, 57251.550781, 57726.417969, 58505.277344, 58869.28125, 57603.890625, 57168.675781, 57694.824219, 57646.808594, 55604.023438, 55879.085938, 57807.863281, 58038.707031, 59289.796875, 59589.875, 59869.957031, 61554.796875, 62208.964844, 60222.53125, 60361.351563, 52829.535156, 54368.59375, 53448.046875, 53695.46875, 50583.8125, 47714.664063, 48805.285156, 47159.484375, 48852.796875, 53319.1875, 53887.917969, 52418.027344, 53129.601563, 57052.273438, 56141.90625, 56590.871094, 53191.425781, 52969.054688, 55382.507813, 55321.847656, 56975.210938, 56482.003906, 54071.457031, 54608.652344, 49150.535156, 46980.019531, 48868.578125, 46664.140625, 43963.351563, 42207.289063, 42367.832031, 30681.496094, 35050.617188, 33616.453125, 35383.683594, 31227.339844, 34551.082031, 36581.429688, 37905.835938, 37247.902344, 34779.039063, 33693.929688, 33520.738281, 34241.945313, 35787.085938, 35966.308594, 37243.972656, 35717.722656, 34900.414063, 35304.578125, 33480.640625, 31114.443359, 32475.865234, 35847.59375, 36044.449219, 34728.191406, 34864.109375, 38757.285156, 39609.46875, 38562.894531], \"open\": [9454.266602, 9533.78418, 9481.567383, 9410.293945, 9290.959961, 9330.926758, 9300.915039, 9644.076172, 9632.149414, 9314.126953, 9260.995117, 9167.824219, 9048.460938, 9140.029297, 9185.581055, 9145.985352, 9231.139648, 9124.842773, 9084.233398, 9126.09082, 9072.849609, 9349.161133, 9253.020508, 9427.994141, 9273.357422, 9277.511719, 9241.054688, 9277.205078, 9238.703125, 9241.897461, 9191.980469, 9131.8125, 9151.183594, 9158.005859, 9187.220703, 9162.514648, 9375.080078, 9527.141602, 9585.514648, 9539.485352, 9680.234375, 9905.217773, 11017.463867, 10912.953125, 11099.833008, 11110.210938, 11322.570313, 11758.764648, 11043.768555, 11246.203125, 11203.823242, 11749.871094, 11778.894531, 11604.553711, 11737.325195, 11662.256836, 11881.647461, 11404.59668, 11588.405273, 11772.65918, 11768.697266, 11866.685547, 11895.658203, 12251.895508, 11990.884766, 11761.5, 11878.026367, 11585.477539, 11679.696289, 11663.689453, 11773.588867, 11366.894531, 11485.608398, 11325.295898, 11541.054688, 11508.713867, 11713.306641, 11679.316406, 11964.823242, 11407.191406, 10230.365234, 10512.530273, 10167.216797, 10280.998047, 10369.306641, 10134.151367, 10242.330078, 10369.02832, 10409.861328, 10452.399414, 10328.734375, 10677.754883, 10797.761719, 10973.251953, 10951.820313, 10933.75293, 11095.870117, 10934.925781, 10459.624023, 10539.457031, 10227.479492, 10747.472656, 10702.237305, 10752.939453, 10771.641602, 10712.462891, 10845.411133, 10785.010742, 10624.390625, 10583.806641, 10567.919922, 10688.03418, 10799.77832, 10619.803711, 10677.625, 10677.625, 11059.142578, 11296.082031, 11296.082031, 11296.082031, 11429.047852, 11426.602539, 11502.828125, 11322.123047, 11355.982422, 11495.038086, 11745.974609, 11913.077148, 12801.635742, 12971.548828, 12931.574219, 13108.063477, 13031.201172, 13075.242188, 13654.214844, 13271.298828, 13437.874023, 13546.532227, 13780.995117, 13737.032227, 13550.451172, 13950.488281, 14133.733398, 15579.729492, 15565.880859, 14833.753906, 15479.595703, 15332.350586, 15290.90918, 15701.298828, 16276.44043, 16317.808594, 16068.139648, 15955.577148, 16685.691406, 17645.191406, 17803.861328, 17817.083984, 18621.316406, 18642.232422, 18370.017578, 18365.015625, 19104.410156, 18729.839844, 17153.914063, 17112.933594, 17719.634766, 18178.322266, 19633.769531, 18801.744141, 19205.925781, 19446.966797, 18698.384766, 19154.179688, 19343.128906, 19191.529297, 18320.884766, 18553.298828, 18263.929688, 18051.320313, 18806.765625, 19144.492188, 19246.919922, 19418.818359, 21308.351563, 22806.796875, 23132.865234, 23861.765625, 23474.455078, 22794.039063, 23781.974609, 23240.203125, 23733.570313, 24677.015625, 26439.373047, 26280.822266, 27081.810547, 27360.089844, 28841.574219, 28994.009766, 29376.455078, 32129.408203, 32810.949219, 31977.041016, 34013.613281, 36833.875, 39381.765625, 40788.640625, 40254.21875, 38346.53125, 35516.359375, 33915.121094, 37325.109375, 39156.707031, 36821.648438, 36163.648438, 35792.238281, 36642.234375, 36050.113281, 35549.398438, 30817.625, 32985.757813, 32064.376953, 32285.798828, 32358.613281, 32564.029297, 30441.041016, 34318.671875, 34295.933594, 34270.878906, 33114.578125, 33533.199219, 35510.820313, 37475.105469, 36931.546875, 38138.386719, 39250.191406, 38886.828125, 46184.992188, 46469.761719, 44898.710938, 47877.035156, 47491.203125, 47114.507813, 48696.535156, 47944.457031, 49207.277344, 52140.972656, 51675.980469, 55887.335938, 56068.566406, 57532.738281, 54204.929688, 48835.085938, 49709.082031, 47180.464844, 46344.773438, 46194.015625, 45159.503906, 49612.105469, 48415.816406, 50522.304688, 48527.03125, 48899.230469, 48918.679688, 51174.117188, 52272.96875, 54824.011719, 55963.179688, 57821.21875, 57343.371094, 61221.132813, 59267.429688, 55840.785156, 56825.828125, 58893.078125, 57850.441406, 58332.261719, 58309.914063, 57517.890625, 54511.660156, 54710.488281, 52726.746094, 51683.011719, 55137.566406, 55974.941406, 55947.898438, 57750.132813, 58930.277344, 58926.5625, 59098.878906, 59397.410156, 57604.839844, 58760.875, 59171.933594, 58186.507813, 56099.914063, 58326.5625, 58253.777344, 59846.230469, 60175.945313, 59890.019531, 63523.753906, 63075.195313, 63258.503906, 61529.921875, 60701.886719, 56191.585938, 55681.792969, 56471.128906, 53857.105469, 51739.808594, 51143.226563, 50052.832031, 49077.792969, 54030.304688, 55036.636719, 54858.089844, 53568.664063, 57714.664063, 57825.863281, 56620.273438, 57214.179688, 53252.164063, 57441.308594, 56413.953125, 57352.765625, 58877.390625, 58250.871094, 55847.242188, 56714.53125, 49735.433594, 49682.980469, 49855.496094, 46716.636719, 46415.898438, 43488.058594, 42944.976563, 36753.667969, 40596.949219, 37371.03125, 37531.449219, 34700.363281, 38795.78125, 38392.625, 39316.890625, 38507.082031, 35684.15625, 34607.40625, 35658.59375, 37293.792969, 36699.921875, 37599.410156, 39242.484375, 36880.15625, 35538.609375, 35835.265625, 33589.519531, 33416.976563, 37389.515625, 36697.03125, 37340.144531, 35555.789063, 39016.96875, 40526.78125, 40023.757813], \"type\": \"candlestick\", \"x\": [\"2020-06-16T00:00:00\", \"2020-06-17T00:00:00\", \"2020-06-18T00:00:00\", \"2020-06-19T00:00:00\", \"2020-06-20T00:00:00\", \"2020-06-21T00:00:00\", \"2020-06-22T00:00:00\", \"2020-06-23T00:00:00\", \"2020-06-24T00:00:00\", \"2020-06-25T00:00:00\", \"2020-06-26T00:00:00\", \"2020-06-27T00:00:00\", \"2020-06-28T00:00:00\", \"2020-06-29T00:00:00\", \"2020-06-30T00:00:00\", \"2020-07-01T00:00:00\", \"2020-07-02T00:00:00\", \"2020-07-03T00:00:00\", \"2020-07-04T00:00:00\", \"2020-07-05T00:00:00\", \"2020-07-06T00:00:00\", \"2020-07-07T00:00:00\", \"2020-07-08T00:00:00\", \"2020-07-09T00:00:00\", \"2020-07-10T00:00:00\", \"2020-07-11T00:00:00\", \"2020-07-12T00:00:00\", \"2020-07-13T00:00:00\", \"2020-07-14T00:00:00\", \"2020-07-15T00:00:00\", \"2020-07-16T00:00:00\", \"2020-07-17T00:00:00\", \"2020-07-18T00:00:00\", \"2020-07-19T00:00:00\", \"2020-07-20T00:00:00\", \"2020-07-21T00:00:00\", \"2020-07-22T00:00:00\", \"2020-07-23T00:00:00\", \"2020-07-24T00:00:00\", \"2020-07-25T00:00:00\", \"2020-07-26T00:00:00\", \"2020-07-27T00:00:00\", \"2020-07-28T00:00:00\", \"2020-07-29T00:00:00\", \"2020-07-30T00:00:00\", \"2020-07-31T00:00:00\", \"2020-08-01T00:00:00\", \"2020-08-02T00:00:00\", \"2020-08-03T00:00:00\", \"2020-08-04T00:00:00\", \"2020-08-05T00:00:00\", \"2020-08-06T00:00:00\", \"2020-08-07T00:00:00\", \"2020-08-08T00:00:00\", \"2020-08-09T00:00:00\", \"2020-08-10T00:00:00\", \"2020-08-11T00:00:00\", \"2020-08-12T00:00:00\", \"2020-08-13T00:00:00\", \"2020-08-14T00:00:00\", \"2020-08-15T00:00:00\", \"2020-08-16T00:00:00\", \"2020-08-17T00:00:00\", \"2020-08-18T00:00:00\", \"2020-08-19T00:00:00\", \"2020-08-20T00:00:00\", \"2020-08-21T00:00:00\", \"2020-08-22T00:00:00\", \"2020-08-23T00:00:00\", \"2020-08-24T00:00:00\", \"2020-08-25T00:00:00\", \"2020-08-26T00:00:00\", \"2020-08-27T00:00:00\", \"2020-08-28T00:00:00\", \"2020-08-29T00:00:00\", \"2020-08-30T00:00:00\", \"2020-08-31T00:00:00\", \"2020-09-01T00:00:00\", \"2020-09-02T00:00:00\", \"2020-09-03T00:00:00\", \"2020-09-04T00:00:00\", \"2020-09-05T00:00:00\", \"2020-09-06T00:00:00\", \"2020-09-07T00:00:00\", \"2020-09-08T00:00:00\", \"2020-09-09T00:00:00\", \"2020-09-10T00:00:00\", \"2020-09-11T00:00:00\", \"2020-09-12T00:00:00\", \"2020-09-13T00:00:00\", \"2020-09-14T00:00:00\", \"2020-09-15T00:00:00\", \"2020-09-16T00:00:00\", \"2020-09-17T00:00:00\", \"2020-09-18T00:00:00\", \"2020-09-19T00:00:00\", \"2020-09-20T00:00:00\", \"2020-09-21T00:00:00\", \"2020-09-22T00:00:00\", \"2020-09-23T00:00:00\", \"2020-09-24T00:00:00\", \"2020-09-25T00:00:00\", \"2020-09-26T00:00:00\", \"2020-09-27T00:00:00\", \"2020-09-28T00:00:00\", \"2020-09-29T00:00:00\", \"2020-09-30T00:00:00\", \"2020-10-01T00:00:00\", \"2020-10-02T00:00:00\", \"2020-10-03T00:00:00\", \"2020-10-04T00:00:00\", \"2020-10-05T00:00:00\", \"2020-10-06T00:00:00\", \"2020-10-07T00:00:00\", \"2020-10-08T00:00:00\", \"2020-10-09T00:00:00\", \"2020-10-10T00:00:00\", \"2020-10-11T00:00:00\", \"2020-10-12T00:00:00\", \"2020-10-13T00:00:00\", \"2020-10-14T00:00:00\", \"2020-10-15T00:00:00\", \"2020-10-16T00:00:00\", \"2020-10-17T00:00:00\", \"2020-10-18T00:00:00\", \"2020-10-19T00:00:00\", \"2020-10-20T00:00:00\", \"2020-10-21T00:00:00\", \"2020-10-22T00:00:00\", \"2020-10-23T00:00:00\", \"2020-10-24T00:00:00\", \"2020-10-25T00:00:00\", \"2020-10-26T00:00:00\", \"2020-10-27T00:00:00\", \"2020-10-28T00:00:00\", \"2020-10-29T00:00:00\", \"2020-10-30T00:00:00\", \"2020-10-31T00:00:00\", \"2020-11-01T00:00:00\", \"2020-11-02T00:00:00\", \"2020-11-03T00:00:00\", \"2020-11-04T00:00:00\", \"2020-11-05T00:00:00\", \"2020-11-06T00:00:00\", \"2020-11-07T00:00:00\", \"2020-11-08T00:00:00\", \"2020-11-09T00:00:00\", \"2020-11-10T00:00:00\", \"2020-11-11T00:00:00\", \"2020-11-12T00:00:00\", \"2020-11-13T00:00:00\", \"2020-11-14T00:00:00\", \"2020-11-15T00:00:00\", \"2020-11-16T00:00:00\", \"2020-11-17T00:00:00\", \"2020-11-18T00:00:00\", \"2020-11-19T00:00:00\", \"2020-11-20T00:00:00\", \"2020-11-21T00:00:00\", \"2020-11-22T00:00:00\", \"2020-11-23T00:00:00\", \"2020-11-24T00:00:00\", \"2020-11-25T00:00:00\", \"2020-11-26T00:00:00\", \"2020-11-27T00:00:00\", \"2020-11-28T00:00:00\", \"2020-11-29T00:00:00\", \"2020-11-30T00:00:00\", \"2020-12-01T00:00:00\", \"2020-12-02T00:00:00\", \"2020-12-03T00:00:00\", \"2020-12-04T00:00:00\", \"2020-12-05T00:00:00\", \"2020-12-06T00:00:00\", \"2020-12-07T00:00:00\", \"2020-12-08T00:00:00\", \"2020-12-09T00:00:00\", \"2020-12-10T00:00:00\", \"2020-12-11T00:00:00\", \"2020-12-12T00:00:00\", \"2020-12-13T00:00:00\", \"2020-12-14T00:00:00\", \"2020-12-15T00:00:00\", \"2020-12-16T00:00:00\", \"2020-12-17T00:00:00\", \"2020-12-18T00:00:00\", \"2020-12-19T00:00:00\", \"2020-12-20T00:00:00\", \"2020-12-21T00:00:00\", \"2020-12-22T00:00:00\", \"2020-12-23T00:00:00\", \"2020-12-24T00:00:00\", \"2020-12-25T00:00:00\", \"2020-12-26T00:00:00\", \"2020-12-27T00:00:00\", \"2020-12-28T00:00:00\", \"2020-12-29T00:00:00\", \"2020-12-30T00:00:00\", \"2020-12-31T00:00:00\", \"2021-01-01T00:00:00\", \"2021-01-02T00:00:00\", \"2021-01-03T00:00:00\", \"2021-01-04T00:00:00\", \"2021-01-05T00:00:00\", \"2021-01-06T00:00:00\", \"2021-01-07T00:00:00\", \"2021-01-08T00:00:00\", \"2021-01-09T00:00:00\", \"2021-01-10T00:00:00\", \"2021-01-11T00:00:00\", \"2021-01-12T00:00:00\", \"2021-01-13T00:00:00\", \"2021-01-14T00:00:00\", \"2021-01-15T00:00:00\", \"2021-01-16T00:00:00\", \"2021-01-17T00:00:00\", \"2021-01-18T00:00:00\", \"2021-01-19T00:00:00\", \"2021-01-20T00:00:00\", \"2021-01-21T00:00:00\", \"2021-01-22T00:00:00\", \"2021-01-23T00:00:00\", \"2021-01-24T00:00:00\", \"2021-01-25T00:00:00\", \"2021-01-26T00:00:00\", \"2021-01-27T00:00:00\", \"2021-01-28T00:00:00\", \"2021-01-29T00:00:00\", \"2021-01-30T00:00:00\", \"2021-01-31T00:00:00\", \"2021-02-01T00:00:00\", \"2021-02-02T00:00:00\", \"2021-02-03T00:00:00\", \"2021-02-04T00:00:00\", \"2021-02-05T00:00:00\", \"2021-02-06T00:00:00\", \"2021-02-07T00:00:00\", \"2021-02-08T00:00:00\", \"2021-02-09T00:00:00\", \"2021-02-10T00:00:00\", \"2021-02-11T00:00:00\", \"2021-02-12T00:00:00\", \"2021-02-13T00:00:00\", \"2021-02-14T00:00:00\", \"2021-02-15T00:00:00\", \"2021-02-16T00:00:00\", \"2021-02-17T00:00:00\", \"2021-02-18T00:00:00\", \"2021-02-19T00:00:00\", \"2021-02-20T00:00:00\", \"2021-02-21T00:00:00\", \"2021-02-22T00:00:00\", \"2021-02-23T00:00:00\", \"2021-02-24T00:00:00\", \"2021-02-25T00:00:00\", \"2021-02-26T00:00:00\", \"2021-02-27T00:00:00\", \"2021-02-28T00:00:00\", \"2021-03-01T00:00:00\", \"2021-03-02T00:00:00\", \"2021-03-03T00:00:00\", \"2021-03-04T00:00:00\", \"2021-03-05T00:00:00\", \"2021-03-06T00:00:00\", \"2021-03-07T00:00:00\", \"2021-03-08T00:00:00\", \"2021-03-09T00:00:00\", \"2021-03-10T00:00:00\", \"2021-03-11T00:00:00\", \"2021-03-12T00:00:00\", \"2021-03-13T00:00:00\", \"2021-03-14T00:00:00\", \"2021-03-15T00:00:00\", \"2021-03-16T00:00:00\", \"2021-03-17T00:00:00\", \"2021-03-18T00:00:00\", \"2021-03-19T00:00:00\", \"2021-03-20T00:00:00\", \"2021-03-21T00:00:00\", \"2021-03-22T00:00:00\", \"2021-03-23T00:00:00\", \"2021-03-24T00:00:00\", \"2021-03-25T00:00:00\", \"2021-03-26T00:00:00\", \"2021-03-27T00:00:00\", \"2021-03-28T00:00:00\", \"2021-03-29T00:00:00\", \"2021-03-30T00:00:00\", \"2021-03-31T00:00:00\", \"2021-04-01T00:00:00\", \"2021-04-02T00:00:00\", \"2021-04-03T00:00:00\", \"2021-04-04T00:00:00\", \"2021-04-05T00:00:00\", \"2021-04-06T00:00:00\", \"2021-04-07T00:00:00\", \"2021-04-08T00:00:00\", \"2021-04-09T00:00:00\", \"2021-04-10T00:00:00\", \"2021-04-11T00:00:00\", \"2021-04-12T00:00:00\", \"2021-04-13T00:00:00\", \"2021-04-14T00:00:00\", \"2021-04-15T00:00:00\", \"2021-04-16T00:00:00\", \"2021-04-17T00:00:00\", \"2021-04-18T00:00:00\", \"2021-04-19T00:00:00\", \"2021-04-20T00:00:00\", \"2021-04-21T00:00:00\", \"2021-04-22T00:00:00\", \"2021-04-23T00:00:00\", \"2021-04-24T00:00:00\", \"2021-04-25T00:00:00\", \"2021-04-26T00:00:00\", \"2021-04-27T00:00:00\", \"2021-04-28T00:00:00\", \"2021-04-29T00:00:00\", \"2021-04-30T00:00:00\", \"2021-05-01T00:00:00\", \"2021-05-02T00:00:00\", \"2021-05-03T00:00:00\", \"2021-05-04T00:00:00\", \"2021-05-05T00:00:00\", \"2021-05-06T00:00:00\", \"2021-05-07T00:00:00\", \"2021-05-08T00:00:00\", \"2021-05-09T00:00:00\", \"2021-05-10T00:00:00\", \"2021-05-11T00:00:00\", \"2021-05-12T00:00:00\", \"2021-05-13T00:00:00\", \"2021-05-14T00:00:00\", \"2021-05-15T00:00:00\", \"2021-05-16T00:00:00\", \"2021-05-17T00:00:00\", \"2021-05-18T00:00:00\", \"2021-05-19T00:00:00\", \"2021-05-20T00:00:00\", \"2021-05-21T00:00:00\", \"2021-05-22T00:00:00\", \"2021-05-23T00:00:00\", \"2021-05-24T00:00:00\", \"2021-05-25T00:00:00\", \"2021-05-26T00:00:00\", \"2021-05-27T00:00:00\", \"2021-05-28T00:00:00\", \"2021-05-29T00:00:00\", \"2021-05-30T00:00:00\", \"2021-05-31T00:00:00\", \"2021-06-01T00:00:00\", \"2021-06-02T00:00:00\", \"2021-06-03T00:00:00\", \"2021-06-04T00:00:00\", \"2021-06-05T00:00:00\", \"2021-06-06T00:00:00\", \"2021-06-07T00:00:00\", \"2021-06-08T00:00:00\", \"2021-06-09T00:00:00\", \"2021-06-10T00:00:00\", \"2021-06-11T00:00:00\", \"2021-06-12T00:00:00\", \"2021-06-13T00:00:00\", \"2021-06-14T00:00:00\", \"2021-06-15T00:00:00\", \"2021-06-16T00:00:00\"], \"xaxis\": \"x\", \"yaxis\": \"y\"}, {\"line\": {\"color\": \"Orange\"}, \"type\": \"scatter\", \"x\": [\"2020-06-16T00:00:00\", \"2020-06-17T00:00:00\", \"2020-06-18T00:00:00\", \"2020-06-19T00:00:00\", \"2020-06-20T00:00:00\", \"2020-06-21T00:00:00\", \"2020-06-22T00:00:00\", \"2020-06-23T00:00:00\", \"2020-06-24T00:00:00\", \"2020-06-25T00:00:00\", \"2020-06-26T00:00:00\", \"2020-06-27T00:00:00\", \"2020-06-28T00:00:00\", \"2020-06-29T00:00:00\", \"2020-06-30T00:00:00\", \"2020-07-01T00:00:00\", \"2020-07-02T00:00:00\", \"2020-07-03T00:00:00\", \"2020-07-04T00:00:00\", \"2020-07-05T00:00:00\", \"2020-07-06T00:00:00\", \"2020-07-07T00:00:00\", \"2020-07-08T00:00:00\", \"2020-07-09T00:00:00\", \"2020-07-10T00:00:00\", \"2020-07-11T00:00:00\", \"2020-07-12T00:00:00\", \"2020-07-13T00:00:00\", \"2020-07-14T00:00:00\", \"2020-07-15T00:00:00\", \"2020-07-16T00:00:00\", \"2020-07-17T00:00:00\", \"2020-07-18T00:00:00\", \"2020-07-19T00:00:00\", \"2020-07-20T00:00:00\", \"2020-07-21T00:00:00\", \"2020-07-22T00:00:00\", \"2020-07-23T00:00:00\", \"2020-07-24T00:00:00\", \"2020-07-25T00:00:00\", \"2020-07-26T00:00:00\", \"2020-07-27T00:00:00\", \"2020-07-28T00:00:00\", \"2020-07-29T00:00:00\", \"2020-07-30T00:00:00\", \"2020-07-31T00:00:00\", \"2020-08-01T00:00:00\", \"2020-08-02T00:00:00\", \"2020-08-03T00:00:00\", \"2020-08-04T00:00:00\", \"2020-08-05T00:00:00\", \"2020-08-06T00:00:00\", \"2020-08-07T00:00:00\", \"2020-08-08T00:00:00\", \"2020-08-09T00:00:00\", \"2020-08-10T00:00:00\", \"2020-08-11T00:00:00\", \"2020-08-12T00:00:00\", \"2020-08-13T00:00:00\", \"2020-08-14T00:00:00\", \"2020-08-15T00:00:00\", \"2020-08-16T00:00:00\", \"2020-08-17T00:00:00\", \"2020-08-18T00:00:00\", \"2020-08-19T00:00:00\", \"2020-08-20T00:00:00\", \"2020-08-21T00:00:00\", \"2020-08-22T00:00:00\", \"2020-08-23T00:00:00\", \"2020-08-24T00:00:00\", \"2020-08-25T00:00:00\", \"2020-08-26T00:00:00\", \"2020-08-27T00:00:00\", \"2020-08-28T00:00:00\", \"2020-08-29T00:00:00\", \"2020-08-30T00:00:00\", \"2020-08-31T00:00:00\", \"2020-09-01T00:00:00\", \"2020-09-02T00:00:00\", \"2020-09-03T00:00:00\", \"2020-09-04T00:00:00\", \"2020-09-05T00:00:00\", \"2020-09-06T00:00:00\", \"2020-09-07T00:00:00\", \"2020-09-08T00:00:00\", \"2020-09-09T00:00:00\", \"2020-09-10T00:00:00\", \"2020-09-11T00:00:00\", \"2020-09-12T00:00:00\", \"2020-09-13T00:00:00\", \"2020-09-14T00:00:00\", \"2020-09-15T00:00:00\", \"2020-09-16T00:00:00\", \"2020-09-17T00:00:00\", \"2020-09-18T00:00:00\", \"2020-09-19T00:00:00\", \"2020-09-20T00:00:00\", \"2020-09-21T00:00:00\", \"2020-09-22T00:00:00\", \"2020-09-23T00:00:00\", \"2020-09-24T00:00:00\", \"2020-09-25T00:00:00\", \"2020-09-26T00:00:00\", \"2020-09-27T00:00:00\", \"2020-09-28T00:00:00\", \"2020-09-29T00:00:00\", \"2020-09-30T00:00:00\", \"2020-10-01T00:00:00\", \"2020-10-02T00:00:00\", \"2020-10-03T00:00:00\", \"2020-10-04T00:00:00\", \"2020-10-05T00:00:00\", \"2020-10-06T00:00:00\", \"2020-10-07T00:00:00\", \"2020-10-08T00:00:00\", \"2020-10-09T00:00:00\", \"2020-10-10T00:00:00\", \"2020-10-11T00:00:00\", \"2020-10-12T00:00:00\", \"2020-10-13T00:00:00\", \"2020-10-14T00:00:00\", \"2020-10-15T00:00:00\", \"2020-10-16T00:00:00\", \"2020-10-17T00:00:00\", \"2020-10-18T00:00:00\", \"2020-10-19T00:00:00\", \"2020-10-20T00:00:00\", \"2020-10-21T00:00:00\", \"2020-10-22T00:00:00\", \"2020-10-23T00:00:00\", \"2020-10-24T00:00:00\", \"2020-10-25T00:00:00\", \"2020-10-26T00:00:00\", \"2020-10-27T00:00:00\", \"2020-10-28T00:00:00\", \"2020-10-29T00:00:00\", \"2020-10-30T00:00:00\", \"2020-10-31T00:00:00\", \"2020-11-01T00:00:00\", \"2020-11-02T00:00:00\", \"2020-11-03T00:00:00\", \"2020-11-04T00:00:00\", \"2020-11-05T00:00:00\", \"2020-11-06T00:00:00\", \"2020-11-07T00:00:00\", \"2020-11-08T00:00:00\", \"2020-11-09T00:00:00\", \"2020-11-10T00:00:00\", \"2020-11-11T00:00:00\", \"2020-11-12T00:00:00\", \"2020-11-13T00:00:00\", \"2020-11-14T00:00:00\", \"2020-11-15T00:00:00\", \"2020-11-16T00:00:00\", \"2020-11-17T00:00:00\", \"2020-11-18T00:00:00\", \"2020-11-19T00:00:00\", \"2020-11-20T00:00:00\", \"2020-11-21T00:00:00\", \"2020-11-22T00:00:00\", \"2020-11-23T00:00:00\", \"2020-11-24T00:00:00\", \"2020-11-25T00:00:00\", \"2020-11-26T00:00:00\", \"2020-11-27T00:00:00\", \"2020-11-28T00:00:00\", \"2020-11-29T00:00:00\", \"2020-11-30T00:00:00\", \"2020-12-01T00:00:00\", \"2020-12-02T00:00:00\", \"2020-12-03T00:00:00\", \"2020-12-04T00:00:00\", \"2020-12-05T00:00:00\", \"2020-12-06T00:00:00\", \"2020-12-07T00:00:00\", \"2020-12-08T00:00:00\", \"2020-12-09T00:00:00\", \"2020-12-10T00:00:00\", \"2020-12-11T00:00:00\", \"2020-12-12T00:00:00\", \"2020-12-13T00:00:00\", \"2020-12-14T00:00:00\", \"2020-12-15T00:00:00\", \"2020-12-16T00:00:00\", \"2020-12-17T00:00:00\", \"2020-12-18T00:00:00\", \"2020-12-19T00:00:00\", \"2020-12-20T00:00:00\", \"2020-12-21T00:00:00\", \"2020-12-22T00:00:00\", \"2020-12-23T00:00:00\", \"2020-12-24T00:00:00\", \"2020-12-25T00:00:00\", \"2020-12-26T00:00:00\", \"2020-12-27T00:00:00\", \"2020-12-28T00:00:00\", \"2020-12-29T00:00:00\", \"2020-12-30T00:00:00\", \"2020-12-31T00:00:00\", \"2021-01-01T00:00:00\", \"2021-01-02T00:00:00\", \"2021-01-03T00:00:00\", \"2021-01-04T00:00:00\", \"2021-01-05T00:00:00\", \"2021-01-06T00:00:00\", \"2021-01-07T00:00:00\", \"2021-01-08T00:00:00\", \"2021-01-09T00:00:00\", \"2021-01-10T00:00:00\", \"2021-01-11T00:00:00\", \"2021-01-12T00:00:00\", \"2021-01-13T00:00:00\", \"2021-01-14T00:00:00\", \"2021-01-15T00:00:00\", \"2021-01-16T00:00:00\", \"2021-01-17T00:00:00\", \"2021-01-18T00:00:00\", \"2021-01-19T00:00:00\", \"2021-01-20T00:00:00\", \"2021-01-21T00:00:00\", \"2021-01-22T00:00:00\", \"2021-01-23T00:00:00\", \"2021-01-24T00:00:00\", \"2021-01-25T00:00:00\", \"2021-01-26T00:00:00\", \"2021-01-27T00:00:00\", \"2021-01-28T00:00:00\", \"2021-01-29T00:00:00\", \"2021-01-30T00:00:00\", \"2021-01-31T00:00:00\", \"2021-02-01T00:00:00\", \"2021-02-02T00:00:00\", \"2021-02-03T00:00:00\", \"2021-02-04T00:00:00\", \"2021-02-05T00:00:00\", \"2021-02-06T00:00:00\", \"2021-02-07T00:00:00\", \"2021-02-08T00:00:00\", \"2021-02-09T00:00:00\", \"2021-02-10T00:00:00\", \"2021-02-11T00:00:00\", \"2021-02-12T00:00:00\", \"2021-02-13T00:00:00\", \"2021-02-14T00:00:00\", \"2021-02-15T00:00:00\", \"2021-02-16T00:00:00\", \"2021-02-17T00:00:00\", \"2021-02-18T00:00:00\", \"2021-02-19T00:00:00\", \"2021-02-20T00:00:00\", \"2021-02-21T00:00:00\", \"2021-02-22T00:00:00\", \"2021-02-23T00:00:00\", \"2021-02-24T00:00:00\", \"2021-02-25T00:00:00\", \"2021-02-26T00:00:00\", \"2021-02-27T00:00:00\", \"2021-02-28T00:00:00\", \"2021-03-01T00:00:00\", \"2021-03-02T00:00:00\", \"2021-03-03T00:00:00\", \"2021-03-04T00:00:00\", \"2021-03-05T00:00:00\", \"2021-03-06T00:00:00\", \"2021-03-07T00:00:00\", \"2021-03-08T00:00:00\", \"2021-03-09T00:00:00\", \"2021-03-10T00:00:00\", \"2021-03-11T00:00:00\", \"2021-03-12T00:00:00\", \"2021-03-13T00:00:00\", \"2021-03-14T00:00:00\", \"2021-03-15T00:00:00\", \"2021-03-16T00:00:00\", \"2021-03-17T00:00:00\", \"2021-03-18T00:00:00\", \"2021-03-19T00:00:00\", \"2021-03-20T00:00:00\", \"2021-03-21T00:00:00\", \"2021-03-22T00:00:00\", \"2021-03-23T00:00:00\", \"2021-03-24T00:00:00\", \"2021-03-25T00:00:00\", \"2021-03-26T00:00:00\", \"2021-03-27T00:00:00\", \"2021-03-28T00:00:00\", \"2021-03-29T00:00:00\", \"2021-03-30T00:00:00\", \"2021-03-31T00:00:00\", \"2021-04-01T00:00:00\", \"2021-04-02T00:00:00\", \"2021-04-03T00:00:00\", \"2021-04-04T00:00:00\", \"2021-04-05T00:00:00\", \"2021-04-06T00:00:00\", \"2021-04-07T00:00:00\", \"2021-04-08T00:00:00\", \"2021-04-09T00:00:00\", \"2021-04-10T00:00:00\", \"2021-04-11T00:00:00\", \"2021-04-12T00:00:00\", \"2021-04-13T00:00:00\", \"2021-04-14T00:00:00\", \"2021-04-15T00:00:00\", \"2021-04-16T00:00:00\", \"2021-04-17T00:00:00\", \"2021-04-18T00:00:00\", \"2021-04-19T00:00:00\", \"2021-04-20T00:00:00\", \"2021-04-21T00:00:00\", \"2021-04-22T00:00:00\", \"2021-04-23T00:00:00\", \"2021-04-24T00:00:00\", \"2021-04-25T00:00:00\", \"2021-04-26T00:00:00\", \"2021-04-27T00:00:00\", \"2021-04-28T00:00:00\", \"2021-04-29T00:00:00\", \"2021-04-30T00:00:00\", \"2021-05-01T00:00:00\", \"2021-05-02T00:00:00\", \"2021-05-03T00:00:00\", \"2021-05-04T00:00:00\", \"2021-05-05T00:00:00\", \"2021-05-06T00:00:00\", \"2021-05-07T00:00:00\", \"2021-05-08T00:00:00\", \"2021-05-09T00:00:00\", \"2021-05-10T00:00:00\", \"2021-05-11T00:00:00\", \"2021-05-12T00:00:00\", \"2021-05-13T00:00:00\", \"2021-05-14T00:00:00\", \"2021-05-15T00:00:00\", \"2021-05-16T00:00:00\", \"2021-05-17T00:00:00\", \"2021-05-18T00:00:00\", \"2021-05-19T00:00:00\", \"2021-05-20T00:00:00\", \"2021-05-21T00:00:00\", \"2021-05-22T00:00:00\", \"2021-05-23T00:00:00\", \"2021-05-24T00:00:00\", \"2021-05-25T00:00:00\", \"2021-05-26T00:00:00\", \"2021-05-27T00:00:00\", \"2021-05-28T00:00:00\", \"2021-05-29T00:00:00\", \"2021-05-30T00:00:00\", \"2021-05-31T00:00:00\", \"2021-06-01T00:00:00\", \"2021-06-02T00:00:00\", \"2021-06-03T00:00:00\", \"2021-06-04T00:00:00\", \"2021-06-05T00:00:00\", \"2021-06-06T00:00:00\", \"2021-06-07T00:00:00\", \"2021-06-08T00:00:00\", \"2021-06-09T00:00:00\", \"2021-06-10T00:00:00\", \"2021-06-11T00:00:00\", \"2021-06-12T00:00:00\", \"2021-06-13T00:00:00\", \"2021-06-14T00:00:00\", \"2021-06-15T00:00:00\", \"2021-06-16T00:00:00\"], \"xaxis\": \"x2\", \"y\": [null, null, null, null, null, null, null, null, null, null, null, null, null, 208.99002528571432, 205.705217857143, 205.12925521428588, 211.12590700000015, 209.48088742857166, 208.20047442857165, 214.2355609285717, 211.27908764285738, 214.87660428571456, 200.49818628571458, 197.03696978571458, 194.22921307142886, 185.97586485714314, 178.82924100000022, 170.7160295000002, 169.22907357142867, 161.96993571428578, 153.9003207142858, 150.2933173571429, 150.32854335714288, 144.51409021428572, 127.36767564285712, 133.38295192857134, 134.09933028571427, 129.1609932142857, 127.19049928571427, 132.9260601428571, 150.71114664285713, 244.43540728571432, 277.2578821428572, 301.8910434285716, 312.5007672142857, 336.48353785714284, 366.8359374999999, 431.9965819999999, 457.98967635714274, 460.37276785714283, 490.19182478571423, 502.7903181428571, 527.6161412857143, 532.4224330714287, 524.3018973571428, 452.06131421428563, 463.86893149999986, 467.4785854999999, 489.30880314285724, 491.9322685714286, 466.176060357143, 407.72593478571446, 415.7042411428573, 422.12890628571444, 401.6473911428574, 393.5563615000002, 382.4732142142858, 382.39955357142856, 374.98786278571436, 360.80915185714304, 350.1982422142859, 331.217424714286, 317.3117327857144, 300.42982700000033, 295.0613839285717, 296.8592355000002, 269.5876813571431, 275.64271771428594, 299.79227135714297, 376.23584000000017, 384.92864128571443, 413.0924945000001, 423.3448660714287, 444.65046035714295, 436.1658760714286, 443.3253347857143, 434.82045192857146, 439.4557059285714, 451.3916713571428, 460.6775252142856, 486.63776514285706, 473.5106027142856, 453.19308028571425, 381.9241767857142, 364.0149970714287, 334.6992185714288, 333.58140328571454, 342.5373882857145, 322.22921300000024, 330.71358800000024, 351.0574077857144, 341.7299105000002, 328.15611028571453, 314.46965657142886, 292.92996628571444, 286.6030270714288, 270.290038857143, 281.6827565714287, 282.9149692857142, 273.0320172857142, 265.0359933571426, 232.8583984999997, 236.67647892857116, 211.193010785714, 198.292062142857, 213.04031835714264, 243.19496399999974, 241.68861635714256, 235.09856335714252, 231.28362199999953, 235.94712642857095, 224.8056643571425, 231.55901249999974, 232.6163507142854, 230.21156549999978, 246.87193092857135, 252.5600587142856, 337.4409877857141, 342.76409042857125, 335.145368285714, 316.62653457142835, 336.5505719999998, 355.31696428571416, 395.22021478571423, 443.3129185000001, 469.43275671428574, 483.59486614285703, 517.1496931428571, 524.1406947857142, 536.5950056428571, 560.9594727142857, 514.8635603571428, 597.7075196428569, 627.2277484285713, 702.5544085714284, 736.4178292857142, 773.3244280714287, 746.6485771428571, 726.7064035714285, 736.5809849999998, 733.4172014285714, 733.2694614999999, 740.1209542857141, 766.5718471428569, 806.4886300714282, 835.2563477142854, 773.3046874999998, 796.9356864285711, 738.247767928571, 747.1316267142853, 732.2045898571424, 796.079310785714, 809.1910574999995, 933.8351702142854, 965.8047573571426, 992.5670340714285, 1020.7767159285714, 1066.2269810000003, 1088.0611048571432, 1082.3159876428574, 1075.4169921428575, 1061.6155133571433, 1067.1865234285717, 1029.6880580714287, 1013.2635324285715, 998.5433873571428, 990.0382255000001, 853.0097657142857, 833.7469308571427, 828.7628348571428, 823.2407924999999, 731.8558873571427, 654.7925503571425, 740.5054409999996, 866.7610213571425, 868.5166017142853, 917.7399554999995, 958.4073661428569, 1059.8309152142854, 1084.5283203571428, 1122.4638672142858, 1150.5987723571427, 1193.2779018571425, 1287.6972657857139, 1410.4734934999994, 1473.9792133571423, 1540.9974889999994, 1499.3588170714283, 1401.8517020714282, 1398.8696986428567, 1599.194893928571, 1705.930106071428, 1907.1335101428565, 2111.2124722142853, 2264.3424945714282, 2457.0878907857145, 2732.921735571428, 2751.500000071428, 2970.7494419999994, 3443.9902344285706, 3621.6422991428562, 3867.1881976428563, 4013.9709822857135, 4308.333845071427, 4177.396484571428, 4184.309988999999, 4019.87988292857, 3839.1429967142844, 3799.2992466428564, 3914.495954214285, 3896.665736642856, 3854.690011214284, 3597.6728516428557, 3233.9666574999983, 3083.519112857141, 2954.048967714284, 2866.2096819999983, 2997.5336217142844, 2973.5126953571416, 2928.164481071427, 2916.631975499999, 2968.173270214284, 2913.055524714284, 2696.8231027857123, 2461.7278181428555, 2521.752371642856, 2545.92103792857, 2932.5389229285697, 3009.1443916428566, 3013.551757714284, 3185.5241349285693, 2868.674246499999, 2851.598911714285, 2877.5966795714276, 2897.1757811428565, 2949.470981999999, 3051.280412857141, 2992.970703071427, 3250.77287942857, 3262.95200892857, 3297.400390642856, 3329.1699219285706, 3763.453404142856, 3821.469308214285, 3862.8557479285714, 3976.797433214285, 4071.7101005714276, 4149.7592077142845, 4302.675502357141, 4285.452009071428, 4342.543526857143, 4529.673549142857, 4363.783482214285, 4293.142299142856, 4279.858258928572, 3868.1180244999996, 3434.229073642858, 3426.4238280714294, 3337.234654, 3244.6654575714283, 3421.9260602857144, 3337.6967076428577, 3371.904296928572, 3399.010323714286, 3411.8939732857148, 3539.359096071428, 3539.4132255000004, 3534.291573714286, 3555.0270647857146, 3653.263392928572, 3629.8677454999997, 3685.631138428572, 3609.155971, 3676.1191406428575, 3451.791573714286, 3397.762834857143, 3258.8292410714284, 3181.5092075714283, 3021.682198642857, 2680.1194196428573, 2576.0647321428573, 2625.2354910714284, 2552.5775670000003, 2410.659598214286, 2361.9469866428567, 2246.1662945714284, 2240.7260043571428, 2067.2779017142857, 2132.4673548571423, 2129.721540142856, 2019.7502789999994, 2139.511439714285, 2218.417968714285, 2256.4118302857137, 2397.4321985714278, 2376.321149428571, 2839.3819752857135, 2907.595423999999, 3034.8334262857134, 3030.21791292857, 3199.272600499999, 3433.3401227857134, 3370.7915736428563, 3502.632812428571, 3772.064732071428, 3645.3111048571423, 3576.095982071428, 3653.603794571428, 3753.527064642857, 3695.3300780714285, 3233.3847655714285, 3178.4545200000002, 3207.6439731428577, 3341.9157365000005, 3210.0864953571436, 3129.9905132857143, 3139.070870357143, 3094.952566857143, 3095.859095928572, 3107.7243302857146, 3568.405691928572, 3686.47767857143, 3529.2220982857148, 3713.469029142857, 3998.897879571429, 4144.171596071429, 4102.876674142858, 4668.756138500001, 4985.296038071429, 5361.791294714286, 5430.217634071429, 5739.7176340000005, 5728.014788, 5794.517020142857, 5372.189453142858, 5285.110212071429, 5392.8523995000005, 5361.784319071429, 5156.3013392142875, 5071.303850357144, 4975.948381571429, 4218.834821285715, 3849.021484285716, 3489.6674106428586, 3458.9481025714304, 3035.3741628571447, 2894.364955285716, 2873.5093470714305, 3029.599609428573, 2983.5292969285733, 2803.9804688571444, 2742.563616214287, 2855.330915285715, 2783.5290180000006, 2753.2541854285714, 2727.846540357143], \"yaxis\": \"y2\"}],                        {\"annotations\": [{\"font\": {\"size\": 16}, \"showarrow\": false, \"text\": \"Bitcoin Daily Data\", \"x\": 0.5, \"xanchor\": \"center\", \"xref\": \"paper\", \"y\": 0.9999999999999999, \"yanchor\": \"bottom\", \"yref\": \"paper\"}, {\"font\": {\"size\": 16}, \"showarrow\": false, \"text\": \"Average True Range\", \"x\": 0.5, \"xanchor\": \"center\", \"xref\": \"paper\", \"y\": 0.35, \"yanchor\": \"bottom\", \"yref\": \"paper\"}], \"margin\": {\"b\": 20, \"l\": 20, \"r\": 20, \"t\": 20}, \"template\": {\"data\": {\"bar\": [{\"error_x\": {\"color\": \"#f2f5fa\"}, \"error_y\": {\"color\": \"#f2f5fa\"}, \"marker\": {\"line\": {\"color\": \"rgb(17,17,17)\", \"width\": 0.5}}, \"type\": \"bar\"}], \"barpolar\": [{\"marker\": {\"line\": {\"color\": \"rgb(17,17,17)\", \"width\": 0.5}}, \"type\": \"barpolar\"}], \"carpet\": [{\"aaxis\": {\"endlinecolor\": \"#A2B1C6\", \"gridcolor\": \"#506784\", \"linecolor\": \"#506784\", \"minorgridcolor\": \"#506784\", \"startlinecolor\": \"#A2B1C6\"}, \"baxis\": {\"endlinecolor\": \"#A2B1C6\", \"gridcolor\": \"#506784\", \"linecolor\": \"#506784\", \"minorgridcolor\": \"#506784\", \"startlinecolor\": \"#A2B1C6\"}, \"type\": \"carpet\"}], \"choropleth\": [{\"colorbar\": {\"outlinewidth\": 0, \"ticks\": \"\"}, \"type\": \"choropleth\"}], \"contour\": [{\"colorbar\": {\"outlinewidth\": 0, \"ticks\": \"\"}, \"colorscale\": [[0.0, \"#0d0887\"], [0.1111111111111111, \"#46039f\"], [0.2222222222222222, \"#7201a8\"], [0.3333333333333333, \"#9c179e\"], [0.4444444444444444, \"#bd3786\"], [0.5555555555555556, \"#d8576b\"], [0.6666666666666666, \"#ed7953\"], [0.7777777777777778, \"#fb9f3a\"], [0.8888888888888888, \"#fdca26\"], [1.0, \"#f0f921\"]], \"type\": \"contour\"}], \"contourcarpet\": [{\"colorbar\": {\"outlinewidth\": 0, \"ticks\": \"\"}, \"type\": \"contourcarpet\"}], \"heatmap\": [{\"colorbar\": {\"outlinewidth\": 0, \"ticks\": \"\"}, \"colorscale\": [[0.0, \"#0d0887\"], [0.1111111111111111, \"#46039f\"], [0.2222222222222222, \"#7201a8\"], [0.3333333333333333, \"#9c179e\"], [0.4444444444444444, \"#bd3786\"], [0.5555555555555556, \"#d8576b\"], [0.6666666666666666, \"#ed7953\"], [0.7777777777777778, \"#fb9f3a\"], [0.8888888888888888, \"#fdca26\"], [1.0, \"#f0f921\"]], \"type\": \"heatmap\"}], \"heatmapgl\": [{\"colorbar\": {\"outlinewidth\": 0, \"ticks\": \"\"}, \"colorscale\": [[0.0, \"#0d0887\"], [0.1111111111111111, \"#46039f\"], [0.2222222222222222, \"#7201a8\"], [0.3333333333333333, \"#9c179e\"], [0.4444444444444444, \"#bd3786\"], [0.5555555555555556, \"#d8576b\"], [0.6666666666666666, \"#ed7953\"], [0.7777777777777778, \"#fb9f3a\"], [0.8888888888888888, \"#fdca26\"], [1.0, \"#f0f921\"]], \"type\": \"heatmapgl\"}], \"histogram\": [{\"marker\": {\"colorbar\": {\"outlinewidth\": 0, \"ticks\": \"\"}}, \"type\": \"histogram\"}], \"histogram2d\": [{\"colorbar\": {\"outlinewidth\": 0, \"ticks\": \"\"}, \"colorscale\": [[0.0, \"#0d0887\"], [0.1111111111111111, \"#46039f\"], [0.2222222222222222, \"#7201a8\"], [0.3333333333333333, \"#9c179e\"], [0.4444444444444444, \"#bd3786\"], [0.5555555555555556, \"#d8576b\"], [0.6666666666666666, \"#ed7953\"], [0.7777777777777778, \"#fb9f3a\"], [0.8888888888888888, \"#fdca26\"], [1.0, \"#f0f921\"]], \"type\": \"histogram2d\"}], \"histogram2dcontour\": [{\"colorbar\": {\"outlinewidth\": 0, \"ticks\": \"\"}, \"colorscale\": [[0.0, \"#0d0887\"], [0.1111111111111111, \"#46039f\"], [0.2222222222222222, \"#7201a8\"], [0.3333333333333333, \"#9c179e\"], [0.4444444444444444, \"#bd3786\"], [0.5555555555555556, \"#d8576b\"], [0.6666666666666666, \"#ed7953\"], [0.7777777777777778, \"#fb9f3a\"], [0.8888888888888888, \"#fdca26\"], [1.0, \"#f0f921\"]], \"type\": \"histogram2dcontour\"}], \"mesh3d\": [{\"colorbar\": {\"outlinewidth\": 0, \"ticks\": \"\"}, \"type\": \"mesh3d\"}], \"parcoords\": [{\"line\": {\"colorbar\": {\"outlinewidth\": 0, \"ticks\": \"\"}}, \"type\": \"parcoords\"}], \"pie\": [{\"automargin\": true, \"type\": \"pie\"}], \"scatter\": [{\"marker\": {\"line\": {\"color\": \"#283442\"}}, \"type\": \"scatter\"}], \"scatter3d\": [{\"line\": {\"colorbar\": {\"outlinewidth\": 0, \"ticks\": \"\"}}, \"marker\": {\"colorbar\": {\"outlinewidth\": 0, \"ticks\": \"\"}}, \"type\": \"scatter3d\"}], \"scattercarpet\": [{\"marker\": {\"colorbar\": {\"outlinewidth\": 0, \"ticks\": \"\"}}, \"type\": \"scattercarpet\"}], \"scattergeo\": [{\"marker\": {\"colorbar\": {\"outlinewidth\": 0, \"ticks\": \"\"}}, \"type\": \"scattergeo\"}], \"scattergl\": [{\"marker\": {\"line\": {\"color\": \"#283442\"}}, \"type\": \"scattergl\"}], \"scattermapbox\": [{\"marker\": {\"colorbar\": {\"outlinewidth\": 0, \"ticks\": \"\"}}, \"type\": \"scattermapbox\"}], \"scatterpolar\": [{\"marker\": {\"colorbar\": {\"outlinewidth\": 0, \"ticks\": \"\"}}, \"type\": \"scatterpolar\"}], \"scatterpolargl\": [{\"marker\": {\"colorbar\": {\"outlinewidth\": 0, \"ticks\": \"\"}}, \"type\": \"scatterpolargl\"}], \"scatterternary\": [{\"marker\": {\"colorbar\": {\"outlinewidth\": 0, \"ticks\": \"\"}}, \"type\": \"scatterternary\"}], \"surface\": [{\"colorbar\": {\"outlinewidth\": 0, \"ticks\": \"\"}, \"colorscale\": [[0.0, \"#0d0887\"], [0.1111111111111111, \"#46039f\"], [0.2222222222222222, \"#7201a8\"], [0.3333333333333333, \"#9c179e\"], [0.4444444444444444, \"#bd3786\"], [0.5555555555555556, \"#d8576b\"], [0.6666666666666666, \"#ed7953\"], [0.7777777777777778, \"#fb9f3a\"], [0.8888888888888888, \"#fdca26\"], [1.0, \"#f0f921\"]], \"type\": \"surface\"}], \"table\": [{\"cells\": {\"fill\": {\"color\": \"#506784\"}, \"line\": {\"color\": \"rgb(17,17,17)\"}}, \"header\": {\"fill\": {\"color\": \"#2a3f5f\"}, \"line\": {\"color\": \"rgb(17,17,17)\"}}, \"type\": \"table\"}]}, \"layout\": {\"annotationdefaults\": {\"arrowcolor\": \"#f2f5fa\", \"arrowhead\": 0, \"arrowwidth\": 1}, \"autotypenumbers\": \"strict\", \"coloraxis\": {\"colorbar\": {\"outlinewidth\": 0, \"ticks\": \"\"}}, \"colorscale\": {\"diverging\": [[0, \"#8e0152\"], [0.1, \"#c51b7d\"], [0.2, \"#de77ae\"], [0.3, \"#f1b6da\"], [0.4, \"#fde0ef\"], [0.5, \"#f7f7f7\"], [0.6, \"#e6f5d0\"], [0.7, \"#b8e186\"], [0.8, \"#7fbc41\"], [0.9, \"#4d9221\"], [1, \"#276419\"]], \"sequential\": [[0.0, \"#0d0887\"], [0.1111111111111111, \"#46039f\"], [0.2222222222222222, \"#7201a8\"], [0.3333333333333333, \"#9c179e\"], [0.4444444444444444, \"#bd3786\"], [0.5555555555555556, \"#d8576b\"], [0.6666666666666666, \"#ed7953\"], [0.7777777777777778, \"#fb9f3a\"], [0.8888888888888888, \"#fdca26\"], [1.0, \"#f0f921\"]], \"sequentialminus\": [[0.0, \"#0d0887\"], [0.1111111111111111, \"#46039f\"], [0.2222222222222222, \"#7201a8\"], [0.3333333333333333, \"#9c179e\"], [0.4444444444444444, \"#bd3786\"], [0.5555555555555556, \"#d8576b\"], [0.6666666666666666, \"#ed7953\"], [0.7777777777777778, \"#fb9f3a\"], [0.8888888888888888, \"#fdca26\"], [1.0, \"#f0f921\"]]}, \"colorway\": [\"#636efa\", \"#EF553B\", \"#00cc96\", \"#ab63fa\", \"#FFA15A\", \"#19d3f3\", \"#FF6692\", \"#B6E880\", \"#FF97FF\", \"#FECB52\"], \"font\": {\"color\": \"#f2f5fa\"}, \"geo\": {\"bgcolor\": \"rgb(17,17,17)\", \"lakecolor\": \"rgb(17,17,17)\", \"landcolor\": \"rgb(17,17,17)\", \"showlakes\": true, \"showland\": true, \"subunitcolor\": \"#506784\"}, \"hoverlabel\": {\"align\": \"left\"}, \"hovermode\": \"closest\", \"mapbox\": {\"style\": \"dark\"}, \"paper_bgcolor\": \"rgb(17,17,17)\", \"plot_bgcolor\": \"rgb(17,17,17)\", \"polar\": {\"angularaxis\": {\"gridcolor\": \"#506784\", \"linecolor\": \"#506784\", \"ticks\": \"\"}, \"bgcolor\": \"rgb(17,17,17)\", \"radialaxis\": {\"gridcolor\": \"#506784\", \"linecolor\": \"#506784\", \"ticks\": \"\"}}, \"scene\": {\"xaxis\": {\"backgroundcolor\": \"rgb(17,17,17)\", \"gridcolor\": \"#506784\", \"gridwidth\": 2, \"linecolor\": \"#506784\", \"showbackground\": true, \"ticks\": \"\", \"zerolinecolor\": \"#C8D4E3\"}, \"yaxis\": {\"backgroundcolor\": \"rgb(17,17,17)\", \"gridcolor\": \"#506784\", \"gridwidth\": 2, \"linecolor\": \"#506784\", \"showbackground\": true, \"ticks\": \"\", \"zerolinecolor\": \"#C8D4E3\"}, \"zaxis\": {\"backgroundcolor\": \"rgb(17,17,17)\", \"gridcolor\": \"#506784\", \"gridwidth\": 2, \"linecolor\": \"#506784\", \"showbackground\": true, \"ticks\": \"\", \"zerolinecolor\": \"#C8D4E3\"}}, \"shapedefaults\": {\"line\": {\"color\": \"#f2f5fa\"}}, \"sliderdefaults\": {\"bgcolor\": \"#C8D4E3\", \"bordercolor\": \"rgb(17,17,17)\", \"borderwidth\": 1, \"tickwidth\": 0}, \"ternary\": {\"aaxis\": {\"gridcolor\": \"#506784\", \"linecolor\": \"#506784\", \"ticks\": \"\"}, \"baxis\": {\"gridcolor\": \"#506784\", \"linecolor\": \"#506784\", \"ticks\": \"\"}, \"bgcolor\": \"rgb(17,17,17)\", \"caxis\": {\"gridcolor\": \"#506784\", \"linecolor\": \"#506784\", \"ticks\": \"\"}}, \"title\": {\"x\": 0.05}, \"updatemenudefaults\": {\"bgcolor\": \"#506784\", \"borderwidth\": 0}, \"xaxis\": {\"automargin\": true, \"gridcolor\": \"#283442\", \"linecolor\": \"#506784\", \"ticks\": \"\", \"title\": {\"standoff\": 15}, \"zerolinecolor\": \"#283442\", \"zerolinewidth\": 2}, \"yaxis\": {\"automargin\": true, \"gridcolor\": \"#283442\", \"linecolor\": \"#506784\", \"ticks\": \"\", \"title\": {\"standoff\": 15}, \"zerolinecolor\": \"#283442\", \"zerolinewidth\": 2}}}, \"xaxis\": {\"anchor\": \"y\", \"domain\": [0.0, 1.0]}, \"xaxis2\": {\"anchor\": \"y2\", \"domain\": [0.0, 1.0]}, \"yaxis\": {\"anchor\": \"x\", \"domain\": [0.6499999999999999, 0.9999999999999999]}, \"yaxis2\": {\"anchor\": \"x2\", \"domain\": [0.0, 0.35]}},                        {\"responsive\": true}                    ).then(function(){\n",
       "                            \n",
       "var gd = document.getElementById('cde97b9d-75cc-427a-b6c2-e8d8bf1c1fbf');\n",
       "var x = new MutationObserver(function (mutations, observer) {{\n",
       "        var display = window.getComputedStyle(gd).display;\n",
       "        if (!display || display === 'none') {{\n",
       "            console.log([gd, 'removed!']);\n",
       "            Plotly.purge(gd);\n",
       "            observer.disconnect();\n",
       "        }}\n",
       "}});\n",
       "\n",
       "// Listen for the removal of the full notebook cells\n",
       "var notebookContainer = gd.closest('#notebook-container');\n",
       "if (notebookContainer) {{\n",
       "    x.observe(notebookContainer, {childList: true});\n",
       "}}\n",
       "\n",
       "// Listen for the clearing of the current output cell\n",
       "var outputEl = gd.closest('.output');\n",
       "if (outputEl) {{\n",
       "    x.observe(outputEl, {childList: true});\n",
       "}}\n",
       "\n",
       "                        })                };                });            </script>        </div>"
      ]
     },
     "metadata": {},
     "output_type": "display_data"
    }
   ],
   "source": [
    "high_low = daily['High'] - daily['Low']\n",
    "high_close = np.abs(daily['High'] - daily['Close'].shift())\n",
    "low_close = np.abs(daily['Low'] - daily['Close'].shift())\n",
    "\n",
    "ranges = pd.concat([high_low, high_close, low_close], axis=1)\n",
    "true_range = np.max(ranges, axis=1)\n",
    "\n",
    "atr = true_range.rolling(14).sum()/14\n",
    "\n",
    "atr_daily = daily\n",
    "atr_daily['atr'] = atr\n",
    "\n",
    "atr_daily['High_atr'] = atr_daily['High'] + atr_daily['atr']\n",
    "atr_daily['Low_atr'] = atr_daily['Low'] - atr_daily['atr']\n",
    "\n",
    "fig = make_subplots(rows=2, cols=1, row_heights=[0.5, 0.5], vertical_spacing=.3, subplot_titles=[\"Bitcoin Daily Data\", \"Average True Range\"])\n",
    "\n",
    "fig.append_trace(go.Candlestick(x=daily.index,\n",
    "                open=atr_daily['Open'],\n",
    "                high=atr_daily['High'],\n",
    "                low=atr_daily['Low'],\n",
    "                close=atr_daily['Close']),\n",
    "                row=1,col=1)\n",
    "\n",
    "fig.append_trace(go.Scatter(x=atr_daily.index,\n",
    "                           y=atr_daily.atr,\n",
    "                            line_color='Orange'\n",
    "            ),row=2,col=1)\n",
    "\n",
    "\n",
    "\n",
    "fig.update_layout(\n",
    "    margin=dict(l=20, r=20, t=20, b=20),\n",
    "    \n",
    ")\n",
    "fig.update_layout({\"template\":\"plotly_dark\"})\n",
    "\n",
    "\n",
    "fig.show()"
   ]
  },
  {
   "cell_type": "markdown",
   "id": "latin-david",
   "metadata": {
    "papermill": {
     "duration": 0.025508,
     "end_time": "2021-06-18T11:02:40.985732",
     "exception": false,
     "start_time": "2021-06-18T11:02:40.960224",
     "status": "completed"
    },
    "tags": []
   },
   "source": [
    "##### 3.3.1 ATR Significance\n"
   ]
  },
  {
   "cell_type": "markdown",
   "id": "enhanced-imagination",
   "metadata": {
    "papermill": {
     "duration": 0.02541,
     "end_time": "2021-06-18T11:02:41.037108",
     "exception": false,
     "start_time": "2021-06-18T11:02:41.011698",
     "status": "completed"
    },
    "tags": []
   },
   "source": [
    "Though ATR doesn't give much of an idea about the trend of the chart, but it can be used by traders to put stop losses. An ATR value above `close` or `high` can be used as a potential exit point. An ATR value below `open` or `low` can be used as a potential exit point as well in case of down fall of the price. "
   ]
  },
  {
   "cell_type": "code",
   "execution_count": 15,
   "id": "coastal-classic",
   "metadata": {
    "_kg_hide-input": true,
    "execution": {
     "iopub.execute_input": "2021-06-18T11:02:41.145751Z",
     "iopub.status.busy": "2021-06-18T11:02:41.140563Z",
     "iopub.status.idle": "2021-06-18T11:02:41.153113Z",
     "shell.execute_reply": "2021-06-18T11:02:41.152497Z",
     "shell.execute_reply.started": "2021-06-18T10:33:11.346531Z"
    },
    "papermill": {
     "duration": 0.090558,
     "end_time": "2021-06-18T11:02:41.153252",
     "exception": false,
     "start_time": "2021-06-18T11:02:41.062694",
     "status": "completed"
    },
    "tags": []
   },
   "outputs": [
    {
     "data": {
      "text/html": [
       "<div>                            <div id=\"f23b79db-cd6e-4134-a066-a79a9f9b04f0\" class=\"plotly-graph-div\" style=\"height:525px; width:100%;\"></div>            <script type=\"text/javascript\">                require([\"plotly\"], function(Plotly) {                    window.PLOTLYENV=window.PLOTLYENV || {};                                    if (document.getElementById(\"f23b79db-cd6e-4134-a066-a79a9f9b04f0\")) {                    Plotly.newPlot(                        \"f23b79db-cd6e-4134-a066-a79a9f9b04f0\",                        [{\"close\": [9538.024414, 9480.254883, 9411.84082, 9288.018555, 9332.34082, 9303.629883, 9648.717773, 9629.658203, 9313.610352, 9264.813477, 9162.917969, 9045.390625, 9143.582031, 9190.854492, 9137.993164, 9228.325195, 9123.410156, 9087.303711, 9132.488281, 9073.942383, 9375.474609, 9252.277344, 9428.333008, 9277.967773, 9278.807617, 9240.34668, 9276.5, 9243.614258, 9243.213867, 9192.836914, 9132.227539, 9151.392578, 9159.040039, 9185.817383, 9164.231445, 9374.887695, 9525.363281, 9581.072266, 9536.892578, 9677.113281, 9905.166992, 10990.873047, 10912.823242, 11100.467773, 11111.213867, 11323.466797, 11759.592773, 11053.614258, 11246.348633, 11205.892578, 11747.022461, 11779.773438, 11601.472656, 11754.045898, 11675.739258, 11878.111328, 11410.525391, 11584.93457, 11784.137695, 11768.871094, 11865.698242, 11892.803711, 12254.402344, 11991.233398, 11758.283203, 11878.37207, 11592.489258, 11681.825195, 11664.847656, 11774.595703, 11366.134766, 11488.363281, 11323.397461, 11542.5, 11506.865234, 11711.505859, 11680.820313, 11970.478516, 11414.03418, 10245.296875, 10511.813477, 10169.567383, 10280.351563, 10369.563477, 10131.516602, 10242.347656, 10363.138672, 10400.915039, 10442.170898, 10323.755859, 10680.837891, 10796.951172, 10974.905273, 10948.990234, 10944.585938, 11094.34668, 10938.271484, 10462.259766, 10538.459961, 10225.864258, 10745.548828, 10702.290039, 10754.4375, 10774.426758, 10721.327148, 10848.830078, 10787.618164, 10623.330078, 10585.164063, 10565.493164, 10684.428711, 10804.000977, 10621.664063, 10679.136719, 10923.62793, 10923.62793, 11296.361328, 11384.181641, 11384.181641, 11384.181641, 11429.506836, 11495.349609, 11322.123047, 11358.101563, 11483.359375, 11742.037109, 11916.334961, 12823.689453, 12965.891602, 12931.539063, 13108.0625, 13031.173828, 13075.248047, 13654.21875, 13271.285156, 13437.882813, 13546.522461, 13780.995117, 13737.109375, 13550.489258, 13950.300781, 14133.707031, 15579.848633, 15565.880859, 14833.753906, 15479.567383, 15332.31543, 15290.902344, 15701.339844, 16276.34375, 16317.808594, 16068.138672, 15955.587891, 16716.111328, 17645.40625, 17804.005859, 17817.089844, 18621.314453, 18642.232422, 18370.001953, 18364.121094, 19107.464844, 18732.121094, 17150.623047, 17108.402344, 17717.414063, 18177.484375, 19625.835938, 18802.998047, 19201.091797, 19445.398438, 18699.765625, 19154.230469, 19345.121094, 19191.630859, 18321.144531, 18553.916016, 18264.992188, 18058.904297, 18803.65625, 19142.382813, 19246.644531, 19417.076172, 21310.597656, 22805.162109, 23137.960938, 23869.832031, 23477.294922, 22803.082031, 23783.029297, 23241.345703, 23735.949219, 24664.791016, 26437.037109, 26272.294922, 27084.808594, 27362.4375, 28840.953125, 29001.720703, 29374.152344, 32127.267578, 32782.023438, 31971.914063, 33992.429688, 36824.363281, 39371.042969, 40797.609375, 40254.546875, 38356.441406, 35566.65625, 33922.960938, 37316.359375, 39187.328125, 36825.367188, 36178.140625, 35791.277344, 36630.074219, 36069.804688, 35547.75, 30825.699219, 33005.761719, 32067.642578, 32289.378906, 32366.392578, 32569.849609, 30432.546875, 31649.605469, 34316.386719, 34269.523438, 33114.359375, 33537.175781, 35510.289063, 37472.089844, 36926.066406, 38144.308594, 39266.011719, 38903.441406, 46196.464844, 46481.105469, 44918.183594, 47909.332031, 47504.851563, 47105.515625, 48717.289063, 47945.058594, 49199.871094, 52149.007813, 51679.796875, 55888.132813, 56099.519531, 57539.945313, 54207.320313, 48824.425781, 49705.332031, 47093.851563, 46339.761719, 46188.453125, 45137.769531, 49631.242188, 48378.988281, 50538.242188, 48561.167969, 48927.304688, 48912.382813, 51206.691406, 52246.523438, 54824.117188, 56008.550781, 57805.121094, 57332.089844, 61243.085938, 59302.316406, 55907.199219, 56804.902344, 58870.894531, 57858.921875, 58346.652344, 58313.644531, 57523.421875, 54529.144531, 54738.945313, 52774.265625, 51704.160156, 55137.3125, 55973.511719, 55950.746094, 57750.199219, 58917.691406, 58918.832031, 59095.808594, 59384.3125, 57603.890625, 58758.554688, 59057.878906, 58192.359375, 56048.9375, 58323.953125, 58245.003906, 59793.234375, 60204.964844, 59893.453125, 63503.457031, 63109.695313, 63314.011719, 61572.789063, 60683.820313, 56216.183594, 55724.265625, 56473.03125, 53906.089844, 51762.273438, 51093.652344, 50050.867188, 49004.253906, 54021.753906, 55033.117188, 54824.703125, 53555.109375, 57750.175781, 57828.050781, 56631.078125, 57200.292969, 53333.539063, 57424.007813, 56396.515625, 57356.402344, 58803.777344, 58232.316406, 55859.796875, 56704.574219, 49150.535156, 49716.191406, 49880.535156, 46760.1875, 46456.058594, 43537.511719, 42909.402344, 37002.441406, 40782.738281, 37304.691406, 37536.632813, 34770.582031, 38705.980469, 38402.222656, 39294.199219, 38436.96875, 35697.605469, 34616.066406, 35678.128906, 37332.855469, 36684.925781, 37575.179688, 39208.765625, 36894.40625, 35551.957031, 35862.378906, 33560.707031, 33472.632813, 37345.121094, 36702.597656, 37334.398438, 35552.515625, 39097.859375, 40536.070313, 40155.296875, 38692.386719], \"high\": [9579.430664, 9540.422852, 9482.782227, 9440.875977, 9394.97168, 9401.107422, 9655.073242, 9670.541016, 9680.367188, 9340.161133, 9310.516602, 9207.810547, 9197.546875, 9237.573242, 9217.835938, 9309.754883, 9274.962891, 9202.344727, 9183.295898, 9162.183594, 9375.474609, 9360.617188, 9450.335938, 9431.378906, 9287.47168, 9293.532227, 9319.418945, 9306.405273, 9283.841797, 9275.325195, 9214.3125, 9182.253906, 9230.983398, 9201.398438, 9214.270508, 9407.262695, 9530.518555, 9610.24707, 9623.336914, 9704.556641, 10023.807617, 11298.22168, 11204.327148, 11304.397461, 11169.356445, 11415.864258, 11794.775391, 12034.144531, 11453.079102, 11385.381836, 11786.617188, 11902.335938, 11898.038086, 11800.064453, 11806.056641, 12045.140625, 11932.710938, 11748.396484, 11796.396484, 12150.994141, 11963.203125, 11934.901367, 12359.056641, 12335.707031, 12028.923828, 11900.411133, 11899.259766, 11689.407227, 11713.429688, 11807.631836, 11778.299805, 11530.052734, 11570.786133, 11545.615234, 11585.640625, 11715.264648, 11768.876953, 12067.081055, 11964.823242, 11443.022461, 10663.919922, 10581.571289, 10353.927734, 10399.15332, 10414.775391, 10350.542969, 10503.912109, 10434.922852, 10578.837891, 10577.214844, 10800.010742, 10938.631836, 11100.124023, 11037.420898, 11034.908203, 11134.092773, 11095.870117, 10988.304688, 10568.077148, 10637.847656, 10765.794922, 10757.548828, 10778.5, 10804.732422, 10949.123047, 10858.939453, 10856.52832, 10915.84375, 10662.813477, 10614.091797, 10700.791016, 10804.000977, 10803.456055, 10687.268555, 10939.799805, 10939.799805, 11442.210938, 11428.813477, 11428.813477, 11428.813477, 11539.977539, 11569.914063, 11540.061523, 11386.261719, 11483.359375, 11799.092773, 11999.917969, 13184.566406, 13161.59375, 13015.961914, 13145.066406, 13329.183594, 13225.297852, 13759.668945, 13837.695313, 13612.047852, 13651.516602, 14028.213867, 13862.033203, 13808.323242, 13984.981445, 14218.766602, 15706.404297, 15903.4375, 15737.095703, 15637.320313, 15785.136719, 15450.329102, 15916.260742, 16305.003906, 16463.177734, 16317.808594, 16123.110352, 16816.181641, 17782.919922, 18393.949219, 18119.546875, 18773.226563, 18936.621094, 18688.96875, 18711.425781, 19348.271484, 19390.964844, 18866.285156, 17445.023438, 17853.939453, 18283.628906, 19749.263672, 19845.974609, 19308.330078, 19566.191406, 19511.404297, 19160.449219, 19390.5, 19411.828125, 19283.478516, 18626.292969, 18553.298828, 18268.453125, 18919.550781, 19381.535156, 19305.099609, 19525.007813, 21458.908203, 23642.660156, 23238.601563, 24085.855469, 24209.660156, 24059.982422, 23789.902344, 24024.490234, 23768.337891, 24710.101563, 26718.070313, 28288.839844, 27389.111328, 27370.720703, 28937.740234, 29244.876953, 29600.626953, 33155.117188, 34608.558594, 33440.21875, 34437.589844, 36879.699219, 40180.367188, 41946.738281, 41436.351563, 41420.191406, 38346.53125, 36568.527344, 37599.960938, 39966.40625, 39577.710938, 37864.367188, 36722.351563, 37299.285156, 37755.890625, 36378.328125, 35552.679688, 33811.851563, 33360.976563, 32944.007813, 34802.742188, 32794.550781, 32564.029297, 31891.300781, 38406.261719, 34834.707031, 34288.332031, 34638.214844, 35896.882813, 37480.1875, 38592.175781, 38225.90625, 40846.546875, 39621.835938, 46203.929688, 48003.722656, 47145.566406, 48463.46875, 48745.734375, 48047.746094, 49487.640625, 48875.570313, 50341.101563, 52533.914063, 52474.105469, 56113.652344, 57505.226563, 58330.570313, 57533.390625, 54204.929688, 51290.136719, 51948.96875, 48370.785156, 48253.269531, 46716.429688, 49784.015625, 50127.511719, 52535.136719, 51735.089844, 49396.429688, 49147.21875, 51384.367188, 52314.070313, 54824.117188, 57258.253906, 58091.0625, 57996.621094, 61683.863281, 61597.917969, 60540.992188, 56833.179688, 58969.816406, 60116.25, 59498.375, 60031.285156, 58767.898438, 58471.480469, 55985.441406, 57262.382813, 53392.386719, 55137.3125, 56568.214844, 56610.3125, 58342.097656, 59447.222656, 59930.027344, 59586.070313, 60267.1875, 60110.269531, 58913.746094, 59891.296875, 59479.578125, 58731.144531, 58338.738281, 58937.046875, 61276.664063, 60790.554688, 61253.035156, 63742.285156, 64863.097656, 63821.671875, 63594.722656, 62572.175781, 61057.457031, 57520.054688, 57062.148438, 56757.972656, 55410.230469, 52120.792969, 51167.5625, 50506.019531, 54288.003906, 55416.964844, 56227.207031, 55115.84375, 57900.71875, 58448.339844, 57902.59375, 58973.308594, 57214.179688, 57911.363281, 58363.316406, 58606.632813, 59464.613281, 59210.882813, 59519.355469, 56872.542969, 57939.363281, 51330.84375, 51438.117188, 50639.664063, 49720.042969, 46623.558594, 45812.457031, 43546.117188, 42462.984375, 42172.171875, 38831.054688, 38289.21875, 39835.140625, 39776.351563, 40782.078125, 40379.617188, 38856.96875, 37234.5, 36400.667969, 37468.25, 37896.734375, 38231.339844, 39478.953125, 39242.484375, 37917.714844, 36436.421875, 36790.570313, 34017.386719, 37537.371094, 38334.324219, 37608.695313, 37408.925781, 39322.78125, 40978.363281, 41295.269531, 40472.21875], \"low\": [9400.445313, 9327.339844, 9328.395508, 9274.295898, 9247.379883, 9300.430664, 9296.87207, 9547.24707, 9278.233398, 9095.324219, 9101.738281, 8998.216797, 8975.525391, 9041.875977, 9084.837891, 9104.735352, 9036.623047, 9058.794922, 9053.629883, 8977.015625, 9058.664063, 9201.81543, 9249.5, 9234.999023, 9118.001953, 9199.485352, 9197.450195, 9224.292969, 9171.661133, 9171.933594, 9088.947266, 9089.202148, 9100.824219, 9097.632813, 9137.509766, 9149.389648, 9319.65332, 9483.003906, 9481.454102, 9530.211914, 9652.847656, 9903.969727, 10632.631836, 10856.141602, 10895.455078, 10987.053711, 11239.682617, 11018.129883, 11012.415039, 11094.145508, 11158.285156, 11598.713867, 11408.59375, 11558.431641, 11548.78418, 11662.256836, 11195.708984, 11249.605469, 11216.87207, 11685.455078, 11768.697266, 11737.188477, 11806.696289, 11954.525391, 11687.333008, 11710.063477, 11564.979492, 11448.805664, 11559.920898, 11623.25, 11189.850586, 11296.993164, 11185.941406, 11316.422852, 11466.292969, 11492.381836, 11598.318359, 11601.128906, 11290.793945, 10182.464844, 10207.94043, 9946.675781, 10056.885742, 9916.493164, 9945.110352, 10017.250977, 10238.135742, 10140.836914, 10292.386719, 10224.330078, 10266.008789, 10656.459961, 10704.884766, 10774.62793, 10829.657227, 10909.618164, 10814.477539, 10380.260742, 10382.726563, 10185.774414, 10215.205078, 10594.047852, 10682.082031, 10643.458008, 10716.676758, 10665.344727, 10689.670898, 10493.552734, 10440.311523, 10527.978516, 10531.342773, 10646.443359, 10565.197266, 10591.963867, 10569.823242, 10569.823242, 11056.94043, 11288.62793, 11288.62793, 11288.62793, 11307.831055, 11303.603516, 11223.012695, 11285.345703, 11347.578125, 11408.290039, 11681.480469, 11900.928711, 12717.09375, 12752.647461, 12885.74707, 12910.061523, 12822.382813, 13060.837891, 12932.250977, 12980.05957, 13136.198242, 13457.530273, 13628.37793, 13243.160156, 13325.441406, 13580.47168, 14102.088867, 15226.839844, 14423.203125, 14744.110352, 14865.529297, 15124.959961, 15290.006836, 15534.771484, 15992.152344, 15749.193359, 15793.53418, 15880.706055, 16564.544922, 17352.90625, 17382.554688, 17765.794922, 18444.359375, 17671.384766, 18000.796875, 18128.65625, 18581.146484, 16351.035156, 16526.423828, 16910.652344, 17559.117188, 18178.322266, 18321.921875, 18347.71875, 18925.785156, 18697.193359, 18590.193359, 18897.894531, 18931.142578, 18269.945313, 17935.546875, 17957.064453, 17619.533203, 18046.041016, 18734.332031, 19012.708984, 19079.841797, 19298.316406, 21234.675781, 22399.8125, 22826.472656, 23147.710938, 22159.367188, 22430.605469, 22802.646484, 22777.597656, 23463.673828, 24522.689453, 25922.769531, 26207.640625, 25987.298828, 27360.089844, 28201.992188, 28803.585938, 29091.181641, 32052.316406, 28722.755859, 30221.1875, 33514.035156, 36491.191406, 36838.636719, 38980.875, 35984.628906, 30549.599609, 32697.976563, 32584.667969, 36868.5625, 34659.589844, 35633.554688, 34069.320313, 34883.84375, 36069.804688, 33570.476563, 30250.75, 28953.373047, 31493.160156, 31106.685547, 32087.787109, 31030.265625, 29367.138672, 30023.207031, 32064.814453, 32940.1875, 32270.175781, 32384.228516, 33489.21875, 35443.984375, 36317.5, 36658.761719, 38138.386719, 37446.152344, 38076.324219, 45166.960938, 43881.152344, 44187.761719, 46424.976563, 46392.28125, 47114.507813, 46347.476563, 47201.304688, 49072.378906, 51015.765625, 50937.277344, 54626.558594, 55672.609375, 48967.566406, 45290.589844, 47213.5, 47093.851563, 44454.84375, 45269.027344, 43241.617188, 45115.09375, 47228.84375, 48274.320313, 47656.929688, 46542.515625, 47257.527344, 48918.679688, 49506.054688, 51981.832031, 53290.890625, 54484.59375, 55376.648438, 56217.972656, 59302.316406, 55393.164063, 53555.027344, 54528.628906, 54253.578125, 56643.703125, 58213.296875, 56005.617188, 54288.15625, 53470.695313, 52514.332031, 50856.570313, 51579.855469, 54242.910156, 55071.113281, 55139.339844, 57251.550781, 57726.417969, 58505.277344, 58869.28125, 57603.890625, 57168.675781, 57694.824219, 57646.808594, 55604.023438, 55879.085938, 57807.863281, 58038.707031, 59289.796875, 59589.875, 59869.957031, 61554.796875, 62208.964844, 60222.53125, 60361.351563, 52829.535156, 54368.59375, 53448.046875, 53695.46875, 50583.8125, 47714.664063, 48805.285156, 47159.484375, 48852.796875, 53319.1875, 53887.917969, 52418.027344, 53129.601563, 57052.273438, 56141.90625, 56590.871094, 53191.425781, 52969.054688, 55382.507813, 55321.847656, 56975.210938, 56482.003906, 54071.457031, 54608.652344, 49150.535156, 46980.019531, 48868.578125, 46664.140625, 43963.351563, 42207.289063, 42367.832031, 30681.496094, 35050.617188, 33616.453125, 35383.683594, 31227.339844, 34551.082031, 36581.429688, 37905.835938, 37247.902344, 34779.039063, 33693.929688, 33520.738281, 34241.945313, 35787.085938, 35966.308594, 37243.972656, 35717.722656, 34900.414063, 35304.578125, 33480.640625, 31114.443359, 32475.865234, 35847.59375, 36044.449219, 34728.191406, 34864.109375, 38757.285156, 39609.46875, 38562.894531], \"open\": [9454.266602, 9533.78418, 9481.567383, 9410.293945, 9290.959961, 9330.926758, 9300.915039, 9644.076172, 9632.149414, 9314.126953, 9260.995117, 9167.824219, 9048.460938, 9140.029297, 9185.581055, 9145.985352, 9231.139648, 9124.842773, 9084.233398, 9126.09082, 9072.849609, 9349.161133, 9253.020508, 9427.994141, 9273.357422, 9277.511719, 9241.054688, 9277.205078, 9238.703125, 9241.897461, 9191.980469, 9131.8125, 9151.183594, 9158.005859, 9187.220703, 9162.514648, 9375.080078, 9527.141602, 9585.514648, 9539.485352, 9680.234375, 9905.217773, 11017.463867, 10912.953125, 11099.833008, 11110.210938, 11322.570313, 11758.764648, 11043.768555, 11246.203125, 11203.823242, 11749.871094, 11778.894531, 11604.553711, 11737.325195, 11662.256836, 11881.647461, 11404.59668, 11588.405273, 11772.65918, 11768.697266, 11866.685547, 11895.658203, 12251.895508, 11990.884766, 11761.5, 11878.026367, 11585.477539, 11679.696289, 11663.689453, 11773.588867, 11366.894531, 11485.608398, 11325.295898, 11541.054688, 11508.713867, 11713.306641, 11679.316406, 11964.823242, 11407.191406, 10230.365234, 10512.530273, 10167.216797, 10280.998047, 10369.306641, 10134.151367, 10242.330078, 10369.02832, 10409.861328, 10452.399414, 10328.734375, 10677.754883, 10797.761719, 10973.251953, 10951.820313, 10933.75293, 11095.870117, 10934.925781, 10459.624023, 10539.457031, 10227.479492, 10747.472656, 10702.237305, 10752.939453, 10771.641602, 10712.462891, 10845.411133, 10785.010742, 10624.390625, 10583.806641, 10567.919922, 10688.03418, 10799.77832, 10619.803711, 10677.625, 10677.625, 11059.142578, 11296.082031, 11296.082031, 11296.082031, 11429.047852, 11426.602539, 11502.828125, 11322.123047, 11355.982422, 11495.038086, 11745.974609, 11913.077148, 12801.635742, 12971.548828, 12931.574219, 13108.063477, 13031.201172, 13075.242188, 13654.214844, 13271.298828, 13437.874023, 13546.532227, 13780.995117, 13737.032227, 13550.451172, 13950.488281, 14133.733398, 15579.729492, 15565.880859, 14833.753906, 15479.595703, 15332.350586, 15290.90918, 15701.298828, 16276.44043, 16317.808594, 16068.139648, 15955.577148, 16685.691406, 17645.191406, 17803.861328, 17817.083984, 18621.316406, 18642.232422, 18370.017578, 18365.015625, 19104.410156, 18729.839844, 17153.914063, 17112.933594, 17719.634766, 18178.322266, 19633.769531, 18801.744141, 19205.925781, 19446.966797, 18698.384766, 19154.179688, 19343.128906, 19191.529297, 18320.884766, 18553.298828, 18263.929688, 18051.320313, 18806.765625, 19144.492188, 19246.919922, 19418.818359, 21308.351563, 22806.796875, 23132.865234, 23861.765625, 23474.455078, 22794.039063, 23781.974609, 23240.203125, 23733.570313, 24677.015625, 26439.373047, 26280.822266, 27081.810547, 27360.089844, 28841.574219, 28994.009766, 29376.455078, 32129.408203, 32810.949219, 31977.041016, 34013.613281, 36833.875, 39381.765625, 40788.640625, 40254.21875, 38346.53125, 35516.359375, 33915.121094, 37325.109375, 39156.707031, 36821.648438, 36163.648438, 35792.238281, 36642.234375, 36050.113281, 35549.398438, 30817.625, 32985.757813, 32064.376953, 32285.798828, 32358.613281, 32564.029297, 30441.041016, 34318.671875, 34295.933594, 34270.878906, 33114.578125, 33533.199219, 35510.820313, 37475.105469, 36931.546875, 38138.386719, 39250.191406, 38886.828125, 46184.992188, 46469.761719, 44898.710938, 47877.035156, 47491.203125, 47114.507813, 48696.535156, 47944.457031, 49207.277344, 52140.972656, 51675.980469, 55887.335938, 56068.566406, 57532.738281, 54204.929688, 48835.085938, 49709.082031, 47180.464844, 46344.773438, 46194.015625, 45159.503906, 49612.105469, 48415.816406, 50522.304688, 48527.03125, 48899.230469, 48918.679688, 51174.117188, 52272.96875, 54824.011719, 55963.179688, 57821.21875, 57343.371094, 61221.132813, 59267.429688, 55840.785156, 56825.828125, 58893.078125, 57850.441406, 58332.261719, 58309.914063, 57517.890625, 54511.660156, 54710.488281, 52726.746094, 51683.011719, 55137.566406, 55974.941406, 55947.898438, 57750.132813, 58930.277344, 58926.5625, 59098.878906, 59397.410156, 57604.839844, 58760.875, 59171.933594, 58186.507813, 56099.914063, 58326.5625, 58253.777344, 59846.230469, 60175.945313, 59890.019531, 63523.753906, 63075.195313, 63258.503906, 61529.921875, 60701.886719, 56191.585938, 55681.792969, 56471.128906, 53857.105469, 51739.808594, 51143.226563, 50052.832031, 49077.792969, 54030.304688, 55036.636719, 54858.089844, 53568.664063, 57714.664063, 57825.863281, 56620.273438, 57214.179688, 53252.164063, 57441.308594, 56413.953125, 57352.765625, 58877.390625, 58250.871094, 55847.242188, 56714.53125, 49735.433594, 49682.980469, 49855.496094, 46716.636719, 46415.898438, 43488.058594, 42944.976563, 36753.667969, 40596.949219, 37371.03125, 37531.449219, 34700.363281, 38795.78125, 38392.625, 39316.890625, 38507.082031, 35684.15625, 34607.40625, 35658.59375, 37293.792969, 36699.921875, 37599.410156, 39242.484375, 36880.15625, 35538.609375, 35835.265625, 33589.519531, 33416.976563, 37389.515625, 36697.03125, 37340.144531, 35555.789063, 39016.96875, 40526.78125, 40023.757813], \"type\": \"candlestick\", \"x\": [\"2020-06-16T00:00:00\", \"2020-06-17T00:00:00\", \"2020-06-18T00:00:00\", \"2020-06-19T00:00:00\", \"2020-06-20T00:00:00\", \"2020-06-21T00:00:00\", \"2020-06-22T00:00:00\", \"2020-06-23T00:00:00\", \"2020-06-24T00:00:00\", \"2020-06-25T00:00:00\", \"2020-06-26T00:00:00\", \"2020-06-27T00:00:00\", \"2020-06-28T00:00:00\", \"2020-06-29T00:00:00\", \"2020-06-30T00:00:00\", \"2020-07-01T00:00:00\", \"2020-07-02T00:00:00\", \"2020-07-03T00:00:00\", \"2020-07-04T00:00:00\", \"2020-07-05T00:00:00\", \"2020-07-06T00:00:00\", \"2020-07-07T00:00:00\", \"2020-07-08T00:00:00\", \"2020-07-09T00:00:00\", \"2020-07-10T00:00:00\", \"2020-07-11T00:00:00\", \"2020-07-12T00:00:00\", \"2020-07-13T00:00:00\", \"2020-07-14T00:00:00\", \"2020-07-15T00:00:00\", \"2020-07-16T00:00:00\", \"2020-07-17T00:00:00\", \"2020-07-18T00:00:00\", \"2020-07-19T00:00:00\", \"2020-07-20T00:00:00\", \"2020-07-21T00:00:00\", \"2020-07-22T00:00:00\", \"2020-07-23T00:00:00\", \"2020-07-24T00:00:00\", \"2020-07-25T00:00:00\", \"2020-07-26T00:00:00\", \"2020-07-27T00:00:00\", \"2020-07-28T00:00:00\", \"2020-07-29T00:00:00\", \"2020-07-30T00:00:00\", \"2020-07-31T00:00:00\", \"2020-08-01T00:00:00\", \"2020-08-02T00:00:00\", \"2020-08-03T00:00:00\", \"2020-08-04T00:00:00\", \"2020-08-05T00:00:00\", \"2020-08-06T00:00:00\", \"2020-08-07T00:00:00\", \"2020-08-08T00:00:00\", \"2020-08-09T00:00:00\", \"2020-08-10T00:00:00\", \"2020-08-11T00:00:00\", \"2020-08-12T00:00:00\", \"2020-08-13T00:00:00\", \"2020-08-14T00:00:00\", \"2020-08-15T00:00:00\", \"2020-08-16T00:00:00\", \"2020-08-17T00:00:00\", \"2020-08-18T00:00:00\", \"2020-08-19T00:00:00\", \"2020-08-20T00:00:00\", \"2020-08-21T00:00:00\", \"2020-08-22T00:00:00\", \"2020-08-23T00:00:00\", \"2020-08-24T00:00:00\", \"2020-08-25T00:00:00\", \"2020-08-26T00:00:00\", \"2020-08-27T00:00:00\", \"2020-08-28T00:00:00\", \"2020-08-29T00:00:00\", \"2020-08-30T00:00:00\", \"2020-08-31T00:00:00\", \"2020-09-01T00:00:00\", \"2020-09-02T00:00:00\", \"2020-09-03T00:00:00\", \"2020-09-04T00:00:00\", \"2020-09-05T00:00:00\", \"2020-09-06T00:00:00\", \"2020-09-07T00:00:00\", \"2020-09-08T00:00:00\", \"2020-09-09T00:00:00\", \"2020-09-10T00:00:00\", \"2020-09-11T00:00:00\", \"2020-09-12T00:00:00\", \"2020-09-13T00:00:00\", \"2020-09-14T00:00:00\", \"2020-09-15T00:00:00\", \"2020-09-16T00:00:00\", \"2020-09-17T00:00:00\", \"2020-09-18T00:00:00\", \"2020-09-19T00:00:00\", \"2020-09-20T00:00:00\", \"2020-09-21T00:00:00\", \"2020-09-22T00:00:00\", \"2020-09-23T00:00:00\", \"2020-09-24T00:00:00\", \"2020-09-25T00:00:00\", \"2020-09-26T00:00:00\", \"2020-09-27T00:00:00\", \"2020-09-28T00:00:00\", \"2020-09-29T00:00:00\", \"2020-09-30T00:00:00\", \"2020-10-01T00:00:00\", \"2020-10-02T00:00:00\", \"2020-10-03T00:00:00\", \"2020-10-04T00:00:00\", \"2020-10-05T00:00:00\", \"2020-10-06T00:00:00\", \"2020-10-07T00:00:00\", \"2020-10-08T00:00:00\", \"2020-10-09T00:00:00\", \"2020-10-10T00:00:00\", \"2020-10-11T00:00:00\", \"2020-10-12T00:00:00\", \"2020-10-13T00:00:00\", \"2020-10-14T00:00:00\", \"2020-10-15T00:00:00\", \"2020-10-16T00:00:00\", \"2020-10-17T00:00:00\", \"2020-10-18T00:00:00\", \"2020-10-19T00:00:00\", \"2020-10-20T00:00:00\", \"2020-10-21T00:00:00\", \"2020-10-22T00:00:00\", \"2020-10-23T00:00:00\", \"2020-10-24T00:00:00\", \"2020-10-25T00:00:00\", \"2020-10-26T00:00:00\", \"2020-10-27T00:00:00\", \"2020-10-28T00:00:00\", \"2020-10-29T00:00:00\", \"2020-10-30T00:00:00\", \"2020-10-31T00:00:00\", \"2020-11-01T00:00:00\", \"2020-11-02T00:00:00\", \"2020-11-03T00:00:00\", \"2020-11-04T00:00:00\", \"2020-11-05T00:00:00\", \"2020-11-06T00:00:00\", \"2020-11-07T00:00:00\", \"2020-11-08T00:00:00\", \"2020-11-09T00:00:00\", \"2020-11-10T00:00:00\", \"2020-11-11T00:00:00\", \"2020-11-12T00:00:00\", \"2020-11-13T00:00:00\", \"2020-11-14T00:00:00\", \"2020-11-15T00:00:00\", \"2020-11-16T00:00:00\", \"2020-11-17T00:00:00\", \"2020-11-18T00:00:00\", \"2020-11-19T00:00:00\", \"2020-11-20T00:00:00\", \"2020-11-21T00:00:00\", \"2020-11-22T00:00:00\", \"2020-11-23T00:00:00\", \"2020-11-24T00:00:00\", \"2020-11-25T00:00:00\", \"2020-11-26T00:00:00\", \"2020-11-27T00:00:00\", \"2020-11-28T00:00:00\", \"2020-11-29T00:00:00\", \"2020-11-30T00:00:00\", \"2020-12-01T00:00:00\", \"2020-12-02T00:00:00\", \"2020-12-03T00:00:00\", \"2020-12-04T00:00:00\", \"2020-12-05T00:00:00\", \"2020-12-06T00:00:00\", \"2020-12-07T00:00:00\", \"2020-12-08T00:00:00\", \"2020-12-09T00:00:00\", \"2020-12-10T00:00:00\", \"2020-12-11T00:00:00\", \"2020-12-12T00:00:00\", \"2020-12-13T00:00:00\", \"2020-12-14T00:00:00\", \"2020-12-15T00:00:00\", \"2020-12-16T00:00:00\", \"2020-12-17T00:00:00\", \"2020-12-18T00:00:00\", \"2020-12-19T00:00:00\", \"2020-12-20T00:00:00\", \"2020-12-21T00:00:00\", \"2020-12-22T00:00:00\", \"2020-12-23T00:00:00\", \"2020-12-24T00:00:00\", \"2020-12-25T00:00:00\", \"2020-12-26T00:00:00\", \"2020-12-27T00:00:00\", \"2020-12-28T00:00:00\", \"2020-12-29T00:00:00\", \"2020-12-30T00:00:00\", \"2020-12-31T00:00:00\", \"2021-01-01T00:00:00\", \"2021-01-02T00:00:00\", \"2021-01-03T00:00:00\", \"2021-01-04T00:00:00\", \"2021-01-05T00:00:00\", \"2021-01-06T00:00:00\", \"2021-01-07T00:00:00\", \"2021-01-08T00:00:00\", \"2021-01-09T00:00:00\", \"2021-01-10T00:00:00\", \"2021-01-11T00:00:00\", \"2021-01-12T00:00:00\", \"2021-01-13T00:00:00\", \"2021-01-14T00:00:00\", \"2021-01-15T00:00:00\", \"2021-01-16T00:00:00\", \"2021-01-17T00:00:00\", \"2021-01-18T00:00:00\", \"2021-01-19T00:00:00\", \"2021-01-20T00:00:00\", \"2021-01-21T00:00:00\", \"2021-01-22T00:00:00\", \"2021-01-23T00:00:00\", \"2021-01-24T00:00:00\", \"2021-01-25T00:00:00\", \"2021-01-26T00:00:00\", \"2021-01-27T00:00:00\", \"2021-01-28T00:00:00\", \"2021-01-29T00:00:00\", \"2021-01-30T00:00:00\", \"2021-01-31T00:00:00\", \"2021-02-01T00:00:00\", \"2021-02-02T00:00:00\", \"2021-02-03T00:00:00\", \"2021-02-04T00:00:00\", \"2021-02-05T00:00:00\", \"2021-02-06T00:00:00\", \"2021-02-07T00:00:00\", \"2021-02-08T00:00:00\", \"2021-02-09T00:00:00\", \"2021-02-10T00:00:00\", \"2021-02-11T00:00:00\", \"2021-02-12T00:00:00\", \"2021-02-13T00:00:00\", \"2021-02-14T00:00:00\", \"2021-02-15T00:00:00\", \"2021-02-16T00:00:00\", \"2021-02-17T00:00:00\", \"2021-02-18T00:00:00\", \"2021-02-19T00:00:00\", \"2021-02-20T00:00:00\", \"2021-02-21T00:00:00\", \"2021-02-22T00:00:00\", \"2021-02-23T00:00:00\", \"2021-02-24T00:00:00\", \"2021-02-25T00:00:00\", \"2021-02-26T00:00:00\", \"2021-02-27T00:00:00\", \"2021-02-28T00:00:00\", \"2021-03-01T00:00:00\", \"2021-03-02T00:00:00\", \"2021-03-03T00:00:00\", \"2021-03-04T00:00:00\", \"2021-03-05T00:00:00\", \"2021-03-06T00:00:00\", \"2021-03-07T00:00:00\", \"2021-03-08T00:00:00\", \"2021-03-09T00:00:00\", \"2021-03-10T00:00:00\", \"2021-03-11T00:00:00\", \"2021-03-12T00:00:00\", \"2021-03-13T00:00:00\", \"2021-03-14T00:00:00\", \"2021-03-15T00:00:00\", \"2021-03-16T00:00:00\", \"2021-03-17T00:00:00\", \"2021-03-18T00:00:00\", \"2021-03-19T00:00:00\", \"2021-03-20T00:00:00\", \"2021-03-21T00:00:00\", \"2021-03-22T00:00:00\", \"2021-03-23T00:00:00\", \"2021-03-24T00:00:00\", \"2021-03-25T00:00:00\", \"2021-03-26T00:00:00\", \"2021-03-27T00:00:00\", \"2021-03-28T00:00:00\", \"2021-03-29T00:00:00\", \"2021-03-30T00:00:00\", \"2021-03-31T00:00:00\", \"2021-04-01T00:00:00\", \"2021-04-02T00:00:00\", \"2021-04-03T00:00:00\", \"2021-04-04T00:00:00\", \"2021-04-05T00:00:00\", \"2021-04-06T00:00:00\", \"2021-04-07T00:00:00\", \"2021-04-08T00:00:00\", \"2021-04-09T00:00:00\", \"2021-04-10T00:00:00\", \"2021-04-11T00:00:00\", \"2021-04-12T00:00:00\", \"2021-04-13T00:00:00\", \"2021-04-14T00:00:00\", \"2021-04-15T00:00:00\", \"2021-04-16T00:00:00\", \"2021-04-17T00:00:00\", \"2021-04-18T00:00:00\", \"2021-04-19T00:00:00\", \"2021-04-20T00:00:00\", \"2021-04-21T00:00:00\", \"2021-04-22T00:00:00\", \"2021-04-23T00:00:00\", \"2021-04-24T00:00:00\", \"2021-04-25T00:00:00\", \"2021-04-26T00:00:00\", \"2021-04-27T00:00:00\", \"2021-04-28T00:00:00\", \"2021-04-29T00:00:00\", \"2021-04-30T00:00:00\", \"2021-05-01T00:00:00\", \"2021-05-02T00:00:00\", \"2021-05-03T00:00:00\", \"2021-05-04T00:00:00\", \"2021-05-05T00:00:00\", \"2021-05-06T00:00:00\", \"2021-05-07T00:00:00\", \"2021-05-08T00:00:00\", \"2021-05-09T00:00:00\", \"2021-05-10T00:00:00\", \"2021-05-11T00:00:00\", \"2021-05-12T00:00:00\", \"2021-05-13T00:00:00\", \"2021-05-14T00:00:00\", \"2021-05-15T00:00:00\", \"2021-05-16T00:00:00\", \"2021-05-17T00:00:00\", \"2021-05-18T00:00:00\", \"2021-05-19T00:00:00\", \"2021-05-20T00:00:00\", \"2021-05-21T00:00:00\", \"2021-05-22T00:00:00\", \"2021-05-23T00:00:00\", \"2021-05-24T00:00:00\", \"2021-05-25T00:00:00\", \"2021-05-26T00:00:00\", \"2021-05-27T00:00:00\", \"2021-05-28T00:00:00\", \"2021-05-29T00:00:00\", \"2021-05-30T00:00:00\", \"2021-05-31T00:00:00\", \"2021-06-01T00:00:00\", \"2021-06-02T00:00:00\", \"2021-06-03T00:00:00\", \"2021-06-04T00:00:00\", \"2021-06-05T00:00:00\", \"2021-06-06T00:00:00\", \"2021-06-07T00:00:00\", \"2021-06-08T00:00:00\", \"2021-06-09T00:00:00\", \"2021-06-10T00:00:00\", \"2021-06-11T00:00:00\", \"2021-06-12T00:00:00\", \"2021-06-13T00:00:00\", \"2021-06-14T00:00:00\", \"2021-06-15T00:00:00\", \"2021-06-16T00:00:00\"]}, {\"line\": {\"color\": \"Orange\"}, \"type\": \"scatter\", \"x\": [\"2020-06-16T00:00:00\", \"2020-06-17T00:00:00\", \"2020-06-18T00:00:00\", \"2020-06-19T00:00:00\", \"2020-06-20T00:00:00\", \"2020-06-21T00:00:00\", \"2020-06-22T00:00:00\", \"2020-06-23T00:00:00\", \"2020-06-24T00:00:00\", \"2020-06-25T00:00:00\", \"2020-06-26T00:00:00\", \"2020-06-27T00:00:00\", \"2020-06-28T00:00:00\", \"2020-06-29T00:00:00\", \"2020-06-30T00:00:00\", \"2020-07-01T00:00:00\", \"2020-07-02T00:00:00\", \"2020-07-03T00:00:00\", \"2020-07-04T00:00:00\", \"2020-07-05T00:00:00\", \"2020-07-06T00:00:00\", \"2020-07-07T00:00:00\", \"2020-07-08T00:00:00\", \"2020-07-09T00:00:00\", \"2020-07-10T00:00:00\", \"2020-07-11T00:00:00\", \"2020-07-12T00:00:00\", \"2020-07-13T00:00:00\", \"2020-07-14T00:00:00\", \"2020-07-15T00:00:00\", \"2020-07-16T00:00:00\", \"2020-07-17T00:00:00\", \"2020-07-18T00:00:00\", \"2020-07-19T00:00:00\", \"2020-07-20T00:00:00\", \"2020-07-21T00:00:00\", \"2020-07-22T00:00:00\", \"2020-07-23T00:00:00\", \"2020-07-24T00:00:00\", \"2020-07-25T00:00:00\", \"2020-07-26T00:00:00\", \"2020-07-27T00:00:00\", \"2020-07-28T00:00:00\", \"2020-07-29T00:00:00\", \"2020-07-30T00:00:00\", \"2020-07-31T00:00:00\", \"2020-08-01T00:00:00\", \"2020-08-02T00:00:00\", \"2020-08-03T00:00:00\", \"2020-08-04T00:00:00\", \"2020-08-05T00:00:00\", \"2020-08-06T00:00:00\", \"2020-08-07T00:00:00\", \"2020-08-08T00:00:00\", \"2020-08-09T00:00:00\", \"2020-08-10T00:00:00\", \"2020-08-11T00:00:00\", \"2020-08-12T00:00:00\", \"2020-08-13T00:00:00\", \"2020-08-14T00:00:00\", \"2020-08-15T00:00:00\", \"2020-08-16T00:00:00\", \"2020-08-17T00:00:00\", \"2020-08-18T00:00:00\", \"2020-08-19T00:00:00\", \"2020-08-20T00:00:00\", \"2020-08-21T00:00:00\", \"2020-08-22T00:00:00\", \"2020-08-23T00:00:00\", \"2020-08-24T00:00:00\", \"2020-08-25T00:00:00\", \"2020-08-26T00:00:00\", \"2020-08-27T00:00:00\", \"2020-08-28T00:00:00\", \"2020-08-29T00:00:00\", \"2020-08-30T00:00:00\", \"2020-08-31T00:00:00\", \"2020-09-01T00:00:00\", \"2020-09-02T00:00:00\", \"2020-09-03T00:00:00\", \"2020-09-04T00:00:00\", \"2020-09-05T00:00:00\", \"2020-09-06T00:00:00\", \"2020-09-07T00:00:00\", \"2020-09-08T00:00:00\", \"2020-09-09T00:00:00\", \"2020-09-10T00:00:00\", \"2020-09-11T00:00:00\", \"2020-09-12T00:00:00\", \"2020-09-13T00:00:00\", \"2020-09-14T00:00:00\", \"2020-09-15T00:00:00\", \"2020-09-16T00:00:00\", \"2020-09-17T00:00:00\", \"2020-09-18T00:00:00\", \"2020-09-19T00:00:00\", \"2020-09-20T00:00:00\", \"2020-09-21T00:00:00\", \"2020-09-22T00:00:00\", \"2020-09-23T00:00:00\", \"2020-09-24T00:00:00\", \"2020-09-25T00:00:00\", \"2020-09-26T00:00:00\", \"2020-09-27T00:00:00\", \"2020-09-28T00:00:00\", \"2020-09-29T00:00:00\", \"2020-09-30T00:00:00\", \"2020-10-01T00:00:00\", \"2020-10-02T00:00:00\", \"2020-10-03T00:00:00\", \"2020-10-04T00:00:00\", \"2020-10-05T00:00:00\", \"2020-10-06T00:00:00\", \"2020-10-07T00:00:00\", \"2020-10-08T00:00:00\", \"2020-10-09T00:00:00\", \"2020-10-10T00:00:00\", \"2020-10-11T00:00:00\", \"2020-10-12T00:00:00\", \"2020-10-13T00:00:00\", \"2020-10-14T00:00:00\", \"2020-10-15T00:00:00\", \"2020-10-16T00:00:00\", \"2020-10-17T00:00:00\", \"2020-10-18T00:00:00\", \"2020-10-19T00:00:00\", \"2020-10-20T00:00:00\", \"2020-10-21T00:00:00\", \"2020-10-22T00:00:00\", \"2020-10-23T00:00:00\", \"2020-10-24T00:00:00\", \"2020-10-25T00:00:00\", \"2020-10-26T00:00:00\", \"2020-10-27T00:00:00\", \"2020-10-28T00:00:00\", \"2020-10-29T00:00:00\", \"2020-10-30T00:00:00\", \"2020-10-31T00:00:00\", \"2020-11-01T00:00:00\", \"2020-11-02T00:00:00\", \"2020-11-03T00:00:00\", \"2020-11-04T00:00:00\", \"2020-11-05T00:00:00\", \"2020-11-06T00:00:00\", \"2020-11-07T00:00:00\", \"2020-11-08T00:00:00\", \"2020-11-09T00:00:00\", \"2020-11-10T00:00:00\", \"2020-11-11T00:00:00\", \"2020-11-12T00:00:00\", \"2020-11-13T00:00:00\", \"2020-11-14T00:00:00\", \"2020-11-15T00:00:00\", \"2020-11-16T00:00:00\", \"2020-11-17T00:00:00\", \"2020-11-18T00:00:00\", \"2020-11-19T00:00:00\", \"2020-11-20T00:00:00\", \"2020-11-21T00:00:00\", \"2020-11-22T00:00:00\", \"2020-11-23T00:00:00\", \"2020-11-24T00:00:00\", \"2020-11-25T00:00:00\", \"2020-11-26T00:00:00\", \"2020-11-27T00:00:00\", \"2020-11-28T00:00:00\", \"2020-11-29T00:00:00\", \"2020-11-30T00:00:00\", \"2020-12-01T00:00:00\", \"2020-12-02T00:00:00\", \"2020-12-03T00:00:00\", \"2020-12-04T00:00:00\", \"2020-12-05T00:00:00\", \"2020-12-06T00:00:00\", \"2020-12-07T00:00:00\", \"2020-12-08T00:00:00\", \"2020-12-09T00:00:00\", \"2020-12-10T00:00:00\", \"2020-12-11T00:00:00\", \"2020-12-12T00:00:00\", \"2020-12-13T00:00:00\", \"2020-12-14T00:00:00\", \"2020-12-15T00:00:00\", \"2020-12-16T00:00:00\", \"2020-12-17T00:00:00\", \"2020-12-18T00:00:00\", \"2020-12-19T00:00:00\", \"2020-12-20T00:00:00\", \"2020-12-21T00:00:00\", \"2020-12-22T00:00:00\", \"2020-12-23T00:00:00\", \"2020-12-24T00:00:00\", \"2020-12-25T00:00:00\", \"2020-12-26T00:00:00\", \"2020-12-27T00:00:00\", \"2020-12-28T00:00:00\", \"2020-12-29T00:00:00\", \"2020-12-30T00:00:00\", \"2020-12-31T00:00:00\", \"2021-01-01T00:00:00\", \"2021-01-02T00:00:00\", \"2021-01-03T00:00:00\", \"2021-01-04T00:00:00\", \"2021-01-05T00:00:00\", \"2021-01-06T00:00:00\", \"2021-01-07T00:00:00\", \"2021-01-08T00:00:00\", \"2021-01-09T00:00:00\", \"2021-01-10T00:00:00\", \"2021-01-11T00:00:00\", \"2021-01-12T00:00:00\", \"2021-01-13T00:00:00\", \"2021-01-14T00:00:00\", \"2021-01-15T00:00:00\", \"2021-01-16T00:00:00\", \"2021-01-17T00:00:00\", \"2021-01-18T00:00:00\", \"2021-01-19T00:00:00\", \"2021-01-20T00:00:00\", \"2021-01-21T00:00:00\", \"2021-01-22T00:00:00\", \"2021-01-23T00:00:00\", \"2021-01-24T00:00:00\", \"2021-01-25T00:00:00\", \"2021-01-26T00:00:00\", \"2021-01-27T00:00:00\", \"2021-01-28T00:00:00\", \"2021-01-29T00:00:00\", \"2021-01-30T00:00:00\", \"2021-01-31T00:00:00\", \"2021-02-01T00:00:00\", \"2021-02-02T00:00:00\", \"2021-02-03T00:00:00\", \"2021-02-04T00:00:00\", \"2021-02-05T00:00:00\", \"2021-02-06T00:00:00\", \"2021-02-07T00:00:00\", \"2021-02-08T00:00:00\", \"2021-02-09T00:00:00\", \"2021-02-10T00:00:00\", \"2021-02-11T00:00:00\", \"2021-02-12T00:00:00\", \"2021-02-13T00:00:00\", \"2021-02-14T00:00:00\", \"2021-02-15T00:00:00\", \"2021-02-16T00:00:00\", \"2021-02-17T00:00:00\", \"2021-02-18T00:00:00\", \"2021-02-19T00:00:00\", \"2021-02-20T00:00:00\", \"2021-02-21T00:00:00\", \"2021-02-22T00:00:00\", \"2021-02-23T00:00:00\", \"2021-02-24T00:00:00\", \"2021-02-25T00:00:00\", \"2021-02-26T00:00:00\", \"2021-02-27T00:00:00\", \"2021-02-28T00:00:00\", \"2021-03-01T00:00:00\", \"2021-03-02T00:00:00\", \"2021-03-03T00:00:00\", \"2021-03-04T00:00:00\", \"2021-03-05T00:00:00\", \"2021-03-06T00:00:00\", \"2021-03-07T00:00:00\", \"2021-03-08T00:00:00\", \"2021-03-09T00:00:00\", \"2021-03-10T00:00:00\", \"2021-03-11T00:00:00\", \"2021-03-12T00:00:00\", \"2021-03-13T00:00:00\", \"2021-03-14T00:00:00\", \"2021-03-15T00:00:00\", \"2021-03-16T00:00:00\", \"2021-03-17T00:00:00\", \"2021-03-18T00:00:00\", \"2021-03-19T00:00:00\", \"2021-03-20T00:00:00\", \"2021-03-21T00:00:00\", \"2021-03-22T00:00:00\", \"2021-03-23T00:00:00\", \"2021-03-24T00:00:00\", \"2021-03-25T00:00:00\", \"2021-03-26T00:00:00\", \"2021-03-27T00:00:00\", \"2021-03-28T00:00:00\", \"2021-03-29T00:00:00\", \"2021-03-30T00:00:00\", \"2021-03-31T00:00:00\", \"2021-04-01T00:00:00\", \"2021-04-02T00:00:00\", \"2021-04-03T00:00:00\", \"2021-04-04T00:00:00\", \"2021-04-05T00:00:00\", \"2021-04-06T00:00:00\", \"2021-04-07T00:00:00\", \"2021-04-08T00:00:00\", \"2021-04-09T00:00:00\", \"2021-04-10T00:00:00\", \"2021-04-11T00:00:00\", \"2021-04-12T00:00:00\", \"2021-04-13T00:00:00\", \"2021-04-14T00:00:00\", \"2021-04-15T00:00:00\", \"2021-04-16T00:00:00\", \"2021-04-17T00:00:00\", \"2021-04-18T00:00:00\", \"2021-04-19T00:00:00\", \"2021-04-20T00:00:00\", \"2021-04-21T00:00:00\", \"2021-04-22T00:00:00\", \"2021-04-23T00:00:00\", \"2021-04-24T00:00:00\", \"2021-04-25T00:00:00\", \"2021-04-26T00:00:00\", \"2021-04-27T00:00:00\", \"2021-04-28T00:00:00\", \"2021-04-29T00:00:00\", \"2021-04-30T00:00:00\", \"2021-05-01T00:00:00\", \"2021-05-02T00:00:00\", \"2021-05-03T00:00:00\", \"2021-05-04T00:00:00\", \"2021-05-05T00:00:00\", \"2021-05-06T00:00:00\", \"2021-05-07T00:00:00\", \"2021-05-08T00:00:00\", \"2021-05-09T00:00:00\", \"2021-05-10T00:00:00\", \"2021-05-11T00:00:00\", \"2021-05-12T00:00:00\", \"2021-05-13T00:00:00\", \"2021-05-14T00:00:00\", \"2021-05-15T00:00:00\", \"2021-05-16T00:00:00\", \"2021-05-17T00:00:00\", \"2021-05-18T00:00:00\", \"2021-05-19T00:00:00\", \"2021-05-20T00:00:00\", \"2021-05-21T00:00:00\", \"2021-05-22T00:00:00\", \"2021-05-23T00:00:00\", \"2021-05-24T00:00:00\", \"2021-05-25T00:00:00\", \"2021-05-26T00:00:00\", \"2021-05-27T00:00:00\", \"2021-05-28T00:00:00\", \"2021-05-29T00:00:00\", \"2021-05-30T00:00:00\", \"2021-05-31T00:00:00\", \"2021-06-01T00:00:00\", \"2021-06-02T00:00:00\", \"2021-06-03T00:00:00\", \"2021-06-04T00:00:00\", \"2021-06-05T00:00:00\", \"2021-06-06T00:00:00\", \"2021-06-07T00:00:00\", \"2021-06-08T00:00:00\", \"2021-06-09T00:00:00\", \"2021-06-10T00:00:00\", \"2021-06-11T00:00:00\", \"2021-06-12T00:00:00\", \"2021-06-13T00:00:00\", \"2021-06-14T00:00:00\", \"2021-06-15T00:00:00\", \"2021-06-16T00:00:00\"], \"y\": [null, null, null, null, null, null, null, null, null, null, null, null, null, 9446.563267285715, 9423.541155857143, 9514.884138214285, 9486.088797999999, 9411.825614428571, 9391.496372428572, 9376.419154928572, 9586.753696642858, 9575.493792285715, 9650.834124285715, 9628.415875785715, 9481.70089307143, 9479.508091857142, 9498.248185999999, 9477.1213025, 9453.070870571428, 9437.295130714285, 9368.212820714285, 9332.547223357144, 9381.311941357144, 9345.912528214285, 9341.638183642857, 9540.645646928571, 9664.617885285716, 9739.408063214285, 9750.527413285714, 9837.482701142857, 10174.518763642858, 11542.657087285716, 11481.585030142858, 11606.288504428572, 11481.857212214285, 11752.347795857142, 12161.6113285, 12466.141113, 11911.068778357143, 11845.754603857144, 12276.809012785714, 12405.126256142858, 12425.654227285715, 12332.48688607143, 12330.358538357143, 12497.201939214287, 12396.5798695, 12215.8750695, 12285.705287142859, 12642.926409571428, 12429.379185357144, 12342.627301785715, 12774.760882142857, 12757.835937285714, 12430.571219142857, 12293.9674945, 12281.732980214285, 12071.806780571429, 12088.417550785714, 12168.440987857144, 12128.498047214287, 11861.270158714287, 11888.097865785714, 11846.045061, 11880.702008928572, 12012.1238835, 12038.464634357144, 12342.723772714286, 12264.615513357143, 11819.258301, 11048.848563285714, 10994.6637835, 10777.27260007143, 10843.803780357142, 10850.941267071428, 10793.868303785714, 10938.732560928573, 10874.37855792857, 11030.229562357143, 11037.892369214285, 11286.648507142858, 11412.142438714287, 11553.317103285715, 11419.345074785715, 11398.92320007143, 11468.791991571428, 11429.451520285715, 11330.842076285715, 10890.306361, 10968.561244, 11116.852329785714, 11099.278738500001, 11106.656110285714, 11119.202078571429, 11242.053013285713, 11145.54248007143, 11126.818358857143, 11197.526506571428, 10945.728446285713, 10887.123814285713, 10965.827009357141, 11036.8593755, 11040.132533928572, 10898.461565785714, 11138.091867142857, 11152.840123357144, 11685.405902, 11670.502093357143, 11663.912040357141, 11660.097098999999, 11775.92466542857, 11794.719727357142, 11771.6205355, 11618.878069714285, 11713.5709405, 12045.964703928572, 12252.478027714285, 13522.007393785714, 13504.35784042857, 13351.107282285713, 13461.692940571429, 13665.734166, 13580.614816285713, 14154.889159785715, 14281.0082315, 14081.480608714286, 14135.111468142857, 14545.363560142858, 14386.173897785715, 14344.918247642858, 14545.940917714284, 14733.630162357142, 16304.111816642857, 16530.66524842857, 16439.65011157143, 16373.738142285714, 16558.46114707143, 16196.977679142858, 16642.96714557143, 17041.584891, 17196.594935428573, 17051.0780555, 16863.231306285714, 17582.753488142855, 18589.40855207143, 19229.205566714285, 18892.8515625, 19570.162249428573, 19674.868861928568, 19436.100376714287, 19443.630370857143, 20144.350794785714, 20200.1559015, 19800.120326214288, 18410.828195357142, 18846.506487071427, 19304.405621928574, 20815.490653, 20934.035713857145, 20390.646065642857, 20641.60839814286, 20573.019810357146, 20227.63574242857, 20420.188058071428, 20425.091657428573, 20282.02190335714, 19616.3311945, 19406.308593714286, 19102.20005585714, 19748.313615857143, 20204.775948500002, 20036.955496357143, 20179.800363357142, 22199.413644, 24509.421177357144, 24107.118164714284, 25003.5954245, 25168.067522142857, 25119.813337214287, 24874.43066435714, 25146.954101214287, 24918.93666335714, 25903.379464857142, 28005.767578785715, 29699.313337499996, 28863.09054135714, 28911.718192, 30437.09905107143, 30646.728655071427, 30999.496651642854, 34754.31208192857, 36314.48870007143, 35347.352260142856, 36548.802316214285, 39144.04171357143, 42637.45507878571, 44679.660016571426, 44187.851563071425, 44390.940848, 41790.52148442857, 40190.16964314286, 41467.14913564285, 43980.37723228571, 43886.044783071426, 42041.763672571426, 40906.661552, 41319.16503892857, 41595.03362171428, 40177.627371642855, 39467.17564221428, 37708.51729964285, 37215.66657421428, 36541.68066464285, 38036.7088455, 35878.06989385714, 35518.078264714284, 34757.510463, 41403.795340714285, 37808.21972635714, 37216.496512071426, 37554.8468195, 38865.05608321428, 40393.243024714284, 41288.99888378571, 40687.634068142856, 43368.299246642855, 42167.75697592857, 49136.46861092857, 51012.86704764285, 50159.11816371428, 51648.99288492857, 51614.4086215, 50899.34500571428, 52365.23730457143, 51772.74609414285, 53290.572544999995, 55585.19447585714, 55467.07617207143, 59364.425223428574, 60768.17857192857, 61627.97070364285, 60862.56054692857, 57968.38309214285, 55111.606027214286, 55811.824497928574, 52347.58258921428, 52324.97963157143, 50866.18889571428, 54086.69112735714, 54412.96372807143, 56877.68024585715, 56264.76339314286, 53760.21317021428, 53440.361049142855, 55664.22544692857, 56182.188337499996, 58258.34626164285, 60684.677734071425, 61428.297154, 61241.28655157143, 65105.789341285716, 64935.61467664286, 63912.89648492857, 60232.19001171428, 62381.710379285716, 63655.60909607143, 63037.7882255, 63565.57672971428, 62322.925502785714, 62124.743861928575, 59615.3091515, 60948.01395142857, 57001.54269, 58813.431640642855, 60020.006417714285, 60008.075334857145, 61600.926897071426, 62628.731863571425, 62951.70954264286, 62266.18973264285, 62843.252232142855, 62735.505022071426, 61466.323661, 62301.95647321428, 61841.525111642855, 60977.310825571425, 60579.46428535714, 61004.32477671429, 63409.13141785714, 62920.27622814285, 63272.785435, 65881.79659571429, 67081.51562471429, 66078.08370528571, 65992.15485457143, 64948.49693042857, 63896.839006285714, 60427.650111999996, 60096.98186428571, 59788.19056892857, 58609.5030695, 55554.13309178571, 54538.354073642855, 54008.65234342857, 58060.068638071425, 59062.27594885715, 59803.303013071425, 58769.44754457143, 61654.245814642854, 62143.66992207143, 61135.97851557143, 62151.763114, 60421.82366114285, 61253.2790175, 61573.40290135714, 61736.62332628571, 62603.68415135714, 62305.83537985714, 62615.214564928574, 59980.26729928572, 61507.76897292857, 55017.32142857143, 54967.339286285714, 54353.13309214285, 53718.94084857143, 50767.73019007143, 49915.33370514285, 48214.8733265, 47448.28041307143, 47533.96316971428, 44261.272322071425, 44028.936384, 45563.155413, 45570.86858314285, 46154.267578142855, 45664.727400071424, 44249.8211495, 42596.28431907143, 41556.96930821429, 42539.553850357144, 42872.68275657143, 42450.17466528572, 43327.97460928572, 42732.15178564286, 41376.662946571436, 39471.796037857144, 39684.93526828571, 36890.89606607143, 40566.970703428575, 41317.853515928575, 40412.67578185714, 40151.48939721428, 42178.11216528572, 43761.892299, 44048.52371642857, 43200.065290357146]}, {\"line\": {\"color\": \"Yellow\"}, \"type\": \"scatter\", \"x\": [\"2020-06-16T00:00:00\", \"2020-06-17T00:00:00\", \"2020-06-18T00:00:00\", \"2020-06-19T00:00:00\", \"2020-06-20T00:00:00\", \"2020-06-21T00:00:00\", \"2020-06-22T00:00:00\", \"2020-06-23T00:00:00\", \"2020-06-24T00:00:00\", \"2020-06-25T00:00:00\", \"2020-06-26T00:00:00\", \"2020-06-27T00:00:00\", \"2020-06-28T00:00:00\", \"2020-06-29T00:00:00\", \"2020-06-30T00:00:00\", \"2020-07-01T00:00:00\", \"2020-07-02T00:00:00\", \"2020-07-03T00:00:00\", \"2020-07-04T00:00:00\", \"2020-07-05T00:00:00\", \"2020-07-06T00:00:00\", \"2020-07-07T00:00:00\", \"2020-07-08T00:00:00\", \"2020-07-09T00:00:00\", \"2020-07-10T00:00:00\", \"2020-07-11T00:00:00\", \"2020-07-12T00:00:00\", \"2020-07-13T00:00:00\", \"2020-07-14T00:00:00\", \"2020-07-15T00:00:00\", \"2020-07-16T00:00:00\", \"2020-07-17T00:00:00\", \"2020-07-18T00:00:00\", \"2020-07-19T00:00:00\", \"2020-07-20T00:00:00\", \"2020-07-21T00:00:00\", \"2020-07-22T00:00:00\", \"2020-07-23T00:00:00\", \"2020-07-24T00:00:00\", \"2020-07-25T00:00:00\", \"2020-07-26T00:00:00\", \"2020-07-27T00:00:00\", \"2020-07-28T00:00:00\", \"2020-07-29T00:00:00\", \"2020-07-30T00:00:00\", \"2020-07-31T00:00:00\", \"2020-08-01T00:00:00\", \"2020-08-02T00:00:00\", \"2020-08-03T00:00:00\", \"2020-08-04T00:00:00\", \"2020-08-05T00:00:00\", \"2020-08-06T00:00:00\", \"2020-08-07T00:00:00\", \"2020-08-08T00:00:00\", \"2020-08-09T00:00:00\", \"2020-08-10T00:00:00\", \"2020-08-11T00:00:00\", \"2020-08-12T00:00:00\", \"2020-08-13T00:00:00\", \"2020-08-14T00:00:00\", \"2020-08-15T00:00:00\", \"2020-08-16T00:00:00\", \"2020-08-17T00:00:00\", \"2020-08-18T00:00:00\", \"2020-08-19T00:00:00\", \"2020-08-20T00:00:00\", \"2020-08-21T00:00:00\", \"2020-08-22T00:00:00\", \"2020-08-23T00:00:00\", \"2020-08-24T00:00:00\", \"2020-08-25T00:00:00\", \"2020-08-26T00:00:00\", \"2020-08-27T00:00:00\", \"2020-08-28T00:00:00\", \"2020-08-29T00:00:00\", \"2020-08-30T00:00:00\", \"2020-08-31T00:00:00\", \"2020-09-01T00:00:00\", \"2020-09-02T00:00:00\", \"2020-09-03T00:00:00\", \"2020-09-04T00:00:00\", \"2020-09-05T00:00:00\", \"2020-09-06T00:00:00\", \"2020-09-07T00:00:00\", \"2020-09-08T00:00:00\", \"2020-09-09T00:00:00\", \"2020-09-10T00:00:00\", \"2020-09-11T00:00:00\", \"2020-09-12T00:00:00\", \"2020-09-13T00:00:00\", \"2020-09-14T00:00:00\", \"2020-09-15T00:00:00\", \"2020-09-16T00:00:00\", \"2020-09-17T00:00:00\", \"2020-09-18T00:00:00\", \"2020-09-19T00:00:00\", \"2020-09-20T00:00:00\", \"2020-09-21T00:00:00\", \"2020-09-22T00:00:00\", \"2020-09-23T00:00:00\", \"2020-09-24T00:00:00\", \"2020-09-25T00:00:00\", \"2020-09-26T00:00:00\", \"2020-09-27T00:00:00\", \"2020-09-28T00:00:00\", \"2020-09-29T00:00:00\", \"2020-09-30T00:00:00\", \"2020-10-01T00:00:00\", \"2020-10-02T00:00:00\", \"2020-10-03T00:00:00\", \"2020-10-04T00:00:00\", \"2020-10-05T00:00:00\", \"2020-10-06T00:00:00\", \"2020-10-07T00:00:00\", \"2020-10-08T00:00:00\", \"2020-10-09T00:00:00\", \"2020-10-10T00:00:00\", \"2020-10-11T00:00:00\", \"2020-10-12T00:00:00\", \"2020-10-13T00:00:00\", \"2020-10-14T00:00:00\", \"2020-10-15T00:00:00\", \"2020-10-16T00:00:00\", \"2020-10-17T00:00:00\", \"2020-10-18T00:00:00\", \"2020-10-19T00:00:00\", \"2020-10-20T00:00:00\", \"2020-10-21T00:00:00\", \"2020-10-22T00:00:00\", \"2020-10-23T00:00:00\", \"2020-10-24T00:00:00\", \"2020-10-25T00:00:00\", \"2020-10-26T00:00:00\", \"2020-10-27T00:00:00\", \"2020-10-28T00:00:00\", \"2020-10-29T00:00:00\", \"2020-10-30T00:00:00\", \"2020-10-31T00:00:00\", \"2020-11-01T00:00:00\", \"2020-11-02T00:00:00\", \"2020-11-03T00:00:00\", \"2020-11-04T00:00:00\", \"2020-11-05T00:00:00\", \"2020-11-06T00:00:00\", \"2020-11-07T00:00:00\", \"2020-11-08T00:00:00\", \"2020-11-09T00:00:00\", \"2020-11-10T00:00:00\", \"2020-11-11T00:00:00\", \"2020-11-12T00:00:00\", \"2020-11-13T00:00:00\", \"2020-11-14T00:00:00\", \"2020-11-15T00:00:00\", \"2020-11-16T00:00:00\", \"2020-11-17T00:00:00\", \"2020-11-18T00:00:00\", \"2020-11-19T00:00:00\", \"2020-11-20T00:00:00\", \"2020-11-21T00:00:00\", \"2020-11-22T00:00:00\", \"2020-11-23T00:00:00\", \"2020-11-24T00:00:00\", \"2020-11-25T00:00:00\", \"2020-11-26T00:00:00\", \"2020-11-27T00:00:00\", \"2020-11-28T00:00:00\", \"2020-11-29T00:00:00\", \"2020-11-30T00:00:00\", \"2020-12-01T00:00:00\", \"2020-12-02T00:00:00\", \"2020-12-03T00:00:00\", \"2020-12-04T00:00:00\", \"2020-12-05T00:00:00\", \"2020-12-06T00:00:00\", \"2020-12-07T00:00:00\", \"2020-12-08T00:00:00\", \"2020-12-09T00:00:00\", \"2020-12-10T00:00:00\", \"2020-12-11T00:00:00\", \"2020-12-12T00:00:00\", \"2020-12-13T00:00:00\", \"2020-12-14T00:00:00\", \"2020-12-15T00:00:00\", \"2020-12-16T00:00:00\", \"2020-12-17T00:00:00\", \"2020-12-18T00:00:00\", \"2020-12-19T00:00:00\", \"2020-12-20T00:00:00\", \"2020-12-21T00:00:00\", \"2020-12-22T00:00:00\", \"2020-12-23T00:00:00\", \"2020-12-24T00:00:00\", \"2020-12-25T00:00:00\", \"2020-12-26T00:00:00\", \"2020-12-27T00:00:00\", \"2020-12-28T00:00:00\", \"2020-12-29T00:00:00\", \"2020-12-30T00:00:00\", \"2020-12-31T00:00:00\", \"2021-01-01T00:00:00\", \"2021-01-02T00:00:00\", \"2021-01-03T00:00:00\", \"2021-01-04T00:00:00\", \"2021-01-05T00:00:00\", \"2021-01-06T00:00:00\", \"2021-01-07T00:00:00\", \"2021-01-08T00:00:00\", \"2021-01-09T00:00:00\", \"2021-01-10T00:00:00\", \"2021-01-11T00:00:00\", \"2021-01-12T00:00:00\", \"2021-01-13T00:00:00\", \"2021-01-14T00:00:00\", \"2021-01-15T00:00:00\", \"2021-01-16T00:00:00\", \"2021-01-17T00:00:00\", \"2021-01-18T00:00:00\", \"2021-01-19T00:00:00\", \"2021-01-20T00:00:00\", \"2021-01-21T00:00:00\", \"2021-01-22T00:00:00\", \"2021-01-23T00:00:00\", \"2021-01-24T00:00:00\", \"2021-01-25T00:00:00\", \"2021-01-26T00:00:00\", \"2021-01-27T00:00:00\", \"2021-01-28T00:00:00\", \"2021-01-29T00:00:00\", \"2021-01-30T00:00:00\", \"2021-01-31T00:00:00\", \"2021-02-01T00:00:00\", \"2021-02-02T00:00:00\", \"2021-02-03T00:00:00\", \"2021-02-04T00:00:00\", \"2021-02-05T00:00:00\", \"2021-02-06T00:00:00\", \"2021-02-07T00:00:00\", \"2021-02-08T00:00:00\", \"2021-02-09T00:00:00\", \"2021-02-10T00:00:00\", \"2021-02-11T00:00:00\", \"2021-02-12T00:00:00\", \"2021-02-13T00:00:00\", \"2021-02-14T00:00:00\", \"2021-02-15T00:00:00\", \"2021-02-16T00:00:00\", \"2021-02-17T00:00:00\", \"2021-02-18T00:00:00\", \"2021-02-19T00:00:00\", \"2021-02-20T00:00:00\", \"2021-02-21T00:00:00\", \"2021-02-22T00:00:00\", \"2021-02-23T00:00:00\", \"2021-02-24T00:00:00\", \"2021-02-25T00:00:00\", \"2021-02-26T00:00:00\", \"2021-02-27T00:00:00\", \"2021-02-28T00:00:00\", \"2021-03-01T00:00:00\", \"2021-03-02T00:00:00\", \"2021-03-03T00:00:00\", \"2021-03-04T00:00:00\", \"2021-03-05T00:00:00\", \"2021-03-06T00:00:00\", \"2021-03-07T00:00:00\", \"2021-03-08T00:00:00\", \"2021-03-09T00:00:00\", \"2021-03-10T00:00:00\", \"2021-03-11T00:00:00\", \"2021-03-12T00:00:00\", \"2021-03-13T00:00:00\", \"2021-03-14T00:00:00\", \"2021-03-15T00:00:00\", \"2021-03-16T00:00:00\", \"2021-03-17T00:00:00\", \"2021-03-18T00:00:00\", \"2021-03-19T00:00:00\", \"2021-03-20T00:00:00\", \"2021-03-21T00:00:00\", \"2021-03-22T00:00:00\", \"2021-03-23T00:00:00\", \"2021-03-24T00:00:00\", \"2021-03-25T00:00:00\", \"2021-03-26T00:00:00\", \"2021-03-27T00:00:00\", \"2021-03-28T00:00:00\", \"2021-03-29T00:00:00\", \"2021-03-30T00:00:00\", \"2021-03-31T00:00:00\", \"2021-04-01T00:00:00\", \"2021-04-02T00:00:00\", \"2021-04-03T00:00:00\", \"2021-04-04T00:00:00\", \"2021-04-05T00:00:00\", \"2021-04-06T00:00:00\", \"2021-04-07T00:00:00\", \"2021-04-08T00:00:00\", \"2021-04-09T00:00:00\", \"2021-04-10T00:00:00\", \"2021-04-11T00:00:00\", \"2021-04-12T00:00:00\", \"2021-04-13T00:00:00\", \"2021-04-14T00:00:00\", \"2021-04-15T00:00:00\", \"2021-04-16T00:00:00\", \"2021-04-17T00:00:00\", \"2021-04-18T00:00:00\", \"2021-04-19T00:00:00\", \"2021-04-20T00:00:00\", \"2021-04-21T00:00:00\", \"2021-04-22T00:00:00\", \"2021-04-23T00:00:00\", \"2021-04-24T00:00:00\", \"2021-04-25T00:00:00\", \"2021-04-26T00:00:00\", \"2021-04-27T00:00:00\", \"2021-04-28T00:00:00\", \"2021-04-29T00:00:00\", \"2021-04-30T00:00:00\", \"2021-05-01T00:00:00\", \"2021-05-02T00:00:00\", \"2021-05-03T00:00:00\", \"2021-05-04T00:00:00\", \"2021-05-05T00:00:00\", \"2021-05-06T00:00:00\", \"2021-05-07T00:00:00\", \"2021-05-08T00:00:00\", \"2021-05-09T00:00:00\", \"2021-05-10T00:00:00\", \"2021-05-11T00:00:00\", \"2021-05-12T00:00:00\", \"2021-05-13T00:00:00\", \"2021-05-14T00:00:00\", \"2021-05-15T00:00:00\", \"2021-05-16T00:00:00\", \"2021-05-17T00:00:00\", \"2021-05-18T00:00:00\", \"2021-05-19T00:00:00\", \"2021-05-20T00:00:00\", \"2021-05-21T00:00:00\", \"2021-05-22T00:00:00\", \"2021-05-23T00:00:00\", \"2021-05-24T00:00:00\", \"2021-05-25T00:00:00\", \"2021-05-26T00:00:00\", \"2021-05-27T00:00:00\", \"2021-05-28T00:00:00\", \"2021-05-29T00:00:00\", \"2021-05-30T00:00:00\", \"2021-05-31T00:00:00\", \"2021-06-01T00:00:00\", \"2021-06-02T00:00:00\", \"2021-06-03T00:00:00\", \"2021-06-04T00:00:00\", \"2021-06-05T00:00:00\", \"2021-06-06T00:00:00\", \"2021-06-07T00:00:00\", \"2021-06-08T00:00:00\", \"2021-06-09T00:00:00\", \"2021-06-10T00:00:00\", \"2021-06-11T00:00:00\", \"2021-06-12T00:00:00\", \"2021-06-13T00:00:00\", \"2021-06-14T00:00:00\", \"2021-06-15T00:00:00\", \"2021-06-16T00:00:00\"], \"y\": [null, null, null, null, null, null, null, null, null, null, null, null, null, 8832.885951714285, 8879.132673142856, 8899.606096785714, 8825.49714, 8849.314034571427, 8845.429408571428, 8762.780064071429, 8847.384975357143, 8986.938825714285, 9049.001813714285, 9037.962053214285, 8923.772739928572, 9013.509487142857, 9018.620954, 9053.5769395, 9002.432059428571, 9009.963658285715, 8935.046945285714, 8938.908830642857, 8950.495675642856, 8953.118722785715, 9010.142090357142, 9016.006696071428, 9185.553989714284, 9353.842912785714, 9354.263602714285, 9397.285853857142, 9502.136509357142, 9659.534319714285, 10355.373953857143, 10554.250558571428, 10582.954310785715, 10650.570173142858, 10872.8466795, 10586.133301, 10554.425362642856, 10633.772740142856, 10668.093331214286, 11095.923548857143, 10880.977608714285, 11026.009207928571, 11024.482282642857, 11210.195521785714, 10731.840052500002, 10782.126883500001, 10727.563266857142, 11193.522809428572, 11302.521205642855, 11329.462542214285, 11390.992047857142, 11532.396484714285, 11285.685616857143, 11316.507115499999, 11182.506277785715, 11066.40611042857, 11184.933035214286, 11262.440848142856, 10839.652343785714, 10965.775739285713, 10868.629673214286, 11015.993025, 11171.231585071428, 11195.5226005, 11328.730677642858, 11325.486188285715, 10991.001673642857, 9806.229004, 9823.011788714286, 9533.5832865, 9633.540875928571, 9471.842703642857, 9508.94447592857, 9573.925642214286, 9803.315290071429, 9701.381208071429, 9840.995047642857, 9763.652552785716, 9779.371023857142, 10182.949358285714, 10251.691685714284, 10392.703753214286, 10465.642229928571, 10574.918945428572, 10480.896135714285, 10037.723353714286, 10060.49735, 9855.060825999999, 9864.147670214286, 10252.3179415, 10353.925920714286, 10328.98835142857, 10423.746791714286, 10378.74169992857, 10419.380859142857, 10211.869977428572, 10157.396553714287, 10254.946498714286, 10266.306779642859, 10413.5849605, 10328.520787071428, 10380.770856214287, 10371.531179857144, 10356.782923642857, 10813.745466, 11046.939313642859, 11053.529366642859, 11057.344308000002, 11071.88392857143, 11078.797851642857, 10991.4536825, 11052.729352285716, 11117.3665595, 11161.418108071428, 11428.920410285715, 11563.487723214286, 12374.32965957143, 12417.502092714287, 12569.12053542857, 12573.510951, 12467.065848714286, 12665.617676214286, 12488.9380585, 12510.626813285713, 12652.603375857143, 12940.380579857143, 13104.237235214287, 12706.565150357143, 12764.481933285715, 13065.608119642859, 13504.381347357143, 14599.612095571429, 13720.648716428572, 14007.692522714286, 14092.204868928571, 14378.311383857143, 14563.300432428572, 14798.190499, 15258.73514257143, 15015.9238975, 15053.413225714286, 15114.134207857143, 15758.056291928573, 16517.649902285713, 16609.2500005, 16968.859235571428, 17706.11160707143, 16924.253139285713, 17268.59228514286, 17332.576939214287, 17771.9554265, 15417.199985785715, 15560.619070642857, 15918.08530992857, 16538.340472071428, 17112.095285, 17233.860770142855, 17265.402762357142, 17850.368163857143, 17635.577845642856, 17523.00683557143, 17868.206472928574, 17917.879045571426, 17271.40192564286, 16945.5086495, 17104.054687285712, 16785.786272142857, 17217.278181142858, 17911.0912385, 18280.85309664286, 18425.04924664286, 18557.810965, 20367.91475964286, 21531.295898285716, 21908.7327005, 22189.303571857145, 21099.536272785714, 21346.077148642857, 21680.182616785714, 21626.99888364286, 22270.395926142857, 23234.992187214284, 24512.296037500004, 24733.661411642857, 24446.301338999998, 25860.73102692857, 26800.140485928572, 27404.71623935714, 27491.986747071427, 30346.386299928574, 26815.622348857145, 28109.975027785717, 31249.69266142857, 34034.10351521429, 34105.714983428574, 36229.37499992857, 33013.879464, 27105.60937457143, 29076.334263857145, 28717.479771357142, 32854.59151771429, 30351.255998928573, 31456.158203428568, 29885.010323999995, 30863.96386707143, 32230.661691285713, 29771.17731635714, 26336.254045785714, 25056.707310357146, 27638.47014478572, 27509.012695357145, 28853.820451500003, 27946.746512142858, 26413.089704285718, 27156.997349000005, 29067.280831285716, 29966.67480464286, 29342.011299928574, 29467.5965405, 30521.045479785716, 32530.928850285716, 33620.67689721429, 34197.03390085715, 35616.63434735715, 34900.23130607143, 35143.78529607143, 42157.81654635714, 40867.60058628572, 41002.23758407143, 43556.3023165, 43540.68233828572, 44236.91113342857, 43450.30078185714, 44251.833706, 46021.098493142854, 48022.79492192857, 47686.50446457143, 51363.60658507143, 52375.208984357145, 45638.396484071425, 41527.136439857146, 43392.030691785716, 43230.99581507142, 40478.046316785716, 41197.31724342857, 39091.85798028571, 40812.41824764286, 42943.39174092857, 43931.77678614285, 43127.25613885714, 42178.73214278572, 42964.38504485715, 44638.821429071424, 45637.9366635, 48547.60295735714, 49864.46679692857, 51147.359096, 52131.98298042857, 52796.04659571428, 55964.61969835714, 52021.259766071424, 50156.01702028572, 51116.73493271428, 50714.21902892857, 53104.2898995, 54679.00530128572, 52450.59012321428, 50634.89285707143, 49840.8275675, 48828.700892571425, 47247.414342, 47903.73632835715, 50791.118582285715, 51673.35044614285, 51880.510602928574, 54070.04157342857, 54704.73577035715, 55825.15792435715, 56293.216517857145, 54978.65513392857, 54616.098214, 55284.16462078572, 55284.86160735715, 53357.85714342857, 53638.35993364285, 55740.58537928571, 55906.23967614285, 57160.075334857145, 57570.124721, 57730.445591285716, 59336.37890628572, 59952.553013714285, 57825.09905142857, 57985.030413571425, 49990.15318071428, 51460.998326, 50413.21344871429, 50665.25083707143, 47384.5398995, 44281.323940214286, 45434.49358235714, 43656.85156257143, 45080.73214292857, 49673.876395142855, 50311.821986928575, 48764.423549428575, 49376.07449835714, 53356.94335992857, 52908.52148442857, 53412.416574, 49983.78180785714, 49627.1389515, 52172.42131764285, 52191.85714271428, 53836.14006764285, 53387.051339142854, 50975.597935071426, 51500.928013714285, 45582.129464071426, 43293.54185242857, 45339.35602671428, 42950.671595857144, 39964.45368342857, 38063.11746692857, 38264.95535685714, 26012.739955499997, 30065.321149928568, 28254.661830285713, 29953.465959928573, 25487.622209999998, 28823.067242999998, 30786.91266785714, 32533.646484857138, 31962.792131928574, 29386.186663499997, 28332.145368928566, 28364.43694178571, 29170.641462642852, 30811.137556428566, 31747.473772714286, 33394.95117171428, 32228.05524535714, 31441.465960428566, 32269.203962142856, 30586.275669714283, 28240.93401192857, 29446.265624571428, 32864.06445307143, 33240.468750142856, 31985.62778978571, 32008.778459714285, 35973.756138, 36856.214564571426, 35835.04799064285]}],                        {\"template\": {\"data\": {\"bar\": [{\"error_x\": {\"color\": \"#f2f5fa\"}, \"error_y\": {\"color\": \"#f2f5fa\"}, \"marker\": {\"line\": {\"color\": \"rgb(17,17,17)\", \"width\": 0.5}}, \"type\": \"bar\"}], \"barpolar\": [{\"marker\": {\"line\": {\"color\": \"rgb(17,17,17)\", \"width\": 0.5}}, \"type\": \"barpolar\"}], \"carpet\": [{\"aaxis\": {\"endlinecolor\": \"#A2B1C6\", \"gridcolor\": \"#506784\", \"linecolor\": \"#506784\", \"minorgridcolor\": \"#506784\", \"startlinecolor\": \"#A2B1C6\"}, \"baxis\": {\"endlinecolor\": \"#A2B1C6\", \"gridcolor\": \"#506784\", \"linecolor\": \"#506784\", \"minorgridcolor\": \"#506784\", \"startlinecolor\": \"#A2B1C6\"}, \"type\": \"carpet\"}], \"choropleth\": [{\"colorbar\": {\"outlinewidth\": 0, \"ticks\": \"\"}, \"type\": \"choropleth\"}], \"contour\": [{\"colorbar\": {\"outlinewidth\": 0, \"ticks\": \"\"}, \"colorscale\": [[0.0, \"#0d0887\"], [0.1111111111111111, \"#46039f\"], [0.2222222222222222, \"#7201a8\"], [0.3333333333333333, \"#9c179e\"], [0.4444444444444444, \"#bd3786\"], [0.5555555555555556, \"#d8576b\"], [0.6666666666666666, \"#ed7953\"], [0.7777777777777778, \"#fb9f3a\"], [0.8888888888888888, \"#fdca26\"], [1.0, \"#f0f921\"]], \"type\": \"contour\"}], \"contourcarpet\": [{\"colorbar\": {\"outlinewidth\": 0, \"ticks\": \"\"}, \"type\": \"contourcarpet\"}], \"heatmap\": [{\"colorbar\": {\"outlinewidth\": 0, \"ticks\": \"\"}, \"colorscale\": [[0.0, \"#0d0887\"], [0.1111111111111111, \"#46039f\"], [0.2222222222222222, \"#7201a8\"], [0.3333333333333333, \"#9c179e\"], [0.4444444444444444, \"#bd3786\"], [0.5555555555555556, \"#d8576b\"], [0.6666666666666666, \"#ed7953\"], [0.7777777777777778, \"#fb9f3a\"], [0.8888888888888888, \"#fdca26\"], [1.0, \"#f0f921\"]], \"type\": \"heatmap\"}], \"heatmapgl\": [{\"colorbar\": {\"outlinewidth\": 0, \"ticks\": \"\"}, \"colorscale\": [[0.0, \"#0d0887\"], [0.1111111111111111, \"#46039f\"], [0.2222222222222222, \"#7201a8\"], [0.3333333333333333, \"#9c179e\"], [0.4444444444444444, \"#bd3786\"], [0.5555555555555556, \"#d8576b\"], [0.6666666666666666, \"#ed7953\"], [0.7777777777777778, \"#fb9f3a\"], [0.8888888888888888, \"#fdca26\"], [1.0, \"#f0f921\"]], \"type\": \"heatmapgl\"}], \"histogram\": [{\"marker\": {\"colorbar\": {\"outlinewidth\": 0, \"ticks\": \"\"}}, \"type\": \"histogram\"}], \"histogram2d\": [{\"colorbar\": {\"outlinewidth\": 0, \"ticks\": \"\"}, \"colorscale\": [[0.0, \"#0d0887\"], [0.1111111111111111, \"#46039f\"], [0.2222222222222222, \"#7201a8\"], [0.3333333333333333, \"#9c179e\"], [0.4444444444444444, \"#bd3786\"], [0.5555555555555556, \"#d8576b\"], [0.6666666666666666, \"#ed7953\"], [0.7777777777777778, \"#fb9f3a\"], [0.8888888888888888, \"#fdca26\"], [1.0, \"#f0f921\"]], \"type\": \"histogram2d\"}], \"histogram2dcontour\": [{\"colorbar\": {\"outlinewidth\": 0, \"ticks\": \"\"}, \"colorscale\": [[0.0, \"#0d0887\"], [0.1111111111111111, \"#46039f\"], [0.2222222222222222, \"#7201a8\"], [0.3333333333333333, \"#9c179e\"], [0.4444444444444444, \"#bd3786\"], [0.5555555555555556, \"#d8576b\"], [0.6666666666666666, \"#ed7953\"], [0.7777777777777778, \"#fb9f3a\"], [0.8888888888888888, \"#fdca26\"], [1.0, \"#f0f921\"]], \"type\": \"histogram2dcontour\"}], \"mesh3d\": [{\"colorbar\": {\"outlinewidth\": 0, \"ticks\": \"\"}, \"type\": \"mesh3d\"}], \"parcoords\": [{\"line\": {\"colorbar\": {\"outlinewidth\": 0, \"ticks\": \"\"}}, \"type\": \"parcoords\"}], \"pie\": [{\"automargin\": true, \"type\": \"pie\"}], \"scatter\": [{\"marker\": {\"line\": {\"color\": \"#283442\"}}, \"type\": \"scatter\"}], \"scatter3d\": [{\"line\": {\"colorbar\": {\"outlinewidth\": 0, \"ticks\": \"\"}}, \"marker\": {\"colorbar\": {\"outlinewidth\": 0, \"ticks\": \"\"}}, \"type\": \"scatter3d\"}], \"scattercarpet\": [{\"marker\": {\"colorbar\": {\"outlinewidth\": 0, \"ticks\": \"\"}}, \"type\": \"scattercarpet\"}], \"scattergeo\": [{\"marker\": {\"colorbar\": {\"outlinewidth\": 0, \"ticks\": \"\"}}, \"type\": \"scattergeo\"}], \"scattergl\": [{\"marker\": {\"line\": {\"color\": \"#283442\"}}, \"type\": \"scattergl\"}], \"scattermapbox\": [{\"marker\": {\"colorbar\": {\"outlinewidth\": 0, \"ticks\": \"\"}}, \"type\": \"scattermapbox\"}], \"scatterpolar\": [{\"marker\": {\"colorbar\": {\"outlinewidth\": 0, \"ticks\": \"\"}}, \"type\": \"scatterpolar\"}], \"scatterpolargl\": [{\"marker\": {\"colorbar\": {\"outlinewidth\": 0, \"ticks\": \"\"}}, \"type\": \"scatterpolargl\"}], \"scatterternary\": [{\"marker\": {\"colorbar\": {\"outlinewidth\": 0, \"ticks\": \"\"}}, \"type\": \"scatterternary\"}], \"surface\": [{\"colorbar\": {\"outlinewidth\": 0, \"ticks\": \"\"}, \"colorscale\": [[0.0, \"#0d0887\"], [0.1111111111111111, \"#46039f\"], [0.2222222222222222, \"#7201a8\"], [0.3333333333333333, \"#9c179e\"], [0.4444444444444444, \"#bd3786\"], [0.5555555555555556, \"#d8576b\"], [0.6666666666666666, \"#ed7953\"], [0.7777777777777778, \"#fb9f3a\"], [0.8888888888888888, \"#fdca26\"], [1.0, \"#f0f921\"]], \"type\": \"surface\"}], \"table\": [{\"cells\": {\"fill\": {\"color\": \"#506784\"}, \"line\": {\"color\": \"rgb(17,17,17)\"}}, \"header\": {\"fill\": {\"color\": \"#2a3f5f\"}, \"line\": {\"color\": \"rgb(17,17,17)\"}}, \"type\": \"table\"}]}, \"layout\": {\"annotationdefaults\": {\"arrowcolor\": \"#f2f5fa\", \"arrowhead\": 0, \"arrowwidth\": 1}, \"autotypenumbers\": \"strict\", \"coloraxis\": {\"colorbar\": {\"outlinewidth\": 0, \"ticks\": \"\"}}, \"colorscale\": {\"diverging\": [[0, \"#8e0152\"], [0.1, \"#c51b7d\"], [0.2, \"#de77ae\"], [0.3, \"#f1b6da\"], [0.4, \"#fde0ef\"], [0.5, \"#f7f7f7\"], [0.6, \"#e6f5d0\"], [0.7, \"#b8e186\"], [0.8, \"#7fbc41\"], [0.9, \"#4d9221\"], [1, \"#276419\"]], \"sequential\": [[0.0, \"#0d0887\"], [0.1111111111111111, \"#46039f\"], [0.2222222222222222, \"#7201a8\"], [0.3333333333333333, \"#9c179e\"], [0.4444444444444444, \"#bd3786\"], [0.5555555555555556, \"#d8576b\"], [0.6666666666666666, \"#ed7953\"], [0.7777777777777778, \"#fb9f3a\"], [0.8888888888888888, \"#fdca26\"], [1.0, \"#f0f921\"]], \"sequentialminus\": [[0.0, \"#0d0887\"], [0.1111111111111111, \"#46039f\"], [0.2222222222222222, \"#7201a8\"], [0.3333333333333333, \"#9c179e\"], [0.4444444444444444, \"#bd3786\"], [0.5555555555555556, \"#d8576b\"], [0.6666666666666666, \"#ed7953\"], [0.7777777777777778, \"#fb9f3a\"], [0.8888888888888888, \"#fdca26\"], [1.0, \"#f0f921\"]]}, \"colorway\": [\"#636efa\", \"#EF553B\", \"#00cc96\", \"#ab63fa\", \"#FFA15A\", \"#19d3f3\", \"#FF6692\", \"#B6E880\", \"#FF97FF\", \"#FECB52\"], \"font\": {\"color\": \"#f2f5fa\"}, \"geo\": {\"bgcolor\": \"rgb(17,17,17)\", \"lakecolor\": \"rgb(17,17,17)\", \"landcolor\": \"rgb(17,17,17)\", \"showlakes\": true, \"showland\": true, \"subunitcolor\": \"#506784\"}, \"hoverlabel\": {\"align\": \"left\"}, \"hovermode\": \"closest\", \"mapbox\": {\"style\": \"dark\"}, \"paper_bgcolor\": \"rgb(17,17,17)\", \"plot_bgcolor\": \"rgb(17,17,17)\", \"polar\": {\"angularaxis\": {\"gridcolor\": \"#506784\", \"linecolor\": \"#506784\", \"ticks\": \"\"}, \"bgcolor\": \"rgb(17,17,17)\", \"radialaxis\": {\"gridcolor\": \"#506784\", \"linecolor\": \"#506784\", \"ticks\": \"\"}}, \"scene\": {\"xaxis\": {\"backgroundcolor\": \"rgb(17,17,17)\", \"gridcolor\": \"#506784\", \"gridwidth\": 2, \"linecolor\": \"#506784\", \"showbackground\": true, \"ticks\": \"\", \"zerolinecolor\": \"#C8D4E3\"}, \"yaxis\": {\"backgroundcolor\": \"rgb(17,17,17)\", \"gridcolor\": \"#506784\", \"gridwidth\": 2, \"linecolor\": \"#506784\", \"showbackground\": true, \"ticks\": \"\", \"zerolinecolor\": \"#C8D4E3\"}, \"zaxis\": {\"backgroundcolor\": \"rgb(17,17,17)\", \"gridcolor\": \"#506784\", \"gridwidth\": 2, \"linecolor\": \"#506784\", \"showbackground\": true, \"ticks\": \"\", \"zerolinecolor\": \"#C8D4E3\"}}, \"shapedefaults\": {\"line\": {\"color\": \"#f2f5fa\"}}, \"sliderdefaults\": {\"bgcolor\": \"#C8D4E3\", \"bordercolor\": \"rgb(17,17,17)\", \"borderwidth\": 1, \"tickwidth\": 0}, \"ternary\": {\"aaxis\": {\"gridcolor\": \"#506784\", \"linecolor\": \"#506784\", \"ticks\": \"\"}, \"baxis\": {\"gridcolor\": \"#506784\", \"linecolor\": \"#506784\", \"ticks\": \"\"}, \"bgcolor\": \"rgb(17,17,17)\", \"caxis\": {\"gridcolor\": \"#506784\", \"linecolor\": \"#506784\", \"ticks\": \"\"}}, \"title\": {\"x\": 0.05}, \"updatemenudefaults\": {\"bgcolor\": \"#506784\", \"borderwidth\": 0}, \"xaxis\": {\"automargin\": true, \"gridcolor\": \"#283442\", \"linecolor\": \"#506784\", \"ticks\": \"\", \"title\": {\"standoff\": 15}, \"zerolinecolor\": \"#283442\", \"zerolinewidth\": 2}, \"yaxis\": {\"automargin\": true, \"gridcolor\": \"#283442\", \"linecolor\": \"#506784\", \"ticks\": \"\", \"title\": {\"standoff\": 15}, \"zerolinecolor\": \"#283442\", \"zerolinewidth\": 2}}}, \"title\": {\"font\": {\"size\": 25}, \"text\": \"Upper/Lower limit of ATR values for trading\"}},                        {\"responsive\": true}                    ).then(function(){\n",
       "                            \n",
       "var gd = document.getElementById('f23b79db-cd6e-4134-a066-a79a9f9b04f0');\n",
       "var x = new MutationObserver(function (mutations, observer) {{\n",
       "        var display = window.getComputedStyle(gd).display;\n",
       "        if (!display || display === 'none') {{\n",
       "            console.log([gd, 'removed!']);\n",
       "            Plotly.purge(gd);\n",
       "            observer.disconnect();\n",
       "        }}\n",
       "}});\n",
       "\n",
       "// Listen for the removal of the full notebook cells\n",
       "var notebookContainer = gd.closest('#notebook-container');\n",
       "if (notebookContainer) {{\n",
       "    x.observe(notebookContainer, {childList: true});\n",
       "}}\n",
       "\n",
       "// Listen for the clearing of the current output cell\n",
       "var outputEl = gd.closest('.output');\n",
       "if (outputEl) {{\n",
       "    x.observe(outputEl, {childList: true});\n",
       "}}\n",
       "\n",
       "                        })                };                });            </script>        </div>"
      ]
     },
     "metadata": {},
     "output_type": "display_data"
    }
   ],
   "source": [
    "set_1 = go.Candlestick(x=daily.index,\n",
    "                open=atr_daily['Open'],\n",
    "                high=atr_daily['High'],\n",
    "                low=atr_daily['Low'],\n",
    "                close=atr_daily['Close'])\n",
    "\n",
    "\n",
    "set_2 = go.Scatter(x=atr_daily.index,\n",
    "        y=atr_daily.High_atr,\n",
    "        line_color='Orange')\n",
    "\n",
    "\n",
    "set_3 = go.Scatter(x=atr_daily.index,\n",
    "        y=atr_daily.Low_atr,\n",
    "        line_color='Yellow')\n",
    "\n",
    "\n",
    "data = [set_1, set_2, set_3]\n",
    "\n",
    "layout = go.Layout({\n",
    "    'title':{\n",
    "        'text':'Upper/Lower limit of ATR values for trading',\n",
    "        'font':{\n",
    "            'size':25\n",
    "        }\n",
    "    }\n",
    "})\n",
    "\n",
    "fig = go.Figure(data=data, layout=layout)\n",
    "fig.update_layout({\"template\":\"plotly_dark\"})\n",
    "fig.show()"
   ]
  },
  {
   "cell_type": "code",
   "execution_count": null,
   "id": "central-afternoon",
   "metadata": {
    "papermill": {
     "duration": 0.027238,
     "end_time": "2021-06-18T11:02:41.209061",
     "exception": false,
     "start_time": "2021-06-18T11:02:41.181823",
     "status": "completed"
    },
    "tags": []
   },
   "outputs": [],
   "source": []
  }
 ],
 "metadata": {
  "kernelspec": {
   "display_name": "Python 3",
   "language": "python",
   "name": "python3"
  },
  "language_info": {
   "codemirror_mode": {
    "name": "ipython",
    "version": 3
   },
   "file_extension": ".py",
   "mimetype": "text/x-python",
   "name": "python",
   "nbconvert_exporter": "python",
   "pygments_lexer": "ipython3",
   "version": "3.7.10"
  },
  "papermill": {
   "default_parameters": {},
   "duration": 16.866633,
   "end_time": "2021-06-18T11:02:42.831526",
   "environment_variables": {},
   "exception": null,
   "input_path": "__notebook__.ipynb",
   "output_path": "__notebook__.ipynb",
   "parameters": {},
   "start_time": "2021-06-18T11:02:25.964893",
   "version": "2.3.3"
  }
 },
 "nbformat": 4,
 "nbformat_minor": 5
}
