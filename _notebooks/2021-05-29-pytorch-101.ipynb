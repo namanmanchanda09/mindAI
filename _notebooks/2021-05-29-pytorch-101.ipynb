{
 "cells": [
  {
   "cell_type": "markdown",
   "id": "consistent-teens",
   "metadata": {},
   "source": [
    "# PyTorch 101\n",
    "> A brief introduction to PyTorch\n",
    "\n",
    "- badges: true\n",
    "- comments: true\n",
    "- author: Naman Manchanda\n",
    "- categories: [jupyter, pytorch, python, programming]"
   ]
  },
  {
   "cell_type": "markdown",
   "id": "settled-duration",
   "metadata": {
    "papermill": {
     "duration": 0.09187,
     "end_time": "2021-05-12T09:41:23.468289",
     "exception": false,
     "start_time": "2021-05-12T09:41:23.376419",
     "status": "completed"
    },
    "tags": []
   },
   "source": [
    "Table of Contents: <a id=100></a>\n",
    "1. [Packages](#1) \n",
    "2. [Matrices](#2)\n",
    "    - 2.1 [Tensors from numpy arrays](#3)\n",
    "    - 2.2 [Tensors from scratch](#4)\n",
    "    - 2.3 [Numpy array from tensor](#5)\n",
    "3. [Tensor operations](#6)\n",
    "    - 3.1 [Reshaping](#7)\n",
    "    - 3.2 [Indexing](#8)\n",
    "4. [Tensor arithmetic](#9)\n",
    "    - 4.1 [Addition](#10)\n",
    "    - 4.2 [Subtraction](#11)\n",
    "    - 4.3 [Multipliciation](#12)\n",
    "    - 4.4 [Division](#13)\n",
    "    - 4.5 [Mean](#14)\n",
    "    - 4.6 [Standard Deviation](#15)\n",
    "5. [Gradients](#16)\n",
    "    - 5.1 [Example using a single value](#17)\n",
    "    - 5.2 [Example using 1-D tensor](#18)\n",
    "6. [Linear Regression](#19)\n",
    "    - 6.1 [Building a simple dataset](#20)\n",
    "    - 6.2 [Building the model](#21)\n",
    "    - 6.3 [Training the model](#22)\n",
    "    - 6.4 [Save the model](#23)"
   ]
  },
  {
   "cell_type": "markdown",
   "id": "organizational-mission",
   "metadata": {
    "papermill": {
     "duration": 0.068623,
     "end_time": "2021-05-12T09:41:23.607541",
     "exception": false,
     "start_time": "2021-05-12T09:41:23.538918",
     "status": "completed"
    },
    "tags": []
   },
   "source": [
    "### 1. Packages <a id=1></a>\n",
    "[back to top](#100)"
   ]
  },
  {
   "cell_type": "code",
   "execution_count": 1,
   "id": "resident-subcommittee",
   "metadata": {
    "execution": {
     "iopub.execute_input": "2021-05-12T09:41:23.754808Z",
     "iopub.status.busy": "2021-05-12T09:41:23.754089Z",
     "iopub.status.idle": "2021-05-12T09:41:25.782393Z",
     "shell.execute_reply": "2021-05-12T09:41:25.781666Z"
    },
    "papermill": {
     "duration": 2.106202,
     "end_time": "2021-05-12T09:41:25.782576",
     "exception": false,
     "start_time": "2021-05-12T09:41:23.676374",
     "status": "completed"
    },
    "tags": []
   },
   "outputs": [],
   "source": [
    "# data manipulation & plot\n",
    "import numpy as np\n",
    "import pandas as pd\n",
    "import seaborn as sns\n",
    "import matplotlib.pyplot as plt\n",
    "\n",
    "# pytorch\n",
    "import torch\n",
    "import torch.nn as nn\n",
    "\n",
    "# disable warnings\n",
    "import warnings\n",
    "warnings.filterwarnings(\"ignore\")"
   ]
  },
  {
   "cell_type": "markdown",
   "id": "encouraging-sister",
   "metadata": {
    "papermill": {
     "duration": 0.072996,
     "end_time": "2021-05-12T09:41:25.925178",
     "exception": false,
     "start_time": "2021-05-12T09:41:25.852182",
     "status": "completed"
    },
    "tags": []
   },
   "source": [
    "### 2. Matrices <a id=2></a>\n",
    "[back to top](#100)"
   ]
  },
  {
   "cell_type": "markdown",
   "id": "complimentary-gasoline",
   "metadata": {
    "papermill": {
     "duration": 0.076051,
     "end_time": "2021-05-12T09:41:26.073653",
     "exception": false,
     "start_time": "2021-05-12T09:41:25.997602",
     "status": "completed"
    },
    "tags": []
   },
   "source": [
    "#### 2.1 Tensors from Numpy arrays <a id=3></a>"
   ]
  },
  {
   "cell_type": "markdown",
   "id": "decent-relevance",
   "metadata": {
    "papermill": {
     "duration": 0.072907,
     "end_time": "2021-05-12T09:41:26.218840",
     "exception": false,
     "start_time": "2021-05-12T09:41:26.145933",
     "status": "completed"
    },
    "tags": []
   },
   "source": [
    "##### 2.1.1 Numpy arrays"
   ]
  },
  {
   "cell_type": "code",
   "execution_count": 2,
   "id": "comprehensive-latvia",
   "metadata": {
    "execution": {
     "iopub.execute_input": "2021-05-12T09:41:26.372795Z",
     "iopub.status.busy": "2021-05-12T09:41:26.372101Z",
     "iopub.status.idle": "2021-05-12T09:41:26.379013Z",
     "shell.execute_reply": "2021-05-12T09:41:26.378269Z"
    },
    "papermill": {
     "duration": 0.090415,
     "end_time": "2021-05-12T09:41:26.379185",
     "exception": false,
     "start_time": "2021-05-12T09:41:26.288770",
     "status": "completed"
    },
    "tags": []
   },
   "outputs": [
    {
     "name": "stdout",
     "output_type": "stream",
     "text": [
      "[1 2 3 4 5]\n",
      "int64\n"
     ]
    },
    {
     "data": {
      "text/plain": [
       "numpy.ndarray"
      ]
     },
     "execution_count": 2,
     "metadata": {},
     "output_type": "execute_result"
    }
   ],
   "source": [
    "arr = np.array([1,2,3,4,5,])\n",
    "print(arr)\n",
    "print(arr.dtype)\n",
    "type(arr)"
   ]
  },
  {
   "cell_type": "markdown",
   "id": "compound-grill",
   "metadata": {
    "papermill": {
     "duration": 0.072493,
     "end_time": "2021-05-12T09:41:26.522960",
     "exception": false,
     "start_time": "2021-05-12T09:41:26.450467",
     "status": "completed"
    },
    "tags": []
   },
   "source": [
    "##### 2.1.2 Numpy arrays to Tensors "
   ]
  },
  {
   "cell_type": "markdown",
   "id": "rational-parking",
   "metadata": {
    "papermill": {
     "duration": 0.073978,
     "end_time": "2021-05-12T09:41:26.669814",
     "exception": false,
     "start_time": "2021-05-12T09:41:26.595836",
     "status": "completed"
    },
    "tags": []
   },
   "source": [
    "There are multiple ways to convert **numpy array** to a **tensor**. The different ways are:\n",
    "- `torch.from_numpy()` - This converts a numpy array to a tensor.\n",
    "- `torch.as_tensor()` - This is a general way to convert an object to tensor.\n",
    "- `torch.tensor()` - This creates a copy of the object as a tensor."
   ]
  },
  {
   "cell_type": "code",
   "execution_count": 3,
   "id": "religious-breeding",
   "metadata": {
    "execution": {
     "iopub.execute_input": "2021-05-12T09:41:26.830451Z",
     "iopub.status.busy": "2021-05-12T09:41:26.829680Z",
     "iopub.status.idle": "2021-05-12T09:41:26.849791Z",
     "shell.execute_reply": "2021-05-12T09:41:26.849211Z"
    },
    "papermill": {
     "duration": 0.103757,
     "end_time": "2021-05-12T09:41:26.849952",
     "exception": false,
     "start_time": "2021-05-12T09:41:26.746195",
     "status": "completed"
    },
    "tags": []
   },
   "outputs": [
    {
     "name": "stdout",
     "output_type": "stream",
     "text": [
      "tensor([1, 2, 3, 4, 5])\n",
      "torch.int64\n",
      "<class 'torch.Tensor'>\n"
     ]
    }
   ],
   "source": [
    "# using torch.from_numpy()\n",
    "x = torch.from_numpy(arr)\n",
    "print(x)\n",
    "print(x.dtype)\n",
    "print(type(x))"
   ]
  },
  {
   "cell_type": "code",
   "execution_count": 4,
   "id": "acceptable-bullet",
   "metadata": {
    "execution": {
     "iopub.execute_input": "2021-05-12T09:41:26.999327Z",
     "iopub.status.busy": "2021-05-12T09:41:26.998646Z",
     "iopub.status.idle": "2021-05-12T09:41:27.006135Z",
     "shell.execute_reply": "2021-05-12T09:41:27.005504Z"
    },
    "papermill": {
     "duration": 0.087262,
     "end_time": "2021-05-12T09:41:27.006294",
     "exception": false,
     "start_time": "2021-05-12T09:41:26.919032",
     "status": "completed"
    },
    "tags": []
   },
   "outputs": [
    {
     "name": "stdout",
     "output_type": "stream",
     "text": [
      "tensor([1, 2, 3, 4, 5])\n",
      "torch.int64\n",
      "<class 'torch.Tensor'>\n"
     ]
    }
   ],
   "source": [
    "# using torch.as_tensor()\n",
    "x = torch.as_tensor(arr)\n",
    "print(x)\n",
    "print(x.dtype)\n",
    "print(type(x))"
   ]
  },
  {
   "cell_type": "markdown",
   "id": "accepted-breakdown",
   "metadata": {
    "papermill": {
     "duration": 0.070956,
     "end_time": "2021-05-12T09:41:27.148241",
     "exception": false,
     "start_time": "2021-05-12T09:41:27.077285",
     "status": "completed"
    },
    "tags": []
   },
   "source": [
    "For both of the above mentioned methods, there's a little caveat to understand. `torch.from_numpy()` and `torch.as_tensor()` creates a direct link between the numpy array and the tensor. Any change in the numpy array will affect the tensor. Following is an example."
   ]
  },
  {
   "cell_type": "code",
   "execution_count": 5,
   "id": "respiratory-transfer",
   "metadata": {
    "execution": {
     "iopub.execute_input": "2021-05-12T09:41:27.296482Z",
     "iopub.status.busy": "2021-05-12T09:41:27.295784Z",
     "iopub.status.idle": "2021-05-12T09:41:27.304156Z",
     "shell.execute_reply": "2021-05-12T09:41:27.303297Z"
    },
    "papermill": {
     "duration": 0.086266,
     "end_time": "2021-05-12T09:41:27.304370",
     "exception": false,
     "start_time": "2021-05-12T09:41:27.218104",
     "status": "completed"
    },
    "tags": []
   },
   "outputs": [
    {
     "name": "stdout",
     "output_type": "stream",
     "text": [
      "Numpy array    :  [1 2 3 4 5]\n",
      "PyTorch tensor :  tensor([1, 2, 3, 4, 5])\n",
      "Numpy array    :  [999   2   3   4   5]\n",
      "PyTorch tensor :  tensor([999,   2,   3,   4,   5])\n"
     ]
    }
   ],
   "source": [
    "arr = np.array([1,2,3,4,5,])\n",
    "print(\"Numpy array    : \",arr)\n",
    "x = torch.from_numpy(arr)\n",
    "print(\"PyTorch tensor : \",x)\n",
    "\n",
    "# chaning the 0th index of arr\n",
    "arr[0] = 999\n",
    "print(\"Numpy array    : \",arr)\n",
    "print(\"PyTorch tensor : \",x)"
   ]
  },
  {
   "cell_type": "markdown",
   "id": "heard-madonna",
   "metadata": {
    "papermill": {
     "duration": 0.073328,
     "end_time": "2021-05-12T09:41:27.451280",
     "exception": false,
     "start_time": "2021-05-12T09:41:27.377952",
     "status": "completed"
    },
    "tags": []
   },
   "source": [
    "It shows that though `torch.from_numpy()` converts the array to tensor, but it creates a reference to the same object. To create a copy of the array, `torch.tensor()` can be used."
   ]
  },
  {
   "cell_type": "code",
   "execution_count": 6,
   "id": "domestic-retreat",
   "metadata": {
    "execution": {
     "iopub.execute_input": "2021-05-12T09:41:27.608705Z",
     "iopub.status.busy": "2021-05-12T09:41:27.608054Z",
     "iopub.status.idle": "2021-05-12T09:41:27.623163Z",
     "shell.execute_reply": "2021-05-12T09:41:27.624622Z"
    },
    "papermill": {
     "duration": 0.098917,
     "end_time": "2021-05-12T09:41:27.624965",
     "exception": false,
     "start_time": "2021-05-12T09:41:27.526048",
     "status": "completed"
    },
    "tags": []
   },
   "outputs": [
    {
     "name": "stdout",
     "output_type": "stream",
     "text": [
      "Numpy array    :  [1 2 3 4 5]\n",
      "PyTorch tensor :  tensor([1, 2, 3, 4, 5])\n",
      "Numpy array    :  [999   2   3   4   5]\n",
      "PyTorch tensor :  tensor([1, 2, 3, 4, 5])\n"
     ]
    }
   ],
   "source": [
    "# using torch.tensor()\n",
    "arr = np.array([1,2,3,4,5,])\n",
    "print(\"Numpy array    : \",arr)\n",
    "x = torch.tensor(arr)\n",
    "print(\"PyTorch tensor : \",x)\n",
    "\n",
    "# chaning the 0th index of arr\n",
    "arr[0] = 999\n",
    "print(\"Numpy array    : \",arr)\n",
    "print(\"PyTorch tensor : \",x)"
   ]
  },
  {
   "cell_type": "markdown",
   "id": "meaningful-signature",
   "metadata": {
    "papermill": {
     "duration": 0.075173,
     "end_time": "2021-05-12T09:41:27.779195",
     "exception": false,
     "start_time": "2021-05-12T09:41:27.704022",
     "status": "completed"
    },
    "tags": []
   },
   "source": [
    "#### 2.2 Tensors from scratch <a id=4></a>"
   ]
  },
  {
   "cell_type": "markdown",
   "id": "excessive-documentary",
   "metadata": {
    "papermill": {
     "duration": 0.069313,
     "end_time": "2021-05-12T09:41:27.920816",
     "exception": false,
     "start_time": "2021-05-12T09:41:27.851503",
     "status": "completed"
    },
    "tags": []
   },
   "source": [
    "Similar to `numpy` functions such as `ones`, `eye` & `arange` etc, `torch` provides some handy functions to work with."
   ]
  },
  {
   "cell_type": "markdown",
   "id": "adjusted-poster",
   "metadata": {
    "papermill": {
     "duration": 0.074729,
     "end_time": "2021-05-12T09:41:28.070422",
     "exception": false,
     "start_time": "2021-05-12T09:41:27.995693",
     "status": "completed"
    },
    "tags": []
   },
   "source": [
    "##### 2.2.1 Allocate space in memory for tensor"
   ]
  },
  {
   "cell_type": "code",
   "execution_count": 7,
   "id": "centered-asbestos",
   "metadata": {
    "execution": {
     "iopub.execute_input": "2021-05-12T09:41:28.222694Z",
     "iopub.status.busy": "2021-05-12T09:41:28.222047Z",
     "iopub.status.idle": "2021-05-12T09:41:28.271540Z",
     "shell.execute_reply": "2021-05-12T09:41:28.270841Z"
    },
    "papermill": {
     "duration": 0.131373,
     "end_time": "2021-05-12T09:41:28.271687",
     "exception": false,
     "start_time": "2021-05-12T09:41:28.140314",
     "status": "completed"
    },
    "tags": []
   },
   "outputs": [
    {
     "data": {
      "text/plain": [
       "tensor([[0.0000e+00, 0.0000e+00],\n",
       "        [1.8788e+31, 1.7220e+22],\n",
       "        [6.0434e-07, 5.3175e-08],\n",
       "        [1.0244e-11, 1.0548e-08]])"
      ]
     },
     "execution_count": 7,
     "metadata": {},
     "output_type": "execute_result"
    }
   ],
   "source": [
    "torch.empty(4,2)"
   ]
  },
  {
   "cell_type": "markdown",
   "id": "judicial-sodium",
   "metadata": {
    "papermill": {
     "duration": 0.069964,
     "end_time": "2021-05-12T09:41:28.413963",
     "exception": false,
     "start_time": "2021-05-12T09:41:28.343999",
     "status": "completed"
    },
    "tags": []
   },
   "source": [
    "##### 2.2.2 Tensor of Zeros"
   ]
  },
  {
   "cell_type": "code",
   "execution_count": 8,
   "id": "exceptional-radar",
   "metadata": {
    "execution": {
     "iopub.execute_input": "2021-05-12T09:41:28.560645Z",
     "iopub.status.busy": "2021-05-12T09:41:28.559998Z",
     "iopub.status.idle": "2021-05-12T09:41:28.568410Z",
     "shell.execute_reply": "2021-05-12T09:41:28.568955Z"
    },
    "papermill": {
     "duration": 0.084146,
     "end_time": "2021-05-12T09:41:28.569137",
     "exception": false,
     "start_time": "2021-05-12T09:41:28.484991",
     "status": "completed"
    },
    "tags": []
   },
   "outputs": [
    {
     "data": {
      "text/plain": [
       "tensor([[0., 0., 0.],\n",
       "        [0., 0., 0.],\n",
       "        [0., 0., 0.],\n",
       "        [0., 0., 0.]])"
      ]
     },
     "execution_count": 8,
     "metadata": {},
     "output_type": "execute_result"
    }
   ],
   "source": [
    "torch.zeros(4,3)"
   ]
  },
  {
   "cell_type": "markdown",
   "id": "cloudy-cement",
   "metadata": {
    "papermill": {
     "duration": 0.071978,
     "end_time": "2021-05-12T09:41:28.711437",
     "exception": false,
     "start_time": "2021-05-12T09:41:28.639459",
     "status": "completed"
    },
    "tags": []
   },
   "source": [
    "##### 2.2.3 Tensor of Ones"
   ]
  },
  {
   "cell_type": "code",
   "execution_count": 9,
   "id": "operational-workshop",
   "metadata": {
    "execution": {
     "iopub.execute_input": "2021-05-12T09:41:28.858640Z",
     "iopub.status.busy": "2021-05-12T09:41:28.858007Z",
     "iopub.status.idle": "2021-05-12T09:41:28.864716Z",
     "shell.execute_reply": "2021-05-12T09:41:28.864196Z"
    },
    "papermill": {
     "duration": 0.083147,
     "end_time": "2021-05-12T09:41:28.864910",
     "exception": false,
     "start_time": "2021-05-12T09:41:28.781763",
     "status": "completed"
    },
    "tags": []
   },
   "outputs": [
    {
     "data": {
      "text/plain": [
       "tensor([[1., 1., 1., 1.],\n",
       "        [1., 1., 1., 1.],\n",
       "        [1., 1., 1., 1.]])"
      ]
     },
     "execution_count": 9,
     "metadata": {},
     "output_type": "execute_result"
    }
   ],
   "source": [
    "torch.ones(3,4)"
   ]
  },
  {
   "cell_type": "markdown",
   "id": "noted-estonia",
   "metadata": {
    "papermill": {
     "duration": 0.071243,
     "end_time": "2021-05-12T09:41:29.008119",
     "exception": false,
     "start_time": "2021-05-12T09:41:28.936876",
     "status": "completed"
    },
    "tags": []
   },
   "source": [
    "##### 2.2.4 Evenly spaced values within a given interval"
   ]
  },
  {
   "cell_type": "code",
   "execution_count": 10,
   "id": "suffering-singing",
   "metadata": {
    "execution": {
     "iopub.execute_input": "2021-05-12T09:41:29.159368Z",
     "iopub.status.busy": "2021-05-12T09:41:29.158526Z",
     "iopub.status.idle": "2021-05-12T09:41:29.166941Z",
     "shell.execute_reply": "2021-05-12T09:41:29.167400Z"
    },
    "papermill": {
     "duration": 0.086052,
     "end_time": "2021-05-12T09:41:29.167586",
     "exception": false,
     "start_time": "2021-05-12T09:41:29.081534",
     "status": "completed"
    },
    "tags": []
   },
   "outputs": [
    {
     "data": {
      "text/plain": [
       "tensor([ 0, 10, 20, 30, 40])"
      ]
     },
     "execution_count": 10,
     "metadata": {},
     "output_type": "execute_result"
    }
   ],
   "source": [
    "torch.arange(0,50,10)"
   ]
  },
  {
   "cell_type": "markdown",
   "id": "passing-privilege",
   "metadata": {
    "papermill": {
     "duration": 0.078479,
     "end_time": "2021-05-12T09:41:29.320242",
     "exception": false,
     "start_time": "2021-05-12T09:41:29.241763",
     "status": "completed"
    },
    "tags": []
   },
   "source": [
    "##### 2.2.5 Evenly spaced numbers over a specified interval"
   ]
  },
  {
   "cell_type": "code",
   "execution_count": 11,
   "id": "absolute-integer",
   "metadata": {
    "execution": {
     "iopub.execute_input": "2021-05-12T09:41:29.472529Z",
     "iopub.status.busy": "2021-05-12T09:41:29.471575Z",
     "iopub.status.idle": "2021-05-12T09:41:29.482341Z",
     "shell.execute_reply": "2021-05-12T09:41:29.481797Z"
    },
    "papermill": {
     "duration": 0.086543,
     "end_time": "2021-05-12T09:41:29.482498",
     "exception": false,
     "start_time": "2021-05-12T09:41:29.395955",
     "status": "completed"
    },
    "tags": []
   },
   "outputs": [
    {
     "data": {
      "text/plain": [
       "tensor([ 0.0000,  5.5556, 11.1111, 16.6667, 22.2222, 27.7778, 33.3333, 38.8889,\n",
       "        44.4444, 50.0000])"
      ]
     },
     "execution_count": 11,
     "metadata": {},
     "output_type": "execute_result"
    }
   ],
   "source": [
    "torch.linspace(0,50,10)"
   ]
  },
  {
   "cell_type": "markdown",
   "id": "exposed-clause",
   "metadata": {
    "papermill": {
     "duration": 0.072901,
     "end_time": "2021-05-12T09:41:29.631253",
     "exception": false,
     "start_time": "2021-05-12T09:41:29.558352",
     "status": "completed"
    },
    "tags": []
   },
   "source": [
    "##### 2.2.6 Python list to tensor"
   ]
  },
  {
   "cell_type": "code",
   "execution_count": 12,
   "id": "democratic-drill",
   "metadata": {
    "execution": {
     "iopub.execute_input": "2021-05-12T09:41:29.786705Z",
     "iopub.status.busy": "2021-05-12T09:41:29.785850Z",
     "iopub.status.idle": "2021-05-12T09:41:29.792917Z",
     "shell.execute_reply": "2021-05-12T09:41:29.793614Z"
    },
    "papermill": {
     "duration": 0.088569,
     "end_time": "2021-05-12T09:41:29.793845",
     "exception": false,
     "start_time": "2021-05-12T09:41:29.705276",
     "status": "completed"
    },
    "tags": []
   },
   "outputs": [
    {
     "name": "stdout",
     "output_type": "stream",
     "text": [
      "tensor([1, 2, 3])\n",
      "torch.int64\n"
     ]
    },
    {
     "data": {
      "text/plain": [
       "torch.Tensor"
      ]
     },
     "execution_count": 12,
     "metadata": {},
     "output_type": "execute_result"
    }
   ],
   "source": [
    "my_tensor = torch.tensor([1,2,3])\n",
    "print(my_tensor)\n",
    "print(my_tensor.dtype)\n",
    "type(my_tensor)"
   ]
  },
  {
   "cell_type": "markdown",
   "id": "caroline-insulin",
   "metadata": {
    "papermill": {
     "duration": 0.075164,
     "end_time": "2021-05-12T09:41:29.941710",
     "exception": false,
     "start_time": "2021-05-12T09:41:29.866546",
     "status": "completed"
    },
    "tags": []
   },
   "source": [
    "##### 2.2.7 Random number from uniform distribution"
   ]
  },
  {
   "cell_type": "code",
   "execution_count": 13,
   "id": "historical-regular",
   "metadata": {
    "execution": {
     "iopub.execute_input": "2021-05-12T09:41:30.093833Z",
     "iopub.status.busy": "2021-05-12T09:41:30.093133Z",
     "iopub.status.idle": "2021-05-12T09:41:30.105526Z",
     "shell.execute_reply": "2021-05-12T09:41:30.104852Z"
    },
    "papermill": {
     "duration": 0.089666,
     "end_time": "2021-05-12T09:41:30.105684",
     "exception": false,
     "start_time": "2021-05-12T09:41:30.016018",
     "status": "completed"
    },
    "tags": []
   },
   "outputs": [
    {
     "data": {
      "text/plain": [
       "tensor([[0.9425, 0.1938, 0.9745],\n",
       "        [0.0672, 0.4665, 0.3066],\n",
       "        [0.2388, 0.9712, 0.2791],\n",
       "        [0.5487, 0.0524, 0.1219]])"
      ]
     },
     "execution_count": 13,
     "metadata": {},
     "output_type": "execute_result"
    }
   ],
   "source": [
    "torch.rand(4,3)"
   ]
  },
  {
   "cell_type": "markdown",
   "id": "proud-miller",
   "metadata": {
    "papermill": {
     "duration": 0.072524,
     "end_time": "2021-05-12T09:41:30.251387",
     "exception": false,
     "start_time": "2021-05-12T09:41:30.178863",
     "status": "completed"
    },
    "tags": []
   },
   "source": [
    "##### 2.2.8 Random number from standard normal uniform distribution - mean 0 and standard deviation 1"
   ]
  },
  {
   "cell_type": "code",
   "execution_count": 14,
   "id": "characteristic-vertex",
   "metadata": {
    "execution": {
     "iopub.execute_input": "2021-05-12T09:41:30.404805Z",
     "iopub.status.busy": "2021-05-12T09:41:30.404158Z",
     "iopub.status.idle": "2021-05-12T09:41:30.409916Z",
     "shell.execute_reply": "2021-05-12T09:41:30.410403Z"
    },
    "papermill": {
     "duration": 0.085901,
     "end_time": "2021-05-12T09:41:30.410568",
     "exception": false,
     "start_time": "2021-05-12T09:41:30.324667",
     "status": "completed"
    },
    "tags": []
   },
   "outputs": [
    {
     "data": {
      "text/plain": [
       "tensor([[ 0.1930, -0.4929,  0.2210],\n",
       "        [-1.0913,  0.1019,  0.6927],\n",
       "        [-2.2604,  0.1454, -0.0999],\n",
       "        [ 0.1105, -0.6836, -1.1310]])"
      ]
     },
     "execution_count": 14,
     "metadata": {},
     "output_type": "execute_result"
    }
   ],
   "source": [
    "torch.randn(4,3)"
   ]
  },
  {
   "cell_type": "markdown",
   "id": "hairy-activation",
   "metadata": {
    "papermill": {
     "duration": 0.075444,
     "end_time": "2021-05-12T09:41:30.564824",
     "exception": false,
     "start_time": "2021-05-12T09:41:30.489380",
     "status": "completed"
    },
    "tags": []
   },
   "source": [
    "##### 2.2.9 Random integers"
   ]
  },
  {
   "cell_type": "code",
   "execution_count": 15,
   "id": "encouraging-mailing",
   "metadata": {
    "execution": {
     "iopub.execute_input": "2021-05-12T09:41:30.717043Z",
     "iopub.status.busy": "2021-05-12T09:41:30.716148Z",
     "iopub.status.idle": "2021-05-12T09:41:30.726380Z",
     "shell.execute_reply": "2021-05-12T09:41:30.725462Z"
    },
    "papermill": {
     "duration": 0.087728,
     "end_time": "2021-05-12T09:41:30.726583",
     "exception": false,
     "start_time": "2021-05-12T09:41:30.638855",
     "status": "completed"
    },
    "tags": []
   },
   "outputs": [
    {
     "data": {
      "text/plain": [
       "tensor([[3, 2, 4, 2, 1],\n",
       "        [8, 4, 8, 3, 5],\n",
       "        [5, 4, 0, 1, 4],\n",
       "        [1, 6, 0, 5, 5],\n",
       "        [5, 1, 6, 0, 6]])"
      ]
     },
     "execution_count": 15,
     "metadata": {},
     "output_type": "execute_result"
    }
   ],
   "source": [
    "torch.randint(low=0,high=10,size=(5,5))"
   ]
  },
  {
   "cell_type": "markdown",
   "id": "controversial-electron",
   "metadata": {
    "papermill": {
     "duration": 0.102048,
     "end_time": "2021-05-12T09:41:30.910032",
     "exception": false,
     "start_time": "2021-05-12T09:41:30.807984",
     "status": "completed"
    },
    "tags": []
   },
   "source": [
    "##### 2.2.10 Random tensor with same shape as incoming tensor"
   ]
  },
  {
   "cell_type": "code",
   "execution_count": 16,
   "id": "above-mauritius",
   "metadata": {
    "execution": {
     "iopub.execute_input": "2021-05-12T09:41:31.082874Z",
     "iopub.status.busy": "2021-05-12T09:41:31.081888Z",
     "iopub.status.idle": "2021-05-12T09:41:31.094268Z",
     "shell.execute_reply": "2021-05-12T09:41:31.095019Z"
    },
    "papermill": {
     "duration": 0.108094,
     "end_time": "2021-05-12T09:41:31.095255",
     "exception": false,
     "start_time": "2021-05-12T09:41:30.987161",
     "status": "completed"
    },
    "tags": []
   },
   "outputs": [
    {
     "name": "stdout",
     "output_type": "stream",
     "text": [
      "Shape of incoming tensor\n",
      "torch.Size([2, 5])\n",
      "--------------------------------------------------\n",
      "Random tensor with uniform distribution\n",
      "tensor([[0.1401, 0.7472, 0.5479, 0.6027, 0.1381],\n",
      "        [0.3237, 0.5044, 0.4604, 0.4910, 0.9068]])\n",
      "--------------------------------------------------\n",
      "Random tensor with standard normal uniform distribution\n",
      "tensor([[ 0.1214,  1.3723,  0.8735,  2.9361,  0.0329],\n",
      "        [-1.6780, -1.2402, -0.1299,  1.0579,  0.1606]])\n",
      "--------------------------------------------------\n",
      "Random tensor with integers\n",
      "tensor([[2., 8., 1., 6., 9.],\n",
      "        [2., 3., 5., 9., 7.]])\n"
     ]
    }
   ],
   "source": [
    "x = torch.zeros(2,5)\n",
    "print(\"Shape of incoming tensor\")\n",
    "print(x.shape)\n",
    "print(\"-\"*50)\n",
    "print(\"Random tensor with uniform distribution\")\n",
    "print(torch.rand_like(x))\n",
    "print(\"-\"*50)\n",
    "print(\"Random tensor with standard normal uniform distribution\")\n",
    "print(torch.randn_like(x))\n",
    "print(\"-\"*50)\n",
    "print(\"Random tensor with integers\")\n",
    "print(torch.randint_like(x,low=0,high=10))"
   ]
  },
  {
   "cell_type": "markdown",
   "id": "green-training",
   "metadata": {
    "papermill": {
     "duration": 0.074842,
     "end_time": "2021-05-12T09:41:31.262208",
     "exception": false,
     "start_time": "2021-05-12T09:41:31.187366",
     "status": "completed"
    },
    "tags": []
   },
   "source": [
    "#### 2.3 Numpy array from tensor <a id=5></a>"
   ]
  },
  {
   "cell_type": "code",
   "execution_count": 17,
   "id": "extensive-processor",
   "metadata": {
    "execution": {
     "iopub.execute_input": "2021-05-12T09:41:31.428790Z",
     "iopub.status.busy": "2021-05-12T09:41:31.427835Z",
     "iopub.status.idle": "2021-05-12T09:41:31.436849Z",
     "shell.execute_reply": "2021-05-12T09:41:31.437872Z"
    },
    "papermill": {
     "duration": 0.094571,
     "end_time": "2021-05-12T09:41:31.438203",
     "exception": false,
     "start_time": "2021-05-12T09:41:31.343632",
     "status": "completed"
    },
    "tags": []
   },
   "outputs": [
    {
     "name": "stdout",
     "output_type": "stream",
     "text": [
      "The tensor\n",
      "tensor([[0., 0., 0., 0., 0.],\n",
      "        [0., 0., 0., 0., 0.]])\n",
      "--------------------------------------------------\n",
      "The numpy array\n",
      "[[0. 0. 0. 0. 0.]\n",
      " [0. 0. 0. 0. 0.]]\n",
      "float32\n",
      "<class 'numpy.ndarray'>\n"
     ]
    }
   ],
   "source": [
    "print(\"The tensor\")\n",
    "print(x)\n",
    "\n",
    "arr = x.numpy()\n",
    "print(\"-\"*50)\n",
    "print(\"The numpy array\")\n",
    "print(arr)\n",
    "print(arr.dtype)\n",
    "print(type(arr))"
   ]
  },
  {
   "cell_type": "markdown",
   "id": "unable-myanmar",
   "metadata": {
    "papermill": {
     "duration": 0.078655,
     "end_time": "2021-05-12T09:41:31.598171",
     "exception": false,
     "start_time": "2021-05-12T09:41:31.519516",
     "status": "completed"
    },
    "tags": []
   },
   "source": [
    "### 3. Tensor operations <a id=6></a>\n",
    "[back to top](#100)"
   ]
  },
  {
   "cell_type": "markdown",
   "id": "linear-exclusion",
   "metadata": {
    "papermill": {
     "duration": 0.081098,
     "end_time": "2021-05-12T09:41:31.757488",
     "exception": false,
     "start_time": "2021-05-12T09:41:31.676390",
     "status": "completed"
    },
    "tags": []
   },
   "source": [
    "#### 3.1 Reshaping <a id=7></a>"
   ]
  },
  {
   "cell_type": "markdown",
   "id": "corporate-dinner",
   "metadata": {
    "papermill": {
     "duration": 0.074116,
     "end_time": "2021-05-12T09:41:31.909320",
     "exception": false,
     "start_time": "2021-05-12T09:41:31.835204",
     "status": "completed"
    },
    "tags": []
   },
   "source": [
    "##### 3.1.1 Using `reshape()`"
   ]
  },
  {
   "cell_type": "code",
   "execution_count": 18,
   "id": "harmful-brain",
   "metadata": {
    "execution": {
     "iopub.execute_input": "2021-05-12T09:41:32.071127Z",
     "iopub.status.busy": "2021-05-12T09:41:32.070105Z",
     "iopub.status.idle": "2021-05-12T09:41:32.077835Z",
     "shell.execute_reply": "2021-05-12T09:41:32.078404Z"
    },
    "papermill": {
     "duration": 0.090307,
     "end_time": "2021-05-12T09:41:32.078593",
     "exception": false,
     "start_time": "2021-05-12T09:41:31.988286",
     "status": "completed"
    },
    "tags": []
   },
   "outputs": [
    {
     "name": "stdout",
     "output_type": "stream",
     "text": [
      "Reshaped tensor\n",
      "tensor([[0, 1, 2, 3, 4],\n",
      "        [5, 6, 7, 8, 9]])\n",
      "--------------------------------------------------\n",
      "Original tensor\n",
      "tensor([0, 1, 2, 3, 4, 5, 6, 7, 8, 9])\n"
     ]
    }
   ],
   "source": [
    "x = torch.arange(10)\n",
    "print(\"Reshaped tensor\")\n",
    "print(x.reshape(2,5))\n",
    "print(\"-\"*50)\n",
    "print(\"Original tensor\")\n",
    "print(x)"
   ]
  },
  {
   "cell_type": "markdown",
   "id": "purple-breast",
   "metadata": {
    "papermill": {
     "duration": 0.075842,
     "end_time": "2021-05-12T09:41:32.232130",
     "exception": false,
     "start_time": "2021-05-12T09:41:32.156288",
     "status": "completed"
    },
    "tags": []
   },
   "source": [
    "##### 3.1.2 Using `view()`"
   ]
  },
  {
   "cell_type": "code",
   "execution_count": 19,
   "id": "controversial-belfast",
   "metadata": {
    "execution": {
     "iopub.execute_input": "2021-05-12T09:41:32.390653Z",
     "iopub.status.busy": "2021-05-12T09:41:32.389820Z",
     "iopub.status.idle": "2021-05-12T09:41:32.398748Z",
     "shell.execute_reply": "2021-05-12T09:41:32.399920Z"
    },
    "papermill": {
     "duration": 0.09119,
     "end_time": "2021-05-12T09:41:32.400196",
     "exception": false,
     "start_time": "2021-05-12T09:41:32.309006",
     "status": "completed"
    },
    "tags": []
   },
   "outputs": [
    {
     "name": "stdout",
     "output_type": "stream",
     "text": [
      "Reshaped tensor\n",
      "tensor([[0, 1, 2, 3, 4],\n",
      "        [5, 6, 7, 8, 9]])\n",
      "--------------------------------------------------\n",
      "Original tensor\n",
      "tensor([0, 1, 2, 3, 4, 5, 6, 7, 8, 9])\n"
     ]
    }
   ],
   "source": [
    "x = torch.arange(10)\n",
    "print(\"Reshaped tensor\")\n",
    "print(x.view(2,5))\n",
    "print(\"-\"*50)\n",
    "print(\"Original tensor\")\n",
    "print(x)"
   ]
  },
  {
   "cell_type": "markdown",
   "id": "eligible-captain",
   "metadata": {
    "papermill": {
     "duration": 0.077202,
     "end_time": "2021-05-12T09:41:32.555434",
     "exception": false,
     "start_time": "2021-05-12T09:41:32.478232",
     "status": "completed"
    },
    "tags": []
   },
   "source": [
    "##### 3.1.3 Shape inference"
   ]
  },
  {
   "cell_type": "code",
   "execution_count": 20,
   "id": "abroad-lawsuit",
   "metadata": {
    "execution": {
     "iopub.execute_input": "2021-05-12T09:41:32.713005Z",
     "iopub.status.busy": "2021-05-12T09:41:32.712381Z",
     "iopub.status.idle": "2021-05-12T09:41:32.719930Z",
     "shell.execute_reply": "2021-05-12T09:41:32.720908Z"
    },
    "papermill": {
     "duration": 0.089224,
     "end_time": "2021-05-12T09:41:32.721263",
     "exception": false,
     "start_time": "2021-05-12T09:41:32.632039",
     "status": "completed"
    },
    "tags": []
   },
   "outputs": [
    {
     "name": "stdout",
     "output_type": "stream",
     "text": [
      "torch.Size([10])\n",
      "--------------------------------------------------\n",
      "tensor([[0, 1, 2, 3, 4],\n",
      "        [5, 6, 7, 8, 9]])\n",
      "torch.Size([2, 5])\n"
     ]
    }
   ],
   "source": [
    "x = torch.arange(10)\n",
    "print(x.shape)\n",
    "print(\"-\"*50)\n",
    "z = x.view(2,-1)\n",
    "print(z)\n",
    "print(z.shape)"
   ]
  },
  {
   "cell_type": "markdown",
   "id": "negative-french",
   "metadata": {
    "papermill": {
     "duration": 0.078299,
     "end_time": "2021-05-12T09:41:32.876421",
     "exception": false,
     "start_time": "2021-05-12T09:41:32.798122",
     "status": "completed"
    },
    "tags": []
   },
   "source": [
    "As in the above case, if we put `-1` as the second dimension, it will itelf infer the same provided it makes sense. Try changing the above code to get a shape of `(3,-1)` which will provide an error; since a tensor of size 10 can't be reshaped to a tensor with first dimension as 3."
   ]
  },
  {
   "cell_type": "markdown",
   "id": "gentle-stewart",
   "metadata": {
    "papermill": {
     "duration": 0.079517,
     "end_time": "2021-05-12T09:41:33.033748",
     "exception": false,
     "start_time": "2021-05-12T09:41:32.954231",
     "status": "completed"
    },
    "tags": []
   },
   "source": [
    "#### 3.2 Indexing <a id=8></a>"
   ]
  },
  {
   "cell_type": "markdown",
   "id": "noted-quality",
   "metadata": {
    "papermill": {
     "duration": 0.081732,
     "end_time": "2021-05-12T09:41:33.195036",
     "exception": false,
     "start_time": "2021-05-12T09:41:33.113304",
     "status": "completed"
    },
    "tags": []
   },
   "source": [
    "##### 3.2.1 Indexing"
   ]
  },
  {
   "cell_type": "code",
   "execution_count": 21,
   "id": "automated-preliminary",
   "metadata": {
    "execution": {
     "iopub.execute_input": "2021-05-12T09:41:33.360674Z",
     "iopub.status.busy": "2021-05-12T09:41:33.359740Z",
     "iopub.status.idle": "2021-05-12T09:41:33.372791Z",
     "shell.execute_reply": "2021-05-12T09:41:33.373409Z"
    },
    "papermill": {
     "duration": 0.098536,
     "end_time": "2021-05-12T09:41:33.373684",
     "exception": false,
     "start_time": "2021-05-12T09:41:33.275148",
     "status": "completed"
    },
    "tags": []
   },
   "outputs": [
    {
     "name": "stdout",
     "output_type": "stream",
     "text": [
      "tensor([[0, 1],\n",
      "        [2, 3],\n",
      "        [4, 5]])\n",
      "tensor(3)\n"
     ]
    },
    {
     "data": {
      "text/plain": [
       "torch.Tensor"
      ]
     },
     "execution_count": 21,
     "metadata": {},
     "output_type": "execute_result"
    }
   ],
   "source": [
    "x = torch.arange(6).reshape(3,2)\n",
    "print(x)\n",
    "print(x[1,1])\n",
    "type(x[1,1])"
   ]
  },
  {
   "cell_type": "markdown",
   "id": "fiscal-logic",
   "metadata": {
    "papermill": {
     "duration": 0.08249,
     "end_time": "2021-05-12T09:41:33.537959",
     "exception": false,
     "start_time": "2021-05-12T09:41:33.455469",
     "status": "completed"
    },
    "tags": []
   },
   "source": [
    "##### 3.2.2 Selecting"
   ]
  },
  {
   "cell_type": "code",
   "execution_count": 22,
   "id": "conscious-timber",
   "metadata": {
    "execution": {
     "iopub.execute_input": "2021-05-12T09:41:33.710577Z",
     "iopub.status.busy": "2021-05-12T09:41:33.709542Z",
     "iopub.status.idle": "2021-05-12T09:41:33.715707Z",
     "shell.execute_reply": "2021-05-12T09:41:33.716180Z"
    },
    "papermill": {
     "duration": 0.095135,
     "end_time": "2021-05-12T09:41:33.716356",
     "exception": false,
     "start_time": "2021-05-12T09:41:33.621221",
     "status": "completed"
    },
    "tags": []
   },
   "outputs": [
    {
     "name": "stdout",
     "output_type": "stream",
     "text": [
      "tensor([[0, 1],\n",
      "        [2, 3],\n",
      "        [4, 5]])\n",
      "__________________________________________________\n",
      "tensor([1, 3, 5])\n",
      "torch.Size([3])\n",
      "__________________________________________________\n",
      "tensor([[1],\n",
      "        [3],\n",
      "        [5]])\n",
      "torch.Size([3, 1])\n"
     ]
    }
   ],
   "source": [
    "x = torch.arange(6).reshape(3,2)\n",
    "print(x)\n",
    "print(\"_\"*50)\n",
    "print(x[:,1])\n",
    "print(x[:,1].shape)\n",
    "print(\"_\"*50)\n",
    "print(x[:,1:])\n",
    "print(x[:,1:].shape)"
   ]
  },
  {
   "cell_type": "markdown",
   "id": "tropical-gallery",
   "metadata": {
    "papermill": {
     "duration": 0.084134,
     "end_time": "2021-05-12T09:41:33.881328",
     "exception": false,
     "start_time": "2021-05-12T09:41:33.797194",
     "status": "completed"
    },
    "tags": []
   },
   "source": [
    "### 4. Tensor arithmetic <a id=9></a>\n",
    "[back to top](#100)"
   ]
  },
  {
   "cell_type": "markdown",
   "id": "identified-charlotte",
   "metadata": {
    "papermill": {
     "duration": 0.080692,
     "end_time": "2021-05-12T09:41:34.044823",
     "exception": false,
     "start_time": "2021-05-12T09:41:33.964131",
     "status": "completed"
    },
    "tags": []
   },
   "source": [
    "There are multiple ways to do arithmetic. Direct operators as well as torch functions can be used."
   ]
  },
  {
   "cell_type": "markdown",
   "id": "invisible-organization",
   "metadata": {
    "papermill": {
     "duration": 0.081319,
     "end_time": "2021-05-12T09:41:34.209641",
     "exception": false,
     "start_time": "2021-05-12T09:41:34.128322",
     "status": "completed"
    },
    "tags": []
   },
   "source": [
    "#### 4.1 Addition <a id=10></a>"
   ]
  },
  {
   "cell_type": "markdown",
   "id": "thermal-austria",
   "metadata": {
    "papermill": {
     "duration": 0.09073,
     "end_time": "2021-05-12T09:41:34.379818",
     "exception": false,
     "start_time": "2021-05-12T09:41:34.289088",
     "status": "completed"
    },
    "tags": []
   },
   "source": [
    "##### 4.1.1 Element-wise addition"
   ]
  },
  {
   "cell_type": "code",
   "execution_count": 23,
   "id": "requested-cover",
   "metadata": {
    "execution": {
     "iopub.execute_input": "2021-05-12T09:41:34.562151Z",
     "iopub.status.busy": "2021-05-12T09:41:34.561431Z",
     "iopub.status.idle": "2021-05-12T09:41:34.567839Z",
     "shell.execute_reply": "2021-05-12T09:41:34.568329Z"
    },
    "papermill": {
     "duration": 0.092994,
     "end_time": "2021-05-12T09:41:34.568493",
     "exception": false,
     "start_time": "2021-05-12T09:41:34.475499",
     "status": "completed"
    },
    "tags": []
   },
   "outputs": [
    {
     "name": "stdout",
     "output_type": "stream",
     "text": [
      "tensor([5., 7., 9.])\n",
      "tensor([5., 7., 9.])\n"
     ]
    }
   ],
   "source": [
    "a = torch.tensor([1.,2.,3.])\n",
    "b = torch.tensor([4.,5.,6.])\n",
    "print(a+b)\n",
    "print(torch.add(a,b))"
   ]
  },
  {
   "cell_type": "markdown",
   "id": "potential-tracy",
   "metadata": {
    "papermill": {
     "duration": 0.083096,
     "end_time": "2021-05-12T09:41:34.731964",
     "exception": false,
     "start_time": "2021-05-12T09:41:34.648868",
     "status": "completed"
    },
    "tags": []
   },
   "source": [
    "##### 4.1.2 In-place addition "
   ]
  },
  {
   "cell_type": "code",
   "execution_count": 24,
   "id": "female-manor",
   "metadata": {
    "execution": {
     "iopub.execute_input": "2021-05-12T09:41:34.901181Z",
     "iopub.status.busy": "2021-05-12T09:41:34.900220Z",
     "iopub.status.idle": "2021-05-12T09:41:34.908154Z",
     "shell.execute_reply": "2021-05-12T09:41:34.909114Z"
    },
    "papermill": {
     "duration": 0.09466,
     "end_time": "2021-05-12T09:41:34.909379",
     "exception": false,
     "start_time": "2021-05-12T09:41:34.814719",
     "status": "completed"
    },
    "tags": []
   },
   "outputs": [
    {
     "name": "stdout",
     "output_type": "stream",
     "text": [
      "tensor([5., 7., 9.])\n"
     ]
    }
   ],
   "source": [
    "a = torch.tensor([1.,2.,3.])\n",
    "b = torch.tensor([4.,5.,6.])\n",
    "a.add_(b)\n",
    "print(a)"
   ]
  },
  {
   "cell_type": "markdown",
   "id": "broad-vault",
   "metadata": {
    "papermill": {
     "duration": 0.084234,
     "end_time": "2021-05-12T09:41:35.079777",
     "exception": false,
     "start_time": "2021-05-12T09:41:34.995543",
     "status": "completed"
    },
    "tags": []
   },
   "source": [
    "The in-place arithmetic is applicable for all operations - `add_`, `sub_`, `mul_` etc."
   ]
  },
  {
   "cell_type": "markdown",
   "id": "informational-strengthening",
   "metadata": {
    "papermill": {
     "duration": 0.079424,
     "end_time": "2021-05-12T09:41:35.241744",
     "exception": false,
     "start_time": "2021-05-12T09:41:35.162320",
     "status": "completed"
    },
    "tags": []
   },
   "source": [
    "#### 4.2 Subtraction <a id=11></a>"
   ]
  },
  {
   "cell_type": "code",
   "execution_count": 25,
   "id": "excellent-buffer",
   "metadata": {
    "execution": {
     "iopub.execute_input": "2021-05-12T09:41:35.406463Z",
     "iopub.status.busy": "2021-05-12T09:41:35.405528Z",
     "iopub.status.idle": "2021-05-12T09:41:35.410950Z",
     "shell.execute_reply": "2021-05-12T09:41:35.412016Z"
    },
    "papermill": {
     "duration": 0.091286,
     "end_time": "2021-05-12T09:41:35.412247",
     "exception": false,
     "start_time": "2021-05-12T09:41:35.320961",
     "status": "completed"
    },
    "tags": []
   },
   "outputs": [
    {
     "name": "stdout",
     "output_type": "stream",
     "text": [
      "tensor([0, 1, 2, 3])\n",
      "tensor([0, 1, 2, 3])\n"
     ]
    }
   ],
   "source": [
    "a = torch.tensor([1,2,3,4])\n",
    "b = torch.tensor([1,1,1,1])\n",
    "print(a-b)\n",
    "print(torch.sub(a,b))"
   ]
  },
  {
   "cell_type": "markdown",
   "id": "great-navigation",
   "metadata": {
    "papermill": {
     "duration": 0.077822,
     "end_time": "2021-05-12T09:41:35.571443",
     "exception": false,
     "start_time": "2021-05-12T09:41:35.493621",
     "status": "completed"
    },
    "tags": []
   },
   "source": [
    "#### 4.3 Multiplication <a id=12></a>"
   ]
  },
  {
   "cell_type": "code",
   "execution_count": 26,
   "id": "promotional-musician",
   "metadata": {
    "execution": {
     "iopub.execute_input": "2021-05-12T09:41:35.733153Z",
     "iopub.status.busy": "2021-05-12T09:41:35.732501Z",
     "iopub.status.idle": "2021-05-12T09:41:35.740400Z",
     "shell.execute_reply": "2021-05-12T09:41:35.739402Z"
    },
    "papermill": {
     "duration": 0.090746,
     "end_time": "2021-05-12T09:41:35.740600",
     "exception": false,
     "start_time": "2021-05-12T09:41:35.649854",
     "status": "completed"
    },
    "tags": []
   },
   "outputs": [
    {
     "name": "stdout",
     "output_type": "stream",
     "text": [
      "tensor([[0., 0.],\n",
      "        [0., 0.]])\n",
      "tensor([[0., 0.],\n",
      "        [0., 0.]])\n"
     ]
    }
   ],
   "source": [
    "a = torch.ones(2,2)\n",
    "b = torch.zeros(2,2)\n",
    "print(a*b)\n",
    "print(torch.mul(a,b))"
   ]
  },
  {
   "cell_type": "markdown",
   "id": "preliminary-birmingham",
   "metadata": {
    "papermill": {
     "duration": 0.078945,
     "end_time": "2021-05-12T09:41:35.900260",
     "exception": false,
     "start_time": "2021-05-12T09:41:35.821315",
     "status": "completed"
    },
    "tags": []
   },
   "source": [
    "#### 4.4 Division <a id=13></a>"
   ]
  },
  {
   "cell_type": "code",
   "execution_count": 27,
   "id": "previous-biotechnology",
   "metadata": {
    "execution": {
     "iopub.execute_input": "2021-05-12T09:41:36.071461Z",
     "iopub.status.busy": "2021-05-12T09:41:36.070563Z",
     "iopub.status.idle": "2021-05-12T09:41:36.076064Z",
     "shell.execute_reply": "2021-05-12T09:41:36.075431Z"
    },
    "papermill": {
     "duration": 0.092818,
     "end_time": "2021-05-12T09:41:36.076199",
     "exception": false,
     "start_time": "2021-05-12T09:41:35.983381",
     "status": "completed"
    },
    "tags": []
   },
   "outputs": [
    {
     "name": "stdout",
     "output_type": "stream",
     "text": [
      "tensor([[inf, inf],\n",
      "        [inf, inf]])\n",
      "tensor([[inf, inf],\n",
      "        [inf, inf]])\n"
     ]
    }
   ],
   "source": [
    "a = torch.ones(2,2)\n",
    "b = torch.zeros(2,2)\n",
    "print(a/b)\n",
    "print(torch.div(a,b))"
   ]
  },
  {
   "cell_type": "markdown",
   "id": "affiliated-people",
   "metadata": {
    "papermill": {
     "duration": 0.082316,
     "end_time": "2021-05-12T09:41:36.295031",
     "exception": false,
     "start_time": "2021-05-12T09:41:36.212715",
     "status": "completed"
    },
    "tags": []
   },
   "source": [
    "The tensor contains `inf` since any number divided by `0` is infinity."
   ]
  },
  {
   "cell_type": "markdown",
   "id": "mathematical-terry",
   "metadata": {
    "papermill": {
     "duration": 0.083876,
     "end_time": "2021-05-12T09:41:36.462118",
     "exception": false,
     "start_time": "2021-05-12T09:41:36.378242",
     "status": "completed"
    },
    "tags": []
   },
   "source": [
    "#### 4.4 Mean <a id=14></a>"
   ]
  },
  {
   "cell_type": "code",
   "execution_count": 28,
   "id": "revolutionary-season",
   "metadata": {
    "execution": {
     "iopub.execute_input": "2021-05-12T09:41:36.625703Z",
     "iopub.status.busy": "2021-05-12T09:41:36.625087Z",
     "iopub.status.idle": "2021-05-12T09:41:36.632650Z",
     "shell.execute_reply": "2021-05-12T09:41:36.632162Z"
    },
    "papermill": {
     "duration": 0.091146,
     "end_time": "2021-05-12T09:41:36.632825",
     "exception": false,
     "start_time": "2021-05-12T09:41:36.541679",
     "status": "completed"
    },
    "tags": []
   },
   "outputs": [
    {
     "name": "stdout",
     "output_type": "stream",
     "text": [
      "tensor(5.5000, dtype=torch.float64)\n"
     ]
    }
   ],
   "source": [
    "a = torch.arange(1,11,1,dtype=torch.float64)\n",
    "print(a.mean(dim=0))"
   ]
  },
  {
   "cell_type": "markdown",
   "id": "warming-beauty",
   "metadata": {
    "papermill": {
     "duration": 0.079555,
     "end_time": "2021-05-12T09:41:36.792085",
     "exception": false,
     "start_time": "2021-05-12T09:41:36.712530",
     "status": "completed"
    },
    "tags": []
   },
   "source": [
    "`a = torch.arange(1,11,1).mean(dim=0)` won't work since this would create a tensor of `int` and the `mean` can only be calculated for `float` in PyTorch."
   ]
  },
  {
   "cell_type": "markdown",
   "id": "early-exercise",
   "metadata": {
    "papermill": {
     "duration": 0.082996,
     "end_time": "2021-05-12T09:41:36.956094",
     "exception": false,
     "start_time": "2021-05-12T09:41:36.873098",
     "status": "completed"
    },
    "tags": []
   },
   "source": [
    "#### 4.5 Standard Deviation <a id=15></a>"
   ]
  },
  {
   "cell_type": "code",
   "execution_count": 29,
   "id": "exact-louisville",
   "metadata": {
    "execution": {
     "iopub.execute_input": "2021-05-12T09:41:37.129941Z",
     "iopub.status.busy": "2021-05-12T09:41:37.129031Z",
     "iopub.status.idle": "2021-05-12T09:41:37.138223Z",
     "shell.execute_reply": "2021-05-12T09:41:37.137549Z"
    },
    "papermill": {
     "duration": 0.096828,
     "end_time": "2021-05-12T09:41:37.138378",
     "exception": false,
     "start_time": "2021-05-12T09:41:37.041550",
     "status": "completed"
    },
    "tags": []
   },
   "outputs": [
    {
     "name": "stdout",
     "output_type": "stream",
     "text": [
      "tensor(3.0277)\n"
     ]
    }
   ],
   "source": [
    "a = torch.Tensor([1, 2, 3, 4, 5, 6, 7, 8, 9, 10])\n",
    "print(a.std(dim=0))"
   ]
  },
  {
   "cell_type": "markdown",
   "id": "intended-ordinance",
   "metadata": {
    "papermill": {
     "duration": 0.082936,
     "end_time": "2021-05-12T09:41:37.304073",
     "exception": false,
     "start_time": "2021-05-12T09:41:37.221137",
     "status": "completed"
    },
    "tags": []
   },
   "source": [
    "### 5. Gradients <a id=16></a>\n",
    "[back to top](#100)"
   ]
  },
  {
   "cell_type": "markdown",
   "id": "paperback-fifteen",
   "metadata": {
    "papermill": {
     "duration": 0.082479,
     "end_time": "2021-05-12T09:41:37.467547",
     "exception": false,
     "start_time": "2021-05-12T09:41:37.385068",
     "status": "completed"
    },
    "tags": []
   },
   "source": [
    "A gradient, also called slope is simply defined as the rate of change of the functon at a particular point. PyTorch can easily calculate gradients and accumulate them. Just a single parameter `requires_grad` is used while defining tensors to track the gradient."
   ]
  },
  {
   "cell_type": "markdown",
   "id": "further-accident",
   "metadata": {
    "papermill": {
     "duration": 0.080595,
     "end_time": "2021-05-12T09:41:37.628918",
     "exception": false,
     "start_time": "2021-05-12T09:41:37.548323",
     "status": "completed"
    },
    "tags": []
   },
   "source": [
    "#### 5.1 Example using a single value <a id=17></a>"
   ]
  },
  {
   "cell_type": "markdown",
   "id": "royal-category",
   "metadata": {
    "papermill": {
     "duration": 0.082165,
     "end_time": "2021-05-12T09:41:37.795371",
     "exception": false,
     "start_time": "2021-05-12T09:41:37.713206",
     "status": "completed"
    },
    "tags": []
   },
   "source": [
    "##### 5.1.1 Defining a 1-D tensor `x` with a single value"
   ]
  },
  {
   "cell_type": "code",
   "execution_count": 30,
   "id": "public-conversion",
   "metadata": {
    "execution": {
     "iopub.execute_input": "2021-05-12T09:41:37.964985Z",
     "iopub.status.busy": "2021-05-12T09:41:37.963995Z",
     "iopub.status.idle": "2021-05-12T09:41:37.968790Z",
     "shell.execute_reply": "2021-05-12T09:41:37.968163Z"
    },
    "papermill": {
     "duration": 0.092099,
     "end_time": "2021-05-12T09:41:37.968923",
     "exception": false,
     "start_time": "2021-05-12T09:41:37.876824",
     "status": "completed"
    },
    "tags": []
   },
   "outputs": [
    {
     "data": {
      "text/plain": [
       "tensor([2.], dtype=torch.float64, requires_grad=True)"
      ]
     },
     "execution_count": 30,
     "metadata": {},
     "output_type": "execute_result"
    }
   ],
   "source": [
    "x = torch.tensor([2],dtype=torch.float64, requires_grad = True)\n",
    "x"
   ]
  },
  {
   "cell_type": "markdown",
   "id": "paperback-nirvana",
   "metadata": {
    "papermill": {
     "duration": 0.082061,
     "end_time": "2021-05-12T09:41:38.132416",
     "exception": false,
     "start_time": "2021-05-12T09:41:38.050355",
     "status": "completed"
    },
    "tags": []
   },
   "source": [
    "##### 5.1.2 Calculating a function `y` depending upon `x`"
   ]
  },
  {
   "cell_type": "markdown",
   "id": "crucial-packing",
   "metadata": {
    "papermill": {
     "duration": 0.080366,
     "end_time": "2021-05-12T09:41:38.293378",
     "exception": false,
     "start_time": "2021-05-12T09:41:38.213012",
     "status": "completed"
    },
    "tags": []
   },
   "source": [
    "$$\n",
    "y = 5(x+1)^2\n",
    "$$"
   ]
  },
  {
   "cell_type": "code",
   "execution_count": 31,
   "id": "better-dispatch",
   "metadata": {
    "execution": {
     "iopub.execute_input": "2021-05-12T09:41:38.467254Z",
     "iopub.status.busy": "2021-05-12T09:41:38.466400Z",
     "iopub.status.idle": "2021-05-12T09:41:38.475125Z",
     "shell.execute_reply": "2021-05-12T09:41:38.474521Z"
    },
    "papermill": {
     "duration": 0.099293,
     "end_time": "2021-05-12T09:41:38.475263",
     "exception": false,
     "start_time": "2021-05-12T09:41:38.375970",
     "status": "completed"
    },
    "tags": []
   },
   "outputs": [
    {
     "data": {
      "text/plain": [
       "tensor([45.], dtype=torch.float64, grad_fn=<MulBackward0>)"
      ]
     },
     "execution_count": 31,
     "metadata": {},
     "output_type": "execute_result"
    }
   ],
   "source": [
    "y = 5 * ((x + 1)**2)\n",
    "y"
   ]
  },
  {
   "cell_type": "markdown",
   "id": "downtown-receptor",
   "metadata": {
    "papermill": {
     "duration": 0.081538,
     "end_time": "2021-05-12T09:41:38.639607",
     "exception": false,
     "start_time": "2021-05-12T09:41:38.558069",
     "status": "completed"
    },
    "tags": []
   },
   "source": [
    "##### 5.1.3 Calculating the gradient of `y` wrt `x`"
   ]
  },
  {
   "cell_type": "markdown",
   "id": "tracked-right",
   "metadata": {
    "papermill": {
     "duration": 0.080901,
     "end_time": "2021-05-12T09:41:38.801711",
     "exception": false,
     "start_time": "2021-05-12T09:41:38.720810",
     "status": "completed"
    },
    "tags": []
   },
   "source": [
    "$$\n",
    "dy/dx = 10(x+1)\n",
    "$$\n",
    "\n",
    "$$\n",
    "dy/dx = 10(2+1) = 30 \n",
    "$$"
   ]
  },
  {
   "cell_type": "code",
   "execution_count": 32,
   "id": "intimate-fiber",
   "metadata": {
    "execution": {
     "iopub.execute_input": "2021-05-12T09:41:38.974085Z",
     "iopub.status.busy": "2021-05-12T09:41:38.973194Z",
     "iopub.status.idle": "2021-05-12T09:41:38.979279Z",
     "shell.execute_reply": "2021-05-12T09:41:38.979881Z"
    },
    "papermill": {
     "duration": 0.093866,
     "end_time": "2021-05-12T09:41:38.980061",
     "exception": false,
     "start_time": "2021-05-12T09:41:38.886195",
     "status": "completed"
    },
    "tags": []
   },
   "outputs": [
    {
     "data": {
      "text/plain": [
       "tensor([30.], dtype=torch.float64)"
      ]
     },
     "execution_count": 32,
     "metadata": {},
     "output_type": "execute_result"
    }
   ],
   "source": [
    "y.backward()\n",
    "x.grad"
   ]
  },
  {
   "cell_type": "markdown",
   "id": "protective-equilibrium",
   "metadata": {
    "papermill": {
     "duration": 0.081344,
     "end_time": "2021-05-12T09:41:39.148142",
     "exception": false,
     "start_time": "2021-05-12T09:41:39.066798",
     "status": "completed"
    },
    "tags": []
   },
   "source": [
    "#### 5.2 Example using 1-D tensor <a id=18></a>"
   ]
  },
  {
   "cell_type": "markdown",
   "id": "loved-horror",
   "metadata": {
    "papermill": {
     "duration": 0.083137,
     "end_time": "2021-05-12T09:41:39.315842",
     "exception": false,
     "start_time": "2021-05-12T09:41:39.232705",
     "status": "completed"
    },
    "tags": []
   },
   "source": [
    "##### 5.2.1 Defining a 1-D tensor `x` with more than 1 value"
   ]
  },
  {
   "cell_type": "code",
   "execution_count": 33,
   "id": "signed-freeware",
   "metadata": {
    "execution": {
     "iopub.execute_input": "2021-05-12T09:41:39.487123Z",
     "iopub.status.busy": "2021-05-12T09:41:39.486208Z",
     "iopub.status.idle": "2021-05-12T09:41:39.492255Z",
     "shell.execute_reply": "2021-05-12T09:41:39.492830Z"
    },
    "papermill": {
     "duration": 0.094143,
     "end_time": "2021-05-12T09:41:39.493001",
     "exception": false,
     "start_time": "2021-05-12T09:41:39.398858",
     "status": "completed"
    },
    "tags": []
   },
   "outputs": [
    {
     "data": {
      "text/plain": [
       "tensor([1., 1.], requires_grad=True)"
      ]
     },
     "execution_count": 33,
     "metadata": {},
     "output_type": "execute_result"
    }
   ],
   "source": [
    "x = torch.ones(2,requires_grad = True)\n",
    "x"
   ]
  },
  {
   "cell_type": "markdown",
   "id": "severe-input",
   "metadata": {
    "papermill": {
     "duration": 0.081368,
     "end_time": "2021-05-12T09:41:39.656825",
     "exception": false,
     "start_time": "2021-05-12T09:41:39.575457",
     "status": "completed"
    },
    "tags": []
   },
   "source": [
    "##### 5.2.2 Calculating a function `y` depending upon `x`"
   ]
  },
  {
   "cell_type": "markdown",
   "id": "official-temple",
   "metadata": {
    "papermill": {
     "duration": 0.080966,
     "end_time": "2021-05-12T09:41:39.819357",
     "exception": false,
     "start_time": "2021-05-12T09:41:39.738391",
     "status": "completed"
    },
    "tags": []
   },
   "source": [
    "$$\n",
    "y = 5(x+1)^2\n",
    "$$"
   ]
  },
  {
   "cell_type": "code",
   "execution_count": 34,
   "id": "pediatric-minnesota",
   "metadata": {
    "execution": {
     "iopub.execute_input": "2021-05-12T09:41:39.985951Z",
     "iopub.status.busy": "2021-05-12T09:41:39.985005Z",
     "iopub.status.idle": "2021-05-12T09:41:39.991366Z",
     "shell.execute_reply": "2021-05-12T09:41:39.991897Z"
    },
    "papermill": {
     "duration": 0.091239,
     "end_time": "2021-05-12T09:41:39.992061",
     "exception": false,
     "start_time": "2021-05-12T09:41:39.900822",
     "status": "completed"
    },
    "tags": []
   },
   "outputs": [
    {
     "data": {
      "text/plain": [
       "tensor([20., 20.], grad_fn=<MulBackward0>)"
      ]
     },
     "execution_count": 34,
     "metadata": {},
     "output_type": "execute_result"
    }
   ],
   "source": [
    "y = 5 * ((x + 1)**2)\n",
    "y"
   ]
  },
  {
   "cell_type": "markdown",
   "id": "mounted-fiction",
   "metadata": {
    "papermill": {
     "duration": 0.082342,
     "end_time": "2021-05-12T09:41:40.159355",
     "exception": false,
     "start_time": "2021-05-12T09:41:40.077013",
     "status": "completed"
    },
    "tags": []
   },
   "source": [
    "We can observe that `y` is also a tensor with more than one value. But `backward` can only be called on a scaler or a 1-element tensor. We can create another function let's say `o` depending upon `y`."
   ]
  },
  {
   "cell_type": "markdown",
   "id": "smooth-quebec",
   "metadata": {
    "papermill": {
     "duration": 0.081627,
     "end_time": "2021-05-12T09:41:40.323443",
     "exception": false,
     "start_time": "2021-05-12T09:41:40.241816",
     "status": "completed"
    },
    "tags": []
   },
   "source": [
    "$$\n",
    "o = 1/2 * \\sum_{n=x_i}^{x_n} y_i\n",
    "$$"
   ]
  },
  {
   "cell_type": "code",
   "execution_count": 35,
   "id": "introductory-russian",
   "metadata": {
    "execution": {
     "iopub.execute_input": "2021-05-12T09:41:40.494179Z",
     "iopub.status.busy": "2021-05-12T09:41:40.493242Z",
     "iopub.status.idle": "2021-05-12T09:41:40.499547Z",
     "shell.execute_reply": "2021-05-12T09:41:40.500153Z"
    },
    "papermill": {
     "duration": 0.093065,
     "end_time": "2021-05-12T09:41:40.500316",
     "exception": false,
     "start_time": "2021-05-12T09:41:40.407251",
     "status": "completed"
    },
    "tags": []
   },
   "outputs": [
    {
     "data": {
      "text/plain": [
       "tensor(20., grad_fn=<MulBackward0>)"
      ]
     },
     "execution_count": 35,
     "metadata": {},
     "output_type": "execute_result"
    }
   ],
   "source": [
    "o = 0.5 * torch.sum(y)\n",
    "o"
   ]
  },
  {
   "cell_type": "markdown",
   "id": "patent-density",
   "metadata": {
    "papermill": {
     "duration": 0.082468,
     "end_time": "2021-05-12T09:41:40.666392",
     "exception": false,
     "start_time": "2021-05-12T09:41:40.583924",
     "status": "completed"
    },
    "tags": []
   },
   "source": [
    "##### 5.2.3 Calculating the gradient of `o` wrt `x`"
   ]
  },
  {
   "cell_type": "markdown",
   "id": "single-ghost",
   "metadata": {
    "papermill": {
     "duration": 0.082715,
     "end_time": "2021-05-12T09:41:40.831980",
     "exception": false,
     "start_time": "2021-05-12T09:41:40.749265",
     "status": "completed"
    },
    "tags": []
   },
   "source": [
    "$$\n",
    "o = 1/2 * \\sum_{n=x_i}^{x_n} 5(x_i+1)^2\n",
    "$$\n",
    "\n",
    "$$\n",
    "do/dx_i = 1/2 * 10(x_i+1)\n",
    "$$\n",
    "\n",
    "$$\n",
    "do/dx_1 = 1/2 * 10(1+1) = 10\n",
    "$$"
   ]
  },
  {
   "cell_type": "code",
   "execution_count": 36,
   "id": "sapphire-gospel",
   "metadata": {
    "execution": {
     "iopub.execute_input": "2021-05-12T09:41:41.001353Z",
     "iopub.status.busy": "2021-05-12T09:41:41.000416Z",
     "iopub.status.idle": "2021-05-12T09:41:41.006903Z",
     "shell.execute_reply": "2021-05-12T09:41:41.007457Z"
    },
    "papermill": {
     "duration": 0.09252,
     "end_time": "2021-05-12T09:41:41.007629",
     "exception": false,
     "start_time": "2021-05-12T09:41:40.915109",
     "status": "completed"
    },
    "tags": []
   },
   "outputs": [
    {
     "data": {
      "text/plain": [
       "tensor([10., 10.])"
      ]
     },
     "execution_count": 36,
     "metadata": {},
     "output_type": "execute_result"
    }
   ],
   "source": [
    "o.backward()\n",
    "x.grad"
   ]
  },
  {
   "cell_type": "markdown",
   "id": "shaped-geography",
   "metadata": {
    "papermill": {
     "duration": 0.082593,
     "end_time": "2021-05-12T09:41:41.175449",
     "exception": false,
     "start_time": "2021-05-12T09:41:41.092856",
     "status": "completed"
    },
    "tags": []
   },
   "source": [
    "### 6. Linear Regression <a id=19></a>\n",
    "[back to top](#100)"
   ]
  },
  {
   "cell_type": "markdown",
   "id": "initial-formula",
   "metadata": {
    "papermill": {
     "duration": 0.087622,
     "end_time": "2021-05-12T09:41:41.345929",
     "exception": false,
     "start_time": "2021-05-12T09:41:41.258307",
     "status": "completed"
    },
    "tags": []
   },
   "source": [
    "Linear Regression allows to understand the relationship between 2 continuous variables. For example `x` is an independent variable and `y` is dependent upon x, then the linear equation would be as follows with `a` as the slope of the equation and `b` as the intercept.\n",
    "$$\n",
    "y = ax+b\n",
    "$$\n",
    "In this part of notebook, I'm creating a Linear Regression model in PyTorch."
   ]
  },
  {
   "cell_type": "markdown",
   "id": "equal-stamp",
   "metadata": {
    "papermill": {
     "duration": 0.083379,
     "end_time": "2021-05-12T09:41:41.511903",
     "exception": false,
     "start_time": "2021-05-12T09:41:41.428524",
     "status": "completed"
    },
    "tags": []
   },
   "source": [
    "#### 6.1 Building a simple dataset <a id=20></a>\n",
    "[back to top](#100)"
   ]
  },
  {
   "cell_type": "markdown",
   "id": "tropical-geneva",
   "metadata": {
    "papermill": {
     "duration": 0.082063,
     "end_time": "2021-05-12T09:41:41.676636",
     "exception": false,
     "start_time": "2021-05-12T09:41:41.594573",
     "status": "completed"
    },
    "tags": []
   },
   "source": [
    "##### 6.1.1 Defining values"
   ]
  },
  {
   "cell_type": "code",
   "execution_count": 37,
   "id": "demographic-somerset",
   "metadata": {
    "execution": {
     "iopub.execute_input": "2021-05-12T09:41:41.845769Z",
     "iopub.status.busy": "2021-05-12T09:41:41.844828Z",
     "iopub.status.idle": "2021-05-12T09:41:41.852362Z",
     "shell.execute_reply": "2021-05-12T09:41:41.853190Z"
    },
    "papermill": {
     "duration": 0.094145,
     "end_time": "2021-05-12T09:41:41.853413",
     "exception": false,
     "start_time": "2021-05-12T09:41:41.759268",
     "status": "completed"
    },
    "tags": []
   },
   "outputs": [
    {
     "name": "stdout",
     "output_type": "stream",
     "text": [
      "(11,)\n",
      "(11,)\n",
      "[ 0.  1.  2.  3.  4.  5.  6.  7.  8.  9. 10.]\n",
      "[ 1.  3.  5.  7.  9. 11. 13. 15. 17. 19. 21.]\n"
     ]
    }
   ],
   "source": [
    "x = np.arange(0,11,1,dtype=np.float32) # creating an independent variable x\n",
    "y = 2 * x + 1                          # creating a dependent variable y\n",
    "print(x.shape)\n",
    "print(y.shape)\n",
    "print(x)\n",
    "print(y)"
   ]
  },
  {
   "cell_type": "markdown",
   "id": "victorian-johns",
   "metadata": {
    "papermill": {
     "duration": 0.083696,
     "end_time": "2021-05-12T09:41:42.023684",
     "exception": false,
     "start_time": "2021-05-12T09:41:41.939988",
     "status": "completed"
    },
    "tags": []
   },
   "source": [
    "##### 6.1.2 Reshaping arrays for PyTorch model"
   ]
  },
  {
   "cell_type": "code",
   "execution_count": 38,
   "id": "functioning-harassment",
   "metadata": {
    "execution": {
     "iopub.execute_input": "2021-05-12T09:41:42.199463Z",
     "iopub.status.busy": "2021-05-12T09:41:42.198811Z",
     "iopub.status.idle": "2021-05-12T09:41:42.203446Z",
     "shell.execute_reply": "2021-05-12T09:41:42.202448Z"
    },
    "papermill": {
     "duration": 0.094432,
     "end_time": "2021-05-12T09:41:42.203638",
     "exception": false,
     "start_time": "2021-05-12T09:41:42.109206",
     "status": "completed"
    },
    "tags": []
   },
   "outputs": [
    {
     "name": "stdout",
     "output_type": "stream",
     "text": [
      "(11, 1) (11, 1)\n"
     ]
    }
   ],
   "source": [
    "x=x.reshape(-1,1)\n",
    "y=y.reshape(-1,1)\n",
    "print(x.shape, y.shape)"
   ]
  },
  {
   "cell_type": "markdown",
   "id": "overhead-review",
   "metadata": {
    "papermill": {
     "duration": 0.084146,
     "end_time": "2021-05-12T09:41:42.374420",
     "exception": false,
     "start_time": "2021-05-12T09:41:42.290274",
     "status": "completed"
    },
    "tags": []
   },
   "source": [
    "##### 6.1.3 Plotting the linear curve"
   ]
  },
  {
   "cell_type": "markdown",
   "id": "rental-storage",
   "metadata": {
    "papermill": {
     "duration": 0.084866,
     "end_time": "2021-05-12T09:41:42.544246",
     "exception": false,
     "start_time": "2021-05-12T09:41:42.459380",
     "status": "completed"
    },
    "tags": []
   },
   "source": [
    "This is the plot of the equation that states `y=2x+1`."
   ]
  },
  {
   "cell_type": "code",
   "execution_count": 39,
   "id": "prospective-cinema",
   "metadata": {
    "execution": {
     "iopub.execute_input": "2021-05-12T09:41:42.734966Z",
     "iopub.status.busy": "2021-05-12T09:41:42.734317Z",
     "iopub.status.idle": "2021-05-12T09:41:43.021888Z",
     "shell.execute_reply": "2021-05-12T09:41:43.022368Z"
    },
    "papermill": {
     "duration": 0.392585,
     "end_time": "2021-05-12T09:41:43.022542",
     "exception": false,
     "start_time": "2021-05-12T09:41:42.629957",
     "status": "completed"
    },
    "tags": []
   },
   "outputs": [
    {
     "data": {
      "image/png": "[encoded data removed]",
      "text/plain": [
       "<Figure size 432x288 with 1 Axes>"
      ]
     },
     "metadata": {
      "needs_background": "light"
     },
     "output_type": "display_data"
    }
   ],
   "source": [
    "plt.scatter(x,y)\n",
    "plt.plot(x,y,color=\"Orange\",linewidth=2)\n",
    "plt.xlabel(\"X\")\n",
    "plt.ylabel(\"Y\")\n",
    "plt.title(\"Y = 2X + 1\")\n",
    "plt.show()"
   ]
  },
  {
   "cell_type": "markdown",
   "id": "weird-rogers",
   "metadata": {
    "papermill": {
     "duration": 0.084947,
     "end_time": "2021-05-12T09:41:43.197102",
     "exception": false,
     "start_time": "2021-05-12T09:41:43.112155",
     "status": "completed"
    },
    "tags": []
   },
   "source": [
    "#### 6.2 Building the model <a id=21></a>\n",
    "[back to top](#100)"
   ]
  },
  {
   "cell_type": "markdown",
   "id": "intensive-majority",
   "metadata": {
    "papermill": {
     "duration": 0.085689,
     "end_time": "2021-05-12T09:41:43.368145",
     "exception": false,
     "start_time": "2021-05-12T09:41:43.282456",
     "status": "completed"
    },
    "tags": []
   },
   "source": [
    "##### 6.2.1 Model Class"
   ]
  },
  {
   "cell_type": "code",
   "execution_count": 40,
   "id": "mysterious-sheet",
   "metadata": {
    "execution": {
     "iopub.execute_input": "2021-05-12T09:41:43.550351Z",
     "iopub.status.busy": "2021-05-12T09:41:43.549322Z",
     "iopub.status.idle": "2021-05-12T09:41:43.551694Z",
     "shell.execute_reply": "2021-05-12T09:41:43.552193Z"
    },
    "papermill": {
     "duration": 0.09725,
     "end_time": "2021-05-12T09:41:43.552379",
     "exception": false,
     "start_time": "2021-05-12T09:41:43.455129",
     "status": "completed"
    },
    "tags": []
   },
   "outputs": [],
   "source": [
    "class LinearRegressionModel(nn.Module):\n",
    "    \n",
    "    def __init__(self,input_dim, output_dim):\n",
    "        super(LinearRegressionModel,self).__init__()\n",
    "        self.linear = nn.Linear(input_dim, output_dim)\n",
    "        \n",
    "    def forward(self,x):\n",
    "        out = self.linear(x)\n",
    "        return out"
   ]
  },
  {
   "cell_type": "markdown",
   "id": "attractive-convertible",
   "metadata": {
    "papermill": {
     "duration": 0.087091,
     "end_time": "2021-05-12T09:41:43.732705",
     "exception": false,
     "start_time": "2021-05-12T09:41:43.645614",
     "status": "completed"
    },
    "tags": []
   },
   "source": [
    "##### 6.2.2 Instantiate the model"
   ]
  },
  {
   "cell_type": "code",
   "execution_count": 41,
   "id": "square-effectiveness",
   "metadata": {
    "execution": {
     "iopub.execute_input": "2021-05-12T09:41:43.908825Z",
     "iopub.status.busy": "2021-05-12T09:41:43.907876Z",
     "iopub.status.idle": "2021-05-12T09:41:43.912233Z",
     "shell.execute_reply": "2021-05-12T09:41:43.912710Z"
    },
    "papermill": {
     "duration": 0.094591,
     "end_time": "2021-05-12T09:41:43.912909",
     "exception": false,
     "start_time": "2021-05-12T09:41:43.818318",
     "status": "completed"
    },
    "tags": []
   },
   "outputs": [],
   "source": [
    "input_dim=1\n",
    "output_dim=1\n",
    "model = LinearRegressionModel(input_dim,output_dim)"
   ]
  },
  {
   "cell_type": "markdown",
   "id": "informed-nursing",
   "metadata": {
    "papermill": {
     "duration": 0.087157,
     "end_time": "2021-05-12T09:41:44.088455",
     "exception": false,
     "start_time": "2021-05-12T09:41:44.001298",
     "status": "completed"
    },
    "tags": []
   },
   "source": [
    "##### 6.2.3 Instantiate optimizer and loss"
   ]
  },
  {
   "cell_type": "markdown",
   "id": "public-peace",
   "metadata": {
    "papermill": {
     "duration": 0.086173,
     "end_time": "2021-05-12T09:41:44.260315",
     "exception": false,
     "start_time": "2021-05-12T09:41:44.174142",
     "status": "completed"
    },
    "tags": []
   },
   "source": [
    "Many loss functions can be used according to the problem statement. Linear regression mostly uses MSE or RMSE. I'll be using MSE for this case i.e Mean square error and its formula is as follows.\n",
    "$$\n",
    "MSE = 1/n \\sum_{n=1}^{n} (y_p - y_i)^2\n",
    "$$"
   ]
  },
  {
   "cell_type": "code",
   "execution_count": 42,
   "id": "organizational-personal",
   "metadata": {
    "execution": {
     "iopub.execute_input": "2021-05-12T09:41:44.441156Z",
     "iopub.status.busy": "2021-05-12T09:41:44.440210Z",
     "iopub.status.idle": "2021-05-12T09:41:44.444643Z",
     "shell.execute_reply": "2021-05-12T09:41:44.445137Z"
    },
    "papermill": {
     "duration": 0.097427,
     "end_time": "2021-05-12T09:41:44.445313",
     "exception": false,
     "start_time": "2021-05-12T09:41:44.347886",
     "status": "completed"
    },
    "tags": []
   },
   "outputs": [],
   "source": [
    "criterion=nn.MSELoss() # loss function\n",
    "optimizer = torch.optim.SGD(model.parameters(), lr=0.01)"
   ]
  },
  {
   "cell_type": "markdown",
   "id": "adjustable-warrant",
   "metadata": {
    "papermill": {
     "duration": 0.085446,
     "end_time": "2021-05-12T09:41:44.617904",
     "exception": false,
     "start_time": "2021-05-12T09:41:44.532458",
     "status": "completed"
    },
    "tags": []
   },
   "source": [
    "#### 6.3 Training the model <a id=22></a>\n",
    "[back to top](#100)"
   ]
  },
  {
   "cell_type": "markdown",
   "id": "legitimate-graham",
   "metadata": {
    "papermill": {
     "duration": 0.085418,
     "end_time": "2021-05-12T09:41:44.789083",
     "exception": false,
     "start_time": "2021-05-12T09:41:44.703665",
     "status": "completed"
    },
    "tags": []
   },
   "source": [
    "##### 6.3.1 The training loop"
   ]
  },
  {
   "cell_type": "code",
   "execution_count": 43,
   "id": "controversial-filter",
   "metadata": {
    "execution": {
     "iopub.execute_input": "2021-05-12T09:41:44.970162Z",
     "iopub.status.busy": "2021-05-12T09:41:44.969510Z",
     "iopub.status.idle": "2021-05-12T09:41:45.041642Z",
     "shell.execute_reply": "2021-05-12T09:41:45.040157Z"
    },
    "papermill": {
     "duration": 0.166983,
     "end_time": "2021-05-12T09:41:45.041862",
     "exception": false,
     "start_time": "2021-05-12T09:41:44.874879",
     "status": "completed"
    },
    "tags": []
   },
   "outputs": [
    {
     "name": "stdout",
     "output_type": "stream",
     "text": [
      "Training complete...\n"
     ]
    }
   ],
   "source": [
    "epochs = 100\n",
    "for epoch in range(epochs):\n",
    "    \n",
    "    # convert numpy arrays to tensors\n",
    "    inputs=torch.tensor(x,dtype=torch.float32, requires_grad=True)\n",
    "    labels=torch.tensor(y,dtype=torch.float32)\n",
    "    \n",
    "    # clear the gradients\n",
    "    optimizer.zero_grad()\n",
    "    \n",
    "    # forward to get output\n",
    "    outputs=model(inputs)\n",
    "    \n",
    "    # calculating loss\n",
    "    loss=criterion(outputs,labels)\n",
    "    \n",
    "    # backpropagation\n",
    "    loss.backward()\n",
    "    \n",
    "    # updating parameters\n",
    "    optimizer.step()\n",
    "    \n",
    "print(\"Training complete...\")"
   ]
  },
  {
   "cell_type": "markdown",
   "id": "tough-spyware",
   "metadata": {
    "papermill": {
     "duration": 0.08609,
     "end_time": "2021-05-12T09:41:45.216512",
     "exception": false,
     "start_time": "2021-05-12T09:41:45.130422",
     "status": "completed"
    },
    "tags": []
   },
   "source": [
    "##### 6.3.2 Predictions"
   ]
  },
  {
   "cell_type": "markdown",
   "id": "explicit-proportion",
   "metadata": {
    "papermill": {
     "duration": 0.110627,
     "end_time": "2021-05-12T09:41:45.413753",
     "exception": false,
     "start_time": "2021-05-12T09:41:45.303126",
     "status": "completed"
    },
    "tags": []
   },
   "source": [
    "The true values are"
   ]
  },
  {
   "cell_type": "code",
   "execution_count": 44,
   "id": "touched-breach",
   "metadata": {
    "execution": {
     "iopub.execute_input": "2021-05-12T09:41:45.600047Z",
     "iopub.status.busy": "2021-05-12T09:41:45.599186Z",
     "iopub.status.idle": "2021-05-12T09:41:45.603134Z",
     "shell.execute_reply": "2021-05-12T09:41:45.602454Z"
    },
    "papermill": {
     "duration": 0.096558,
     "end_time": "2021-05-12T09:41:45.603273",
     "exception": false,
     "start_time": "2021-05-12T09:41:45.506715",
     "status": "completed"
    },
    "tags": []
   },
   "outputs": [
    {
     "data": {
      "text/plain": [
       "array([[ 1.],\n",
       "       [ 3.],\n",
       "       [ 5.],\n",
       "       [ 7.],\n",
       "       [ 9.],\n",
       "       [11.],\n",
       "       [13.],\n",
       "       [15.],\n",
       "       [17.],\n",
       "       [19.],\n",
       "       [21.]], dtype=float32)"
      ]
     },
     "execution_count": 44,
     "metadata": {},
     "output_type": "execute_result"
    }
   ],
   "source": [
    "y"
   ]
  },
  {
   "cell_type": "markdown",
   "id": "bottom-allen",
   "metadata": {
    "papermill": {
     "duration": 0.086943,
     "end_time": "2021-05-12T09:41:45.777400",
     "exception": false,
     "start_time": "2021-05-12T09:41:45.690457",
     "status": "completed"
    },
    "tags": []
   },
   "source": [
    "The predicted values are"
   ]
  },
  {
   "cell_type": "code",
   "execution_count": 45,
   "id": "norwegian-attendance",
   "metadata": {
    "execution": {
     "iopub.execute_input": "2021-05-12T09:41:45.960427Z",
     "iopub.status.busy": "2021-05-12T09:41:45.959074Z",
     "iopub.status.idle": "2021-05-12T09:41:45.964328Z",
     "shell.execute_reply": "2021-05-12T09:41:45.963662Z"
    },
    "papermill": {
     "duration": 0.099833,
     "end_time": "2021-05-12T09:41:45.964463",
     "exception": false,
     "start_time": "2021-05-12T09:41:45.864630",
     "status": "completed"
    },
    "tags": []
   },
   "outputs": [
    {
     "data": {
      "text/plain": [
       "array([[ 0.13100429],\n",
       "       [ 2.2561476 ],\n",
       "       [ 4.381291  ],\n",
       "       [ 6.5064344 ],\n",
       "       [ 8.6315775 ],\n",
       "       [10.756721  ],\n",
       "       [12.881865  ],\n",
       "       [15.007008  ],\n",
       "       [17.13215   ],\n",
       "       [19.257294  ],\n",
       "       [21.382437  ]], dtype=float32)"
      ]
     },
     "execution_count": 45,
     "metadata": {},
     "output_type": "execute_result"
    }
   ],
   "source": [
    "predicted = model(torch.tensor(x,requires_grad=True)).data.numpy()\n",
    "predicted"
   ]
  },
  {
   "cell_type": "markdown",
   "id": "embedded-remainder",
   "metadata": {
    "papermill": {
     "duration": 0.089908,
     "end_time": "2021-05-12T09:41:46.145386",
     "exception": false,
     "start_time": "2021-05-12T09:41:46.055478",
     "status": "completed"
    },
    "tags": []
   },
   "source": [
    "##### 6.3.3 Plot predictions and true value"
   ]
  },
  {
   "cell_type": "code",
   "execution_count": 46,
   "id": "adjacent-reception",
   "metadata": {
    "execution": {
     "iopub.execute_input": "2021-05-12T09:41:46.323887Z",
     "iopub.status.busy": "2021-05-12T09:41:46.323162Z",
     "iopub.status.idle": "2021-05-12T09:41:46.468298Z",
     "shell.execute_reply": "2021-05-12T09:41:46.468765Z"
    },
    "papermill": {
     "duration": 0.236061,
     "end_time": "2021-05-12T09:41:46.468949",
     "exception": false,
     "start_time": "2021-05-12T09:41:46.232888",
     "status": "completed"
    },
    "tags": []
   },
   "outputs": [
    {
     "data": {
      "image/png": "[encoded data removed]",
      "text/plain": [
       "<Figure size 432x288 with 1 Axes>"
      ]
     },
     "metadata": {
      "needs_background": "light"
     },
     "output_type": "display_data"
    }
   ],
   "source": [
    "# Plot true data\n",
    "plt.plot(x, y, 'go', color=\"Blue\",label='True data',)\n",
    "\n",
    "# Plot predictions\n",
    "plt.plot(x, predicted, '--',color=\"Red\", label='Predictions')\n",
    "\n",
    "# Legend and plot\n",
    "plt.legend(loc='best')\n",
    "plt.show()"
   ]
  },
  {
   "cell_type": "markdown",
   "id": "promotional-insulin",
   "metadata": {
    "papermill": {
     "duration": 0.088662,
     "end_time": "2021-05-12T09:41:46.646800",
     "exception": false,
     "start_time": "2021-05-12T09:41:46.558138",
     "status": "completed"
    },
    "tags": []
   },
   "source": [
    "#### 6.3 Save the model <a id=23></a>\n",
    "[back to top](#100)"
   ]
  },
  {
   "cell_type": "markdown",
   "id": "hearing-huntington",
   "metadata": {
    "papermill": {
     "duration": 0.087818,
     "end_time": "2021-05-12T09:41:46.823608",
     "exception": false,
     "start_time": "2021-05-12T09:41:46.735790",
     "status": "completed"
    },
    "tags": []
   },
   "source": [
    "After this step, you may check out `./linear_regression_model.pkl` file path, where the model would be saved."
   ]
  },
  {
   "cell_type": "code",
   "execution_count": 47,
   "id": "commercial-christopher",
   "metadata": {
    "execution": {
     "iopub.execute_input": "2021-05-12T09:41:47.003090Z",
     "iopub.status.busy": "2021-05-12T09:41:47.002451Z",
     "iopub.status.idle": "2021-05-12T09:41:47.009428Z",
     "shell.execute_reply": "2021-05-12T09:41:47.009978Z"
    },
    "papermill": {
     "duration": 0.098601,
     "end_time": "2021-05-12T09:41:47.010166",
     "exception": false,
     "start_time": "2021-05-12T09:41:46.911565",
     "status": "completed"
    },
    "tags": []
   },
   "outputs": [],
   "source": [
    "torch.save(model.state_dict(),'linear_regression_model.pkl')"
   ]
  },
  {
   "cell_type": "markdown",
   "id": "neutral-patient",
   "metadata": {
    "papermill": {
     "duration": 0.088416,
     "end_time": "2021-05-12T09:41:47.187470",
     "exception": false,
     "start_time": "2021-05-12T09:41:47.099054",
     "status": "completed"
    },
    "tags": []
   },
   "source": [
    "### I'll be updating it regularly. If it helped you, consider giving an upvote. ✌🏼\n",
    "[back to top](#100)\n",
    "\n",
    "Check my other notebooks\n",
    "1. https://www.kaggle.com/namanmanchanda/asl-detection-99-accuracy\n",
    "2. https://www.kaggle.com/namanmanchanda/rnn-in-pytorch\n",
    "3. https://www.kaggle.com/namanmanchanda/heart-attack-eda-prediction-90-accuracy\n",
    "4. https://www.kaggle.com/namanmanchanda/stroke-eda-and-ann-prediction\n",
    "\n",
    "The code in this notebook has been referenced from various sources available online, some of which are\n",
    "1. https://www.deeplearningwizard.com\n",
    "2. https://www.udemy.com/course/pytorch-for-deep-learning-with-python-bootcamp/"
   ]
  },
  {
   "cell_type": "code",
   "execution_count": null,
   "id": "promotional-prisoner",
   "metadata": {
    "papermill": {
     "duration": 0.088287,
     "end_time": "2021-05-12T09:41:47.364686",
     "exception": false,
     "start_time": "2021-05-12T09:41:47.276399",
     "status": "completed"
    },
    "tags": []
   },
   "outputs": [],
   "source": []
  }
 ],
 "metadata": {
  "kernelspec": {
   "display_name": "Python 3",
   "language": "python",
   "name": "python3"
  },
  "language_info": {
   "codemirror_mode": {
    "name": "ipython",
    "version": 3
   },
   "file_extension": ".py",
   "mimetype": "text/x-python",
   "name": "python",
   "nbconvert_exporter": "python",
   "pygments_lexer": "ipython3",
   "version": "3.8.8"
  },
  "papermill": {
   "default_parameters": {},
   "duration": 33.854799,
   "end_time": "2021-05-12T09:41:48.263182",
   "environment_variables": {},
   "exception": null,
   "input_path": "__notebook__.ipynb",
   "output_path": "__notebook__.ipynb",
   "parameters": {},
   "start_time": "2021-05-12T09:41:14.408383",
   "version": "2.3.3"
  }
 },
 "nbformat": 4,
 "nbformat_minor": 5
}
